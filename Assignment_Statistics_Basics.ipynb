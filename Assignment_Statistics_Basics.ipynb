{
  "nbformat": 4,
  "nbformat_minor": 0,
  "metadata": {
    "colab": {
      "provenance": []
    },
    "kernelspec": {
      "name": "python3",
      "display_name": "Python 3"
    },
    "language_info": {
      "name": "python"
    }
  },
  "cells": [
    {
      "cell_type": "markdown",
      "source": [
        "**Question 1**: What is the difference between descriptive statistics and inferential statistics? Explain with examples\n",
        "\n",
        "Answer:\n",
        "\n",
        "Descriptive Statistics and Inferential Statistics are two fundamental branches of statistics, each serving a distinct purpose in data analysis.\n",
        "\n",
        "•\tDescriptive statistics involves methods for organizing, summarizing, and presenting data in an informative way. It focuses solely on the dataset at hand without making predictions or generalizations beyond it. On the other hand, Inferential statistics uses data from a sample to make generalizations or predictions about a larger population. It involves probability theory and hypothesis testing.\n",
        "\n",
        "•\tDescriptive statistics describes the main features of a dataset. Uses measures like mean, median, mode, range, variance, and standard deviation. Includes visual tools like graphs, charts, and tables. While Inferential statistics draws conclusions beyond the immediate data Estimates population parameters. Tests hypotheses and makes predictions. Uses techniques like confidence intervals, regression analysis, and\n",
        "ANOVA.\n",
        "\n",
        "•\tBelow are the examples which shows the difference between Descriptive Statistics and Inferential Statistics:\n",
        "1. Descriptive Statistics:  \n",
        "\n",
        "  Suppose a teacher records the scores of 30 students in a math test. Descriptive statistics would involve calculating:\n",
        "  \n",
        "  •\tThe average score (mean)\n",
        "\n",
        "  •\tThe highest and lowest scores(min and max)\n",
        "\n",
        "  •\tThe distribution of scores using a histogram\n",
        "\n",
        "  This helps understand the performance of that specific group of students.\n",
        "\n",
        "2. Inferential Statistics:\n",
        "\n",
        "  Imagine a researcher wants to know the average height of adult women in India. Measuring every woman is impractical, so they collect a sample of 500 women and calculate the average height. Using inferential statistics, they estimate the average height of the entire population and determine the margin of error."
      ],
      "metadata": {
        "id": "fs7UA7GWuCys"
      }
    },
    {
      "cell_type": "markdown",
      "source": [
        "**Question 2**: What is sampling in statistics? Explain the differences between random and stratified sampling.  \n",
        "\n",
        "Answer:\n",
        "\n",
        "*  Sampling in statistics refers to the process of selecting a subset of individuals, items, or data points from a larger population to estimate characteristics of the whole group. Since studying an entire population is often impractical or impossible, sampling allows researchers to draw conclusions efficiently and cost-effectively.\n",
        "\n",
        "*  Difference between random and stratified sampling.\n",
        "1.\tIn Random Sampling, every member of the population has an equal chance of being selected. While in Stratified Sampling, the population is divided into subgroups (strata), and samples are taken from each.\n",
        "2.\tIn Random Sampling, selection is done completely by chance, often using random number generators. While in stratified sampling, selection is done based on specific characteristics (e.g., age, gender, income).\n",
        "3.\tThe random sampling is used to eliminate bias and ensure fairness. While stratified sampling is done to ensure representation of all key subgroups.\n",
        "4.\tRandom sampling is best to use when the population is homogenous. While stratified sampling is used when the population is diverse and contains distinct groups.\n",
        "5.\tIn short, in random sampling, each individual in the population has an equal probability of being chosen. This method minimizes selection bias and is simple to implement. While stratified sampling divides the population into distinct subgroups (strata) based on shared characteristics. Then, random samples are taken from each stratum proportionally or equally.\n",
        "6.\n",
        "    Example of random sampling: Selecting 100     \n",
        "    students randomly from a university.\n",
        "\n",
        "    Example of stratified sampling: Selecting 25 students from each year (freshman, sophomore, etc.) to ensure equal representation.\n"
      ],
      "metadata": {
        "id": "bNtK0tojvcPC"
      }
    },
    {
      "cell_type": "markdown",
      "source": [
        "**Question 3**: Define mean, median, and mode. Explain why these measures of central tendency are important.  \n",
        "\n",
        "Answer:\n",
        "*  The mean, median, and mode are the common measures of central tendency that are statistical tools used to identify the center or typical value within a dataset. Each provides a different perspective on the data and helps summarize large datasets with a single representative value.\n",
        "\n",
        "1.\tMean (Arithmetic Average)\n",
        "\n",
        "    Definition:\n",
        "    The mean is the sum of all values divided by the number of values.\n",
        "\n",
        "    Formula:\n",
        "    Mean = sum(x) / n\n",
        "    Where sum x is the sum of all data points, and n is the number of data points.\n",
        "\n",
        "    Example:\n",
        "    For the dataset: 4, 6, 8, 10\n",
        "    Mean = (4 + 6 + 8 + 10) / 4 = 28 / 4 = 7\n",
        "\n",
        "2.\tMedian\n",
        "\n",
        "    Definition:\n",
        "    The median is the middle value when the data is arranged in ascending or descending order. If the number of values is even, the median is the average of the two middle numbers.\n",
        "\n",
        "    Example:\n",
        "    For the dataset: 3, 5, 7, 9, 11  Median = 7 (middle value)\n",
        "    For the dataset: 3, 5, 7, 9\n",
        "    Median = (5 + 7) / 2 = 6\n",
        "\n",
        "3. Mode\n",
        "\n",
        "    Definition:\n",
        "    The mode is the value that appears most frequently in a dataset. A dataset can have one mode (unimodal), more than one mode (multimodal), or no mode at all.\n",
        "\n",
        "    Example:\n",
        "    For the dataset: 2, 4, 4, 6, 8\n",
        "    Mode = 4 (appears twice)\n",
        "\n",
        "*  Importance of Measures of Central Tendency\n",
        "\n",
        "    •\tSimplifies Data: These measures condense large datasets into a single value that represents the whole.\n",
        "\n",
        "    •\tComparison Tool: They allow comparison between different datasets or groups.\n",
        "\n",
        "    •\tDecision-Making: Businesses, researchers, and policymakers use these values to make informed decisions.\n",
        "\n",
        "    •\tIdentifies Patterns: Helps detect skewness, outliers, or trends in data distribution.\n",
        "\n"
      ],
      "metadata": {
        "id": "vaMCucRUwgZZ"
      }
    },
    {
      "cell_type": "markdown",
      "source": [
        "**Question 4**: Explain skewness and kurtosis. What does a positive skew imply about the data?  \n",
        "\n",
        "Answer:\n",
        "\n",
        "*  Skewness and kurtosis are statistical measures that describe the shape and characteristics of a data distribution beyond basic central tendency.\n",
        "Skewness\n",
        "\n",
        "    Definition:\n",
        "\n",
        "    Skewness measures the asymmetry of a data distribution. It indicates whether the data is skewed to the left (negative skew) or to the right (positive skew).\n",
        "\n",
        "    •\tPositive Skew (Right Skew):\n",
        "\n",
        "    The tail on the right side of the distribution is longer or fatter than the left side. Most data values are concentrated on the left, with a few larger values pulling the mean to the right.\n",
        "\n",
        "    •\tImplication:\n",
        "\n",
        "    A positive skew suggests that the majority of the data points are lower in value, but there are some exceptionally high values.\n",
        "    \n",
        "    Example:\n",
        "    \n",
        "    Income distribution in a population—most people earn modest incomes, but a few earn very high salaries.\n",
        "\n",
        "    •\tNegative Skew (Left Skew):\n",
        "\n",
        "    The tail on the left side is longer. Most data values are concentrated on the right, with a few smaller values pulling the mean to the left.\n",
        "\n",
        "    Kurtosis Definition:\n",
        "    Kurtosis measures the \"tailedness\" or peakedness of a distribution. It tells us how much of the data is in the tails versus the center.\n",
        "\n",
        "*   Types of Kurtosis:\n",
        "\n",
        "    • Leptokurtic (High Kurtosis):\n",
        "    Sharp peak and heavy tails. Indicates more outliers.\n",
        "\n",
        "    • Platykurtic (Low Kurtosis):\n",
        "    Flat peak and light tails. Indicates fewer outliers.\n",
        "\n",
        "    • Mesokurtic (Normal Kurtosis):\n",
        "    Similar to a normal distribution.\n",
        "\n",
        "*  Implication:\n",
        "\n",
        "    High kurtosis means data has more extreme values (outliers), while low kurtosis suggests a more uniform spread.\n",
        "\n",
        "    Understanding skewness and kurtosis helps analysts assess whether data follows a normal distribution, which is crucial for many statistical tests and models.\n",
        "    \n",
        "    A positive skew specifically signals that while most values are low, a few high values are stretching the distribution to the right."
      ],
      "metadata": {
        "id": "ef-3NeObxnfm"
      }
    },
    {
      "cell_type": "markdown",
      "source": [
        "**Question 5**: Implement a Python program to compute the mean, median, and mode of a given list of numbers.  \n",
        "  \n",
        "numbers = [12, 15, 12, 18, 19, 12, 20, 22, 19, 19, 24, 24, 24, 26, 28]  \n",
        "\n",
        "Answer:"
      ],
      "metadata": {
        "id": "_t9ub-JAQDFe"
      }
    },
    {
      "cell_type": "code",
      "source": [
        " import statistics as stat\n",
        "\n",
        " # Given list of numbers\n",
        "numbers = [12, 15, 12, 18, 19, 12, 20, 22, 19, 19, 24, 24, 24, 26, 28]\n",
        "\n",
        "# Calculating mean, median, and mode\n",
        "\n",
        "mean_value = stat.mean(numbers)\n",
        "median_value = stat.median(numbers)\n",
        "mode_value = stat.mode(numbers)\n",
        "\n",
        "# Displaying the results\n",
        "print(\"Mean:\", mean_value)\n",
        "print(\"Median:\", median_value)\n",
        "print(\"Mode:\", mode_value)"
      ],
      "metadata": {
        "colab": {
          "base_uri": "https://localhost:8080/"
        },
        "id": "8BqShU05uAmz",
        "outputId": "0584ddf6-9862-48fd-f403-36fbb4be0c8c"
      },
      "execution_count": 1,
      "outputs": [
        {
          "output_type": "stream",
          "name": "stdout",
          "text": [
            "Mean: 19.6\n",
            "Median: 19\n",
            "Mode: 12\n"
          ]
        }
      ]
    },
    {
      "cell_type": "markdown",
      "source": [
        "**Question 6**: Compute the covariance and correlation coefficient between the following two datasets provided as lists in Python:  \n",
        "  \n",
        "list_x = [10, 20, 30, 40, 50] list_y\n",
        "= [15, 25, 35, 45, 60]  \n",
        "\n",
        "Answer:"
      ],
      "metadata": {
        "id": "oTpaiqF8Q5k2"
      }
    },
    {
      "cell_type": "code",
      "source": [
        "import numpy as np\n",
        "\n",
        "# Given datasets\n",
        "list_x = [10, 20, 30, 40, 50]\n",
        "list_y = [15, 25, 35, 45, 60]\n",
        "\n",
        "# Convert to NumPy arrays for easier computation\n",
        "x = np.array(list_x)\n",
        "y = np.array(list_y)\n",
        "\n",
        "# Calculate covariance matrix\n",
        "cov_matrix = np.cov(x, y, bias=False)\n",
        "\n",
        "# bias=False → sample covariance\n",
        "\n",
        "covariance = cov_matrix[0, 1]\n",
        "\n",
        "# Calculate correlation coefficient\n",
        "\n",
        "correlation_matrix = np.corrcoef(x, y)\n",
        "correlation_coefficient = correlation_matrix[0, 1]\n",
        "\n",
        "# Display results\n",
        "print(\"Covariance:\", covariance)\n",
        "print(\"Correlation Coefficient:\", correlation_coefficient)"
      ],
      "metadata": {
        "colab": {
          "base_uri": "https://localhost:8080/"
        },
        "id": "nMM9TOzYuAoX",
        "outputId": "ad1b91c3-1363-4354-e029-e6fabfebd45d"
      },
      "execution_count": 2,
      "outputs": [
        {
          "output_type": "stream",
          "name": "stdout",
          "text": [
            "Covariance: 275.0\n",
            "Correlation Coefficient: 0.995893206467704\n"
          ]
        }
      ]
    },
    {
      "cell_type": "markdown",
      "source": [
        "**Question 7**: Write a Python script to draw a boxplot for the following numeric list and identify its outliers. Explain the result:  \n",
        "  \n",
        "data = [12, 14, 14, 15, 18, 19, 19, 21, 22, 22, 23, 23, 24, 26, 29, 35]  \n",
        "\n",
        "Answer:"
      ],
      "metadata": {
        "id": "xnakAAlbRdse"
      }
    },
    {
      "cell_type": "code",
      "source": [
        "import matplotlib.pyplot as plt\n",
        "import numpy as np\n",
        "\n",
        "# Given data\n",
        "data = [12, 14, 14, 15, 18, 19, 19, 21, 22, 22, 23, 23, 24, 26, 29, 35]\n",
        "\n",
        "# Create a boxplot\n",
        "\n",
        "plt.boxplot(data, vert=False, patch_artist=True, boxprops=dict(facecolor=\"lightblue\"))\n",
        "plt.title(\"Boxplot of Data\")\n",
        "plt.xlabel(\"Values\")\n",
        "plt.show()\n",
        "\n",
        "# Calculate Q1, Q3, and IQR\n",
        "Q1 = np.percentile(data, 25)\n",
        "Q3 = np.percentile(data, 75)\n",
        "IQR = Q3 - Q1\n",
        "\n",
        "# Determine outlier boundaries\n",
        "\n",
        "lower_bound = Q1 - 1.5 * IQR\n",
        "upper_bound = Q3 + 1.5 * IQR\n",
        "\n",
        "# Identify outliers\n",
        "outliers = [x for x in data if x < lower_bound or x > upper_bound]\n",
        "\n",
        "print(\"Q1: \",Q1 )\n",
        "print(\"Q3: \",Q3 )\n",
        "print(\"IQR: \",IQR)\n",
        "print(\"Lower bound: \", lower_bound)\n",
        "print(\"Upper bound: \", upper_bound)\n",
        "print(\"Outlier: \", outliers)"
      ],
      "metadata": {
        "colab": {
          "base_uri": "https://localhost:8080/",
          "height": 576
        },
        "id": "8uqzcbDKuAs9",
        "outputId": "40debb0e-3803-4e24-b43f-21abc9af8dab"
      },
      "execution_count": 4,
      "outputs": [
        {
          "output_type": "display_data",
          "data": {
            "text/plain": [
              "<Figure size 640x480 with 1 Axes>"
            ],
            "image/png": "[encoded data removed]"
          },
          "metadata": {}
        },
        {
          "output_type": "stream",
          "name": "stdout",
          "text": [
            "Q1:  17.25\n",
            "Q3:  23.25\n",
            "IQR:  6.0\n",
            "Lower bound:  8.25\n",
            "Upper bound:  32.25\n",
            "Outlier:  [35]\n"
          ]
        }
      ]
    },
    {
      "cell_type": "markdown",
      "source": [
        "Explaination:\n",
        "\n",
        "\n",
        "• \tThe first quartile (Q1) is 17.25 and the third  quartile (Q3) is 23.25\n",
        "\n",
        "• \tThe interquartile range (IQR) is 6.0.\n",
        "• \tUsing the IQR, the lower bound for outliers is 8.25 and the upper bound is 32.25.\n",
        "\n",
        "• \tAny data points outside this range are considered outliers.\n",
        "\n",
        "• \tThe value 35 is above the upper bound and is identified as an outlier.\n",
        "\n",
        "• \tThe boxplot which I plotted visually showed this with a box ranging from Q1 to Q3, the median inside the box, whiskers extending to minimum and maximum values within bounds, and a point marking 35 as an outlier beyond the upper whisker."
      ],
      "metadata": {
        "id": "Ezg6WFAjVqTR"
      }
    },
    {
      "cell_type": "markdown",
      "source": [
        "**Question 8**: You are working as a data analyst in an e-commerce company. The marketing team wants to know if there is a relationship between advertising spend and daily sales.  \n",
        "●\tExplain how you would use covariance and correlation to explore this relationship.  \n",
        "●\tWrite Python code to compute the correlation between the two lists:  advertising_spend = [200, 250, 300, 400, 500]   daily_sales\n",
        "= [2200, 2450, 2750, 3200, 4000]  \n",
        "\n",
        "Answer:\n",
        "\n",
        "*  A strong positive Using covariance and correlation to explore the relationship between advertising spend and daily sales.\n",
        "*  A strong positive correlation would indicate     that increasing advertising spend is associated with increased daily sales. Covariance shows the direction and magnitude of the relationship but is not normalized, while correlation standardizes this relationship for easier interpretation. To explore the relationship between advertising spend and daily sales.\n",
        "\n",
        "    1. Using covariance to measure if the two       variables tend to increase or decrease together. A positive covariance suggests that when advertising spend increases, daily sales also tend to increase.\n",
        "\n",
        "    2. Using the correlation coefficient to measure the strength and direction of the linear relationship between them. The correlation value ranges from -1 to 1, with values close to 1 indicating a strong positive relationship."
      ],
      "metadata": {
        "id": "s01pTznNV31w"
      }
    },
    {
      "cell_type": "code",
      "source": [
        "# Python code to compute the covariance and correlation coefficient between the two lists\n",
        "\n",
        "import numpy as np\n",
        "\n",
        "advertising_spend = [200, 250, 300, 400, 500]\n",
        "daily_sales = [2200, 2450, 2750, 3200, 4000]\n",
        "\n",
        "# Calculate covariance\n",
        "cov_matrix = np.cov(advertising_spend, daily_sales, ddof=1)\n",
        "covariance = cov_matrix[0, 1]\n",
        "\n",
        "# Calculate correlation coefficient\n",
        "\n",
        "correlation = np.corrcoef(advertising_spend, daily_sales)[0, 1]\n",
        "print(\"Covariance:\", covariance)\n",
        "print(\"Correlation Coefficient:\", correlation)"
      ],
      "metadata": {
        "colab": {
          "base_uri": "https://localhost:8080/"
        },
        "id": "qpbj_FfxuAvB",
        "outputId": "0c886b6a-c23a-4b45-91eb-9497c67475eb"
      },
      "execution_count": 6,
      "outputs": [
        {
          "output_type": "stream",
          "name": "stdout",
          "text": [
            "Covariance: 84875.0\n",
            "Correlation Coefficient: 0.9935824101653329\n"
          ]
        }
      ]
    },
    {
      "cell_type": "markdown",
      "source": [
        "Question 9: Your team has collected customer satisfaction survey data on a scale of 110 and wants to understand its distribution before launching a new product.  \n",
        "●\tExplain which summary statistics and visualizations (e.g. mean, standard deviation, histogram) you’d use.  \n",
        "●\tWrite Python code to create a histogram using Matplotlib for the survey data:  survey_scores = [7, 8, 5, 9, 6, 7, 8, 9, 10, 4, 7, 6, 9, 8, 7]\n",
        "\n",
        "Answer:\n",
        "\n",
        "*  Summary statistics and visualizations (e.g. mean, standard deviation, histogram) for understanding the distribution of customer satisfaction survey data.\n",
        "\n",
        "    Summary Statistics:\n",
        "\n",
        "    •\tMean: To find the average satisfaction score.\n",
        "\n",
        "    •\tMedian: To know the middle value, useful if the data is skewed.\n",
        "\n",
        "    •\tMode: To identify the most frequently occurring satisfaction score.\n",
        "\n",
        "    •\tStandard Deviation: To assess how spread out the survey scores are from the mean.\n",
        "     \n",
        "    •\tRange: To see the difference between the maximum and minimum scores.\n",
        "\n",
        "    Visualization:\n",
        "\n",
        "    •\tHistogram: To see the frequency distribution of scores and identify if the data is skewed or uniform.\n",
        "\n",
        "    •\tBoxplot: To summarize distribution with quartiles and identify outliers visually."
      ],
      "metadata": {
        "id": "BqTyZYp-X-nO"
      }
    },
    {
      "cell_type": "code",
      "source": [
        "# Python code to create a histogram using Matplotlib\n",
        "\n",
        "import matplotlib.pyplot as plt\n",
        "\n",
        "survey_scores = [7, 8, 5, 9, 6, 7, 8, 9, 10, 4, 7, 6, 9, 8, 7]\n",
        "\n",
        "plt.hist(survey_scores, bins=range(1, 12), edgecolor='black', alpha=0.7)\n",
        "plt.title(\"Histogram of Customer Satisfaction Survey Scores\")\n",
        "plt.xlabel(\"Survey Score\")\n",
        "plt.ylabel(\"Frequency\")\n",
        "plt.xticks(range(1,11))\n",
        "plt.show()"
      ],
      "metadata": {
        "colab": {
          "base_uri": "https://localhost:8080/",
          "height": 472
        },
        "id": "pliRhpX2uAxQ",
        "outputId": "e9aae7a7-72a3-47e1-9460-5d64db51c02e"
      },
      "execution_count": 7,
      "outputs": [
        {
          "output_type": "display_data",
          "data": {
            "text/plain": [
              "<Figure size 640x480 with 1 Axes>"
            ],
            "image/png": "[encoded data removed]"
          },
          "metadata": {}
        }
      ]
    }
  ]
}