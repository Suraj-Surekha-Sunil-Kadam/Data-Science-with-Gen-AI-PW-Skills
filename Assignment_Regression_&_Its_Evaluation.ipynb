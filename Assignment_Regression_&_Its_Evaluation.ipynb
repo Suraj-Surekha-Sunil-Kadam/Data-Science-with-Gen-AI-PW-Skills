{
  "nbformat": 4,
  "nbformat_minor": 0,
  "metadata": {
    "colab": {
      "provenance": []
    },
    "kernelspec": {
      "name": "python3",
      "display_name": "Python 3"
    },
    "language_info": {
      "name": "python"
    }
  },
  "cells": [
    {
      "cell_type": "markdown",
      "source": [
        "# Assignment: Regression & Its Evaluation"
      ],
      "metadata": {
        "id": "gB5DTAmBKHpw"
      }
    },
    {
      "cell_type": "markdown",
      "source": [
        "Question 1:  What is Simple Linear Regression?\n",
        "\n",
        "Answer:\n",
        "\n",
        "*   Simple Linear Regression is a statistical method used to model and analyze the relationship between two quantitative variables: one independent (predictor) variable and one dependent (response) variable, by fitting a straight line (the regression line) to the observed data.\n",
        "\n",
        "*   Definition and Purpose:\n",
        "\n",
        "    * Simple linear regression helps in predicting the value of a dependent variable (Y) for a given value of the independent variable (X) based on the assumption that their relationship is linear, meaning the change in Y for a unit change in X is constant. It is commonly used when only one independent variable is present; if there are more, multiple linear regression is used.\n",
        "\n",
        "    * The equation to express this relationship is:\n",
        "\n",
        "      y = b0 + b1*x\n",
        "      where:\n",
        "\n",
        "      y is the predicted value of the dependent variable,\n",
        "\n",
        "      x is the independent variable,\n",
        "\n",
        "      b0 is the intercept (value of y when x = 0),\n",
        "\n",
        "      b1 is the slope (amount by which y changes for every one unit increase in x).\n",
        "\n",
        "\n",
        "*  Key Features:\n",
        "\n",
        "    * Purpose:\n",
        "    \n",
        "      To predict values of the dependent variable based on the independent variable and to understand the strength and direction of their relationship.\n",
        "\n",
        "    * Linearity Assumption:\n",
        "    \n",
        "      The relationship between x and y is assumed to be linear (i.e., a straight line).\n",
        "\n",
        "    * Error Term:\n",
        "    \n",
        "      The differences between actual data points and predicted values are called residuals or errors, which the model tries to minimize, typically using the least squares method.\n",
        "\n",
        "    * Interpretability:\n",
        "      \n",
        "      The slope tells us how much y increases or decreases when x increases by one unit.\n",
        "\n",
        "    * Applications:\n",
        "    \n",
        "      Used in many fields such as economics, biology, engineering, and social sciences, for instance, predicting sales based on advertising spend or exam scores based on study hours.\n",
        "\n",
        "*   Example:\n",
        "If we want to predict a person's salary (y) based on years of experience (x), simple linear regression helps by fitting a line that best explains salary based on experience."
      ],
      "metadata": {
        "id": "GjMwtQFuKIzJ"
      }
    },
    {
      "cell_type": "markdown",
      "source": [
        "Question 2: What are the key assumptions of Simple Linear Regression?\n",
        "\n",
        "Answer:\n",
        "\n",
        "*  Key Assumptions of Simple Linear Regression:\n",
        "\n",
        "    Simple Linear Regression relies on certain assumptions to ensure the model is valid, the estimates are unbiased, and statistical tests are reliable. These assumptions are:\n",
        "\n",
        "    Linearity:\n",
        "    \n",
        "    The relationship between the independent variable (X) and the dependent variable (Y) is linear. This means the change in Y is proportional to the change in X, and the best-fit line is a straight line, not a curve.\n",
        "\n",
        "    Independence of Observations:\n",
        "\n",
        "    The observations in the dataset must be independent of each other. The value of one observation should not influence another. This assumption is particularly important in time series data to avoid autocorrelation.\n",
        "\n",
        "    Homoscedasticity (Constant Variance of Errors):\n",
        "\n",
        "    The variance of the residuals (errors) should be constant across all levels of X. In other words, the spread or variability of errors is the same regardless of the value of X. If the variance changes, this is called heteroscedasticity, which can affect the reliability of confidence intervals and hypothesis tests.\n",
        "\n",
        "    Normality of Errors:\n",
        "\n",
        "    The residuals (differences between observed and predicted values) should be approximately normally distributed. This assumption is important for making valid inferences such as confidence intervals and significance tests.\n",
        "\n",
        "    No Perfect Multicollinearity:\n",
        "\n",
        "    Although this is more relevant to multiple linear regression, in simple linear regression with only one independent variable, it is implicitly satisfied.\n",
        "\n",
        "    No Endogeneity:\n",
        "\n",
        "    The independent variable should not be correlated with the error term. This means the predictors are measured without error and are not influenced by omitted variables that also affect the dependent variable.\n",
        "\n",
        "*  Importance of Assumptions:\n",
        "\n",
        "    Violating these assumptions can lead to biased or inefficient estimates.\n",
        "\n",
        "    Diagnostic tests and plots (e.g., residual plots, Q-Q plots) are used to check if these assumptions hold.\n",
        "\n",
        "    If assumptions are violated, there are remedial measures like transforming variables or using robust regression techniques."
      ],
      "metadata": {
        "id": "0ZjjDX-GKI1J"
      }
    },
    {
      "cell_type": "markdown",
      "source": [
        "Question 3: What is heteroscedasticity, and why is it important to address in regression\n",
        "models?\n",
        "\n",
        "Answer:\n",
        "\n",
        "*   Heteroscedasticity refers to the situation in regression analysis where the variance of the residuals (errors) is not constant across all levels of the independent variable. In other words, the spread or variability of the residuals changes depending on the value of the predictor variable, often visible as a funnel or cone shape pattern when residuals are plotted against predicted values.\n",
        "\n",
        "*   Why Heteroscedasticity Is Important to Address\n",
        "Violation of Regression Assumptions:\n",
        "\n",
        "\n",
        "    * Ordinary Least Squares (OLS) regression assumes homoscedasticity, meaning residuals have constant variance. Heteroscedasticity violates this key assumption, which undermines the reliability of standard statistical tests used in regression models.\n",
        "\n",
        "    * Impact on Efficiency and Inference:\n",
        "\n",
        "      While coefficient estimates remain unbiased and consistent in the presence of heteroscedasticity, they become inefficient. The standard errors of the coefficients are biased, leading to unreliable hypothesis tests (t-tests, F-tests) and invalid confidence intervals. This can produce misleading conclusions about the significance of predictors.\n",
        "\n",
        "    * Reduced Predictive Accuracy:\n",
        "    \n",
        "      Models affected by heteroscedasticity may perform poorly in prediction because the variability of errors is not properly accounted for.\n",
        "\n",
        "    * Detection and Remedies:\n",
        "\n",
        "      It is detected using residual plots or statistical tests like the Breusch-Pagan test. Remedies include transformations of variables, weighted least squares, or using robust standard errors to correct inference without changing coefficient estimates."
      ],
      "metadata": {
        "id": "v4rsurfsKI37"
      }
    },
    {
      "cell_type": "markdown",
      "source": [
        "Question 4: What is Multiple Linear Regression?\n",
        "\n",
        "Answer:\n",
        "\n",
        "*   Multiple Linear Regression (MLR) is a statistical technique used to model the relationship between one dependent variable and two or more independent (explanatory) variables. It extends simple linear regression by considering multiple predictors to explain the variation in the dependent variable.\n",
        "\n",
        "*   The general formula for multiple linear regression is:\n",
        "\n",
        "    y = b0 + b1x1 + b2x2 + ... + bp*xp + e\n",
        "    \n",
        "    where:\n",
        "\n",
        "    y is the predicted value of the dependent variable,\n",
        "\n",
        "    x1, x2, ..., xp are the independent variables,\n",
        "\n",
        "    b0 is the intercept (value of y when all x's are zero),\n",
        "\n",
        "    b1, b2, ..., bp are the coefficients measuring the effect of each independent variable on y,\n",
        "\n",
        "    e is the error term accounting for randomness or noise.\n",
        "\n",
        "*  Key Points:\n",
        "\n",
        "    Multiple Linear Regression quantifies how multiple factors simultaneously influence a single outcome.\n",
        "\n",
        "    Each coefficient represents the expected change in y for a one-unit change in the corresponding x, holding other variables constant.\n",
        "\n",
        "    The model assumes linear relationships, no perfect multicollinearity among predictors, normal distribution of errors, and constant variance of errors.\n",
        "\n",
        "    Multiple Linear Regression is widely used for prediction, hypothesis testing, and understanding variable relationships in fields like economics, social sciences, and finance.\n",
        "\n",
        "*   Example:\n",
        "\n",
        "    To predict house prices (y), MLR might use independent variables like house size (x1), number of bedrooms (x2), and location index (x3) to form the model:\n",
        "\n",
        "    price = b0 + b1size + b2bedrooms + b3*location + e\n",
        "\n",
        "    This allows assessing the impact of each factor on price while controlling for others."
      ],
      "metadata": {
        "id": "NNh_AkFkKI6J"
      }
    },
    {
      "cell_type": "markdown",
      "source": [
        "Question 5: What is polynomial regression, and how does it differ from linear regression?\n",
        "\n",
        "Answer:\n",
        "\n",
        "*   Polynomial regression is a type of regression analysis where the relationship between the independent variable (x) and the dependent variable (y) is modeled as an nth degree polynomial. This allows the model to fit non-linear relationships by including higher power terms (like x², x³, etc.) of the independent variable.\n",
        "\n",
        "    The general form of a polynomial regression equation is:\n",
        "    \n",
        "    y = b0 + b1x + b2x² + ... + bn*x^n + e\n",
        "\n",
        "    where:\n",
        "\n",
        "    y is the dependent variable,\n",
        "\n",
        "    x is the independent variable,\n",
        "\n",
        "    b0, b1, ..., bn are coefficients,\n",
        "\n",
        "    n is the degree of the polynomial,\n",
        "\n",
        "    e is the error term.\n",
        "\n",
        "*   How does mutliple regression differ from linear regression?\n",
        "\n",
        "    * Polynomial Regression models a curved (non-linear) relationship by including higher powers of the independent variable, such as x², x³, etc., allowing it to fit more complex patterns in the data.\n",
        "\n",
        "    * Linear Regression models a straight-line (linear) relationship where the dependent variable changes proportionally with the independent variable raised only to the first power (x).\n",
        "\n",
        "    * Polynomial Regression can capture more flexible, non-linear trends in data, making it suitable for datasets where the relationship is not simply linear.\n",
        "\n",
        "    * Linear Regression is limited to capturing only linear trends and may not fit well if the true relationship between variables is curved.\n",
        "\n",
        "    * Polynomial Regression has more parameters (coefficients) corresponding to each power term, which makes it more complex.\n",
        "\n",
        "    * Linear Regression has fewer parameters, typically only an intercept and slope, so it is simpler to interpret.\n",
        "\n",
        "    * Polynomial Regression may overfit the data if the degree of the polynomial is too high.\n",
        "\n",
        "    * Linear Regression is less prone to overfitting because it assumes a simpler functional form.\n",
        "\n",
        "    * Polynomial Regression is used when the data exhibits curvature or non-linearity.\n",
        "\n",
        "    * Linear Regression is effective when there is a straight-line relationship between variables."
      ],
      "metadata": {
        "id": "I6ymR0mTKI8m"
      }
    },
    {
      "cell_type": "markdown",
      "source": [
        "Question 6:  Implement a Python program to fit a Simple Linear Regression model to the following sample data:\n",
        "\n",
        "● X = [1, 2, 3, 4, 5]\n",
        "\n",
        "● Y = [2.1, 4.3, 6.1, 7.9, 10.2]\n",
        "\n",
        "Plot the regression line over the data points.\n",
        "\n",
        "\n",
        "Answer:\n",
        "\n",
        "*   Below python program uses matplotlib and sklearn to fit a Simple Linear Regression model to the data points  provided and then plot the regression line over the data points"
      ],
      "metadata": {
        "id": "-dKsnSnHKI-3"
      }
    },
    {
      "cell_type": "code",
      "source": [
        "import numpy as np\n",
        "import matplotlib.pyplot as plt\n",
        "from sklearn.linear_model import LinearRegression\n",
        "\n",
        "# Given data\n",
        "X = np.array([1, 2, 3, 4, 5]).reshape(-1, 1)\n",
        "Y = np.array([2.1, 4.3, 6.1, 7.9, 10.2])\n",
        "\n",
        "# Create and fit the model\n",
        "model = LinearRegression()\n",
        "model.fit(X, Y)\n",
        "\n",
        "# Predict Y values\n",
        "Y_pred = model.predict(X)\n",
        "\n",
        "# Plotting\n",
        "plt.scatter(X, Y, color='blue', label='Data points')\n",
        "plt.plot(X, Y_pred, color='red', label='Regression line')\n",
        "plt.xlabel('X')\n",
        "plt.ylabel('Y')\n",
        "plt.title('Simple Linear Regression')\n",
        "plt.legend()\n",
        "plt.show()\n",
        "\n",
        "print(\"\"\"\n",
        "Explanation:\n",
        "\n",
        "The data is reshaped to a 2D array for sklearn.\n",
        "\n",
        "We fit the model using .fit().\n",
        "\n",
        "Predictions are made with .predict().\n",
        "\n",
        "The scatter plot shows original data; the red line is the fitted regression line.\n",
        "\"\"\")\n"
      ],
      "metadata": {
        "colab": {
          "base_uri": "https://localhost:8080/",
          "height": 671
        },
        "id": "6MF_curAYafb",
        "outputId": "d7d8c73a-0a6a-4ece-b377-064c7f0b7b77"
      },
      "execution_count": 4,
      "outputs": [
        {
          "output_type": "display_data",
          "data": {
            "text/plain": [
              "<Figure size 640x480 with 1 Axes>"
            ],
            "image/png": "[encoded data removed]"
          },
          "metadata": {}
        },
        {
          "output_type": "stream",
          "name": "stdout",
          "text": [
            "\n",
            "Explanation:\n",
            "\n",
            "The data is reshaped to a 2D array for sklearn.\n",
            "\n",
            "We fit the model using .fit().\n",
            "\n",
            "Predictions are made with .predict().\n",
            "\n",
            "The scatter plot shows original data; the red line is the fitted regression line.\n",
            "\n"
          ]
        }
      ]
    },
    {
      "cell_type": "markdown",
      "source": [
        "Question 7: Fit a Multiple Linear Regression model on this sample data:\n",
        "\n",
        "● Area = [1200, 1500, 1800, 2000]\n",
        "\n",
        "● Rooms = [2, 3, 3, 4]\n",
        "\n",
        "● Price = [250000, 300000, 320000, 370000]\n",
        "\n",
        "Check for multicollinearity using VIF and report the results.\n",
        "\n",
        "Answer:\n",
        "\n",
        "*   The below python program fits a Multiple Linear Regression model on your data (Area, Rooms as predictors and Price as target) and then check for multicollinearity using the Variance Inflation Factor (VIF):"
      ],
      "metadata": {
        "id": "9AP5pjtpKJBT"
      }
    },
    {
      "cell_type": "code",
      "source": [
        "import pandas as pd\n",
        "from sklearn.linear_model import LinearRegression\n",
        "import statsmodels.api as sm\n",
        "from statsmodels.stats.outliers_influence import variance_inflation_factor\n",
        "\n",
        "# Data\n",
        "data = {\n",
        "    'Area': [1200, 1500, 1800, 2000],\n",
        "    'Rooms': [2, 3, 3, 4],\n",
        "    'Price': [250000, 300000, 320000, 370000]\n",
        "}\n",
        "\n",
        "df = pd.DataFrame(data)\n",
        "\n",
        "# Features (independent variables) and target (dependent variable)\n",
        "X = df[['Area', 'Rooms']]\n",
        "y = df['Price']\n",
        "\n",
        "# Fit Multiple Linear Regression model\n",
        "model = LinearRegression()\n",
        "model.fit(X, y)\n",
        "\n",
        "# Adding a constant to X for statsmodels VIF calculation\n",
        "X_const = sm.add_constant(X)\n",
        "\n",
        "# Calculate VIF for each feature\n",
        "vif_data = pd.DataFrame()\n",
        "vif_data['Feature'] = X_const.columns\n",
        "vif_data['VIF'] = [variance_inflation_factor(X_const.values, i) for i in range(X_const.shape[1])]\n",
        "\n",
        "print(\"Variance Inflation Factor (VIF) for each feature:\")\n",
        "print(vif_data)\n",
        "\n",
        "\n",
        "print(\"\"\"\n",
        "\n",
        "Explanation:\n",
        "\n",
        "LinearRegression fits the model predicting Price from Area and Rooms.\n",
        "\n",
        "VIF is calculated for each feature including the constant term.\n",
        "\n",
        "VIF > 5 (or 10) suggests problematic multicollinearity.\n",
        "\n",
        "\"\"\")"
      ],
      "metadata": {
        "colab": {
          "base_uri": "https://localhost:8080/"
        },
        "id": "DVhHK91BZr4I",
        "outputId": "81db91a9-609d-4af5-f37c-63c79a4cfe87"
      },
      "execution_count": 6,
      "outputs": [
        {
          "output_type": "stream",
          "name": "stdout",
          "text": [
            "Variance Inflation Factor (VIF) for each feature:\n",
            "  Feature        VIF\n",
            "0   const  34.210526\n",
            "1    Area   7.736842\n",
            "2   Rooms   7.736842\n",
            "\n",
            "\n",
            "Explanation:\n",
            "\n",
            "LinearRegression fits the model predicting Price from Area and Rooms.\n",
            "\n",
            "VIF is calculated for each feature including the constant term.\n",
            "\n",
            "VIF > 5 (or 10) suggests problematic multicollinearity.\n",
            "\n",
            "\n"
          ]
        }
      ]
    },
    {
      "cell_type": "markdown",
      "source": [
        "Question 8:  Implement polynomial regression on the following data:\n",
        "\n",
        "● X = [1, 2, 3, 4, 5]\n",
        "\n",
        "● Y = [2.2, 4.8, 7.5, 11.2, 14.7]\n",
        "\n",
        "Fit a 2nd-degree polynomial and plot the resulting curve.\n",
        "\n",
        "Answer:\n",
        "\n",
        "*   The below python program fits a 2nd-degree polynomial regression model on your data and plot the resulting curve using numpy and matplotlib:"
      ],
      "metadata": {
        "id": "LRpcYqGDKJFD"
      }
    },
    {
      "cell_type": "code",
      "source": [
        "import numpy as np\n",
        "import matplotlib.pyplot as plt\n",
        "\n",
        "# Given data\n",
        "X = np.array([1, 2, 3, 4, 5])\n",
        "Y = np.array([2.2, 4.8, 7.5, 11.2, 14.7])\n",
        "\n",
        "# Fit 2nd-degree polynomial\n",
        "coefficients = np.polyfit(X, Y, 2)  # degree=2\n",
        "poly_model = np.poly1d(coefficients)\n",
        "\n",
        "# Generate X values for smooth curve\n",
        "X_curve = np.linspace(X.min(), X.max(), 100)\n",
        "Y_curve = poly_model(X_curve)\n",
        "\n",
        "# Plot data points and polynomial curve\n",
        "plt.scatter(X, Y, color='blue', label='Data points')\n",
        "plt.plot(X_curve, Y_curve, color='red', label='2nd-degree polynomial fit')\n",
        "plt.xlabel('X')\n",
        "plt.ylabel('Y')\n",
        "plt.title('Polynomial Regression (Degree 2)')\n",
        "plt.legend()\n",
        "plt.show()"
      ],
      "metadata": {
        "colab": {
          "base_uri": "https://localhost:8080/",
          "height": 472
        },
        "id": "hzfIOlIca9LK",
        "outputId": "60af29ad-6260-4a95-fad1-b4ae0a7b97ef"
      },
      "execution_count": 7,
      "outputs": [
        {
          "output_type": "display_data",
          "data": {
            "text/plain": [
              "<Figure size 640x480 with 1 Axes>"
            ],
            "image/png": "[encoded data removed]"
          },
          "metadata": {}
        }
      ]
    },
    {
      "cell_type": "markdown",
      "source": [
        "Question 9: Create a residuals plot for a regression model trained on this data:\n",
        "\n",
        "● X = [10, 20, 30, 40, 50]\n",
        "\n",
        "● Y = [15, 35, 40, 50, 65]\n",
        "\n",
        "Assess heteroscedasticity by examining the spread of residuals.\n",
        "\n",
        "Answer:\n",
        "\n",
        "*   The below python program creates a residuals plot for the given data, fit a simple linear regression, and then assess heteroscedasticity by examining the spread of residuals:"
      ],
      "metadata": {
        "id": "xRyZ0OQyKJHS"
      }
    },
    {
      "cell_type": "code",
      "source": [
        "import numpy as np\n",
        "import matplotlib.pyplot as plt\n",
        "from sklearn.linear_model import LinearRegression\n",
        "\n",
        "# Given data\n",
        "X = np.array([10, 20, 30, 40, 50]).reshape(-1, 1)\n",
        "Y = np.array([15, 35, 40, 50, 65])\n",
        "\n",
        "# Fit simple linear regression\n",
        "model = LinearRegression()\n",
        "model.fit(X, Y)\n",
        "\n",
        "# Predictions and residuals\n",
        "Y_pred = model.predict(X)\n",
        "residuals = Y - Y_pred\n",
        "\n",
        "# Plot residuals vs X\n",
        "plt.scatter(X, residuals, color='blue')\n",
        "plt.axhline(y=0, color='red', linestyle='--')\n",
        "plt.xlabel('X')\n",
        "plt.ylabel('Residuals')\n",
        "plt.title('Residuals Plot')\n",
        "plt.show()\n",
        "\n",
        "print(\"\"\"\n",
        "\n",
        "Assessment of Heteroscedasticity:\n",
        "\n",
        "The residual spread does not systematically increase or decrease with X.\n",
        "\n",
        "Residuals appear randomly scattered around zero, which indicates the variance of errors is roughly\n",
        "constant (homoscedasticity).\n",
        "\n",
        "No evident funnel or cone shape is seen, which would have suggested heteroscedasticity.\n",
        "\n",
        "Based on this plot, there is no strong indication of heteroscedasticity for this data and regression model.\n",
        "The variance of the residuals seems fairly constant across the range of X.\n",
        "\n",
        "\"\"\")"
      ],
      "metadata": {
        "colab": {
          "base_uri": "https://localhost:8080/",
          "height": 744
        },
        "id": "Yz7oNBjqbaSs",
        "outputId": "debce7e5-3638-412b-de62-345da1f856f4"
      },
      "execution_count": 11,
      "outputs": [
        {
          "output_type": "display_data",
          "data": {
            "text/plain": [
              "<Figure size 640x480 with 1 Axes>"
            ],
            "image/png": "[encoded data removed]"
          },
          "metadata": {}
        },
        {
          "output_type": "stream",
          "name": "stdout",
          "text": [
            "\n",
            "\n",
            "Assessment of Heteroscedasticity:\n",
            "\n",
            "The residual spread does not systematically increase or decrease with X.\n",
            "\n",
            "Residuals appear randomly scattered around zero, which indicates the variance of errors is roughly \n",
            "constant (homoscedasticity).\n",
            "\n",
            "No evident funnel or cone shape is seen, which would have suggested heteroscedasticity.\n",
            "\n",
            "Based on this plot, there is no strong indication of heteroscedasticity for this data and regression model. \n",
            "The variance of the residuals seems fairly constant across the range of X.\n",
            "\n",
            "\n"
          ]
        }
      ]
    },
    {
      "cell_type": "markdown",
      "source": [
        "Question 10: Imagine you are a data scientist working for a real estate company. You need to predict house prices using features like area, number of rooms, and location. However, you detect heteroscedasticity and multicollinearity in your regression model. Explain the steps you would take to address these issues and ensure a robust model.\n",
        "\n",
        "Answer:\n",
        "\n",
        "*   Addressing Heteroscedasticity and Multicollinearity in House Price Predictions\n",
        "\n",
        "    When building a regression model to predict house prices using features like area, number of rooms, and location, detecting heteroscedasticity (unequal error spread) and multicollinearity (high correlation among predictors) can hurt your model's reliability. Here's how a data scientist should address these challenges:\n",
        "\n",
        "1. Steps to Handle Heteroscedasticity:\n",
        "\n",
        "    Diagnose the Issue: First, plot your residuals against predicted values or individual features. Look for patterns where residuals 'fan out' or show changing variance.\n",
        "\n",
        "    Transform Variables: Apply transformations such as log, square root, or Box-Cox to the dependent variable (or affected predictors). For example, use log(price) instead of price to help stabilize variance.\n",
        "\n",
        "    Use Robust Methods: Consider regression techniques that adjust for heteroscedasticity, such as weighted least squares or using robust standard errors so your confidence intervals and significance tests remain valid.\n",
        "\n",
        "    Segment or Model Variance: If heteroscedasticity is linked to a specific variable (e.g. location), try modeling those segments separately or include interaction terms.\n",
        "\n",
        "2. Steps to Handle Multicollinearity:\n",
        "\n",
        "    Diagnose Multicollinearity: Calculate VIF (Variance Inflation Factor) for your predictors. High VIF (>5 or >10) means strong multicollinearity.\n",
        "\n",
        "    Drop or Combine Variables: If two features are highly correlated (like area and rooms), consider dropping one or combining them into a new feature (e.g. \"area per room\").\n",
        "\n",
        "    Feature Selection: Use regularization methods like Ridge or Lasso regression. These penalize complex models and help control multicollinearity by shrinking less important coefficients.\n",
        "\n",
        "    Principal Component Analysis (PCA): This technique combines correlated variables into uncorrelated components, reducing redundancy.\n",
        "\n",
        "3. General Best Practices for Robust Models:\n",
        "\n",
        "    Check Model Assumptions Regularly: Use diagnostic plots and tests each time you retrain or update the model.\n",
        "\n",
        "    Validate on New Data: Always test prediction performance using hold-out data (not used for training).\n",
        "\n",
        "    Explain Results Clearly: Communicate how transformations or dropped features affect predictions, so business teams can understand how location, area, or room count actually drive price."
      ],
      "metadata": {
        "id": "o9X2EklhKJJj"
      }
    }
  ]
}