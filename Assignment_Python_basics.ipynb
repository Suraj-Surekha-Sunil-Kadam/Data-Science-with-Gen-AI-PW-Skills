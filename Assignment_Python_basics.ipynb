{
  "nbformat": 4,
  "nbformat_minor": 0,
  "metadata": {
    "colab": {
      "provenance": []
    },
    "kernelspec": {
      "name": "python3",
      "display_name": "Python 3"
    },
    "language_info": {
      "name": "python"
    }
  },
  "cells": [
    {
      "cell_type": "markdown",
      "source": [
        "# Python Basics Questions"
      ],
      "metadata": {
        "id": "npRIaTJoFAYo"
      }
    },
    {
      "cell_type": "markdown",
      "source": [
        "Question 1. What is Python, and why is it popular?\n",
        "\n",
        "\n",
        "\n",
        "*   Python is a high level, interpreted programming language, which was developed by Guido Van Rossum and first released in 1991.\n",
        "*   It is simple, clean, intuitive, user friendly, emphasizing the readability and ease of learning.\n",
        "*   It is compatible with various programming paradigms, such as procedural, object-oriented, and functional programming.  \n",
        "*   Python provides the cross-platform support and run virtually on any operating system including Windows, MacOS, Linux and many others, making it highly portable.\n",
        "*   Python has a massive, active community that contributes to its development, creates libraries, and provides support.\n",
        "*   Python has a rich ecosystem of libraries and frameworks that extend its capabilities. For data science there is NumPy, pandas, scikit-learn, etc; for web development there is Django, Flask, etc; for AI/ML there's TensorFlow, PyTorch, etc; and thousands more available through the Python Package Index (PyPI).\n",
        "*   The big tech companies like Google, Instagram, Spotify, NASA, etc use python extensively, which has driven its popularity and created job opportunities.\n",
        "\n",
        "\n",
        "\n"
      ],
      "metadata": {
        "id": "gW1ZYBPJEarA"
      }
    },
    {
      "cell_type": "markdown",
      "source": [
        "Question 2.  What is an interpreter in Python?\n",
        "\n",
        "\n",
        "\n",
        "*   An interpreter in Python is a program that reads and executes Python code directly, line by line, without needing to compile the entire program into machine code beforehand. This is what makes Python an \"interpreted language\".\n",
        "*   When we run a Python program, the interpreter reads the source code (.py files) and converts it into bytecode which is an intermediate representation, then executes that bytecode on the Python Virtual Machine (PVM).\n",
        "*   The Python interpreter can run in interactive mode, where you can type Python commands one at a time and see immediate results.\n",
        "*   Unlike compiled languages like C++ or Java, Python doesn't need a separate compilation step. The interpreter processes our code as it encounters it, which allows for more flexible and dynamic programming.\n",
        "*   The interpreter checks for syntax errors and runtime errors as it executes the code. If it encounters an error, it stops execution and displays an error message."
      ],
      "metadata": {
        "id": "vbGFybZpEatM"
      }
    },
    {
      "cell_type": "markdown",
      "source": [
        "Question 3.  What are pre-defined keywords in Python?\n",
        "\n",
        "*   Keywords are reserved words in Python that have special meanings and cannot be used as identifiers (variable names, function names, etc.). These keywords are part of Python's syntax and define the structure and behavior of Python\n",
        "*   Examples of keywords include if, else, while, for, def, class, import, try, except, return, True, False, None, etc.\n",
        "*   Keywords are case-sensitive and cannot be redefined or overridden within a Python program.\n",
        "*   The exact number of keywords may vary slightly between Python versions. We can see all current keywords in the Python version by running below python statements."
      ],
      "metadata": {
        "id": "eYgCzyTXEawF"
      }
    },
    {
      "cell_type": "code",
      "source": [
        "import keyword\n",
        "print(keyword.kwlist)\n",
        "len(keyword.kwlist)"
      ],
      "metadata": {
        "colab": {
          "base_uri": "https://localhost:8080/"
        },
        "id": "y-y24z9YL-nK",
        "outputId": "c30806c7-e217-47b0-e5ce-d8fa67e72330"
      },
      "execution_count": null,
      "outputs": [
        {
          "output_type": "stream",
          "name": "stdout",
          "text": [
            "['False', 'None', 'True', 'and', 'as', 'assert', 'async', 'await', 'break', 'class', 'continue', 'def', 'del', 'elif', 'else', 'except', 'finally', 'for', 'from', 'global', 'if', 'import', 'in', 'is', 'lambda', 'nonlocal', 'not', 'or', 'pass', 'raise', 'return', 'try', 'while', 'with', 'yield']\n"
          ]
        },
        {
          "output_type": "execute_result",
          "data": {
            "text/plain": [
              "35"
            ]
          },
          "metadata": {},
          "execution_count": 4
        }
      ]
    },
    {
      "cell_type": "markdown",
      "source": [
        "Question 4.  Can keywords be used as variable names?\n",
        "\n",
        "\n",
        "*   No, keywords cannot be used as variable names in Python. This is a fundamental rule of the language that keywords are reserved words that have special meanings and attempting to use them as identifiers such as variable names will result in a syntax error.\n",
        "*   Keywords define Python's syntax and structure. Allowing them as variable names would create ambiguity for the interpreter.\n",
        "*   The restriction of not using keywords as variable names prevents confusion between language constructs and user-defined names\n",
        "*   The python statements in the below cell shows that using keywords as variable names can cause a SyntaxError."
      ],
      "metadata": {
        "id": "nQG7QnSaEayX"
      }
    },
    {
      "cell_type": "code",
      "source": [
        "# if = 5  # SyntaxError at word if in this statement\n",
        "# class  = 'Hello'  # SyntaxError at word class in this statement"
      ],
      "metadata": {
        "id": "pOGaBaZuN3vQ"
      },
      "execution_count": null,
      "outputs": []
    },
    {
      "cell_type": "markdown",
      "source": [
        "Question 5.  What is mutability in Python?\n",
        "\n",
        "\n",
        "\n",
        "*   Mutability in Python refers to whether an object's value can be changed after it's created. In Python, objects can be either mutable (modifiable) or immutable (unchangeable).\n",
        "*   Mutable objects, such as lists and dictionaries, can be modified after creation, while immutable objects, such as tuples and strings, cannot.\n",
        "*   Mutability affects how objects are stored and manipulated in memory, impacting performance, memory usage, and concurrency in Python. Immutable objects can be more memory-efficient and allow for optimizations like string interning. Mutable objects provide flexibility but may use more memory.\n",
        "*   When we pass mutable objects to functions, changes made inside the function affect the original object. While using immutable objects in function or anywhere original objects stay unchanged since we they don't allow any operations to change their value after being defined.\n",
        "*   The python code in the below cell shows mutability of the objects."
      ],
      "metadata": {
        "id": "xevnpQfQEa0k"
      }
    },
    {
      "cell_type": "code",
      "source": [
        "# Mutable - Lists can be changed\n",
        "my_list = [11,20,30]\n",
        "my_list.append(40)      # Modifies the original list\n",
        "my_list[0] = 10        # Changes first element\n",
        "print(my_list)         # [10, 20, 30, 40]"
      ],
      "metadata": {
        "colab": {
          "base_uri": "https://localhost:8080/"
        },
        "id": "72xLEXUhQYzD",
        "outputId": "bbff3834-0449-4587-c4aa-dc208006525d"
      },
      "execution_count": null,
      "outputs": [
        {
          "output_type": "stream",
          "name": "stdout",
          "text": [
            "[10, 20, 30, 40]\n"
          ]
        }
      ]
    },
    {
      "cell_type": "markdown",
      "source": [
        "Questions 6. Why are lists mutable, but tuples are immutable?\n",
        "\n",
        "\n",
        "\n",
        "*   Lists are designed to be dynamic collections means they are meant to hold data that we expect to change during program execution. Their mutability supports operations like adding items, removing items, sorting, and modifying existing elements.\n",
        "*   Tuples are designed to be fixed collections means they are meant to represent structured data that shouldn't change, like coordinates, database records, or function return values with multiple components.\n",
        "*   The python code in the below cell shows the practical difference between lists and tuples."
      ],
      "metadata": {
        "id": "V8MO85a7Ea25"
      }
    },
    {
      "cell_type": "code",
      "source": [
        "# Considering the following examples:\n",
        "\n",
        "# Lists as Dybamics Arrays:\n",
        "\n",
        "# Common list operations that require mutability\n",
        "shopping_list = [\"apples\", \"bread\"]\n",
        "shopping_list.append(\"milk\")      # Add new items\n",
        "shopping_list.remove(\"bread\")     # Remove items\n",
        "shopping_list.sort()              # Reorder items\n",
        "shopping_list[0] = \"oranges\"      # Modify existing items\n",
        "\n",
        "\n",
        "#Tuples as Data Records:\n",
        "\n",
        "# Tuples represent fixed data structures\n",
        "point = (10, 20)                  # Coordinates shouldn't change\n",
        "person = (\"Alice\", 25, \"Engineer\") # Record fields are fixed\n",
        "rgb_color = (255, 0, 128)         # Color values are constant"
      ],
      "metadata": {
        "id": "-JlCfEtImco2"
      },
      "execution_count": null,
      "outputs": []
    },
    {
      "cell_type": "markdown",
      "source": [
        "Questions 7.  What is the difference between “==” and “is” operators in Python?\n",
        "\n",
        "\n",
        "\n",
        "*   The \"==\" operator in python checks if two values or contents are equal, while \"is\" operator checks if the objects are the same ojects in memory.\n",
        "*   The \"==\" operator is used to do most of the comparisions in python and thus checking if data is equivalent. The \"is\" operator is used for Checking if the two variables point to the exact same object. Thus \"==\" compares values while \"is\" compares obejct identity.\n",
        "*   The \"is\" operator is slightly faster than \"==\" operator from the perspective of performance.\n",
        "*   The python code in the below cell shows the practical difference:"
      ],
      "metadata": {
        "id": "P4_HMsniRI-A"
      }
    },
    {
      "cell_type": "code",
      "source": [
        "# \"==\" compares values\n",
        "a = [1, 2, 3]\n",
        "b = [1, 2, 3]\n",
        "print(a == b)  # True - same values\n",
        "print(a is b)  # False - different objects in memory\n",
        "\n",
        "# \"is\" compares object identity\n",
        "c = a\n",
        "print(a is c)  # True - same object\n",
        "print(a == c)  # True - same values too"
      ],
      "metadata": {
        "colab": {
          "base_uri": "https://localhost:8080/"
        },
        "id": "XYf-VRnk2Qja",
        "outputId": "ef70ec30-08a6-4e32-f57e-93c9a715c209"
      },
      "execution_count": null,
      "outputs": [
        {
          "output_type": "stream",
          "name": "stdout",
          "text": [
            "True\n",
            "False\n",
            "True\n",
            "True\n"
          ]
        }
      ]
    },
    {
      "cell_type": "markdown",
      "source": [
        "Questions 8.  What are logical operators in Python?\n",
        "\n",
        "*   Logical operators in Python are used to combine or modify boolean expressions. There are three main logical operators:\n",
        "\n",
        "*   and operator: Returns True only if both operands are True. Returns False if either operand is False.\n",
        "*   or operator: Returns True if at least one operand is True. Returns False only if both operands are False.\n",
        "*   not operator: Reverses the boolean value. Returns True if operand is False, and vice versa.\n",
        "\n",
        "Below python code shows examples for logical operators in python:"
      ],
      "metadata": {
        "id": "0NzqQ72fRJAW"
      }
    },
    {
      "cell_type": "code",
      "source": [
        "# and operator\n",
        "print(True and True)   # True\n",
        "print(True and False)  # False\n",
        "print(False and True)  # False\n",
        "print(False and False) # False\n",
        "\n",
        "# or operator\n",
        "print(True or True)    # True\n",
        "print(True or False)   # True\n",
        "print(False or True)   # True\n",
        "print(False or False)  # False\n",
        "\n",
        "# not operator\n",
        "print(not True)        # False\n",
        "print(not False)       # True"
      ],
      "metadata": {
        "colab": {
          "base_uri": "https://localhost:8080/"
        },
        "id": "wHKVzXr06xYB",
        "outputId": "1b6b774c-e6a8-4815-c22b-1aa32a496cac"
      },
      "execution_count": null,
      "outputs": [
        {
          "output_type": "stream",
          "name": "stdout",
          "text": [
            "True\n",
            "False\n",
            "False\n",
            "False\n",
            "True\n",
            "True\n",
            "True\n",
            "False\n",
            "False\n",
            "True\n"
          ]
        }
      ]
    },
    {
      "cell_type": "markdown",
      "source": [
        "Question 9. What is type casting in Python\n",
        "\n",
        "\n",
        "\n",
        "*   Type casting, also referred to as type conversion, is the process of changing one data type to another in Python.\n",
        "*   Python provides built-in functions for type casting, such as int(), float(), str(), list(), tuple(), dict(), etc.\n",
        "*   Type casting is often necessary for performing arithmetic operations, data manipulation, and input/output operations in Python programs.\n",
        "*   There two types of type casting in python, implicit which python does automatically and explicit which user do manually with the help of built-in functions.\n",
        "*   The python code in the below cell demonstrate the different use case examples of type casting."
      ],
      "metadata": {
        "id": "A0RcHpReRJCs"
      }
    },
    {
      "cell_type": "code",
      "source": [
        "# Input is always string, need to convert to the required data type\n",
        "age = input(\"Enter your age: \")  # Returns string\n",
        "age = int(age)  # Convert to integer\n",
        "if age >= 18:\n",
        "    print(\"You're an adult\")\n",
        "\n",
        "# when we try to add or do any arithmetic operations between two numbers, one integer and another float, python\n",
        "# autmatically cast the float data type for the result\n",
        "\n",
        "a = 2\n",
        "b = 3.5\n",
        "result = a + b\n",
        "print(type(result))\n",
        "\n",
        "# Not all conversions are possible\n",
        "\n",
        "# This will cause an error\n",
        "# int(\"hello\")  # ValueError: invalid literal for int()"
      ],
      "metadata": {
        "colab": {
          "base_uri": "https://localhost:8080/"
        },
        "id": "a_ZMZ7kU92wN",
        "outputId": "e974c655-f728-4dec-a8be-cf85eaac5e81"
      },
      "execution_count": null,
      "outputs": [
        {
          "output_type": "stream",
          "name": "stdout",
          "text": [
            "Enter your age: 18\n",
            "You're an adult\n",
            "<class 'float'>\n"
          ]
        }
      ]
    },
    {
      "cell_type": "markdown",
      "source": [
        "Question 10. What is the difference between implicit and explicit type casting?\n",
        "\n",
        "*   In implicit type casting, python automatically converts one data type to another. While in case of explicit type casting user manually convert one data type to another using built-in python functions.\n",
        "*   Implicit type casting happens behind the scenes without our intervention while explit type casting  explicitly calls conversion functions like int(), float(), str()\n",
        "*   Implicit type casting is also called as type coercion and explicit type casting is also called as simply type conversion.\n",
        "*   Usually implicit type casting converts from smaller to larger data types to avoid data loss. In case of explicit type casting, user have full control over when and how conversion happens.\n",
        "*   Below python code explains the practical use cases for both these types of type casting"
      ],
      "metadata": {
        "id": "SoZoiZ3M8ZYQ"
      }
    },
    {
      "cell_type": "code",
      "source": [
        "# Python automatically converts int to float\n",
        "num1 = 5        # int\n",
        "num2 = 3.2      # float\n",
        "result = num1 + num2  # Python converts 5 to 5.0\n",
        "print(result)   # 8.2 (float)\n",
        "print(type(result))  # <class 'float'>\n",
        "\n",
        "# Manual conversion using built-in functions\n",
        "str_num = \"123\"\n",
        "int_num = int(str_num)    # Explicitly convert string to int\n",
        "print(int_num)  # 123"
      ],
      "metadata": {
        "colab": {
          "base_uri": "https://localhost:8080/"
        },
        "id": "lAeVW_R-FLBO",
        "outputId": "04f42504-705d-4f14-c92f-f126d7c993d4"
      },
      "execution_count": null,
      "outputs": [
        {
          "output_type": "stream",
          "name": "stdout",
          "text": [
            "8.2\n",
            "<class 'float'>\n",
            "123\n"
          ]
        }
      ]
    },
    {
      "cell_type": "markdown",
      "source": [
        "Question 11. What is the purpose of conditional statements in Python?\n",
        "\n",
        "\n",
        "\n",
        "*   Conditionals in Python are used to execute code based on the evaluation of one or more conditions.\n",
        "*   Conditionals in python control the program flow. Determine which parts of code should run and which should be skipped\n",
        "*   Python supports conditional statements such as if, elif (else if), and else to control the flow of execution.\n",
        "*   Conditionals can be nested to handle multiple conditions and control different branches of execution based on the outcome of logical expressions.\n",
        "*   The below python code shows the practical use case of the conditional statements in python:\n",
        "\n",
        "\n"
      ],
      "metadata": {
        "id": "98JCCo688Zai"
      }
    },
    {
      "cell_type": "code",
      "source": [
        "# To demonstrate the conditionals in python\n",
        "\n",
        "age  = int(input(\"Enter your age: \"))\n",
        "if age >= 18:\n",
        "    print(\"You're an adult\")\n",
        "elif age >= 13:\n",
        "    print(\"You're a teenager\")\n",
        "else:\n",
        "    print(\"You're a child\")"
      ],
      "metadata": {
        "colab": {
          "base_uri": "https://localhost:8080/"
        },
        "id": "A5dwlUsBKkBb",
        "outputId": "0a1ed03f-5697-46b1-93fa-829ff5547455"
      },
      "execution_count": null,
      "outputs": [
        {
          "output_type": "stream",
          "name": "stdout",
          "text": [
            "Enter your age: 18\n",
            "You're an adult\n"
          ]
        }
      ]
    },
    {
      "cell_type": "markdown",
      "source": [
        "Question 12. How does the elif statement work?\n",
        "\n",
        "*   The elif statement in programming, particularly in Python, is used as part of a conditional structure to check multiple conditions sequentially.\n",
        "*   It stands for \"else if\" and is used after an initial if statement to evaluate additional conditions if the previous ones are false.\n",
        "*   The python code in the below cell shows Syntax and practical use case for elif statement."
      ],
      "metadata": {
        "id": "emy4G1kn8ZdL"
      }
    },
    {
      "cell_type": "code",
      "source": [
        "\"\"\"if condition1:\n",
        "    # Code block executed if condition1 is True\n",
        "  elif condition2:\n",
        "    # Code block executed if condition1 is False and condition2 is True\n",
        "  elif condition3:\n",
        "    # Code block executed if condition1 and condition2 are False and condition3 is True\n",
        "  else:\n",
        "    # Code block executed if all previous conditions are False\"\"\"\n",
        "\n",
        "# Example\n",
        "\n",
        "score = 85\n",
        "\n",
        "if score >= 90:\n",
        "    print(\"Grade A\")\n",
        "elif score >= 80:    # Only checked if first condition is False\n",
        "    print(\"Grade B\")  # This will execute\n",
        "elif score >= 70:    # Not checked because previous condition was True\n",
        "    print(\"Grade C\")\n",
        "else:\n",
        "    print(\"Grade D\")\n",
        "\n",
        "# Output: Grade B"
      ],
      "metadata": {
        "colab": {
          "base_uri": "https://localhost:8080/"
        },
        "id": "r62vRxf8PYYQ",
        "outputId": "db73a8e8-4bc8-4678-8d2c-edc667c7999f"
      },
      "execution_count": null,
      "outputs": [
        {
          "output_type": "stream",
          "name": "stdout",
          "text": [
            "Grade B\n"
          ]
        }
      ]
    },
    {
      "cell_type": "markdown",
      "source": [
        "Question 13. What is the difference between for and while loops?\n",
        "\n",
        "\n",
        "\n",
        "*   In python, “for” loops are used for iterating over a sequence of elements, while “while” loops are used for executing code until a specified condition becomes False\n",
        "*   \"for\" loop is used when we know how many times we want to iterate or when iterating over a collection and\n",
        "\"while\" loop is used when we want to repeat something until a condition becomes false.\n",
        "*   for loop automatically handles iteration while in case of While loop we control the iteration manually.\n",
        "*   While loop can cause infinite loop possibly if condition never becomes false but in case of for loop infinite loop is rare since iterations are predefined.\n",
        "*   The python code in the below cell shows the syntax and practical use case examples for both for and while loops\n",
        "\n"
      ],
      "metadata": {
        "id": "78RSaCH18Zfu"
      }
    },
    {
      "cell_type": "code",
      "source": [
        "# For loop\n",
        "\n",
        "\"\"\"\n",
        "Syntax\n",
        "\n",
        "for variable in sequence:\n",
        "    # Code block\n",
        "\n",
        "\"\"\"\n",
        "\n",
        "# We can process a list of student grades to calculate their average.\n",
        "\n",
        "grades = [85, 90, 78, 92, 88]\n",
        "total = 0\n",
        "for grade in grades:\n",
        "    total += grade\n",
        "average = total / len(grades)\n",
        "print(f\"Average grade: {average}\")\n",
        "\n",
        "\n",
        "# While loop\n",
        "\n",
        "\"\"\"\n",
        "Syntax\n",
        "\n",
        "while condition:\n",
        "    # Code block\n",
        "\n",
        "\"\"\"\n",
        "\n",
        "# we can use while loop to keep prompting a user for a password until they enter\n",
        "# a valid one\n",
        "\n",
        "password = \"\"\n",
        "while len(password) < 8:\n",
        "    password = input(\"Enter a password (at least 8 characters): \")\n",
        "    if len(password) < 8:\n",
        "        print(\"Password too short. Try again.\")\n",
        "print(\"Password accepted!\")"
      ],
      "metadata": {
        "colab": {
          "base_uri": "https://localhost:8080/"
        },
        "id": "VYiEUh_VWmbp",
        "outputId": "30a493fc-c225-4177-d006-30f1568e2070"
      },
      "execution_count": null,
      "outputs": [
        {
          "output_type": "stream",
          "name": "stdout",
          "text": [
            "Average grade: 86.6\n",
            "Enter a password (at least 8 characters): aaidada@086\n",
            "Password accepted!\n"
          ]
        }
      ]
    },
    {
      "cell_type": "markdown",
      "source": [
        "Question 14.  Describe a scenario where a while loop is more suitable than a for loop.\n",
        "\n",
        "*   The scenario where a while loop is more suitable than a for loop can be a ATM Cash Withdrawal System. In an ATM system, ATM syestem need to keep asking the user for their PIN until they enter the correct one, but we don't know how many attempts it will take depending upon if user enters the PIN accurately.\n",
        "*   In this scenario, User might enter correct PIN on 1st attempt or 3rd attempt. A for loop would force you to iterate a fixed number of times.If user enters correct PIN on 1st attempt, the loop is set to run 3 times and we have to use break to exit early.\n",
        "*   for loop suggests \"do this 3 times\" But we actually want \"keep trying until correct or max attempts\". The for loop structure suggests you always need all 3 attempts.\n",
        "*   In case if the requirement changes like user cancels the process, in such cases using for loop becomes awkward. Also in real life we don't think that \"I will try my PIN exactly 3 times\" and we might suppose that \"I will keep trying my PIN until I get it right or the machine blocks me\". This is the reason that in such a scenario like ATM Machine PIN Verification, using while loop is more suitable than a for loop.\n",
        "*   The below python code demonstrate the ATM Cash withdrawal system. The comments alongside the python code statements explains the process happening within the program."
      ],
      "metadata": {
        "id": "6LtjSXiK8Zih"
      }
    },
    {
      "cell_type": "code",
      "source": [
        "# ATM Cash Withdrawal System - ATM PIN Verification\n",
        "\n",
        "correct_pin = \"1234\"\n",
        "max_attempts = 3\n",
        "attempts = 0\n",
        "\n",
        "# After selection of the operation we want to perform like amount deposit or withrdawal,\n",
        "# we need to enter a pin code\n",
        "\n",
        "print(\"Welcome to ATM\")\n",
        "print(\"Please enter your 4-digit PIN\")\n",
        "\n",
        "while attempts < max_attempts:       # checks that attempts to enter PIN does not exceed the maximum attempts\n",
        "    user_pin = input(\"Enter PIN: \")  # User enters the PIN code\n",
        "    attempts += 1                    # after a single attempt, attempt gets updated to the next attempt count\n",
        "\n",
        "    if user_pin == correct_pin:                # checking of the entered PIN matches the correct PIN\n",
        "        print(\"PIN accepted! Access granted.\") # if entered PIN is correct then access is granted\n",
        "        print(\"You can now proceed with your transaction.\")\n",
        "        break                                  # the program stops asking for PIN as condition becomes true\n",
        "    else:\n",
        "        remaining = max_attempts - attempts    # calculating remaining attempt to enter a PIN\n",
        "        if remaining > 0:                      # checking if there are remaining attempts to enter a PIN\n",
        "            print(f\"Incorrect PIN. {remaining} attempts remaining.\") # Else part indicates incorrect PIN was entered.\n",
        "        else:\n",
        "            print(\"Maximum attempts exceeded. Card blocked!\")        # if maximum attempt to enter PIN is exceeded then card gets bloacked\n",
        "            print(\"Please contact your bank.\")"
      ],
      "metadata": {
        "colab": {
          "base_uri": "https://localhost:8080/"
        },
        "id": "I__H4LY4e0a8",
        "outputId": "746bfe11-d3d0-44e7-e2ab-98e8a2f12ca2"
      },
      "execution_count": null,
      "outputs": [
        {
          "output_type": "stream",
          "name": "stdout",
          "text": [
            "Welcome to ATM\n",
            "Please enter your 4-digit PIN\n",
            "Enter PIN: 123\n",
            "Incorrect PIN. 2 attempts remaining.\n",
            "Enter PIN: 23\n",
            "Incorrect PIN. 1 attempts remaining.\n",
            "Enter PIN: 245\n",
            "Maximum attempts exceeded. Card blocked!\n",
            "Please contact your bank.\n"
          ]
        }
      ]
    },
    {
      "cell_type": "markdown",
      "source": [
        "#  Practical Questions"
      ],
      "metadata": {
        "id": "IPd_Y6jLFF9n"
      }
    },
    {
      "cell_type": "markdown",
      "source": [
        "Questions 1. Write a Python program to print \"Hello, World!\""
      ],
      "metadata": {
        "id": "YAdwSJT67flZ"
      }
    },
    {
      "cell_type": "code",
      "source": [
        "# The below code uses python built-in funtion print() to display the text within the double quotes.\n",
        "# Python can use double or single quotes interchangably to represent the string\n",
        "\n",
        "print(\"Hello, World!\")"
      ],
      "metadata": {
        "id": "2-8tEKTHFLMI",
        "colab": {
          "base_uri": "https://localhost:8080/"
        },
        "outputId": "56d9e4cd-f18a-4f95-8335-84467fbe6b39"
      },
      "execution_count": null,
      "outputs": [
        {
          "output_type": "stream",
          "name": "stdout",
          "text": [
            "Hello, World!\n"
          ]
        }
      ]
    },
    {
      "cell_type": "markdown",
      "source": [
        "Question 2. Write a Python program that displays your name and age."
      ],
      "metadata": {
        "id": "4aTTj7tV8lxa"
      }
    },
    {
      "cell_type": "code",
      "source": [
        "# we can either define variables name and age or can even ask for the input after program execution starts\n",
        "\n",
        "name  = \"Suraj\"\n",
        "age = 25\n",
        "\n",
        "print(f\"My name is {name} and I am {age} years old.\")\n",
        "\n",
        "# Asking the upfront input from the user after program execution starts\n",
        "\n",
        "name = input(\"Enter your name: \")\n",
        "age = int(input(\"Enter your age: \"))\n",
        "\n",
        "print(f\"My name is {name} and I am {age} years old.\")"
      ],
      "metadata": {
        "colab": {
          "base_uri": "https://localhost:8080/"
        },
        "id": "D3W9GUrw8HxT",
        "outputId": "cc23ae48-a419-4dda-83d0-284d294e92c6"
      },
      "execution_count": null,
      "outputs": [
        {
          "output_type": "stream",
          "name": "stdout",
          "text": [
            "My name is Suraj and I am 25 years old.\n",
            "Enter your name: Suraj\n",
            "Enter your age: 25\n",
            "My name is Suraj and I am 25 years old.\n"
          ]
        }
      ]
    },
    {
      "cell_type": "markdown",
      "source": [
        "Question 3. Write code to print all the pre-defined keywords in Python using the keyword library.\n",
        "\n"
      ],
      "metadata": {
        "id": "VU8D87hP-GYv"
      }
    },
    {
      "cell_type": "code",
      "source": [
        "# To use the keyword library in python to print all the pre-defined keywords, we need to import it\n",
        "\n",
        "import keyword\n",
        "\n",
        "# Getting the list of all keywords in python\n",
        "\n",
        "keywords = keyword.kwlist\n",
        "keywords\n",
        "\n",
        "print(len(keywords))   # There are total 35 keywords in python 3.10.5 version release\n",
        "\n",
        "# Printing all the keywords in python\n",
        "\n",
        "for keyword in keywords:\n",
        "  print(keyword)"
      ],
      "metadata": {
        "colab": {
          "base_uri": "https://localhost:8080/"
        },
        "id": "trhutuXm9MuE",
        "outputId": "79c55f90-14eb-448a-e961-9ed6442cfdbd"
      },
      "execution_count": null,
      "outputs": [
        {
          "output_type": "stream",
          "name": "stdout",
          "text": [
            "35\n",
            "False\n",
            "None\n",
            "True\n",
            "and\n",
            "as\n",
            "assert\n",
            "async\n",
            "await\n",
            "break\n",
            "class\n",
            "continue\n",
            "def\n",
            "del\n",
            "elif\n",
            "else\n",
            "except\n",
            "finally\n",
            "for\n",
            "from\n",
            "global\n",
            "if\n",
            "import\n",
            "in\n",
            "is\n",
            "lambda\n",
            "nonlocal\n",
            "not\n",
            "or\n",
            "pass\n",
            "raise\n",
            "return\n",
            "try\n",
            "while\n",
            "with\n",
            "yield\n"
          ]
        }
      ]
    },
    {
      "cell_type": "markdown",
      "source": [
        "Question 4. Write a program that checks if a given word is a Python keyword."
      ],
      "metadata": {
        "id": "pyqUovye_mlf"
      }
    },
    {
      "cell_type": "code",
      "source": [
        "# Lets create a list of the keywords in python\n",
        "\n",
        "import keyword\n",
        "keywords = keyword.kwlist\n",
        "\n",
        "word = input(\"Enter a word to check if it is a python keyword\")\n",
        "\n",
        "if word in keywords:\n",
        "  print(f\"{word} is a keyword\")\n",
        "else:\n",
        "  print(f\"{word} is not a keyword\")"
      ],
      "metadata": {
        "colab": {
          "base_uri": "https://localhost:8080/"
        },
        "id": "aZcCmnYK-pHg",
        "outputId": "f1b971e9-c4e3-4401-e4be-855d800dbd63"
      },
      "execution_count": null,
      "outputs": [
        {
          "output_type": "stream",
          "name": "stdout",
          "text": [
            "Enter a word to check if it is a python keywordis\n",
            "is is a keyword\n"
          ]
        }
      ]
    },
    {
      "cell_type": "markdown",
      "source": [
        "Question 5.  Create a list and tuple in Python, and demonstrate how attempting to change an element works differently\n",
        "for each."
      ],
      "metadata": {
        "id": "G0Upwwa4A1ur"
      }
    },
    {
      "cell_type": "code",
      "source": [
        "# Creating a list and a tuple with the id_no, name, profression, address, age as my information\n",
        "\n",
        "ListVar = [112, 'Suraj', 'Data Scientist', 'Pune', '25']\n",
        "TupleVar = (112, 'Suraj', 'Data Scientist Professional', 'Pune', '25')\n",
        "\n",
        "print(type(ListVar))\n",
        "print(type(TupleVar))\n",
        "\n",
        "# Lets try to change my profession from curretn value to \"AI Engineer\" in the ListVar variable\n",
        "\n",
        "ListVar[2] = \"AI Engineer\"\n",
        "print(ListVar)  # List after changing the elements at index 2\n",
        "\n",
        "# Now trying to change the same value in tuple\n",
        "\n",
        "try:\n",
        "  TupleVar[2] = \"AI Engineer\"\n",
        "except TypeError:\n",
        "  print(\"Error while trying to change the tuple element\")\n",
        "  print(\"Tuple is immutable and remains unchanged after the creation\")"
      ],
      "metadata": {
        "colab": {
          "base_uri": "https://localhost:8080/"
        },
        "id": "leJO9Y3eAkK4",
        "outputId": "32e2790b-dcca-4fc3-8f5e-758a478831df"
      },
      "execution_count": null,
      "outputs": [
        {
          "output_type": "stream",
          "name": "stdout",
          "text": [
            "<class 'list'>\n",
            "<class 'tuple'>\n",
            "[112, 'Suraj', 'AI Engineer', 'Pune', '25']\n",
            "Error while trying to change the tuple element\n",
            "Tuple is immutable and remains unchanged after the creation\n"
          ]
        }
      ]
    },
    {
      "cell_type": "markdown",
      "source": [
        "Question 6.  Write a function to demonstrate the behavior of mutable and immutable arguments."
      ],
      "metadata": {
        "id": "3rd96klrGUB0"
      }
    },
    {
      "cell_type": "code",
      "source": [
        "def modify_arguments(my_list, my_tuple, my_string, my_int):\n",
        "    # Attempt to modify the list (mutable)\n",
        "    my_list[0] = 100\n",
        "    print(\"The Modified list:\", my_list)\n",
        "\n",
        "    # Attempt to modify the tuple (immutable)\n",
        "    try:\n",
        "        my_tuple[0] = 200\n",
        "    except TypeError as e:\n",
        "        print(\"Error while modifying tuple: \", e)\n",
        "\n",
        "    # Attempt to modify the string (immutable)\n",
        "    try:\n",
        "        my_string[0] = 'X'\n",
        "    except TypeError as e:\n",
        "        print(\"Error while modifying string: \", e)\n",
        "\n",
        "    # Attempt to modify the integer (immutable)\n",
        "    my_int = 300\n",
        "    print(\"Reassigned new value to the integer variable argument: \", my_int)\n",
        "\n",
        "# Defining the arguments for the function call\n",
        "\n",
        "demo_list = [1, 2, 3]\n",
        "demo_tuple = (1, 2, 3)\n",
        "demo_string = \"hello\"\n",
        "demo_int = 42\n",
        "\n",
        "# Printing original values\n",
        "print(\"Original list:\", demo_list)\n",
        "print(\"Original tuple:\", demo_tuple)\n",
        "print(\"Original string:\", demo_string)\n",
        "print(\"Original integer:\", demo_int)\n",
        "\n",
        "# Calling a function\n",
        "modify_arguments(demo_list, demo_tuple, demo_string, demo_int)\n",
        "\n",
        "# Print values after function call\n",
        "print(\"After function execution - List:\", demo_list)\n",
        "print(\"After function execution - Tuple:\", demo_tuple)\n",
        "print(\"After function execution - String:\", demo_string)\n",
        "print(\"After function execution - Integer:\", demo_int)"
      ],
      "metadata": {
        "id": "i-8W6qSCEBE4",
        "colab": {
          "base_uri": "https://localhost:8080/"
        },
        "outputId": "cfac2e10-2882-4692-fc88-cef1368841b3"
      },
      "execution_count": 66,
      "outputs": [
        {
          "output_type": "stream",
          "name": "stdout",
          "text": [
            "Original list: [1, 2, 3]\n",
            "Original tuple: (1, 2, 3)\n",
            "Original string: hello\n",
            "Original integer: 42\n",
            "The Modified list: [100, 2, 3]\n",
            "Error while modifying tuple:  'tuple' object does not support item assignment\n",
            "Error while modifying string:  'str' object does not support item assignment\n",
            "Reassigned new value to the integer variable argument:  300\n",
            "After function execution - List: [100, 2, 3]\n",
            "After function execution - Tuple: (1, 2, 3)\n",
            "After function execution - String: hello\n",
            "After function execution - Integer: 42\n"
          ]
        }
      ]
    },
    {
      "cell_type": "markdown",
      "source": [
        "Question 7. Write a program that performs basic arithmetic operations on two user-input numbers."
      ],
      "metadata": {
        "id": "rHw137nbvjQn"
      }
    },
    {
      "cell_type": "code",
      "source": [
        "# Taking inputs from the user\n",
        "\n",
        "num1 = int(input(\"Enter first number: \"))\n",
        "num2 = int(input(\"Enter second number: \"))\n",
        "\n",
        "# Performing basic arithmetic operations on two user-input numbers.\n",
        "\n",
        "addition = num1 + num2\n",
        "subtraction = num1 - num2\n",
        "multiplication = num1 * num2\n",
        "\n",
        "# Checking for division by zero\n",
        "if num2 != 0:\n",
        "    division = num1 / num2\n",
        "else:\n",
        "    division = \"undefined (division by zero)\"\n",
        "\n",
        "# Print the results\n",
        "print(f\"Addition: {num1} + {num2} = {addition}\")\n",
        "print(f\"Subtraction: {num1} - {num2} = {subtraction}\")\n",
        "print(f\"Multiplication: {num1} * {num2} = {multiplication}\")\n",
        "print(f\"Division: {num1} / {num2} = {division}\")"
      ],
      "metadata": {
        "colab": {
          "base_uri": "https://localhost:8080/"
        },
        "id": "HU7T1QGytaZ6",
        "outputId": "920fc9aa-d9b0-4962-8f20-0a17790043e7"
      },
      "execution_count": 6,
      "outputs": [
        {
          "output_type": "stream",
          "name": "stdout",
          "text": [
            "Enter first number: 11\n",
            "Enter second number: 11\n",
            "Addition: 11 + 11 = 22\n",
            "Subtraction: 11 - 11 = 0\n",
            "Multiplication: 11 * 11 = 121\n",
            "Division: 11 / 11 = 1.0\n"
          ]
        }
      ]
    },
    {
      "cell_type": "markdown",
      "source": [
        "Question 8. Write a program to demonstrate the use of logical operators."
      ],
      "metadata": {
        "id": "kE4T9PSL4fEP"
      }
    },
    {
      "cell_type": "code",
      "source": [
        "age = int(input(\"Enter your age: \"))\n",
        "has_driving_liscence = input(\"Do you have a driving liscence? (yes/no): \")\n",
        "\n",
        "# The below python code demonstrate the use of logical and, or and not operators\n",
        "\n",
        "#  logical and allows task(body of if block) to be performed only if both conditions are tue\n",
        "if age >= 18 and has_driving_liscence == \"yes\":\n",
        "  print(\"You are eligible to drive\")\n",
        "else:\n",
        "  print(\"You are not eligible to drive\")\n",
        "\n",
        "#  Logical OR allows task to be performed even if any one of the two condtions is true\n",
        "if age >= 18 or has_driving_liscence == \"yes\":\n",
        "  print(\"You are eligible to drive\")\n",
        "else:\n",
        "  print(\"You are not eligible to drive\")\n",
        "\n",
        "\n",
        "# logical not operator convert the value into its opposite value or make the negation of it.\n",
        "if not has_driving_liscence == \"yes\":\n",
        "  print(\"You are eligible to drive\")\n",
        "else:\n",
        "  print(\"You are not eligible to drive\")"
      ],
      "metadata": {
        "colab": {
          "base_uri": "https://localhost:8080/"
        },
        "id": "P9rDOgxYu3k_",
        "outputId": "d7ee11bb-bfe5-4046-d338-6aa3719618d1"
      },
      "execution_count": 17,
      "outputs": [
        {
          "output_type": "stream",
          "name": "stdout",
          "text": [
            "Enter your age: 17\n",
            "Do you have a driving liscence? (yes/no): no\n",
            "You are not eligible to drive\n",
            "You are not eligible to drive\n",
            "You are eligible to drive\n"
          ]
        }
      ]
    },
    {
      "cell_type": "markdown",
      "source": [
        "Question 9. Write a Python program to convert user input from string to integer, float, and boolean types."
      ],
      "metadata": {
        "id": "MgfsJOwUDlEb"
      }
    },
    {
      "cell_type": "code",
      "source": [
        "# lets suppose we want user to enter item1 as amount of rice in kgs to be delivered at an address/home\n",
        "\n",
        "item1 = input(\"Enter the amount of rice in kgs to be delivered at your address/home: \")\n",
        "\n",
        "print(type(item1))   #type function says that the rice in kgs variable is of string data type, and that's\n",
        "                           # the default type for the input function\n",
        "\n",
        "# if we need user to enter numerical value then we must specify the type casting function accordingly along with\n",
        "# input function\n",
        "\n",
        "item1 = float(input(\"Enter the amount of rice in kgs to be delivered at your address/home: \"))\n",
        "\n",
        "print(type(item1))   #type function says that the rice in kgs variable is of float data type\n",
        "\n",
        "# Now suppose that user wants to order second item, item2 as 3 packets of ginger-onion paste,\n",
        "# the count should be taken in integer data format\n",
        "\n",
        "item2 = int(input(\"Enter the number of ginger-onion paste packets to be delivered at you address/home: \"))\n",
        "\n",
        "print(type(item2))   #type function says that the item2 variable is of the integer data type\n",
        "\n",
        "# Now that user has entered the two items to be delivered at their address or home, we will ask user to reconfirm if\n",
        "# the prepared order is correct and for that user can either enter 1 to detect that its correct or 0 indicating\n",
        "# incorrect order\n",
        "\n",
        "\n",
        "confirmation = input(\"Is the prepared order correct? (1 for yes, 0 for no): \")\n",
        "\n",
        "if confirmation == \"1\":\n",
        "  print(type(confirmation))\n",
        "  if type(confirmation != \"bool\"):\n",
        "    confirmation = bool(confirmation)  # this line of code convert default string format of input variable to boolean\n",
        "  print(type(confirmation))\n",
        "  if confirmation == True:\n",
        "    print(\"Order confirmed\")\n",
        "else:\n",
        "  print(\"Order not confirmed\")"
      ],
      "metadata": {
        "colab": {
          "base_uri": "https://localhost:8080/"
        },
        "id": "IJPh8nFi_ZEH",
        "outputId": "18449110-ba07-40f7-a549-80c41598a625"
      },
      "execution_count": 26,
      "outputs": [
        {
          "output_type": "stream",
          "name": "stdout",
          "text": [
            "Enter the amount of rice in kgs to be delivered at your address/home: 2.8\n",
            "<class 'str'>\n",
            "Enter the amount of rice in kgs to be delivered at your address/home: 2.8\n",
            "<class 'float'>\n",
            "Enter the number of ginger-onion paste packets to be delivered at you address/home: 3\n",
            "<class 'int'>\n",
            "Is the prepared order correct? (1 for yes, 0 for no): 1\n",
            "<class 'str'>\n",
            "<class 'bool'>\n",
            "Order confirmed\n"
          ]
        }
      ]
    },
    {
      "cell_type": "markdown",
      "source": [
        "Question 10.  Write code to demonstrate type casting with list elements."
      ],
      "metadata": {
        "id": "ihvL6tqsJnlY"
      }
    },
    {
      "cell_type": "code",
      "source": [
        "# lets create a list containing items of different data types\n",
        "\n",
        "ListVar = [1000000, \"100\",\"74.2\", 25, True]\n",
        "\n",
        "print(\"original list: \", ListVar)\n",
        "print(\"Original types: \", [f\"{item} : {type(item)}\" for item in ListVar])\n",
        "\n",
        "# we can even cast ListVar variable as tuple or set\n",
        "\n",
        "TupleVar = tuple(ListVar)\n",
        "print(TupleVar)\n",
        "SetVar = set(ListVar)\n",
        "print(SetVar)\n",
        "\n",
        "# Type casting for all the items in the ListVar variable\n",
        "\n",
        "# integer to float conversion\n",
        "\n",
        "int_value = ListVar[0]\n",
        "float_value = float(int_value)\n",
        "print(f\"{int_value} : {type(int_value)}\")\n",
        "print(f\"{float_value} : {type(float_value)}\")\n",
        "\n",
        "# string to integer conversion\n",
        "\n",
        "str_value = ListVar[1]\n",
        "int_value = int(str_value)\n",
        "print(f\"{str_value} : {type(str_value)}\")\n",
        "print(f\"{int_value} : {type(int_value)}\")\n",
        "\n",
        "# string to float conversion\n",
        "\n",
        "str_value = ListVar[2]\n",
        "float_value = float(str_value)\n",
        "print(f\"{str_value} : {type(str_value)}\")\n",
        "print(f\"{float_value} : {type(float_value)}\")\n",
        "\n",
        "# integer to string conversion\n",
        "\n",
        "int_value = ListVar[3]\n",
        "str_value = str(int_value)\n",
        "print(f\"{int_value} : {type(int_value)}\")\n",
        "print(f\"{str_value} : {type(str_value)}\")\n",
        "\n",
        "# boolean to integer conversion\n",
        "\n",
        "bool_value = ListVar[4]\n",
        "int_value = int(bool_value)\n",
        "print(f\"{bool_value} : {type(bool_value)}\")\n",
        "print(f\"{int_value} : {type(int_value)}\")\n",
        "\n",
        "# now that we have converted the data types of all the list items lets update them in the ListVar Variable\n",
        "\n",
        "ListVar[0] = float_value\n",
        "ListVar[1] = int_value\n",
        "ListVar[2] = float_value\n",
        "ListVar[3] = str_value\n",
        "ListVar[4] = int_value\n",
        "\n",
        "print(\"Updated list: \", ListVar)\n",
        "print(\"Updated types: \", [f\"{item} : {type(item)}\" for item in ListVar])"
      ],
      "metadata": {
        "colab": {
          "base_uri": "https://localhost:8080/"
        },
        "id": "Zzy5M1WpERry",
        "outputId": "a7ce90ac-a31c-41f5-cb15-9cb6bdce0170"
      },
      "execution_count": 45,
      "outputs": [
        {
          "output_type": "stream",
          "name": "stdout",
          "text": [
            "original list:  [1000000, '100', '74.2', 25, True]\n",
            "Original types:  [\"1000000 : <class 'int'>\", \"100 : <class 'str'>\", \"74.2 : <class 'str'>\", \"25 : <class 'int'>\", \"True : <class 'bool'>\"]\n",
            "(1000000, '100', '74.2', 25, True)\n",
            "{1000000, True, '100', '74.2', 25}\n",
            "1000000 : <class 'int'>\n",
            "1000000.0 : <class 'float'>\n",
            "100 : <class 'str'>\n",
            "100 : <class 'int'>\n",
            "74.2 : <class 'str'>\n",
            "74.2 : <class 'float'>\n",
            "25 : <class 'int'>\n",
            "25 : <class 'str'>\n",
            "True : <class 'bool'>\n",
            "1 : <class 'int'>\n",
            "Updated list:  [74.2, 1, 74.2, '25', 1]\n",
            "Updated types:  [\"74.2 : <class 'float'>\", \"1 : <class 'int'>\", \"74.2 : <class 'float'>\", \"25 : <class 'str'>\", \"1 : <class 'int'>\"]\n"
          ]
        }
      ]
    },
    {
      "cell_type": "markdown",
      "source": [
        "Question 11. Write a program that checks if a number is positive, negative, or zero."
      ],
      "metadata": {
        "id": "BWciUtLfQaRd"
      }
    },
    {
      "cell_type": "code",
      "source": [
        "# lets take number as an input from the user\n",
        "\n",
        "number = float(input(\"Enter a number: \"))\n",
        "\n",
        "if number > 0:\n",
        "    print(\"The number is positive.\")\n",
        "elif number < 0:\n",
        "    print(\"The number is negative.\")\n",
        "else:\n",
        "    print(\"The number is zero.\")"
      ],
      "metadata": {
        "colab": {
          "base_uri": "https://localhost:8080/"
        },
        "id": "NdJMzXcRM5FT",
        "outputId": "9c63dd25-fe72-4b1c-cb8a-f04e63026386"
      },
      "execution_count": 46,
      "outputs": [
        {
          "output_type": "stream",
          "name": "stdout",
          "text": [
            "Enter a number: 2\n",
            "The number is positive.\n"
          ]
        }
      ]
    },
    {
      "cell_type": "markdown",
      "source": [
        "Question 12. Write a for loop to print numbers from 1 to 10."
      ],
      "metadata": {
        "id": "qSb6riiHQ5za"
      }
    },
    {
      "cell_type": "code",
      "source": [
        "# The for loop to print numbers from 1 to 10\n",
        "\n",
        "for i in range(1, 11):  # for loop iterates starting from first element in the range function\n",
        "  print(i)                                    # until the one number before the end element for the range\n"
      ],
      "metadata": {
        "colab": {
          "base_uri": "https://localhost:8080/"
        },
        "id": "McO4Y-bzQrYa",
        "outputId": "234d76ad-d825-4f9c-e42b-57661abbd94f"
      },
      "execution_count": 50,
      "outputs": [
        {
          "output_type": "stream",
          "name": "stdout",
          "text": [
            "1\n",
            "2\n",
            "3\n",
            "4\n",
            "5\n",
            "6\n",
            "7\n",
            "8\n",
            "9\n",
            "10\n"
          ]
        }
      ]
    },
    {
      "cell_type": "markdown",
      "source": [
        "Question 13.  Write a Python program to find the sum of all even numbers between 1 and 50."
      ],
      "metadata": {
        "id": "Qgcb-PjiRr2m"
      }
    },
    {
      "cell_type": "code",
      "source": [
        "# Initializing the sum_of_even_nums to 0\n",
        "\n",
        "sum_of_even_nums = 0\n",
        "\n",
        "for num in range(1, 51):     #iterates through all the numbers\n",
        "  if num % 2 == 0:           # checks if number is even by checking if we get 0 by dividing the number\n",
        "    sum_of_even_nums += num  #add the even numbers together along with initial sum 0\n",
        "\n",
        "print(f\"The sum of all even numbers between 1 and 50 is {sum_of_even_nums}\")"
      ],
      "metadata": {
        "colab": {
          "base_uri": "https://localhost:8080/"
        },
        "id": "mPB6-TjuRDgM",
        "outputId": "d2c8194a-1e4b-4443-e2bc-24eced9effc0"
      },
      "execution_count": 57,
      "outputs": [
        {
          "output_type": "stream",
          "name": "stdout",
          "text": [
            "The sum of all even numbers between 1 and 50 is 650\n"
          ]
        }
      ]
    },
    {
      "cell_type": "markdown",
      "source": [
        "Question 14.  Write a program to reverse a string using a while loop."
      ],
      "metadata": {
        "id": "KzccSPmxTQol"
      }
    },
    {
      "cell_type": "code",
      "source": [
        "# Lets get an input string from user\n",
        "\n",
        "string = input(\"Enter a string to reverse \")\n",
        "\n",
        "reversed_string = \"\"\n",
        "index = len(string) - 1\n",
        "\n",
        "while index>=0:\n",
        "  reversed_string += string[index]\n",
        "  index -= 1\n",
        "\n",
        "# print the reversed string\n",
        "print(f\"The reversed string is {reversed_string}\")"
      ],
      "metadata": {
        "colab": {
          "base_uri": "https://localhost:8080/"
        },
        "id": "uo_CTj-4SGqQ",
        "outputId": "d0bd5266-f5f4-44c9-9505-84e7b1034cb4"
      },
      "execution_count": 58,
      "outputs": [
        {
          "output_type": "stream",
          "name": "stdout",
          "text": [
            "Enter a string to reverse Python\n",
            "The reversed string is nohtyP\n"
          ]
        }
      ]
    },
    {
      "cell_type": "markdown",
      "source": [
        "Question 15. Write a Python program to calculate the factorial of a number provided by the user using a while loop."
      ],
      "metadata": {
        "id": "zMYsE4xiV8BP"
      }
    },
    {
      "cell_type": "code",
      "source": [
        "#  Take the number input whose factorial is to calculate\n",
        "\n",
        "number = int(input(\"Enter a number: \"))\n",
        "\n",
        "# Initialize the factorial to 1\n",
        "\n",
        "factorial = 1\n",
        "current_number = number\n",
        "\n",
        "while current_number > 0:\n",
        "  factorial *= current_number\n",
        "  current_number -= 1\n",
        "\n",
        "print(f\"The factorial of {number} is {factorial}\")"
      ],
      "metadata": {
        "colab": {
          "base_uri": "https://localhost:8080/"
        },
        "id": "StIn1gRnVdVU",
        "outputId": "35c8eba5-8570-4770-fd4b-fc355172979b"
      },
      "execution_count": 62,
      "outputs": [
        {
          "output_type": "stream",
          "name": "stdout",
          "text": [
            "Enter a number: 3\n",
            "The factorial of 3 is 6\n"
          ]
        }
      ]
    }
  ]
}
