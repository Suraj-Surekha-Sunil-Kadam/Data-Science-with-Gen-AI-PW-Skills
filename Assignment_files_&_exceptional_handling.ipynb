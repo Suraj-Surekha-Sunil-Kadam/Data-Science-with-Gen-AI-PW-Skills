{
  "nbformat": 4,
  "nbformat_minor": 0,
  "metadata": {
    "colab": {
      "provenance": []
    },
    "kernelspec": {
      "name": "python3",
      "display_name": "Python 3"
    },
    "language_info": {
      "name": "python"
    }
  },
  "cells": [
    {
      "cell_type": "markdown",
      "source": [
        "# Files, exceptional handling, logging and    memory management Questions"
      ],
      "metadata": {
        "id": "EoA3XZIp2Dw3"
      }
    },
    {
      "cell_type": "markdown",
      "source": [
        "Question 1. What is the difference between interpreted and compiled languages?\n",
        "\n",
        "\n",
        "*   In interpreted languages, the program code is read and executed line by line by an interpreter at runtime, without producing a separate executable beforehand. While in compiler languages, the program code is transformed into machine code by a compiler before execution.\n",
        "*   In interpreted languages, the program execution is at slower speed compared to compiler languages. While compiled languages create a standalone executable that runs directly on the hardware, making execution fast and efficient\n",
        "*   In interpreted languages, code is highly portable but works only if interpreter is exists. While for compiled lanaguages, the executable is platform specific.\n",
        "*   In interpreted languages, errors are found during execution of program. While in compiled languages, the errors are found during the compile time. Interpreted languages does not need compilation step. But compiled languages requires compilation step.\n",
        "*   Python, JavaScript, Ruby are the interpreted languages. While C, C++, Go, Swift are the compiled languages."
      ],
      "metadata": {
        "id": "VueBPrJI2Dzu"
      }
    },
    {
      "cell_type": "markdown",
      "source": [
        "Question 2. What is exception handling in Python?\n",
        "\n",
        "\n",
        "\n",
        "*   When we write any program in python, there might be some errors in it and when python interpreter tries to execute the program, program would stop with the specific error message. It means that program did not run as we expected. If such cases with error occurs they are the exceptional outputs for the program execution and the way of handling such exceptions is exception handling.\n",
        "*   Exceptions would occur from the suspicious code in program which might lead to error. There are different specific excpetions for the different types of erros in python\n",
        "*   The below python code express the syntax and demonstration of an exception handling in python."
      ],
      "metadata": {
        "id": "tRLvfgGs2D2X"
      }
    },
    {
      "cell_type": "code",
      "source": [
        "# syntax\n",
        "\n",
        "\"\"\"\n",
        "try:\n",
        "  # suspicious code/ code that could result into an error\n",
        "except Exceptionas e:\n",
        "  # print the exception along with a message\n",
        "\"\"\"\n",
        "\n",
        "# When we try to divide any number with 0, it gives an error\n",
        "\n",
        "try:\n",
        "  10/0\n",
        "except Exception as e:\n",
        "  print(\"The error message indicated\", e)\n",
        "\n",
        "# when we try to convert string value into integer type, it gives an error and it can be handled\n",
        "\n",
        "try:\n",
        "  int(\"Suraj\")\n",
        "except Exception as e:\n",
        "  print(\"The string value can't be converted to integer type as\", e)\n",
        "\n",
        "# The use of class Exception to handle exceptions in python is a generic way of handling exceptions,\n",
        "# but the standard or recommended best practice is to use specific exceptions like ZeroDivisionError,\n",
        "# TyeError, ValueError, etc."
      ],
      "metadata": {
        "colab": {
          "base_uri": "https://localhost:8080/"
        },
        "id": "A9QU-E1C40UC",
        "outputId": "ab7cc118-d611-4be6-a19d-58295b13183b"
      },
      "execution_count": null,
      "outputs": [
        {
          "output_type": "stream",
          "name": "stdout",
          "text": [
            "The error message indicated division by zero\n",
            "The string value can't be converted to integer type as invalid literal for int() with base 10: 'Suraj'\n"
          ]
        }
      ]
    },
    {
      "cell_type": "markdown",
      "source": [
        "Question 3.  What is the purpose of the finally block in exception handling?\n",
        "\n",
        "*   The purpose of the finally block in exception handling is to guarantee that specific code runs regardless of whether an exception was thrown or caught in the preceding try or catch blocks.\n",
        "*   The finally block in exception handling provides a way to ensure that important cleanup or finalization tasks are always performed, such as closing files or database connections, releasing system resources, restoring states or performing other necessary cleanup.\n",
        "*   The finally block always executes after the try block finishes, even if an exception occurs and is caught or not caught. It ensures consistent program behavior and resource management.\n",
        "*   The below python code demonstrate the use of finally block in exception handling."
      ],
      "metadata": {
        "id": "1vPZfeBX2D4s"
      }
    },
    {
      "cell_type": "code",
      "source": [
        "# Let say I want to create and write a content to the text file as follow using try statement and\n",
        "# also to use except statement to make sure message or notification is returned if something goes\n",
        "# wrong in try statement\n",
        "\n",
        "f = 0\n",
        "\n",
        "try:\n",
        "  f = open(\"example.txt\", \"w\")\n",
        "  f.write(\"This is the first text line in this file\")\n",
        "except Exception as e:\n",
        "  print(\"The error occured is\", e)\n",
        "finally:\n",
        "  if f is not None:\n",
        "    f.close()     #finally block is executed whether exception occurs or not and thus file is closed"
      ],
      "metadata": {
        "id": "xWFqRfIOMk3t"
      },
      "execution_count": null,
      "outputs": []
    },
    {
      "cell_type": "markdown",
      "source": [
        "Question 4. What is logging in Python?\n",
        "\n",
        "\n",
        "*   Logging in Python is the process of tracking events that happen when a program runs, by recording messages about errors, warnings, program flow, or general information using the built-in logging module.\n",
        "*   The primary purpose of logging is to help developers debug, monitor, and maintain applications by providing insights into the program's execution and behavior.\n",
        "*   Python provides a dedicated logging module in its standard library, which enables you to configure loggers, define log message formats, and set log severity levels (such as DEBUG, INFO, WARNING, ERROR, and CRITICAL).\n",
        "*   We can output log messages to various destinations, including the console, files, or remote servers, allowing for flexible monitoring and record-keeping.\n",
        "*   Logging is more versatile and manageable than using simple print() statements because it allows filtering, formatting, and directing messages according to their severity and relevance\n",
        "*   The below python code demonstrate the use of logging module in python."
      ],
      "metadata": {
        "id": "_5DrGN0n2D7d"
      }
    },
    {
      "cell_type": "code",
      "source": [
        "import logging\n",
        "\n",
        "logging.basicConfig(\n",
        "    filename='example.log',\n",
        "    encoding='utf-8',\n",
        "    level=logging.DEBUG,  # All messages at DEBUG level or higher will be logged\n",
        "    format='%(asctime)s - %(name)s - %(levelname)s - %(message)s',\n",
        "    force = True\n",
        ")\n",
        "\n",
        "logger = logging.getLogger(__name__)\n",
        "\n",
        "logger.debug(\"This message should go to the log file\")\n",
        "logger.info(\"So should this\")\n",
        "logger.warning(\"And this, too\")\n",
        "logger.error(\"And non-ASCII stuff, too, like Øresund and Malmö\")\n"
      ],
      "metadata": {
        "id": "Vc-TdRfxfr9j"
      },
      "execution_count": 3,
      "outputs": []
    },
    {
      "cell_type": "markdown",
      "source": [
        "Question 5. What is the significance of the __del__ method in Python?\n",
        "\n",
        "\n",
        "*   The del method in Python is a special \"destructor\" method that is called when an object is about to be destroyed by Python's garbage collector.\n",
        "*   The main significance of del is to let you define specific cleanup actions that should occur right before the object's memory is reclaimed, such as releasing external resources such as files, network connections, etc. that the object holds. It is called automatically when an object's reference count drops to zero and the object is slated for garbage collection\n",
        "*   The below python code demonstrate the use of __del__() method in python"
      ],
      "metadata": {
        "id": "5zAEi_6n2D92"
      }
    },
    {
      "cell_type": "code",
      "source": [
        "class ResourceHandler:\n",
        "    def __init__(self, resource_name):\n",
        "        self.resource_name = resource_name\n",
        "        print(f\"Acquired resource: {self.resource_name}\")\n",
        "\n",
        "    def __del__(self):\n",
        "        print(f\"Releasing resource: {self.resource_name}\")\n",
        "\n",
        "# Create an object\n",
        "handler = ResourceHandler(\"DatabaseConnection\")\n",
        "\n",
        "# Delete the object (the destructor runs when the object is destroyed)\n",
        "del handler"
      ],
      "metadata": {
        "colab": {
          "base_uri": "https://localhost:8080/"
        },
        "id": "ZI0saa3thKDt",
        "outputId": "d2a0f02e-8db0-45ba-879e-c4d25af5cdb9"
      },
      "execution_count": 2,
      "outputs": [
        {
          "output_type": "stream",
          "name": "stdout",
          "text": [
            "Acquired resource: DatabaseConnection\n",
            "Releasing resource: DatabaseConnection\n"
          ]
        }
      ]
    },
    {
      "cell_type": "markdown",
      "source": [
        "Question 6. What is the difference between import and from ... import in Python?\n",
        "\n",
        "\n",
        "*   The import statement imports the entire module as a single object. While from ... import statement imports specific attributes (functions, classes, or variables) directly into the current namespace.\n",
        "*   Using import we access functions, classes, or variables from the module by prefixing with the module name. While using from ... import we can use the imported names directly without the module name prefix.\n",
        "*   The below python code demonstrate the difference between import and from ... import in python."
      ],
      "metadata": {
        "id": "PSBl5SVs2EAV"
      }
    },
    {
      "cell_type": "code",
      "source": [
        "# import module\n",
        "\n",
        "import math\n",
        "result = math.sqrt(16)  # Need to use 'math.' as prefix to use any function or attributes\n",
        "\n",
        "# from module import name\n",
        "\n",
        "from math import sqrt\n",
        "result = sqrt(16)  # Can use 'sqrt' directly"
      ],
      "metadata": {
        "id": "CNRqsZT2bkka"
      },
      "execution_count": 1,
      "outputs": []
    },
    {
      "cell_type": "markdown",
      "source": [
        "Question 7. How can you handle multiple exceptions in Python?\n",
        "\n",
        "\n",
        "*   We can handle multiple exceptions in Python in several ways depending on whether we want the same handling code for all exceptions or different handling for each.\n",
        "*   The below python code demonstrate the multiple exception handling in python."
      ],
      "metadata": {
        "id": "c8IIttuq2EDL"
      }
    },
    {
      "cell_type": "code",
      "source": [
        "# Handling multiple exceptions with a single except block\n",
        "\n",
        "\"\"\"We can catch multiple exceptions by specifying a tuple of exception types in a single\n",
        "except clause. This runs the same code for any of those exceptions.\"\"\"\n",
        "\n",
        "try:\n",
        "    # code that might raise multiple exceptions\n",
        "    value = int(input(\"Enter a number: \"))\n",
        "    result = 10 / value\n",
        "except (ValueError, ZeroDivisionError) as error:\n",
        "    print(f\"An error occurred: {error}\")\n",
        "\n",
        "# Handling multiple exceptions with separate except blocks - If we want different handling for\n",
        "# different exceptions, we can use multiple except blocks:\n",
        "\n",
        "try:\n",
        "    value = int(input(\"Enter a number: \"))\n",
        "    result = 10 / value\n",
        "except ValueError as e:\n",
        "    print(\"You didn't enter a valid number\", e)\n",
        "except ZeroDivisionError as e:\n",
        "    print(\"Cannot divide by zero\", e)\n",
        "\n",
        "# Using exception inheritance - If exceptions share a common base class,\n",
        "# we can catch the base class to handle all subclasses.\n",
        "\n",
        "# Custom exception class\n",
        "\n",
        "\n",
        "class ValidateIncome(Exception):\n",
        "    def __init__(self, msg):\n",
        "        self.msg = msg\n",
        "    def __str__(self):\n",
        "        return self.msg\n",
        "\n",
        "def validate_income(Income):\n",
        "    if Income <= 0:\n",
        "        raise ValidateIncome(\"Salary can't be less than or equal to 0\")\n",
        "    elif Income > 30000000:\n",
        "        raise ValidateIncome(\"Income is unexpected\")\n",
        "    else:\n",
        "        print(\"Income is valid\")\n",
        "\n",
        "try:\n",
        "    Income = int(input(\"Enter your monthly income: \"))\n",
        "    validate_income(Income)\n",
        "except ValidateIncome as e:\n",
        "    print(e)\n",
        "except ValueError:\n",
        "    print(\"Please enter a valid integer for income.\")\n"
      ],
      "metadata": {
        "colab": {
          "base_uri": "https://localhost:8080/"
        },
        "id": "lYRg-kVAceD8",
        "outputId": "35120dcb-2d16-4c60-8287-825f4f5abd78"
      },
      "execution_count": 6,
      "outputs": [
        {
          "output_type": "stream",
          "name": "stdout",
          "text": [
            "Enter a number: 0\n",
            "An error occurred: division by zero\n",
            "Enter a number: suraj\n",
            "You didn't enter a valid number invalid literal for int() with base 10: 'suraj'\n",
            "Enter your monthly income: 90000000000\n",
            "Income is unexpected\n"
          ]
        }
      ]
    },
    {
      "cell_type": "markdown",
      "source": [
        "Question 8. What is the purpose of the with statement when handling files in Python?\n",
        "\n",
        "\n",
        "\n",
        "*   The purpose of the with statement when handling files in Python is to simplify resource management by automatically opening and closing files, ensuring that the file is properly closed after its operations are completed—even if errors occur during processing.\n",
        "*   The user of with statement eliminates the need for explicit calls to file.close() and avoids resource leaks or file corruption.\n",
        "*   It replaces explicit try-finally blocks with simple, readable syntax.\n",
        "*   Reduces the risk of forgetting to close the file, which can cause issues like memory leaks.\n",
        "*   The below python code demonstrate the use of with statement when handling files in python."
      ],
      "metadata": {
        "id": "PXEwiyQZ2EFn"
      }
    },
    {
      "cell_type": "code",
      "source": [
        "with open(\"example.txt\", \"w\") as file:\n",
        "    file.write(\"This is some text in file\\n\")\n",
        "    file.write(\"This is some more text in file\\n\")\n",
        "\n",
        "# File is automatically closed here, no need for file.close()"
      ],
      "metadata": {
        "id": "5kWLYW_yiuGC"
      },
      "execution_count": 88,
      "outputs": []
    },
    {
      "cell_type": "markdown",
      "source": [
        "Question 9.  What is the difference between multithreading and multiprocessing?\n",
        "\n",
        "\n",
        "*   In multithreading, Multiple threads run within a single process. While in multiprocessing, Multiple processes run independently.\n",
        "*   In multithreading, threads share same memory space and data space within a process. While in multiprocessing, processes do not share memory; each has separate memory, code, and data.\n",
        "*   Multithreading achieves concurrency, tasks appear to run at the same time but only one thread executes Python bytecode at a time because of the Global Interpreter Lock (GIL). While multiprocessing achieves true parallelism by running processes on separate CPU cores simultaneously.\n",
        "*   multithreading is best for IO-bound tasks such as network or disk I/O where waiting is common. While multiprocessing is best for CPU-bound tasks such as heavy computations, leveraging multiple cores.\n",
        "*   multithreading is lightweight, less overhead in context switching and memory usage. While multiprocessing is heavier overhead due to separate memory space and process management.\n",
        "*   In multithreading, its easier to share data (shared memory), but requires synchronization (locks) to avoid race conditions. While in multiprocessing, processes do not share memory; communication requires inter-process communication (IPC) mechanisms like pipes or queues.\n",
        "*   In multithreading, GIL allows only one thread to execute Python bytecode at a time, limiting CPU-bound multithreading performance. While in multiprocessing, each process has its own Python interpreter and GIL, so multiprocessing bypasses the GIL limitation.\n",
        "* The below python code demonstrate the difference between multithreading and multiprocessing."
      ],
      "metadata": {
        "id": "cxLcUZ9D2EIX"
      }
    },
    {
      "cell_type": "code",
      "source": [
        "print(\"This is the example of multithreading\")\n",
        "\n",
        "import threading\n",
        "import os\n",
        "\n",
        "def task(num):\n",
        "    print(f\"Thread {num} in process {os.getpid()}\")\n",
        "\n",
        "for i in range(2):\n",
        "    threading.Thread(target=task, args=(i,)).start()\n",
        "\n",
        "\n",
        "\n",
        "print(\"This is the example of multiprocessing\")\n",
        "\n",
        "import multiprocessing\n",
        "import os\n",
        "\n",
        "def task(num):\n",
        "    print(f\"Process {num} with PID {os.getpid()}\")\n",
        "\n",
        "for i in range(2):\n",
        "    multiprocessing.Process(target=task, args=(i,)).start()"
      ],
      "metadata": {
        "colab": {
          "base_uri": "https://localhost:8080/"
        },
        "id": "RzcqB2OUosp-",
        "outputId": "8f9f40b1-5858-4f15-8a12-b2c120039feb"
      },
      "execution_count": 12,
      "outputs": [
        {
          "output_type": "stream",
          "name": "stdout",
          "text": [
            "This is the example of multithreading\n",
            "Thread 0 in process 425\n",
            "Thread 1 in process 425\n",
            "This is the example of multiprocessing\n",
            "Process 0 with PID 14651\n",
            "Process 1 with PID 14652\n"
          ]
        }
      ]
    },
    {
      "cell_type": "markdown",
      "source": [
        "Question 10.  What are the advantages of using logging in a program?\n",
        "\n",
        "\n",
        "Following are the advantages of using logging in a program include:\n",
        "\n",
        "*   Logging provides insight into what your program is doing at runtime, offering a trace of operations, function calls, and state changes as they happen. This helps developers understand how the code behaves in production or during development.\n",
        "\n",
        "*   Logs help localize and debug problems quickly by showing the sequence of events and any error messages. This avoids guesswork and reduces time spent searching for the root cause.\n",
        "\n",
        "*   Logs maintain a historical record of application activities, errors, user actions, and system states allowing audits and post-mortem analysis if needed.\n",
        "\n",
        "*   Logs serve as a single source of truth, enabling developers, testers, and administrators to share and understand exactly what the system experienced without repeated explanations.\n",
        "\n",
        "*   By examining logs over time, we can track usage patterns, detect performance bottlenecks, and optimize the system based on real data.\n",
        "\n",
        "*   Logging frameworks manage when and how messages are written (including log rotation, levels, and formatting), reducing manual overhead.\n",
        "\n",
        "*   You can control the verbosity using log levels (DEBUG, INFO, WARNING, ERROR) to capture exactly the needed detail without cluttering output.\n",
        "\n",
        "*   Since we often cannot attach debuggers in production, logging is essential to gather runtime information safely."
      ],
      "metadata": {
        "id": "knWuuuGu2ELF"
      }
    },
    {
      "cell_type": "markdown",
      "source": [
        "Question 11.  What is memory management in Python?\n",
        "\n",
        "\n",
        "*   Memory management in Python refers to the process of efficiently allocating, using, and reclaiming memory for Python objects and data structures during program execution. Python handles memory management automatically, abstracting it away from the programmer.\n",
        "*   Python maintains a private heap space where all Python objects and data such as strings, lists, dictionaries and they are stored. The management of this private heap is done internally by the Python memory manager.\n",
        "*   Static memory (stack) is used for storing references and local variables with fixed sizes.Dynamic memory (heap) stores objects whose size can change at runtime such as lists, custom objects.\n",
        "*   Each object keeps track of the number of references pointing to it. When the reference count drops to zero (no references remain), Python automatically deallocates the object.\n",
        "*   Python uses a cyclic garbage collector to identify and clean up reference cycles (objects referring to each other) that reference counting alone cannot handle.\n",
        "*   Python provides tools like generators and optimized data structures like  arrays, collections.deque for more efficient memory usage when dealing with large datasets."
      ],
      "metadata": {
        "id": "ZfW12tFd2ENp"
      }
    },
    {
      "cell_type": "markdown",
      "source": [
        "Question. 12.  What are the basic steps involved in exception handling in Python?\n",
        "\n",
        "The basic steps involved in exception handling in Python are:\n",
        "\n",
        "*   Identify code that might raise exceptions: Write the code that can potentially cause errors inside a try block.\n",
        "\n",
        "*   Catch exceptions using except: Follow the try block with one or more except blocks to catch and handle specific exceptions or a group of exceptions.\n",
        "\n",
        "*   Optionally use else: An else block can be added after except blocks to execute code only if no exceptions were raised in the try block.\n",
        "\n",
        "*   Optionally use finally: A finally block can be included to run code that must always be executed, regardless of whether an exception occurred or not (e.g., cleanup actions).\n",
        "\n",
        "*   Raise exceptions with raise: We can explicitly cause an exception to occur using the raise statement when certain conditions are met.\n",
        "*   The below python code demonstrate the example for typical exception handling flow"
      ],
      "metadata": {
        "id": "1_OyQ9TC2EQH"
      }
    },
    {
      "cell_type": "code",
      "source": [
        "try:\n",
        "    result = 10 / 0  # Code that might raise an exception\n",
        "except ZeroDivisionError:\n",
        "    print(\"Cannot divide by zero!\")  # Handle specific exception\n",
        "else:\n",
        "    print(\"Division successful:\", result)  # Runs if no exception\n",
        "finally:\n",
        "    print(\"Cleanup code.\")  # Always runs"
      ],
      "metadata": {
        "colab": {
          "base_uri": "https://localhost:8080/"
        },
        "id": "E0LGvpio1lGu",
        "outputId": "0755e643-c8d1-4371-ec19-3d274eb8cd6a"
      },
      "execution_count": 13,
      "outputs": [
        {
          "output_type": "stream",
          "name": "stdout",
          "text": [
            "Cannot divide by zero!\n",
            "Cleanup code.\n"
          ]
        }
      ]
    },
    {
      "cell_type": "markdown",
      "source": [
        "Question 13. Why is memory management important in Python?\n",
        "\n",
        "Memory management is important in Python because it ensures efficient use of memory resources, which is critical for program performance, stability, and scalability. Proper memory management in Python achieves several key benefits:\n",
        "*   Python's automatic memory management, using reference counting and garbage collection, frees up memory occupied by objects no longer in use, preventing memory leaks that can degrade application performance or cause crashes over time.\n",
        "*   Efficient allocation and deallocation of memory help Python programs run faster and with lower memory footprint, which is especially important when dealing with large data sets or high-load applications like web servers or data science workloads.\n",
        "*   Python abstracts away manual memory management (like malloc/free in C), so developers can focus on writing application logic without worrying about low-level memory handling, reducing bugs and development time\n",
        "*   Python can dynamically allocate memory for objects whose sizes vary at runtime (e.g., lists, dictionaries), allowing flexible programming without fixed limits on memory usage\n",
        "*   Memory management avoids fragmentation and ensures that memory is reused efficiently, keeping long-running Python applications stable without gradual resource exhaustion."
      ],
      "metadata": {
        "id": "I20cirNw2ESh"
      }
    },
    {
      "cell_type": "markdown",
      "source": [
        "Question 14.  What is the role of try and except in exception handling?\n",
        "\n",
        "In Python, the try and except blocks play key roles in exception handling:\n",
        "\n",
        "*   Try Block: It contains code that might raise an exception. It allows you to test a block of code for errors without crashing the program.\n",
        "*   Except Block: Catches and handles exceptions raised in the try block. We can specify a particular exception such as  ZeroDivisionError or use a general except to handle any exception, executing alternative code to manage the error gracefully.\n",
        "*   The below python code demonstrate the role of try and except in exception handling"
      ],
      "metadata": {
        "id": "jrGPQn5V2EVe"
      }
    },
    {
      "cell_type": "code",
      "source": [
        "try:\n",
        "    result = 10 / 0  # May raise ZeroDivisionError\n",
        "except ZeroDivisionError:\n",
        "    print(\"Error: Division by zero!\")  # Handles the specific exception"
      ],
      "metadata": {
        "colab": {
          "base_uri": "https://localhost:8080/"
        },
        "id": "65RnVzsO3cMo",
        "outputId": "81075d3b-5bb4-4b57-f2f1-fa43a5e65191"
      },
      "execution_count": 14,
      "outputs": [
        {
          "output_type": "stream",
          "name": "stdout",
          "text": [
            "Error: Division by zero!\n"
          ]
        }
      ]
    },
    {
      "cell_type": "markdown",
      "source": [
        "Question 15. How does Python's garbage collection system work?\n",
        "\n",
        "Python's garbage collection manages memory automatically using two main mechanisms:reference counting and a cyclic garbage collector\n",
        "\n",
        "Reference Counting (Primary Mechanism):\n",
        "\n",
        "*   Every Python object keeps a count of how many references point to it.\n",
        "\n",
        "*   When a new reference to the object is created (e.g., assigning it to a variable), the reference count increases.\n",
        "\n",
        "*   When a reference is deleted or goes out of scope, the reference count decreases.\n",
        "\n",
        "*   When the reference count drops to zero (no references remain), Python immediately deallocates the memory for that object.\n",
        "\n",
        "*   Reference counting is fast and straight forward but cannot detect cyclic references—groups of objects referencing each other, keeping their counts non-zero despite being unreachable outside the cycle.\n",
        "\n",
        "Generational Garbage Collection (Cycle Detection):\n",
        "\n",
        "*   To handle cycles, Python also implements a generational garbage collector as part of the gc module.\n",
        "\n",
        "*   It groups objects into three generations based on their lifespan: younger objects are collected more frequently than older ones, as most objects die young.\n",
        "\n",
        "*   The collector periodically scans objects to find unreachable cycles that reference counting alone cannot free.\n",
        "\n",
        "*   It uses algorithms like Mark and Sweep to traverse and detect objects that are no longer reachable from root references in the program.\n",
        "\n",
        "*   These unreachable cyclic objects are then deallocated, freeing memory.\n",
        "\n",
        "Garbage collection in Python is triggered based on thresholds related to object allocations and deallocations to avoid constant scanning, thereby improving performance by running GC cycles periodically. Additionally, the gc module offers manual control, allowing programmers to force collection with gc.collect(), enable or disable the collector, and adjust the thresholds as needed.\n",
        "\n",
        "The below python code demonstrate the python's garbage collection system flow"
      ],
      "metadata": {
        "id": "SWG3tO7Q2EYi"
      }
    },
    {
      "cell_type": "code",
      "source": [
        "import gc\n",
        "\n",
        "x = []\n",
        "x.append(x)  # create circular reference\n",
        "del x       # remove external reference\n",
        "\n",
        "collected = gc.collect()\n",
        "print(f\"Garbage collector: collected {collected} objects.\")\n"
      ],
      "metadata": {
        "colab": {
          "base_uri": "https://localhost:8080/"
        },
        "id": "lRtiCYFK5qUv",
        "outputId": "03312599-cb80-4dca-b5b0-61cc75e7fb90"
      },
      "execution_count": 15,
      "outputs": [
        {
          "output_type": "stream",
          "name": "stdout",
          "text": [
            "Garbage collector: collected 216 objects.\n"
          ]
        }
      ]
    },
    {
      "cell_type": "markdown",
      "source": [
        "Question 16.  What is the purpose of the else block in exception handling?\n",
        "\n",
        "\n",
        "*   The else block in Python exception handling runs only if the code in the try block did not raise any exceptions.\n",
        "*   It is used to place code that should execute when the try block succeeds, helping keep the try block focused on code that might fail and avoiding accidentally catching exceptions from code that shouldn't be inside try. This separation also improves readability and intent clarity.\n",
        "*   The below python code demonstrate the purpose of else block in exception handling."
      ],
      "metadata": {
        "id": "Pga3KPi82Ebm"
      }
    },
    {
      "cell_type": "code",
      "source": [
        "try:\n",
        "    result = 10 / 2  # might raise exception\n",
        "except ZeroDivisionError:\n",
        "    print(\"Cannot divide by zero\")\n",
        "else:\n",
        "    print(f\"Result is {result}\")  # runs only if no exception"
      ],
      "metadata": {
        "colab": {
          "base_uri": "https://localhost:8080/"
        },
        "id": "2ykzpEIx6_vq",
        "outputId": "a0f9410c-9ffd-4830-e933-9de59e501807"
      },
      "execution_count": 17,
      "outputs": [
        {
          "output_type": "stream",
          "name": "stdout",
          "text": [
            "Result is 5.0\n"
          ]
        }
      ]
    },
    {
      "cell_type": "markdown",
      "source": [
        "Question 17. What are the common logging levels in Python?\n",
        "\n",
        "\n",
        "The common logging levels in Python, from lowest to highest severity, are as follow:\n",
        "\n",
        "*   NOTSET (0): Default level, means no specific level is set and logger passes messages to parent.\n",
        "\n",
        "*   DEBUG (10): Detailed information, typically useful only for diagnosing problems during development.\n",
        "\n",
        "*   INFO (20): Confirmation that things are working as expected, general operational messages.\n",
        "\n",
        "*   WARNING (30): An indication of potential issues or important situations that are not errors but might require attention.\n",
        "\n",
        "*   ERROR (40): Serious problems that caused some part of the program to fail.\n",
        "\n",
        "*   CRITICAL (50): Very severe errors indicating the program may be unable to continue running.\n",
        "\n",
        "These levels help filter log messages based on importance and control what gets output depending on the environment or debugging needs.\n",
        "\n",
        "The below python code deonstrate the levels in logging."
      ],
      "metadata": {
        "id": "cuY3F6f12EeQ"
      }
    },
    {
      "cell_type": "code",
      "source": [
        "import logging\n",
        "\n",
        "logging.basicConfig(level=logging.DEBUG,\n",
        "                    format='%(levelname)s:%(name)s:%(message)s')\n",
        "\n",
        "# Explicitly set root logger level\n",
        "logging.getLogger().setLevel(logging.DEBUG)\n",
        "\n",
        "logging.debug(\"Debugging details\")\n",
        "logging.info(\"App started\")\n",
        "logging.warning(\"Low disk space\")\n",
        "logging.error(\"File not found\")\n",
        "logging.critical(\"System crash\")"
      ],
      "metadata": {
        "colab": {
          "base_uri": "https://localhost:8080/"
        },
        "id": "260q_H_y73C5",
        "outputId": "5ba98c56-ed77-4a74-9bfd-e31e6be747b4"
      },
      "execution_count": 20,
      "outputs": [
        {
          "output_type": "stream",
          "name": "stderr",
          "text": [
            "DEBUG:root:Debugging details\n",
            "INFO:root:App started\n",
            "WARNING:root:Low disk space\n",
            "ERROR:root:File not found\n",
            "CRITICAL:root:System crash\n"
          ]
        }
      ]
    },
    {
      "cell_type": "markdown",
      "source": [
        "Question 18.  What is the difference between os.fork() and multiprocessing in Python?\n",
        "\n",
        "\n",
        "*   os.fork() is a low-level system call available only on Unix-like systems that creates a new process by duplicating (forking) the current process. While multiprocessing module provides a higher-level API to create processes.\n",
        "*   os.fork() creates a child process that is a copy of the parent, sharing the same memory initially. While multiprocessing module creates independent processes with separate memory spaces.\n",
        "*   os.fork() work only on Unix-like systems and not available on windows. While multiprocessing module work for cross-platform such as Unix and windows.\n",
        "*   os.fork() is suitable for simple process creation in Unix environments, often for low-level system programming. While multiprocessing module is ideal for CPU-bound tasks such as parallel computation due to bypassing Python's Global Interpreter Lock (GIL).\n",
        "*   The below python code both code cells demonstrate the difference between os.fork() and multiprocessing."
      ],
      "metadata": {
        "id": "URfdKr8d2EhB"
      }
    },
    {
      "cell_type": "code",
      "source": [
        "# os.fork:\n",
        "\n",
        "print(\"We are using os.fork()\")\n",
        "\n",
        "import os\n",
        "\n",
        "pid = os.fork()\n",
        "if pid == 0:\n",
        "    print(\"Child process\")\n",
        "else:\n",
        "    print(f\"Parent process, child PID: {pid}\")"
      ],
      "metadata": {
        "colab": {
          "base_uri": "https://localhost:8080/"
        },
        "id": "czuqNnug-903",
        "outputId": "11e3c58a-6890-4996-9ed7-477cdb71933b"
      },
      "execution_count": 24,
      "outputs": [
        {
          "output_type": "stream",
          "name": "stdout",
          "text": [
            "We are using os.fork()\n",
            "Parent process, child PID: 38919\n",
            "We are using os.fork()\n",
            "Child process\n"
          ]
        }
      ]
    },
    {
      "cell_type": "code",
      "source": [
        "# Multiprocessing\n",
        "print(\"We are using multiprocessing\")\n",
        "\n",
        "from multiprocessing import Process\n",
        "\n",
        "def worker():\n",
        "    print(\"Worker process\")\n",
        "\n",
        "if __name__ == \"__main__\":\n",
        "    p = Process(target=worker)\n",
        "    p.start()\n",
        "    p.join()\n",
        "    print(\"Main process\")"
      ],
      "metadata": {
        "colab": {
          "base_uri": "https://localhost:8080/"
        },
        "id": "pXN7Sa_qAA4F",
        "outputId": "dfc26c89-caa3-4623-cbd7-c1002ef8d536"
      },
      "execution_count": 26,
      "outputs": [
        {
          "output_type": "stream",
          "name": "stdout",
          "text": [
            "We are using multiprocessing\n",
            "Worker process\n",
            "Main process\n"
          ]
        }
      ]
    },
    {
      "cell_type": "markdown",
      "source": [
        "Question 19. What is the importance of closing a file in Python?\n",
        "\n",
        "\n",
        "*   Closing a file in Python is important because it ensures that all data is properly written and saved to disk by flushing the internal buffer, which might otherwise delay writing or risk data loss if the file remains open.\n",
        "*    It also frees up system resources, as open files consume limited OS file handles; not closing files can lead to exhausting these resources and cause difficult-to-debug errors.\n",
        "*   closing files helps prevent file corruption, data inconsistencies, and resource leaks, ensuring your program runs efficiently and reliably\n",
        "*   Closing a file with file.close() or using a with statement frees these resources, preventing resource leaks that could exhaust system limits.\n",
        "*   The below python code demonstrate the importance of closing a file in python."
      ],
      "metadata": {
        "id": "KEP-HzX62Ejs"
      }
    },
    {
      "cell_type": "code",
      "source": [
        "# Preferred: Using 'with' as it automatically closes the file\n",
        "with open('file.txt', 'w') as f:\n",
        "    f.write('Hello')\n",
        "\n",
        "# Manual: Requires explicit close\n",
        "f = open('file.txt', 'w')\n",
        "f.write('Hello')\n",
        "f.close()  # Must close to free resources"
      ],
      "metadata": {
        "id": "XJUTJNykBJYg"
      },
      "execution_count": 30,
      "outputs": []
    },
    {
      "cell_type": "markdown",
      "source": [
        "Question 20.  What is the difference between file.read() and file.readline() in Python?\n",
        "\n",
        "\n",
        "The difference between file.read() and file.readline() in Python is:\n",
        "\n",
        "*   file.read() reads the entire contents of the file or a specified number of characters at once and returns it as a single string.file.readline() reads only the next single line from the file and returns it as a string, including the newline character.\n",
        "\n",
        "*   Using file.read() is simple and convenient but can consume a lot of memory if the file is large. Using file.readline() moves the file pointer forward by one line each time it is called, allowing you to read a file line by line efficiently, which is useful for processing large files without loading everything into memory.\n",
        "*   Thus read() loads full content at once, while readline() reads one line at a time. The below python code demonstrate the difference between file.read() and file.readline() in python."
      ],
      "metadata": {
        "id": "3fieNW-d2EmW"
      }
    },
    {
      "cell_type": "code",
      "source": [
        "with open('example.txt', 'r') as file:\n",
        "    # Using read()\n",
        "    content = file.read()  # Reads entire file\n",
        "    print(\"read()\\t:\", content)\n",
        "\n",
        "    # Reset file pointer\n",
        "    file.seek(0)\n",
        "\n",
        "    # Using readline()\n",
        "    line = file.readline()  # Reads one line\n",
        "    print(\"readline():\", line)"
      ],
      "metadata": {
        "colab": {
          "base_uri": "https://localhost:8080/"
        },
        "id": "bOEgptQ1CKze",
        "outputId": "9f3365bd-cf05-4f7d-92a9-3c4a4e3579ae"
      },
      "execution_count": 41,
      "outputs": [
        {
          "output_type": "stream",
          "name": "stdout",
          "text": [
            "read()\t: This is some text in file\n",
            "This is some more text in file\n",
            "readline(): This is some text in file\n",
            "\n"
          ]
        }
      ]
    },
    {
      "cell_type": "markdown",
      "source": [
        "Question 21. What is the logging module in Python used for?\n",
        "\n",
        "\n",
        "*   The logging module in Python is a built-in facility used to track and record events that occur during the execution of a program.\n",
        "*   It helps developers capture valuable information such as error messages, runtime events, and operational details to support debugging, troubleshooting, performance monitoring, and auditing\n",
        "*   The logging module allows flexible and configurable logging with multiple levels of severity (DEBUG, INFO, WARNING, ERROR, CRITICAL), and supports directing log messages to various destinations like the console, files, or external systems.\n",
        "*   It also provides components like loggers which generate logs, handlers which send logs to destinations, filters which control which logs are processed, and formatters which define log message layouts.\n",
        "*   The below python code demonstrate the use of logging module in python"
      ],
      "metadata": {
        "id": "neza8m2S2Eo_"
      }
    },
    {
      "cell_type": "code",
      "source": [
        "import logging\n",
        "\n",
        "# Configure logging\n",
        "logging.basicConfig(level=logging.INFO, filename='app.log', format='%(asctime)s - %(levelname)s - %(message)s')\n",
        "\n",
        "logging.info(\"Application started\")\n",
        "logging.warning(\"Low memory detected\")\n",
        "logging.error(\"Failed to open file\")"
      ],
      "metadata": {
        "colab": {
          "base_uri": "https://localhost:8080/"
        },
        "id": "QoFkoYtdE0jS",
        "outputId": "a70fc40f-16ab-46e3-f03b-0c966d561f59"
      },
      "execution_count": 42,
      "outputs": [
        {
          "output_type": "stream",
          "name": "stderr",
          "text": [
            "INFO:root:Application started\n",
            "WARNING:root:Low memory detected\n",
            "ERROR:root:Failed to open file\n"
          ]
        }
      ]
    },
    {
      "cell_type": "markdown",
      "source": [
        "Question 22.  What is the os module in Python used for in file handling?\n",
        "\n",
        "\n",
        "*   The os module in Python is used for performing low-level file handling and file system operations that interact directly with the operating system.\n",
        "*   os module open files at a lower level using file descriptors such as os.open(), allowing control over file access modes, unlike the built-in open() function which returns file objects.\n",
        "*   os module read from and write to files using file descriptors with os.read(), os.write() respectively and closes files explicitly with os.close().\n",
        "*   os module in python manages files and directories by renaming (os.rename()), removing files (os.remove()), creating directories (os.mkdir()), changing the current working directory (os.chdir()), listing directory contents (os.listdir()), and deleting directories (os.rmdir()). It helps to access and modify file metadata and permissions as os.chmod().\n",
        "*   The python code demonstrate the use of os module in python."
      ],
      "metadata": {
        "id": "iESG4p3P2Ero"
      }
    },
    {
      "cell_type": "code",
      "source": [
        "import os\n",
        "\n",
        "# Create a directory\n",
        "os.makedirs(\"my_folder\", exist_ok=True)\n",
        "\n",
        "# Create and write to a file\n",
        "file_path = os.path.join(\"my_folder\", \"example.txt\")\n",
        "with open(file_path, \"w\") as f:\n",
        "    f.write(\"Hello, os module!\")\n",
        "\n",
        "# Check if file exists and get its size\n",
        "if os.path.exists(file_path):\n",
        "    print(f\"File size: {os.path.getsize(file_path)} bytes\")\n",
        "\n",
        "# Rename the file\n",
        "os.rename(file_path, os.path.join(\"my_folder\", \"new_example.txt\"))\n",
        "\n",
        "# List directory contents\n",
        "print(\"Directory contents:\", os.listdir(\"my_folder\"))\n",
        "\n",
        "# Remove the file\n",
        "os.remove(os.path.join(\"my_folder\", \"new_example.txt\"))"
      ],
      "metadata": {
        "colab": {
          "base_uri": "https://localhost:8080/"
        },
        "id": "Bb3nIwFWF7GS",
        "outputId": "2ce33d2c-fcc5-4772-efb5-158d6403f11d"
      },
      "execution_count": 43,
      "outputs": [
        {
          "output_type": "stream",
          "name": "stdout",
          "text": [
            "File size: 17 bytes\n",
            "Directory contents: ['new_example.txt']\n"
          ]
        }
      ]
    },
    {
      "cell_type": "markdown",
      "source": [
        "Question 23. What are the challenges associated with memory management in Python?\n",
        "\n",
        "The main challenges associated with memory management in Python include:\n",
        "\n",
        "*   Python's primary memory management uses reference counting, which fails to clean up objects involved in circular references (cycles). Although Python's garbage collector detects cycles, complex or hidden reference cycles can cause unexpected memory leaks that degrade performance or cause long-running applications to grow in memory usage.\n",
        "\n",
        "*   Lingering large objects, or data structures such as dictionaries or lists that grow without limits, create excessive memory usage and can lead to memory bloat. Without proper limits or cleanup, this can harm application stability and scalability.\n",
        "\n",
        "*   The garbage collector runs periodically and can cause performance slowdowns (GC pauses), especially in memory-intensive or real-time applications. Tuning GC thresholds or manually controlling collection is sometimes necessary but adds complexity.\n",
        "\n",
        "*   Unlike languages such as C or C++, Python abstracts memory management, offering less control over allocation and deallocation. This reduces programming complexity but can be a challenge when fine-tuning memory usage or optimizing performance for demanding workloads.\n",
        "\n",
        "*   Some Python libraries, especially complex ones like pandas, can introduce memory leaks or inefficient memory usage, making diagnosis and troubleshooting harder for developers.\n",
        "\n",
        "*   Memory issues can be subtle, requiring specialized tools such as tracemalloc, pympler, or Application Performance Monitoring tools to monitor, profile, and debug memory usage effectively.\n",
        "*   The below python code demonstrates tracking a memory leak caused by a circular reference using tracemalloc and resolving it with gc.collect()."
      ],
      "metadata": {
        "id": "8GHR3S3_2Et_"
      }
    },
    {
      "cell_type": "code",
      "source": [
        "import gc\n",
        "import tracemalloc\n",
        "\n",
        "tracemalloc.start()  # Start tracking memory\n",
        "x = []  # Create circular reference\n",
        "x.append(x)\n",
        "del x  # Won't free memory due to cycle\n",
        "print(\"Memory snapshot:\", tracemalloc.take_snapshot().statistics('lineno'))\n",
        "gc.collect()  # Manually collect cycle\n",
        "print(\"After GC:\", tracemalloc.take_snapshot().statistics('lineno'))"
      ],
      "metadata": {
        "colab": {
          "base_uri": "https://localhost:8080/"
        },
        "id": "amT6S1VbHakp",
        "outputId": "6c777281-ebd8-4de6-b45f-ff0ebb80dc92"
      },
      "execution_count": 44,
      "outputs": [
        {
          "output_type": "stream",
          "name": "stdout",
          "text": [
            "Memory snapshot: [<Statistic traceback=<Traceback (<Frame filename='/usr/local/lib/python3.11/dist-packages/IPython/core/interactiveshell.py' lineno=3358>,)> size=351 count=2>, <Statistic traceback=<Traceback (<Frame filename='/usr/local/lib/python3.11/dist-packages/IPython/core/interactiveshell.py' lineno=3473>,)> size=320 count=1>, <Statistic traceback=<Traceback (<Frame filename='/usr/local/lib/python3.11/dist-packages/IPython/core/interactiveshell.py' lineno=3553>,)> size=152 count=1>, <Statistic traceback=<Traceback (<Frame filename='/usr/lib/python3.11/codeop.py' lineno=125>,)> size=91 count=1>, <Statistic traceback=<Traceback (<Frame filename='/usr/local/lib/python3.11/dist-packages/IPython/core/interactiveshell.py' lineno=3537>,)> size=64 count=1>, <Statistic traceback=<Traceback (<Frame filename='/usr/local/lib/python3.11/dist-packages/IPython/core/interactiveshell.py' lineno=3466>,)> size=56 count=2>, <Statistic traceback=<Traceback (<Frame filename='/usr/local/lib/python3.11/dist-packages/IPython/core/compilerop.py' lineno=178>,)> size=32 count=1>, <Statistic traceback=<Traceback (<Frame filename='/tmp/ipython-input-551483456.py' lineno=6>,)> size=32 count=1>]\n",
            "After GC: [<Statistic traceback=<Traceback (<Frame filename='/usr/local/lib/python3.11/dist-packages/google/colab/_variable_inspector.py' lineno=28>,)> size=3264 count=1>, <Statistic traceback=<Traceback (<Frame filename='/usr/lib/python3.11/codeop.py' lineno=125>,)> size=1786 count=26>, <Statistic traceback=<Traceback (<Frame filename='/tmp/ipython-input-551483456.py' lineno=8>,)> size=1221 count=1>, <Statistic traceback=<Traceback (<Frame filename='/usr/local/lib/python3.11/dist-packages/IPython/core/interactiveshell.py' lineno=3358>,)> size=351 count=2>, <Statistic traceback=<Traceback (<Frame filename='/usr/local/lib/python3.11/dist-packages/IPython/core/interactiveshell.py' lineno=3468>,)> size=344 count=6>, <Statistic traceback=<Traceback (<Frame filename='/usr/local/lib/python3.11/dist-packages/IPython/core/interactiveshell.py' lineno=3473>,)> size=320 count=1>, <Statistic traceback=<Traceback (<Frame filename='/usr/local/lib/python3.11/dist-packages/IPython/core/interactiveshell.py' lineno=3553>,)> size=152 count=1>, <Statistic traceback=<Traceback (<Frame filename='/usr/lib/python3.11/asyncio/base_events.py' lineno=745>,)> size=112 count=1>, <Statistic traceback=<Traceback (<Frame filename='/usr/lib/python3.11/threading.py' lineno=320>,)> size=88 count=2>, <Statistic traceback=<Traceback (<Frame filename='/usr/local/lib/python3.11/dist-packages/tornado/platform/asyncio.py' lineno=219>,)> size=80 count=1>, <Statistic traceback=<Traceback (<Frame filename='/usr/local/lib/python3.11/dist-packages/tornado/platform/asyncio.py' lineno=218>,)> size=64 count=1>, <Statistic traceback=<Traceback (<Frame filename='/usr/local/lib/python3.11/dist-packages/ipykernel/iostream.py' lineno=467>,)> size=64 count=1>, <Statistic traceback=<Traceback (<Frame filename='/usr/local/lib/python3.11/dist-packages/IPython/core/interactiveshell.py' lineno=3537>,)> size=64 count=1>, <Statistic traceback=<Traceback (<Frame filename='/usr/local/lib/python3.11/dist-packages/IPython/core/hooks.py' lineno=113>,)> size=64 count=1>, <Statistic traceback=<Traceback (<Frame filename='/usr/lib/python3.11/threading.py' lineno=626>,)> size=64 count=1>, <Statistic traceback=<Traceback (<Frame filename='/usr/lib/python3.11/dis.py' lineno=645>,)> size=64 count=1>, <Statistic traceback=<Traceback (<Frame filename='/usr/local/lib/python3.11/dist-packages/zmq/sugar/attrsettr.py' lineno=45>,)> size=55 count=1>, <Statistic traceback=<Traceback (<Frame filename='/usr/lib/python3.11/selectors.py' lineno=468>,)> size=36 count=1>, <Statistic traceback=<Traceback (<Frame filename='/usr/local/lib/python3.11/dist-packages/ipykernel/iostream.py' lineno=553>,)> size=32 count=1>, <Statistic traceback=<Traceback (<Frame filename='/usr/local/lib/python3.11/dist-packages/IPython/core/compilerop.py' lineno=178>,)> size=32 count=1>, <Statistic traceback=<Traceback (<Frame filename='/usr/lib/python3.11/asyncio/base_events.py' lineno=748>,)> size=32 count=1>]\n"
          ]
        }
      ]
    },
    {
      "cell_type": "markdown",
      "source": [
        "Question 24. How do you raise an exception manually in Python?\n",
        "\n",
        "\n",
        "*   In Python, you can raise an exception manually using the raise statement, followed by an exception type or an instance of an exception class.\n",
        "*   This interrupts the normal flow of the program and signals an error condition.\n",
        "*   We can raise built-in exceptions such as ValueError, TypeError or create custom exceptions by subclassing Exception.\n",
        "*   The below python code demonstrate that how we can raise exceptions manually in python."
      ],
      "metadata": {
        "id": "OOne_ozI2ExO"
      }
    },
    {
      "cell_type": "code",
      "source": [
        "# Raising exception using built-in exception\n",
        "\n",
        "def divide(a, b):\n",
        "    if b == 0:\n",
        "        raise ValueError(\"Cannot divide by zero\")\n",
        "    return a / b\n",
        "\n",
        "try:\n",
        "    result = divide(10, 0)\n",
        "except ValueError as e:\n",
        "    print(e)  # Output: Cannot divide by zero\n",
        "\n",
        "\n",
        "# Raising a custom exception\n",
        "\n",
        "class MyCustomError(Exception):\n",
        "    pass\n",
        "\n",
        "def risky_function():\n",
        "    raise MyCustomError(\"Something went wrong\")\n",
        "\n",
        "try:\n",
        "    risky_function()\n",
        "except MyCustomError as e:\n",
        "    print(e)  # Output: Something went wrong"
      ],
      "metadata": {
        "colab": {
          "base_uri": "https://localhost:8080/"
        },
        "id": "9v5LbXIMIRWj",
        "outputId": "f185555a-b6f1-4d2b-c039-3f2ec3c70f28"
      },
      "execution_count": 45,
      "outputs": [
        {
          "output_type": "stream",
          "name": "stdout",
          "text": [
            "Cannot divide by zero\n",
            "Something went wrong\n"
          ]
        }
      ]
    },
    {
      "cell_type": "markdown",
      "source": [
        "Question 25.  Why is it important to use multithreading in certain applications?\n",
        "\n",
        "\n",
        "*   Using multithreading in certain applications is important because it improves performance, responsiveness, and scalability by allowing multiple threads to run concurrently within the same process.\n",
        "*   This is especially beneficial for I/O-bound tasks such as file operations, network requests, or user input, where threads can work while others are waiting, making the program more efficient and faster overall.\n",
        "*   Multithreading enhances the ability to handle multiple user requests simultaneously in cases such as web servers, it also keeps graphical user interfaces responsive during background tasks, and enables real-time processing with minimal delays.\n",
        "*   Multithreading helps optimize resource usage, making applications more scalable as the load grows.\n",
        "*   The below python code demonstrates multithreading for I/O-bound tasks, fetching data concurrently to improve responsiveness."
      ],
      "metadata": {
        "id": "2T9jFlA12E0Q"
      }
    },
    {
      "cell_type": "code",
      "source": [
        "import threading\n",
        "import time\n",
        "\n",
        "def fetch_data(url):\n",
        "    time.sleep(1)  # Simulate I/O delay\n",
        "    print(f\"Fetched {url}\")\n",
        "\n",
        "# Create and start threads for concurrent I/O tasks\n",
        "threads = [threading.Thread(target=fetch_data, args=(f\"URL{i}\",)) for i in range(3)]\n",
        "for t in threads:\n",
        "    t.start()\n",
        "for t in threads:\n",
        "    t.join()"
      ],
      "metadata": {
        "colab": {
          "base_uri": "https://localhost:8080/"
        },
        "id": "_Z35GQPQJ0i1",
        "outputId": "7b342a01-3d15-43e0-aeca-34abc46098e8"
      },
      "execution_count": 46,
      "outputs": [
        {
          "output_type": "stream",
          "name": "stdout",
          "text": [
            "Fetched URL0\n",
            "Fetched URL1\n",
            "Fetched URL2\n"
          ]
        }
      ]
    },
    {
      "cell_type": "markdown",
      "source": [
        "# Practical Questions"
      ],
      "metadata": {
        "id": "98JSutk72E3M"
      }
    },
    {
      "cell_type": "markdown",
      "source": [
        "Question 1.  How can you open a file for writing in Python and write a string to it?"
      ],
      "metadata": {
        "id": "4rDiaMfa2E5_"
      }
    },
    {
      "cell_type": "code",
      "source": [
        "# lets open a file named \"text_content.txt\" to write a string in it\n",
        "\n",
        "with open(\"text_content.txt\", \"w\") as file:\n",
        "  file.write(\"I am writing some content to this file\")  #using this way of opening file using with\n",
        "                                                     #statement also closes the file after block exited"
      ],
      "metadata": {
        "id": "2ZFDNU3GLTx9"
      },
      "execution_count": 49,
      "outputs": []
    },
    {
      "cell_type": "markdown",
      "source": [
        "Question 2. Write a Python program to read the contents of a file and print each line"
      ],
      "metadata": {
        "id": "5-5i4b-N2E81"
      }
    },
    {
      "cell_type": "code",
      "source": [
        "# Lets open and read a file example.txt and use read() function to read it line by line\n",
        "\n",
        "with open(\"example.txt\", \"r\") as file:\n",
        "  file_content = file.read()      #read() function reads the file line by line\n",
        "  print(file_content)"
      ],
      "metadata": {
        "colab": {
          "base_uri": "https://localhost:8080/"
        },
        "id": "UIUEkSV7MBC7",
        "outputId": "7ad1d516-e149-424e-9006-ccc7f3f9067a"
      },
      "execution_count": 51,
      "outputs": [
        {
          "output_type": "stream",
          "name": "stdout",
          "text": [
            "This is some text in file\n",
            "This is some more text in file\n"
          ]
        }
      ]
    },
    {
      "cell_type": "markdown",
      "source": [
        "Question 3.  How would you handle a case where the file doesn't exist while trying to open it for reading?"
      ],
      "metadata": {
        "id": "F1bn3aZn2E_m"
      }
    },
    {
      "cell_type": "code",
      "source": [
        "# Here if file doesn't exists we would need to use try and except block to handle the exception if\n",
        "# file doesn't exists\n",
        "\n",
        "try:\n",
        "  with open(\"no_file.txt\", \"r\") as file:\n",
        "    file_text = file.read()\n",
        "    print(file_text)\n",
        "except Exception as e:\n",
        "  print(\"The file could not found: \", e)"
      ],
      "metadata": {
        "colab": {
          "base_uri": "https://localhost:8080/"
        },
        "id": "1GUk7WxHMlNr",
        "outputId": "fc615c4f-ce7b-4d63-f41e-1ae501b0ec7a"
      },
      "execution_count": 53,
      "outputs": [
        {
          "output_type": "stream",
          "name": "stdout",
          "text": [
            "The file could not found:  [Errno 2] No such file or directory: 'no_file.txt'\n"
          ]
        }
      ]
    },
    {
      "cell_type": "markdown",
      "source": [
        "Question 4. Write a Python script that reads from one file and writes its content to another file."
      ],
      "metadata": {
        "id": "ysxaFo7x2FCD"
      }
    },
    {
      "cell_type": "code",
      "source": [
        "# Lets first read the content of example.txt file and then write it to another file example1.txt\n",
        "\n",
        "print(\"reading content of first file\")\n",
        "\n",
        "try:\n",
        "    with open(\"example.txt\", \"r\") as file:\n",
        "        file_text = file.read()\n",
        "        print(file_text)\n",
        "\n",
        "except FileNotFoundError:\n",
        "    print(\"Error: 'example.txt' does not exist.\")\n",
        "    file_text = \"\"\n",
        "\n",
        "\n",
        "if file_text:\n",
        "    print(\"writing the content of first file to another file\")\n",
        "    with open(\"example1.txt\", \"w\") as file1:\n",
        "        file1.write(file_text)\n",
        "\n",
        "    print(\"showing the content of first file which is written to another file\")\n",
        "    with open(\"example1.txt\", \"r\") as file1:\n",
        "        file1_text = file1.read()\n",
        "        print(file1_text)\n"
      ],
      "metadata": {
        "colab": {
          "base_uri": "https://localhost:8080/"
        },
        "id": "V1udozawNkhA",
        "outputId": "493c8eed-9552-4fd2-bc7f-119d2638b4be"
      },
      "execution_count": 59,
      "outputs": [
        {
          "output_type": "stream",
          "name": "stdout",
          "text": [
            "reading content of first file\n",
            "This is some text in file\n",
            "This is some more text in file\n",
            "writing the content of first file to another file\n",
            "showing the content of first file which is written to another file\n",
            "This is some text in file\n",
            "This is some more text in file\n"
          ]
        }
      ]
    },
    {
      "cell_type": "markdown",
      "source": [
        "Question 5. How would you catch and handle division by zero error in Python?"
      ],
      "metadata": {
        "id": "uJfvS-hu2FEu"
      }
    },
    {
      "cell_type": "code",
      "source": [
        "# Lets write a program where the code computes the division of integers, but if somehow there is\n",
        "# an attempt to divide using 0, this should be catched and handled as an exception\n",
        "\n",
        "try:\n",
        "  10/0\n",
        "\n",
        "except ZeroDivisionError as e:\n",
        "  print(\"Error: Cannot divide by zero indicated by an exception statement\", e)\n",
        "else:\n",
        "    print(f\"Result is {result}\")"
      ],
      "metadata": {
        "colab": {
          "base_uri": "https://localhost:8080/"
        },
        "id": "omnH4HblPcOz",
        "outputId": "5c514e77-375d-447e-fd92-05cd0c10174a"
      },
      "execution_count": 74,
      "outputs": [
        {
          "output_type": "stream",
          "name": "stdout",
          "text": [
            "Error: Cannot divide by zero indicated by an exception statement division by zero\n"
          ]
        }
      ]
    },
    {
      "cell_type": "markdown",
      "source": [
        "Question 6.  Write a Python program that logs an error message to a log file when a division by zero exception occurs."
      ],
      "metadata": {
        "id": "3y2MUOai2FHt"
      }
    },
    {
      "cell_type": "code",
      "source": [
        "import logging\n",
        "\n",
        "# Configure logging to write to a file\n",
        "logging.basicConfig(\n",
        "    level=logging.ERROR,\n",
        "    filename='error.log',\n",
        "    format='%(asctime)s - %(levelname)s - %(message)s',\n",
        "    filemode = \"w\",\n",
        "    force = True\n",
        ")\n",
        "\n",
        "try:\n",
        "    result = 10 / 0  # Attempt division by zero\n",
        "except ZeroDivisionError as e:\n",
        "    logging.error(f\"Division by zero occurred: {e}\")\n",
        "else:\n",
        "    print(f\"Result: {result}\")\n",
        "\n",
        "\n",
        "\n",
        "\n",
        "\"\"\"\n",
        "output in file:\n",
        "\n",
        "2025-07-31 16:47:38,010 - ERROR - Division by zero occurred: division by zero\n",
        "\n",
        "\"\"\""
      ],
      "metadata": {
        "id": "-ViVNS9kQi0-"
      },
      "execution_count": 76,
      "outputs": []
    },
    {
      "cell_type": "markdown",
      "source": [
        "Question 7.  How do you log information at different levels (INFO, ERROR, WARNING) in Python using the logging module?\n",
        "\n",
        "*   To log messages at different levels (INFO, ERROR, WARNING) using Python's logging module, you first configure the logging system with the desired level and format, and then use the corresponding logging methods (logging.info(), logging.error(), logging.warning()) to log messages at those levels."
      ],
      "metadata": {
        "id": "jOR8U7G62FKg"
      }
    },
    {
      "cell_type": "code",
      "source": [
        "import logging\n",
        "\n",
        "# Configure logging to write to a file and console\n",
        "logging.basicConfig(\n",
        "    level=logging.DEBUG,  # Capture all levels (DEBUG and above)\n",
        "    filename='app.log',   # Log to file\n",
        "    format='%(asctime)s - %(levelname)s - %(message)s',\n",
        "    filemode='w',          # Overwrite file each run\n",
        "    force = True\n",
        ")\n",
        "\n",
        "# Log messages at different levels\n",
        "logging.debug(\"Debugging variable: x = 42\")  # Detailed debug info\n",
        "logging.info(\"Application started successfully\")  # General info\n",
        "logging.warning(\"Low disk space detected\")  # Potential issue\n",
        "logging.error(\"Failed to open file: not found\")  # Serious error\n",
        "logging.critical(\"System crash imminent\")  # Critical failure\n",
        "\n",
        "\n",
        "\n",
        "\"\"\"\n",
        "output in file:\n",
        "\n",
        "2025-07-31 16:44:36,124 - DEBUG - Debugging variable: x = 42\n",
        "2025-07-31 16:44:36,125 - INFO - Application started successfully\n",
        "2025-07-31 16:44:36,126 - WARNING - Low disk space detected\n",
        "2025-07-31 16:44:36,126 - ERROR - Failed to open file: not found\n",
        "2025-07-31 16:44:36,139 - CRITICAL - System crash imminent\n",
        "\n",
        "\"\"\""
      ],
      "metadata": {
        "id": "dN1kU3q6XGPL"
      },
      "execution_count": 69,
      "outputs": []
    },
    {
      "cell_type": "markdown",
      "source": [
        "Question 8. Write a program to handle a file opening error using exception handling."
      ],
      "metadata": {
        "id": "v34tDjiOY6Xx"
      }
    },
    {
      "cell_type": "code",
      "source": [
        "# handling a file opening error using Exception handling\n",
        "\n",
        "try:\n",
        "    with open(\"example3.txt\", \"r\") as file:\n",
        "        contents = file.read()\n",
        "        print(\"File contents:\")\n",
        "        print(contents)\n",
        "except FileNotFoundError as e:\n",
        "    print(\"Error: The file 'example.txt' does not exist: \", e)\n",
        "except PermissionError as e:\n",
        "    print(\"Error: You do not have permission to access 'example.txt': \", e)\n",
        "except IOError as e:\n",
        "    print(f\"Error: An I/O error occurred: {e}\")"
      ],
      "metadata": {
        "colab": {
          "base_uri": "https://localhost:8080/"
        },
        "id": "PePquCfRZYNp",
        "outputId": "025cccac-4128-4185-95b0-fd11da85675f"
      },
      "execution_count": 79,
      "outputs": [
        {
          "output_type": "stream",
          "name": "stdout",
          "text": [
            "Error: The file 'example.txt' does not exist:  [Errno 2] No such file or directory: 'example3.txt'\n"
          ]
        }
      ]
    },
    {
      "cell_type": "markdown",
      "source": [
        "Question 9. How can you read a file line by line and store its content in a list in Python?"
      ],
      "metadata": {
        "id": "SOX4WQuhY6fC"
      }
    },
    {
      "cell_type": "code",
      "source": [
        "#readlines() function reads the content of file line by line and we can store it to list in python\n",
        "\n",
        "with open('example.txt', 'r') as file:\n",
        "    lines = file.readlines()\n",
        "    # strip newlines to list\n",
        "    lines = [line.strip() for line in lines]\n",
        "    print(lines)\n",
        "\n",
        "# Alternative method:\n",
        "\n",
        "# we can even read the content of file and directly strip it to list using list comprehension as below\n",
        "\n",
        "try:\n",
        "    with open('example.txt', 'r') as file:\n",
        "        lines = [line.strip() for line in file]\n",
        "    print(lines)\n",
        "except FileNotFoundError:\n",
        "    print(\"Error: File 'example.txt' not found.\")"
      ],
      "metadata": {
        "colab": {
          "base_uri": "https://localhost:8080/"
        },
        "id": "ufOw1a3dafQQ",
        "outputId": "2d11a447-a96e-4c07-84e3-fe386cb951d1"
      },
      "execution_count": 82,
      "outputs": [
        {
          "output_type": "stream",
          "name": "stdout",
          "text": [
            "['This is some text in file', 'This is some more text in file']\n",
            "['This is some text in file', 'This is some more text in file']\n"
          ]
        }
      ]
    },
    {
      "cell_type": "markdown",
      "source": [
        "Question 10. How can you append data to an existing file in Python?"
      ],
      "metadata": {
        "id": "0rUvknhhY6k_"
      }
    },
    {
      "cell_type": "code",
      "source": [
        "# We can append data to an existing file with open() function with \"a\"/append mode\n",
        "\n",
        "try:\n",
        "    with open('example.txt', 'a') as file:\n",
        "        file.write(\"This is a new line\\n\")  # Appends text\n",
        "except IOError as e:\n",
        "    print(f\"Error appending to file: {e}\")\n",
        "\n",
        "\n",
        "\"\"\"\n",
        "After appending the new data, now file content is as follow:\n",
        "\n",
        "This is some text in file\n",
        "This is some more text in file\n",
        "This is a new line\n",
        "\"\"\""
      ],
      "metadata": {
        "id": "4r4E5zwrbvXb"
      },
      "execution_count": 89,
      "outputs": []
    },
    {
      "cell_type": "markdown",
      "source": [
        "Question 11.  Write a Python program that uses a try-except block to handle an error when attempting to access a\n",
        "dictionary key that doesn't exist"
      ],
      "metadata": {
        "id": "z6FA5zvsY6pl"
      }
    },
    {
      "cell_type": "code",
      "source": [
        "# Lets create a dictionary\n",
        "\n",
        "my_dict = {\n",
        "    \"name\": \"Suraj\",\n",
        "    \"age\": 25,\n",
        "    \"city\": \"Pune\"\n",
        "}\n",
        "\n",
        "key_to_access = input(\"Enter the key you want to access: \")\n",
        "\n",
        "try:\n",
        "    value = my_dict[key_to_access]\n",
        "    print(f\"The value for '{key_to_access}' is: {value}\")\n",
        "except KeyError as e:               #catches the specific exception as KeyError for this scenario\n",
        "    print(f\"Error: The key '{key_to_access}' does not exist in the dictionary: \", e)"
      ],
      "metadata": {
        "colab": {
          "base_uri": "https://localhost:8080/"
        },
        "id": "FlhgSntXdRJg",
        "outputId": "d4a9119b-9c08-47be-d8ec-5ee66f815796"
      },
      "execution_count": 93,
      "outputs": [
        {
          "output_type": "stream",
          "name": "stdout",
          "text": [
            "Enter the key you want to access: income\n",
            "Error: The key 'income' does not exist in the dictionary:  'income'\n"
          ]
        }
      ]
    },
    {
      "cell_type": "markdown",
      "source": [
        "Question 12. Write a program that demonstrates using multiple except blocks to handle different types of exceptions."
      ],
      "metadata": {
        "id": "phw7QggKY6vP"
      }
    },
    {
      "cell_type": "code",
      "source": [
        "def divide_numbers(x, y):\n",
        "    return x / y\n",
        "\n",
        "def access_dict_key(d, key):\n",
        "    return d[key]\n",
        "\n",
        "my_dict = {\n",
        "    \"name\": \"Suraj\",\n",
        "    \"age\": 25\n",
        "}\n",
        "\n",
        "try:\n",
        "    # Attempt division\n",
        "    result = divide_numbers(10, 0)  # This will raise ZeroDivisionError\n",
        "    print(f\"Division result: {result}\")\n",
        "\n",
        "    # Attempt dictionary access\n",
        "    value = access_dict_key(my_dict, \"city\")  # This will raise KeyError\n",
        "    print(f\"Value for 'city': {value}\")\n",
        "\n",
        "except ZeroDivisionError:\n",
        "    print(\"Error: Cannot divide by zero.\")\n",
        "\n",
        "except KeyError as e:\n",
        "    print(f\"Error: The key {e} does not exist in the dictionary.\")\n",
        "\n",
        "except Exception as e:\n",
        "    # Catch any other exceptions\n",
        "    print(f\"An unexpected error occurred: {e}\")\n"
      ],
      "metadata": {
        "colab": {
          "base_uri": "https://localhost:8080/"
        },
        "id": "UUoKHyV9ePir",
        "outputId": "f5c7a3d7-bb16-4670-ae0b-5f24ecf96cf3"
      },
      "execution_count": 95,
      "outputs": [
        {
          "output_type": "stream",
          "name": "stdout",
          "text": [
            "Error: Cannot divide by zero.\n"
          ]
        }
      ]
    },
    {
      "cell_type": "markdown",
      "source": [
        "Question 13.  How would you check if a file exists before attempting to read it in Python."
      ],
      "metadata": {
        "id": "7WlWK1hyY60k"
      }
    },
    {
      "cell_type": "code",
      "source": [
        "# The below programs uses os module to check if the file exists before program tries to read it\n",
        "\n",
        "import os\n",
        "\n",
        "file_path = \"example.txt\"\n",
        "\n",
        "if os.path.isfile(file_path):\n",
        "    with open(file_path, \"r\") as file:\n",
        "        contents = file.read()\n",
        "        print(contents)\n",
        "else:\n",
        "    print(f\"The file '{file_path}' does not exist.\")\n",
        "\n",
        "\n",
        "# Lets try to give a file name which does not exists\n",
        "print(\"using file_path as a file which does not exists\")\n",
        "\n",
        "\n",
        "file_path = \"example5.txt\"\n",
        "\n",
        "if os.path.isfile(file_path):\n",
        "    with open(file_path, \"r\") as file:\n",
        "        contents = file.read()\n",
        "        print(contents)\n",
        "else:\n",
        "    print(f\"The file '{file_path}' does not exist.\")"
      ],
      "metadata": {
        "colab": {
          "base_uri": "https://localhost:8080/"
        },
        "id": "UctdQozNfiad",
        "outputId": "5c82d287-bdbb-4768-dd31-b581860a098c"
      },
      "execution_count": 100,
      "outputs": [
        {
          "output_type": "stream",
          "name": "stdout",
          "text": [
            "This is some text in file\n",
            "This is some more text in file\n",
            "This is a new line\n",
            "\n",
            "using file_path as a file which does not exists\n",
            "The file 'example5.txt' does not exist.\n"
          ]
        }
      ]
    },
    {
      "cell_type": "markdown",
      "source": [
        "Question 14.  Write a program that uses the logging module to log both informational and error messages."
      ],
      "metadata": {
        "id": "FuCtSoSKY65v"
      }
    },
    {
      "cell_type": "code",
      "source": [
        "import logging\n",
        "\n",
        "# Configure logging to write to a file and console\n",
        "logging.basicConfig(\n",
        "    level=logging.DEBUG,  # Capture DEBUG and above\n",
        "    filename='app.log',   # Log to file\n",
        "    filemode='w',         # Overwrite file each run\n",
        "    format='%(asctime)s - %(levelname)s - %(message)s',\n",
        "    force = True\n",
        ")\n",
        "\n",
        "# Add console handler for real-time output\n",
        "console_handler = logging.StreamHandler()\n",
        "console_handler.setFormatter(logging.Formatter('%(levelname)s: %(message)s'))\n",
        "logging.getLogger().addHandler(console_handler)\n",
        "\n",
        "# Example operations\n",
        "try:\n",
        "    logging.info(\"Application started\")\n",
        "    number = int(input(\"Enter a number: \"))\n",
        "    result = 100 / number\n",
        "    logging.info(f\"Division successful: 100 / {number} = {result}\")\n",
        "except ValueError as e:\n",
        "    logging.error(f\"Invalid input: {e}\")\n",
        "    print(\"Error: Please enter a valid number.\")\n",
        "except ZeroDivisionError as e:\n",
        "    logging.error(f\"Division by zero: {e}\")\n",
        "    print(\"Error: Cannot divide by zero.\")\n",
        "else:\n",
        "    print(f\"Result: {result}\")\n",
        "finally:\n",
        "    logging.info(\"Application terminated\")"
      ],
      "metadata": {
        "colab": {
          "base_uri": "https://localhost:8080/"
        },
        "id": "UQNoQUyfglBP",
        "outputId": "eead2965-57b9-427b-e8f6-b673acf149a8"
      },
      "execution_count": 103,
      "outputs": [
        {
          "output_type": "stream",
          "name": "stderr",
          "text": [
            "INFO: Application started\n"
          ]
        },
        {
          "name": "stdout",
          "output_type": "stream",
          "text": [
            "Enter a number: 0\n"
          ]
        },
        {
          "output_type": "stream",
          "name": "stderr",
          "text": [
            "ERROR: Division by zero: division by zero\n",
            "INFO: Application terminated\n"
          ]
        },
        {
          "output_type": "stream",
          "name": "stdout",
          "text": [
            "Error: Cannot divide by zero.\n"
          ]
        }
      ]
    },
    {
      "cell_type": "markdown",
      "source": [
        "Question 15. Write a Python program that prints the content of a file and handles the case when the file is empty."
      ],
      "metadata": {
        "id": "5IIqSmC2Y6_D"
      }
    },
    {
      "cell_type": "code",
      "source": [
        "import logging\n",
        "import os\n",
        "\n",
        "# Configure logging to write to a file\n",
        "logging.basicConfig(\n",
        "    level=logging.INFO,\n",
        "    filename='file_read.log',\n",
        "    format='%(asctime)s - %(levelname)s - %(message)s',\n",
        "    filemode='a'\n",
        ")\n",
        "\n",
        "try:\n",
        "    filename = 'example.txt'\n",
        "    # Check if file is empty by checking its size\n",
        "    if os.path.exists(filename) and os.path.getsize(filename) == 0:\n",
        "        logging.info(f\"File '{filename}' is empty\")\n",
        "        print(f\"Error: The file '{filename}' is empty.\")\n",
        "    else:\n",
        "        with open(filename, 'r') as file:\n",
        "            content = file.read()\n",
        "            if content:\n",
        "                logging.info(f\"Successfully read content from '{filename}'\")\n",
        "                print(\"File content:\")\n",
        "                print(content)\n",
        "            else:\n",
        "                logging.info(f\"File '{filename}' is empty\")\n",
        "                print(f\"Error: The file '{filename}' is empty.\")\n",
        "except FileNotFoundError as e:\n",
        "    logging.error(f\"File not found: {e}\")\n",
        "    print(f\"Error: The file '{filename}' does not exist.\")\n",
        "except IOError as e:\n",
        "    logging.error(f\"IO error: {e}\")\n",
        "    print(f\"Error: An I/O error occurred while reading '{filename}'.\")"
      ],
      "metadata": {
        "colab": {
          "base_uri": "https://localhost:8080/"
        },
        "id": "jEYydWtKhmc-",
        "outputId": "8a07c4f9-ac3e-44db-fd84-1e99064cdddc"
      },
      "execution_count": 104,
      "outputs": [
        {
          "output_type": "stream",
          "name": "stderr",
          "text": [
            "INFO: Successfully read content from 'example.txt'\n"
          ]
        },
        {
          "output_type": "stream",
          "name": "stdout",
          "text": [
            "File content:\n",
            "This is some text in file\n",
            "This is some more text in file\n",
            "This is a new line\n",
            "\n"
          ]
        }
      ]
    },
    {
      "cell_type": "markdown",
      "source": [
        "Question 16. Demonstrate how to use memory profiling to check the memory usage of a small program"
      ],
      "metadata": {
        "id": "8CuDLi-FY8DR"
      }
    },
    {
      "cell_type": "code",
      "source": [
        "# !pip3 install memory_profiler\n",
        "\n",
        "%load_ext memory_profiler     #Load memory_profiler extension with %load_ext memory_profiler\n",
        "\n",
        "def test_func():\n",
        "    a = [i for i in range(10000)]\n",
        "    return a\n",
        "\n",
        "%memit test_func()         #%memit function() for quick memory usage of a function.\n"
      ],
      "metadata": {
        "colab": {
          "base_uri": "https://localhost:8080/"
        },
        "id": "f-2fFkcQjCDN",
        "outputId": "99a5d357-899f-4a46-a594-d4b53b821dab"
      },
      "execution_count": 3,
      "outputs": [
        {
          "output_type": "stream",
          "name": "stdout",
          "text": [
            "peak memory: 115.28 MiB, increment: 0.54 MiB\n"
          ]
        }
      ]
    },
    {
      "cell_type": "markdown",
      "source": [
        "Question 17. Write a Python program to create and write a list of numbers to a file, one number per line."
      ],
      "metadata": {
        "id": "9n8NN58KY8I6"
      }
    },
    {
      "cell_type": "code",
      "source": [
        "numbers = [1, 2, 3, 4, 5, 6, 7, 8, 9, 10]  # Example list of numbers\n",
        "\n",
        "file_path = \"numbers.txt\"\n",
        "\n",
        "with open(file_path, \"w\") as file:\n",
        "    for number in numbers:\n",
        "        file.write(f\"{number}\\n\")  # Write each number followed by a newline\n",
        "\n",
        "print(f\"Successfully wrote {len(numbers)} numbers to '{file_path}'.\")\n"
      ],
      "metadata": {
        "colab": {
          "base_uri": "https://localhost:8080/"
        },
        "id": "SAmCEen5lvNZ",
        "outputId": "dd874dc6-1d48-4544-bd5f-02432d7ae597"
      },
      "execution_count": 5,
      "outputs": [
        {
          "output_type": "stream",
          "name": "stdout",
          "text": [
            "Successfully wrote 10 numbers to 'numbers.txt'.\n"
          ]
        }
      ]
    },
    {
      "cell_type": "markdown",
      "source": [
        "Question 18. How would you implement a basic logging setup that logs to a file with rotation after 1MB?"
      ],
      "metadata": {
        "id": "Eapt9cgQY8Qk"
      }
    },
    {
      "cell_type": "code",
      "source": [
        "import logging\n",
        "from logging.handlers import RotatingFileHandler\n",
        "\n",
        "# Create a logger object\n",
        "logger = logging.getLogger(\"my_logger\")\n",
        "logger.setLevel(logging.DEBUG)  # Set logger level to capture all messages DEBUG and above\n",
        "\n",
        "# Create a rotating file handler: maxBytes=1MB, backupCount=5 (keep 5 old log files)\n",
        "handler = RotatingFileHandler(\"app.log\", maxBytes=1*1024*1024, backupCount=5)\n",
        "\n",
        "# Create a logging format\n",
        "formatter = logging.Formatter('%(asctime)s - %(levelname)s - %(message)s')\n",
        "handler.setFormatter(formatter)\n",
        "\n",
        "# Add the handler to the logger\n",
        "logger.addHandler(handler)\n",
        "\n",
        "# Example usage: log some messages\n",
        "logger.info(\"This is an info message.\")\n",
        "logger.error(\"This is an error message.\")\n",
        "\n",
        "\n",
        "\"\"\"\n",
        "output in a app.log file:\n",
        "\n",
        "2025-07-31 18:03:08,043 - INFO - This is an info message.\n",
        "2025-07-31 18:03:08,044 - ERROR - This is an error message.\n",
        "\"\"\""
      ],
      "metadata": {
        "colab": {
          "base_uri": "https://localhost:8080/"
        },
        "id": "celEe1u5pan8",
        "outputId": "2af379ce-2979-4e84-de4a-c5d17d3804d0"
      },
      "execution_count": 6,
      "outputs": [
        {
          "output_type": "stream",
          "name": "stderr",
          "text": [
            "INFO:my_logger:This is an info message.\n",
            "ERROR:my_logger:This is an error message.\n"
          ]
        }
      ]
    },
    {
      "cell_type": "markdown",
      "source": [
        "Question 19. Write a program that handles both IndexError and KeyError using a try-except block."
      ],
      "metadata": {
        "id": "WsT8gXvjY8Up"
      }
    },
    {
      "cell_type": "code",
      "source": [
        "my_list = [10, 20, 30]\n",
        "my_dict = {\"a\": 1, \"b\": 2}\n",
        "\n",
        "try:\n",
        "    # Attempt to access a list element at an invalid index\n",
        "    index = 5\n",
        "    print(f\"Accessing my_list at index {index}: {my_list[index]}\")\n",
        "\n",
        "    # Attempt to access a dictionary value using a non-existent key\n",
        "    key = \"c\"\n",
        "    print(f\"Accessing my_dict with key '{key}': {my_dict[key]}\")\n",
        "\n",
        "except IndexError:\n",
        "    print(\"Error: List index is out of range.\")\n",
        "\n",
        "except KeyError:\n",
        "    print(\"Error: Dictionary key does not exist.\")\n"
      ],
      "metadata": {
        "colab": {
          "base_uri": "https://localhost:8080/"
        },
        "id": "gvR03u4pqSlB",
        "outputId": "a2e3037e-d847-465b-e4e7-e316c4549f51"
      },
      "execution_count": 7,
      "outputs": [
        {
          "output_type": "stream",
          "name": "stdout",
          "text": [
            "Error: List index is out of range.\n"
          ]
        }
      ]
    },
    {
      "cell_type": "markdown",
      "source": [
        "Question 20. How would you open a file and read its contents using a context manager in Python?"
      ],
      "metadata": {
        "id": "g06xXfYJY8ZH"
      }
    },
    {
      "cell_type": "code",
      "source": [
        "file_path = \"example.txt\"\n",
        "\n",
        "with open(file_path, \"r\") as file:\n",
        "    content = file.read()  # Read the entire file content\n",
        "\n",
        "print(content)\n",
        "# At this point, the file is automatically closed."
      ],
      "metadata": {
        "colab": {
          "base_uri": "https://localhost:8080/"
        },
        "id": "dprWfqDMqnYD",
        "outputId": "2355955e-6cd3-4117-dcc9-b002faf16f97"
      },
      "execution_count": 8,
      "outputs": [
        {
          "output_type": "stream",
          "name": "stdout",
          "text": [
            "This is some text in file\n",
            "This is some more text in file\n",
            "This is a new line\n",
            "\n"
          ]
        }
      ]
    },
    {
      "cell_type": "markdown",
      "source": [
        "Question 21. Write a Python program that reads a file and prints the number of occurrences of a specific word."
      ],
      "metadata": {
        "id": "TDs8OHJJY8eH"
      }
    },
    {
      "cell_type": "code",
      "source": [
        "def count_word_occurrences(file_path, word):\n",
        "    try:\n",
        "        with open(file_path, \"r\") as file:\n",
        "            content = file.read().lower()  # Convert to lowercase for case-insensitive matching\n",
        "        count = content.split().count(word.lower())\n",
        "        print(f\"The word '{word}' occurs {count} times in the file '{file_path}'.\")\n",
        "    except FileNotFoundError:\n",
        "        print(f\"Error: The file '{file_path}' does not exist.\")\n",
        "    except Exception as e:\n",
        "        print(f\"An unexpected error occurred: {e}\")\n",
        "\n",
        "# Example usage\n",
        "file_path = \"example.txt\"\n",
        "word_to_count = \"text\"\n",
        "\n",
        "count_word_occurrences(file_path, word_to_count)\n"
      ],
      "metadata": {
        "colab": {
          "base_uri": "https://localhost:8080/"
        },
        "id": "lLvDTPuLq-ib",
        "outputId": "9e5a40fc-9355-4754-d684-128a3a95ced8"
      },
      "execution_count": 10,
      "outputs": [
        {
          "output_type": "stream",
          "name": "stdout",
          "text": [
            "The word 'text' occurs 2 times in the file 'example.txt'.\n"
          ]
        }
      ]
    },
    {
      "cell_type": "markdown",
      "source": [
        "Question 22.  How can you check if a file is empty before attempting to read its contents?"
      ],
      "metadata": {
        "id": "LJJny_pFY8ik"
      }
    },
    {
      "cell_type": "code",
      "source": [
        "import os\n",
        "\n",
        "file_path = \"example.txt\"\n",
        "\n",
        "if os.path.getsize(file_path) == 0:\n",
        "    print(f\"The file '{file_path}' is empty.\")\n",
        "else:\n",
        "    with open(file_path, \"r\") as file:\n",
        "        contents = file.read()\n",
        "        print(\"File contents:\")\n",
        "        print(contents)\n"
      ],
      "metadata": {
        "colab": {
          "base_uri": "https://localhost:8080/"
        },
        "id": "oM72grV4rr5r",
        "outputId": "0684aed1-4d7d-4844-c0b4-f263190139af"
      },
      "execution_count": 11,
      "outputs": [
        {
          "output_type": "stream",
          "name": "stdout",
          "text": [
            "File contents:\n",
            "This is some text in file\n",
            "This is some more text in file\n",
            "This is a new line\n",
            "\n"
          ]
        }
      ]
    },
    {
      "cell_type": "markdown",
      "source": [
        "Question 23.  Write a Python program that writes to a log file when an error occurs during file handling."
      ],
      "metadata": {
        "id": "L1O7QMP1Y8md"
      }
    },
    {
      "cell_type": "code",
      "source": [
        "import logging\n",
        "\n",
        "# Configure logging to write to a file named 'file_errors.log'\n",
        "logging.basicConfig(\n",
        "    filename='file_errors.log',\n",
        "    level=logging.ERROR,  # Log only errors and above\n",
        "    format='%(asctime)s - %(levelname)s - %(message)s',\n",
        "    force = True\n",
        ")\n",
        "\n",
        "def read_file(file_path):\n",
        "    try:\n",
        "        with open(file_path, 'r') as file:\n",
        "            content = file.read()\n",
        "            print(\"File content:\")\n",
        "            print(content)\n",
        "    except FileNotFoundError as e:\n",
        "        logging.error(f\"File not found: {file_path} - {e}\")\n",
        "        print(f\"Error: The file '{file_path}' does not exist.\")\n",
        "    except PermissionError as e:\n",
        "        logging.error(f\"Permission denied: {file_path} - {e}\")\n",
        "        print(f\"Error: Permission denied to access '{file_path}'.\")\n",
        "    except Exception as e:\n",
        "        logging.error(f\"Unexpected error with file {file_path}: {e}\")\n",
        "        print(f\"An unexpected error occurred: {e}\")\n",
        "\n",
        "if __name__ == \"__main__\":\n",
        "    file_path = \"example3.txt\"  # Change this to your target file path\n",
        "    read_file(file_path)\n",
        "\n",
        "\n",
        "\n",
        "\"\"\"\n",
        "The error logged to file:\n",
        "\n",
        "2025-07-31 18:16:04,119 - ERROR - File not found: example3.txt - [Errno 2] No such file or directory: 'example3.txt'\n",
        "\"\"\""
      ],
      "metadata": {
        "colab": {
          "base_uri": "https://localhost:8080/"
        },
        "id": "RL1UGj2AsJJh",
        "outputId": "37225035-e41b-486f-84ec-5a86fa6bf4d4"
      },
      "execution_count": 15,
      "outputs": [
        {
          "output_type": "stream",
          "name": "stdout",
          "text": [
            "Error: The file 'example3.txt' does not exist.\n"
          ]
        }
      ]
    }
  ]
}