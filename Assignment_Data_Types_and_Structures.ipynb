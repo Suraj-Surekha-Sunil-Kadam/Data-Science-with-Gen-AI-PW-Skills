{
  "nbformat": 4,
  "nbformat_minor": 0,
  "metadata": {
    "colab": {
      "provenance": []
    },
    "kernelspec": {
      "name": "python3",
      "display_name": "Python 3"
    },
    "language_info": {
      "name": "python"
    }
  },
  "cells": [
    {
      "cell_type": "markdown",
      "source": [
        "# Data Types and Structures Questions"
      ],
      "metadata": {
        "id": "haJYDNfYbwUM"
      }
    },
    {
      "cell_type": "markdown",
      "source": [
        "Question 1. What are data structures, and why are they important?\n",
        "\n",
        "\n",
        "\n",
        "*   Data Structures in python are the containers to store the value or content or data in the memory of the computer.\n",
        "*   Data Structures are the way we store different data values on the computer's memory and thus it can be accessible for the later use.\n",
        "*   There are different data structures in python depending upon the kind of data we need to store and also depending upon the real world use cases. Data Structures optimize operations like searching, sorting, insertion, and deletion, reducing time and resource usage.\n",
        "*   Data Structures provide a structured way to store data, making it easier to manage complex datasets, such as in databases or file systems. Well-chosen data structures handle large datasets effectively, critical for applications like social media platforms or search engines."
      ],
      "metadata": {
        "id": "O9OAcwr_bxVC"
      }
    },
    {
      "cell_type": "markdown",
      "source": [
        "Question 2. Explain the difference between mutable and immutable data types with examples.\n",
        "\n",
        "\n",
        "\n",
        "*   The mutable data types can be changed after their creation, while immutable elements can't be changed once they are created.\n",
        "*   The mutable data types in python are list, set, dictionaries and immutable data types are string, tuples and forzenset. The mutable data types allows the reassignment of the previously created values for the data structure variables while, such assignment is not supported for immutable data types such as tuples, string, etc."
      ],
      "metadata": {
        "id": "PC5XLF_ebxh1"
      }
    },
    {
      "cell_type": "code",
      "source": [
        "# lets see the difference between mutable and immutable data types using below examples\n",
        "\n",
        "# List is a mutable data type\n",
        "\n",
        "list_var = [1,2,3]\n",
        "list_var[0] = 4\n",
        "print(list_var)  # we have reassigned new element at the 0th index in the list\n",
        "\n",
        "# if we try to do the same operation on string or list, it will cause an error\n",
        "\n",
        "\n",
        "# String and Tuple are immutable data types in python.\n",
        "\n",
        "str_var = 'Suraj'\n",
        "# str_var[0] = 'Y'   # It gives an error TypeError: 'str' object does not support item assignment\n",
        "# print(str_var)\n",
        "\n",
        "tuple_var = (1,2,3)\n",
        "# tuple_var[0] = 4   # It gives an error TypeError: 'tuple' object does not support item assignment\n",
        "# print(tuple_var\n",
        "\n",
        "# Lets now try to add elements in these data types\n",
        "\n",
        "list_var.append(\"5\")\n",
        "print(list_var)\n",
        "\n",
        "# Being immutable string and tuple does not support adding elements explicitly but we can replace the characters from string\n",
        "\n",
        "str_var = str_var.replace('S','Y')\n",
        "print(str_var)\n",
        "\n",
        "tuple_var = tuple_var + (4,)\n",
        "print(tuple_var)\n",
        "\n",
        "# But such modification result in a new copy of the variable preversing the original ones"
      ],
      "metadata": {
        "colab": {
          "base_uri": "https://localhost:8080/"
        },
        "id": "97izzX3Ifk9Y",
        "outputId": "befafaed-4642-4f3f-c8e0-ca4a24136308"
      },
      "execution_count": null,
      "outputs": [
        {
          "output_type": "stream",
          "name": "stdout",
          "text": [
            "[4, 2, 3]\n",
            "[4, 2, 3, '5']\n",
            "Yuraj\n",
            "(1, 2, 3, 4)\n"
          ]
        }
      ]
    },
    {
      "cell_type": "markdown",
      "source": [
        "Question 3. What are the main differences between lists and tuples in Python?\n",
        "\n",
        "\n",
        "\n",
        "*   List is mutable means it can changed after its created, while tuple is immtable data structure in python and it can't be changed after it is created.\n",
        "*   We define list using [] square bracket while () parenthesis is being used to represent tuple. list_var = [1,2,3] and tuple_var = (1,2,3).\n",
        "*   List is slightly slower compared to tuples due to their mutablity overhead, while tuple is faster because they are immutable, allowing python to optimize memory allocation and access.Lists use more memory due to dynamics resizing or modification, while tuple use less memory as its size is fixed.\n",
        "*   Lists have many bult-in methods like append(), remove(), pop(), sort(), etc. But tuples have only two methods count() and index(), due to their immutability.\n",
        "The below python code shows the examples performing different methods on list and tuple"
      ],
      "metadata": {
        "id": "rV6Q0CWgbxj3"
      }
    },
    {
      "cell_type": "code",
      "source": [
        "my_list = [3, 1, 2]\n",
        "my_tuple = (3, 1, 2,1 )\n",
        "\n",
        "my_list.append(4)\n",
        "my_list.remove(3)\n",
        "my_list.pop(0)\n",
        "my_list.sort()\n",
        "print(my_list)\n",
        "\n",
        "print(my_tuple.count(1))\n",
        "my_tuple.index(2)"
      ],
      "metadata": {
        "colab": {
          "base_uri": "https://localhost:8080/"
        },
        "id": "OuRrdkB5lxCJ",
        "outputId": "7c966ba6-90e7-4c0a-a251-8f763ce69183"
      },
      "execution_count": null,
      "outputs": [
        {
          "output_type": "stream",
          "name": "stdout",
          "text": [
            "[2, 4]\n",
            "2\n"
          ]
        },
        {
          "output_type": "execute_result",
          "data": {
            "text/plain": [
              "2"
            ]
          },
          "metadata": {},
          "execution_count": 22
        }
      ]
    },
    {
      "cell_type": "markdown",
      "source": [
        "Question 4. Describe how dictionaries store data.\n",
        "\n",
        "\n",
        "\n",
        "*   In Python, dictionaries store data as a collection of key-value pairs, providing an efficient way to map unique keys to associated values. They are implemented as hash tables under the hood, which enables fast lookups, insertions, and deletions.\n",
        "*   Dictionaries are now ordered collection with the introduction of 3.7+ python versions, being mutable collection of key-value pairs.\n",
        "*   In dictionaries, each key is unique and must be hashable, while each value can be any python object. Dictionaries use hash table to store data.and hash table is an array of buckets or slots, where each bucket can store a key-value pair or a reference to it.\n",
        "*   The below python code shows the dictionaries and different functionalities associated with them."
      ],
      "metadata": {
        "id": "WIY2MjxBbxmx"
      }
    },
    {
      "cell_type": "code",
      "source": [
        "# defining a dictionary\n",
        "\n",
        "dict_var = {'name': 'Suraj', 'address': 'wagdarwadi, purandar', 'age': 25, 'occupation' : 'Data Scientist'}\n",
        "print(dict_var)\n",
        "\n",
        "# accessing elements from dictionary\n",
        "\n",
        "dict_var['name']\n",
        "\n",
        "print(dict_var.keys())\n",
        "print(dict_var.values())\n",
        "print(dict_var.items())"
      ],
      "metadata": {
        "colab": {
          "base_uri": "https://localhost:8080/"
        },
        "id": "w7zG_K-Yo27s",
        "outputId": "6eaf624b-64b4-4f93-ad79-8834a41a5b79"
      },
      "execution_count": null,
      "outputs": [
        {
          "output_type": "stream",
          "name": "stdout",
          "text": [
            "{'name': 'Suraj', 'address': 'wagdarwadi, purandar', 'age': 25, 'occupation': 'Data Scientist'}\n",
            "dict_keys(['name', 'address', 'age', 'occupation'])\n",
            "dict_values(['Suraj', 'wagdarwadi, purandar', 25, 'Data Scientist'])\n",
            "dict_items([('name', 'Suraj'), ('address', 'wagdarwadi, purandar'), ('age', 25), ('occupation', 'Data Scientist')])\n"
          ]
        }
      ]
    },
    {
      "cell_type": "markdown",
      "source": [
        "Question 5. Why might you use a set instead of a list in Python?\n",
        "\n",
        "\n",
        "\n",
        "*   When we are collecting items where uniqueness matters (like user IDs, unique words in text, or distinct categories), instead of using list we can use set as set handles this automatically.\n",
        "*   When we are dealing with mathematical scenarios, we can use sets instead of lists, as Sets support operations like union (|), intersection (&), difference (-), and symmetric difference (^). If we need to find common elements between collections or combine them mathematically, sets are ideal.\n",
        "*   We can use sets in an scenario where we need to track the unique visitors to website. The cases where we need to make sure unique values are input for the fields, we can use sets instead of list to remove duplicates from use input."
      ],
      "metadata": {
        "id": "mg423ehqbxps"
      }
    },
    {
      "cell_type": "markdown",
      "source": [
        "Question 6. What is a string in Python, and how is it different from a list?\n",
        "\n",
        "\n",
        "\n",
        "*   A string in a python is a sequence of characters enclosed in quotes and it represents the text data. Characters arranged in an unchangeable order. Consider writing a sentence, a paragraph, or a piece of material.\n",
        "*   Each character in the string can be accessed by its index, or position. Substrings can be extracted using slicing. Strings can be joined together and altered using different suitable methods.\n",
        "*   Strings are immutable, meaning you can't change individual characters after creation. Lists are mutable, so you can modify elements.\n",
        "*   Strings specifically hold text/character data, while lists can hold any mix of data types (numbers, strings, objects, other lists, etc.).\n",
        "*   Both support indexing, but string indexing returns individual characters as strings.Strings are optimized for text operations and take less memory per character. Lists have more overhead since they can store any object type.\n",
        "The below python code defines string and differentiate them from lists."
      ],
      "metadata": {
        "id": "xgXIHneUbxsA"
      }
    },
    {
      "cell_type": "code",
      "source": [
        "str_var = 'Suraj'\n",
        "print(str_var[0])  # fecthes the character based on index\n",
        "\n",
        "list_var = ['Suraj','Chris','Siddhesh']\n",
        "list_var[0] = 'vishal'        # replacing the element at a specified index position\n",
        "print(list_var)\n",
        "\n",
        "# being immutable, reassignment doesn't work on string\n",
        "\n",
        "text = \"hello\"\n",
        "# text[0] = \"H\"  # TypeError!\n",
        "\n",
        "# Being mutable, list allows modification.\n",
        "\n",
        "letters = [\"h\", \"e\", \"l\", \"l\", \"o\"]\n",
        "letters[0] = \"H\"  # Now it's [\"H\", \"e\", \"l\", \"l\", \"o\"]"
      ],
      "metadata": {
        "colab": {
          "base_uri": "https://localhost:8080/"
        },
        "id": "_Uh8T4plup2A",
        "outputId": "e234f471-97f1-45b5-e7ca-cda11bd82cb9"
      },
      "execution_count": null,
      "outputs": [
        {
          "output_type": "stream",
          "name": "stdout",
          "text": [
            "S\n",
            "['vishal', 'Chris', 'Siddhesh']\n"
          ]
        }
      ]
    },
    {
      "cell_type": "markdown",
      "source": [
        "Question 7.  How do tuples ensure data integrity in Python?\n",
        "\n",
        "\n",
        "\n",
        "*   In Python, tuples ensure data integrity primarily through their immutability, which prevents modifications to their contents after creation.Since tuple elements can't be altered, we are protected from bugs where data gets modified unintentionally.\n",
        "*   Immutability guarantees that the tuple's contents remain unchanged, making it ideal for storing data that must remain constant, such as configuration settings, constant values, or critical identifiers.\n",
        "*   We can pass tuples to functions without worrying about them being modified.\n",
        "*   Tuples can be dictionary keys because their immutability ensures the hash value never changes.\n",
        "*   Multiple threads can safely read from the same tuple without synchronization concerns, since no thread can modify it. Using tuples signals to other developers (and your future self) that this data shouldn't change. It makes the code's intent clearer."
      ],
      "metadata": {
        "id": "xqwUiWY8bxuO"
      }
    },
    {
      "cell_type": "code",
      "source": [
        "coordinates = (10, 20)\n",
        "# coordinates[0] = 15  # TypeError - prevents accidental changes\n",
        "\n",
        "# Passing tuples to function\n",
        "\n",
        "def process_data(point):\n",
        "    # Function can't modify the original tuple\n",
        "    x, y = point\n",
        "    return x * 2, y * 2\n",
        "\n",
        "original = (3, 4)\n",
        "result = process_data(original)  # original is guaranteed unchanged\n",
        "print(result)\n",
        "\n",
        "# Using tuples as dictionary keys\n",
        "\n",
        "locations = {\n",
        "    (0, 0): \"origin\",            # The keys will always work consistently\n",
        "    (10, 20): \"checkpoint\"\n",
        "}"
      ],
      "metadata": {
        "colab": {
          "base_uri": "https://localhost:8080/"
        },
        "id": "r6YL-OoRwqR0",
        "outputId": "75245d87-a716-4092-c1c3-fdf7347e3b63"
      },
      "execution_count": null,
      "outputs": [
        {
          "output_type": "stream",
          "name": "stdout",
          "text": [
            "(6, 8)\n"
          ]
        }
      ]
    },
    {
      "cell_type": "markdown",
      "source": [
        "Question 8. What is a hash table, and how does it relate to dictionaries in Python?\n",
        "\n",
        "\n",
        "\n",
        "*   A hash table is a data structure that implements an associative array, mapping keys to values for efficient data storage and retrieval.\n",
        "*   It uses a hash function to compute an index in an underlying array where the key-value pair is stored, enabling fast lookups, insertions, and deletions with an average-case time complexity of O(1). The hash table relies on the hash function to generate consistent hash codes for keys. Mutable objects like lists or dictionaries are not hashable because their contents can change, altering their hash value and breaking the hash table’s integrity.\n",
        "*   A dictionary stores data as key-value pairs, where keys are unique and hashable, and values can be any Python object. The dictionary uses a hash table to map each key to its value.\n",
        "*   When a dictionary grows that is when we add many key-value pairs to it, Python automatically resizes the underlying hash table to maintain performance."
      ],
      "metadata": {
        "id": "9o6tK0pObx1Y"
      }
    },
    {
      "cell_type": "code",
      "source": [
        "my_dict = {\"name\": \"Alice\", \"age\": 25}\n",
        "print(my_dict[\"name\"])\n",
        "\n",
        "my_dict = {(1, 2): \"point\", \"id\": 123}  # Valid: tuples and strings are hashable\n",
        "# my_dict[[1, 2]] = \"point\"  # Error: TypeError: unhashable type: 'list'"
      ],
      "metadata": {
        "colab": {
          "base_uri": "https://localhost:8080/"
        },
        "id": "7vEZdaqRyx5Y",
        "outputId": "ada602eb-43ee-4616-eba4-8fc8654a4ac1"
      },
      "execution_count": null,
      "outputs": [
        {
          "output_type": "stream",
          "name": "stdout",
          "text": [
            "Alice\n"
          ]
        }
      ]
    },
    {
      "cell_type": "markdown",
      "source": [
        "Question 9.  Can lists contain different data types in Python?\n",
        "\n",
        "\n",
        "\n",
        "*   Yes, lists in Python can contain different data types. Python lists are flexible and can store elements of any type, including integers, floats, strings, booleans, tuples, dictionaries, other lists, or even custom objects, in any combination.\n",
        "*   The ability to store different data types makes lists suitable for representing complex, heterogeneous data, such as records or mixed collections. Python lists store references to objects, not the actual values. Since everything in Python is an object, a list can hold references to any type of object."
      ],
      "metadata": {
        "id": "6jMW_71Xbx3p"
      }
    },
    {
      "cell_type": "code",
      "source": [
        "# a list containing an information about a person and other elements\n",
        "\n",
        "person = [\"John\", 25, True, [\"Python\", \"JavaScript\"]]\n",
        "print(person)\n",
        "\n",
        "results = [42, \"success\", 3.14159, None]\n",
        "print(results)\n",
        "\n",
        "# GUI elements with different properties\n",
        "widgets = [\"button\", 100, 50, True, {\"color\": \"blue\"}]\n",
        "print(widgets)"
      ],
      "metadata": {
        "colab": {
          "base_uri": "https://localhost:8080/"
        },
        "id": "y5p1_5r9znjB",
        "outputId": "831b8304-71c3-47b7-9ec5-c6761b18ec7e"
      },
      "execution_count": null,
      "outputs": [
        {
          "output_type": "stream",
          "name": "stdout",
          "text": [
            "['John', 25, True, ['Python', 'JavaScript']]\n",
            "[42, 'success', 3.14159, None]\n",
            "['button', 100, 50, True, {'color': 'blue'}]\n"
          ]
        }
      ]
    },
    {
      "cell_type": "markdown",
      "source": [
        "Question 10. Explain why strings are immutable in Python.\n",
        "\n",
        "\n",
        "\n",
        "*   Strings are immutable in Python by design choice.Since strings can't change, Python can optimize memory usage through string interning. Multiple variables pointing to the same string value can share the same memory location.\n",
        "*   Strings can be dictionary keys and set elements because their hash value never changes. If strings were mutable, their hash could change after being stored, breaking hash table integrity:\n",
        "*   Multiple threads can safely read the same string without synchronization. There's no risk of one thread modifying a string while another is reading it.\n",
        "*   When you pass a string to a function, you're guaranteed it won't be modified. This eliminates a whole class of bugs"
      ],
      "metadata": {
        "id": "Julh2RIYbx6V"
      }
    },
    {
      "cell_type": "code",
      "source": [
        "a = \"hello\"\n",
        "b = \"hello\"\n",
        "# Both variables point to the same string object in memory\n",
        "print(id(a) == id(b))  # Often True due to interning\n",
        "\n",
        "# a[0] = 'Y'  # TypeError: 'str' object does not support item assignment"
      ],
      "metadata": {
        "colab": {
          "base_uri": "https://localhost:8080/"
        },
        "id": "5wlSVH5o1sxk",
        "outputId": "4de222c3-9a6c-4719-94df-3417215936a4"
      },
      "execution_count": null,
      "outputs": [
        {
          "output_type": "stream",
          "name": "stdout",
          "text": [
            "True\n"
          ]
        }
      ]
    },
    {
      "cell_type": "markdown",
      "source": [
        "Question 11.  What advantages do dictionaries offer over lists for certain tasks?\n",
        "\n",
        "\n",
        "\n",
        "*   Dictionaries provide O(1) average-time access using descriptive keys. The key is hashed to an index, allowing direct access to the corresponding value., while lists require O(n) searching or knowing exact indices.\n",
        "*   Dictionaries are ideal for tasks requiring frequent access to values by a unique identifier, such as retrieving user data by ID or looking up settings by name.\n",
        "*   Dictionaries store data as key-value pairs, where keys are unique and hashable, allowing intuitive mapping of identifiers to values. While lists store data as an ordered sequence with numerical indices, which are less expressive for associative relationships.\n",
        "*   Dictionaries allow any hashable type (e.g., strings, numbers, tuples) as keys, enabling flexible and meaningful indexing. Lists use only integer indices, which are less descriptive and require external tracking of what each index represents."
      ],
      "metadata": {
        "id": "yJq9LgsAbx8s"
      }
    },
    {
      "cell_type": "code",
      "source": [
        "# Instead of lists, dictionaries are perfect for representing objects, records, or mappings\n",
        "\n",
        "# User profile with mixed data types\n",
        "user = {\n",
        "    \"id\": 12345,\n",
        "    \"name\": \"John Doe\",\n",
        "    \"active\": True,\n",
        "    \"permissions\": [\"read\", \"write\"]\n",
        "}\n",
        "\n",
        "# Clears what each value represents\n",
        "config = {\"host\": \"localhost\", \"port\": 8080, \"debug\": True}\n",
        "\n",
        "# Less clear with positional data\n",
        "config_list = [\"localhost\", 8080, True]"
      ],
      "metadata": {
        "id": "vyqTiDGb5K4p"
      },
      "execution_count": null,
      "outputs": []
    },
    {
      "cell_type": "markdown",
      "source": [
        "Question 12.  Describe a scenario where using a tuple would be preferable over a list.\n",
        "\n",
        "\n",
        "\n",
        "*   Imagine we are building a GPS navigation app that tracks locations. Each location is represented by latitude and longitude coordinates that should never change once recorded.\n",
        "*   oordinates represent fixed points on Earth. Once we have recorded that Times Square is at (40.7580, -73.9855), that location should never accidentally change.\n",
        "*   A tuple signals \"this is a fixed structure\" to other developers. Anyone reading the code immediately understands these coordinate pairs shouldn't be modified. while lists can be changed or modified and thus concerning the data integrity.\n",
        "*   Tuples can be dictionary keys, enabling fast location-based caching. Tuples have less overhead than lists since they don't need to support modification operations.\n",
        "The below python code demonstrate the desscribed use case scenario"
      ],
      "metadata": {
        "id": "FA3LaSlubx_y"
      }
    },
    {
      "cell_type": "code",
      "source": [
        "# Using tuples for coordinates\n",
        "waypoint1 = (40.7128, -74.0060)  # New York City\n",
        "waypoint2 = (34.0522, -118.2437)  # Los Angeles\n",
        "route = [waypoint1, waypoint2, (41.8781, -87.6298)]  # Chicago added\n",
        "\n",
        "# Now suppose somehow someone tries to modify coordinates, tuples being used stops this\n",
        "\n",
        "# This prevents bugs:\n",
        "# waypoint1[0] = 50.0  # TypeError - can't modify coordinates accidentally"
      ],
      "metadata": {
        "id": "cllpsNWo6qW0"
      },
      "execution_count": null,
      "outputs": []
    },
    {
      "cell_type": "markdown",
      "source": [
        "Question 13.  How do sets handle duplicate values in Python?\n",
        "\n",
        "\n",
        "\n",
        "*   Sets in Python automatically eliminate duplicates - they simply ignore any attempt to add a value that already exists. This happens silently and efficiently.\n",
        "*   Sets use hash tables (like dictionaries) to store elements. When we try to add an element python computes the hash of the new element. Checks if that hash already exists in the set. If it exists and the elements are equal, the addition is ignored. If it's new, the element is added."
      ],
      "metadata": {
        "id": "yzm9a0ZKbyCX"
      }
    },
    {
      "cell_type": "code",
      "source": [
        "my_set = {1, 2, 3}\n",
        "my_set.add(2)  # Adding existing element - no change\n",
        "print(my_set)  # Still {1, 2, 3}\n",
        "\n",
        "my_set.update([3, 4, 5, 3])  # Multiple additions including duplicates\n",
        "print(my_set)  # {1, 2, 3, 4, 5} - only new elements added"
      ],
      "metadata": {
        "colab": {
          "base_uri": "https://localhost:8080/"
        },
        "id": "GMNPfgO276ue",
        "outputId": "b4a1f233-8878-4eef-e8ef-de0e6a404feb"
      },
      "execution_count": null,
      "outputs": [
        {
          "output_type": "stream",
          "name": "stdout",
          "text": [
            "{1, 2, 3}\n",
            "{1, 2, 3, 4, 5}\n"
          ]
        }
      ]
    },
    {
      "cell_type": "markdown",
      "source": [
        "Question 14.  How does the “in” keyword work differently for lists and dictionaries?\n",
        "\n",
        "\n",
        "\n",
        "*   In Python, the in keyword is used to check for membership, i.e., whether a specific element or key exists within a collection. However, its behavior and performance differ significantly between lists and dictionaries due to their distinct data structures.\n",
        "*   In lists the in keyword checks if a given value exists as an element in the list. while in dictionaries the in keyword checks if a given value exists as a key in the dictionary.\n",
        "*   In lists the in operation performs a linear search, iterating through each element from the start until a match is found or the list is exhausted. But dictionaries are implemented as hash tables, where keys are hashed to map to specific indices in an internal array. The in keyword in dictionaries computes the hash of the target key using the hash() function. Maps the hash to an index in the hash table. Checks the bucket at that index (or probes for collisions) to see if the key exists, using both the hash and equality comparison (__eq__)."
      ],
      "metadata": {
        "id": "yKa2QeswbyE9"
      }
    },
    {
      "cell_type": "code",
      "source": [
        "student_grades = {\"Suraj\": 95, \"Siddhesh\": 87, \"Aditya\": 92}\n",
        "print(\"Suraj\" in student_grades)  # True - checks if key exists\n",
        "print(95 in student_grades)       # False - 95 is a value, not a key\n",
        "\n",
        "grades = {\"Suraj\": 95, \"Siddhesh\": 87, \"Aditya\": 92}\n",
        "\n",
        "# Check if key exists (fast)\n",
        "print(\"Suraj\" in grades)  # True\n",
        "\n",
        "# Check if value exists (slower - must search through values)\n",
        "print(95 in grades.values())  # True\n",
        "\n",
        "# Check if key-value pair exists\n",
        "print((\"Suraj\", 95) in grades.items())  # True"
      ],
      "metadata": {
        "colab": {
          "base_uri": "https://localhost:8080/"
        },
        "id": "vwML67hg9m9G",
        "outputId": "481e1207-5735-4eed-a032-a403f513ab0f"
      },
      "execution_count": null,
      "outputs": [
        {
          "output_type": "stream",
          "name": "stdout",
          "text": [
            "True\n",
            "False\n",
            "True\n",
            "True\n",
            "True\n"
          ]
        }
      ]
    },
    {
      "cell_type": "markdown",
      "source": [
        "Question 15. Can you modify the elements of a tuple? Explain why or why not.\n",
        "\n",
        "\n",
        "\n",
        "*   We cannot modify the elements of a tuple in Python because tuples are immutable. Once a tuple is created, its elements cannot be changed, added, or removed. This immutability is a core feature of tuples, designed to ensure data integrity and prevent accidental changes.\n",
        "*   Immutability allows tuples to be more memory-efficient and faster than lists for certain operations, as their fixed size and contents enable optimizations.\n",
        "*   The below python code shows why and how we can't modift elements of a tuple."
      ],
      "metadata": {
        "id": "9d13X69-byHj"
      }
    },
    {
      "cell_type": "code",
      "source": [
        "my_tuple = (1, 2, 3)\n",
        "# my_tuple[0] = 4  # This will raise a TypeError: 'tuple' object does not support item assignment\n",
        "\n",
        "# There are ways using which we can modify the tuple, but that won't longer be the same original tuple\n",
        "\n",
        "my_tuple = (1, 2, 3)\n",
        "new_tuple = my_tuple[:1] + (4,) + my_tuple[2:]  # Creates (1, 4, 3)"
      ],
      "metadata": {
        "id": "hNnc6AvspMJL"
      },
      "execution_count": null,
      "outputs": []
    },
    {
      "cell_type": "markdown",
      "source": [
        "Question 16.  What is a nested dictionary, and give an example of its use case.\n",
        "\n",
        "\n",
        "*   A nested dictionary in Python is a dictionary that contains one or more dictionaries as values for its keys.\n",
        "*   This allows for a hierarchical or multi-level data structure, where each key in the outer dictionary maps to another dictionary, which can itself contain further dictionaries or other data types.\n",
        "*   The below python code demonstrate the use case where  nested dictionaries can be used."
      ],
      "metadata": {
        "id": "8avDSIKtbyKG"
      }
    },
    {
      "cell_type": "code",
      "source": [
        "# Suppose we want to store information about students, where each student has multiple attributes\n",
        "#  (e.g., name, grades, and contact info). A nested dictionary can organize this data clearly.\n",
        "\n",
        "# Example of a nested dictionary\n",
        "students = {\n",
        "    \"student1\": {\n",
        "        \"name\": \"Suraj\",\n",
        "        \"age\": 20,\n",
        "        \"grades\": {\"math\": 95, \"science\": 88, \"history\": 92},\n",
        "        \"contact\": {\"email\": \"suraj@gmail.com\", \"phone\": \"555-1234\"}\n",
        "    },\n",
        "    \"student2\": {\n",
        "        \"name\": \"Siddhesh\",\n",
        "        \"age\": 21,\n",
        "        \"grades\": {\"math\": 78, \"science\": 85, \"history\": 80},\n",
        "        \"contact\": {\"email\": \"siddhesh@gmail.com\", \"phone\": \"555-5678\"}\n",
        "    }\n",
        "}\n",
        "\n",
        "# Accessing data\n",
        "print(students[\"student1\"][\"name\"])  # Output: Suraj\n",
        "print(students[\"student1\"][\"grades\"][\"math\"])  # Output: 95\n",
        "print(students[\"student2\"][\"contact\"][\"email\"])  # Output: siddhesh@gmail.com\n",
        "\n",
        "# Modifying data\n",
        "students[\"student1\"][\"grades\"][\"math\"] = 98  # Update math grade\n",
        "print(students[\"student1\"][\"grades\"][\"math\"])  # Output: 98\n",
        "\n",
        "# Adding a new student\n",
        "students[\"student3\"] = {\n",
        "    \"name\": \"Omkar\",\n",
        "    \"age\": 19,\n",
        "    \"grades\": {\"math\": 90, \"science\": 87, \"history\": 85},\n",
        "    \"contact\": {\"email\": \"omkar@gmail.com\", \"phone\": \"555-9012\"}\n",
        "}"
      ],
      "metadata": {
        "colab": {
          "base_uri": "https://localhost:8080/"
        },
        "id": "0CR0eEaIqD5N",
        "outputId": "9c0fc38e-7fcf-4fe3-c129-c9afc3b0fb90"
      },
      "execution_count": null,
      "outputs": [
        {
          "output_type": "stream",
          "name": "stdout",
          "text": [
            "Suraj\n",
            "95\n",
            "siddhesh@gmail.com\n",
            "98\n"
          ]
        }
      ]
    },
    {
      "cell_type": "markdown",
      "source": [
        "Question 17.  Describe the time complexity of accessing elements in a dictionary.\n",
        "\n",
        "\n",
        "\n",
        "*   Python dictionaries are implemented as hash tables. When you access an element using a key for an example my_dict[key], the key is hashed using a hash function, which generates an index pointing to a specific location in the underlying array where the value is stored.\n",
        "*   The time complexity of accessing elements in a Python dictionary is O(1) on average.\n",
        "*   The below python code shows the average time complexity of accessing elements in dictionary. IT Computes the hash of the key \"a\" using the built-in hash() function, which is O(1) for strings of fixed length and this is because string hashing in Python is designed to be constant-time for typical inputs. It used the hash to index into the hash table and retrieve the value associated with the key."
      ],
      "metadata": {
        "id": "FNOWQfibbyMR"
      }
    },
    {
      "cell_type": "code",
      "source": [
        "my_dict = {\"a\": 1, \"b\": 2, \"c\": 3}\n",
        "print(my_dict[\"a\"])  # O(1) average time complexity"
      ],
      "metadata": {
        "colab": {
          "base_uri": "https://localhost:8080/"
        },
        "id": "-lDK58CwrlvN",
        "outputId": "500e9c99-821a-4be3-c15c-4a0fb8effe7c"
      },
      "execution_count": null,
      "outputs": [
        {
          "output_type": "stream",
          "name": "stdout",
          "text": [
            "1\n"
          ]
        }
      ]
    },
    {
      "cell_type": "markdown",
      "source": [
        "Question 18.  In what situations are lists preferred over dictionaries?\n",
        "\n",
        "\n",
        "\n",
        "*   Lists maintain the order of items, preserving the sequence in which elements are added. This is crucial when the order of processing, displaying, or retrieving elements is significant, such as maintaining a user action history or ordered data streams. While dictionaries preserve insertion order (since Python 3.7), they are primarily designed for key-value mappings, not for representing sequences.\n",
        "*   If we need to access elements by their numeric position like the third item in a collection, lists are designed for this and allow fast O(1) access by index. Dictionaries use keys for access, not positional indices. If we need to access elements by position, dictionaries require additional work like converting to a list of keys/values.\n",
        "*   Lists permit duplicate elements, which is useful when repetition is allowed or meaningful—such as storing scores, names, or values that might not be unique.Dictionaries require unique keys, so they cannot store duplicate key-value pairs. While you could use values to store duplicates, it is less straightforward than using lists.\n",
        "*   Lists are more memory-efficient than dictionaries when storing a simple sequence of items, as dictionaries store both keys and values, plus additional overhead for the hash table structure."
      ],
      "metadata": {
        "id": "8zalIV08byRB"
      }
    },
    {
      "cell_type": "markdown",
      "source": [
        "Question 19.  Why are dictionaries considered unordered, and how does that affect data retrieval?\n",
        "\n",
        "\n",
        "\n",
        "*   Traditionally, dictionaries in many programming languages, including earlier versions of Python, have been considered unordered collections.The items (key-value pairs) stored inside a dictionary are not kept in the order in which they were added.\n",
        "*   Dictionaries use a hash table internally where each key is hashed to determine where its corresponding value is stored. This hashing process does not maintain any sequence or order of elements. Because of this design, a dictionary’s order of elements can appear random and change when items are added or removed.\n",
        "*   This can impact or affect the data retrieval in a way that dictionaries allow constant time complexity O(1) for data lookup, insertion, and deletion by key, regardless of order.\n",
        "*   When we iterate over a dictionary for example in a loop, the order in which items are retrieved is not guaranteed to match their insertion order. Accessing data must be done through the key, not based on position like a list. we cannot retrieve an item by \"first\" or \"third\" element but only by specifying its key."
      ],
      "metadata": {
        "id": "9DpgjuZ5byTq"
      }
    },
    {
      "cell_type": "code",
      "source": [
        "# In Python 3.7+, we can rely on dictionaries to maintain insertion order, making them suitable for tasks\n",
        "# where the sequence of key-value pairs is important\n",
        "\n",
        "my_dict = {\"a\": 1, \"b\": 2, \"c\": 3}\n",
        "for key, value in my_dict.items():\n",
        "    print(key, value)  # Outputs: a 1, b 2, c 3 (in insertion order)"
      ],
      "metadata": {
        "colab": {
          "base_uri": "https://localhost:8080/"
        },
        "id": "4_hc8iFmx-7b",
        "outputId": "d4075930-b8f2-4f1c-f6e3-598017761d58"
      },
      "execution_count": 6,
      "outputs": [
        {
          "output_type": "stream",
          "name": "stdout",
          "text": [
            "a 1\n",
            "b 2\n",
            "c 3\n"
          ]
        }
      ]
    },
    {
      "cell_type": "markdown",
      "source": [
        "Question 20. Explain the difference between a list and a dictionary in terms of data retrieval.\n",
        "\n",
        "\n",
        "\n",
        "*   Lists are ordered collections. Each item is identified by its position or index in the sequence.\n",
        "Retrieval is performed using numeric indices. While Dictionaries store data as key-value pairs. Each value is accessed using a unique key. There is no reliance on the position or order for access.\n",
        "*   Accessing an element in list by index is very fast—constant time O(1).The value lookup in lists is slow with O(n) by value. Retrieval in dictionaries by key is extremely fast—also constant time O(1), thanks to internal hash tables.The value lookup in dictionaries is fast with O(1) by key.\n",
        "*   The below python code demonstrate the data retrieval in both lists and dictionaries."
      ],
      "metadata": {
        "id": "-RLFxLj8byWa"
      }
    },
    {
      "cell_type": "code",
      "source": [
        "my_list = [10, 20, 30]\n",
        "print(my_list[1])  # Output: 20\n",
        "\n",
        "my_dict = {\"a\": 10, \"b\": 20, \"c\": 30}\n",
        "print(my_dict[\"b\"])  # Output: 20"
      ],
      "metadata": {
        "colab": {
          "base_uri": "https://localhost:8080/"
        },
        "id": "7hg2S5Wb0YST",
        "outputId": "75d48fee-d4be-4e10-caa1-44f38b4e3b03"
      },
      "execution_count": 7,
      "outputs": [
        {
          "output_type": "stream",
          "name": "stdout",
          "text": [
            "20\n",
            "20\n"
          ]
        }
      ]
    },
    {
      "cell_type": "markdown",
      "source": [
        "# Practical Questions"
      ],
      "metadata": {
        "id": "bIBc0XIAbyd_"
      }
    },
    {
      "cell_type": "markdown",
      "source": [
        "Question 1.  Write a code to create a string with your name and print it."
      ],
      "metadata": {
        "id": "S6-j7Rjgbyg4"
      }
    },
    {
      "cell_type": "code",
      "source": [
        "name = 'Suraj'\n",
        "print(type(name))\n",
        "\n",
        "print(name)"
      ],
      "metadata": {
        "id": "K7NUz3XebUBQ",
        "colab": {
          "base_uri": "https://localhost:8080/"
        },
        "outputId": "4ee029fb-ac85-48c8-ef69-718059ac9ab7"
      },
      "execution_count": 48,
      "outputs": [
        {
          "output_type": "stream",
          "name": "stdout",
          "text": [
            "<class 'str'>\n",
            "Suraj\n"
          ]
        }
      ]
    },
    {
      "cell_type": "markdown",
      "source": [
        "Question 2.  Write a code to find the length of the string \"Hello World\"."
      ],
      "metadata": {
        "id": "spGhjhQdCeh5"
      }
    },
    {
      "cell_type": "code",
      "source": [
        "str_var = \"Hello World\"\n",
        "print(type(str_var))\n",
        "\n",
        "print(len(str_var))"
      ],
      "metadata": {
        "id": "o5OjeyptbUDC",
        "colab": {
          "base_uri": "https://localhost:8080/"
        },
        "outputId": "6c11bb29-0aae-4312-e2e6-36ac1c703d34"
      },
      "execution_count": 49,
      "outputs": [
        {
          "output_type": "stream",
          "name": "stdout",
          "text": [
            "<class 'str'>\n",
            "11\n"
          ]
        }
      ]
    },
    {
      "cell_type": "markdown",
      "source": [
        "Question 3.  Write a code to slice the first 3 characters from the string \"Python Programming\"."
      ],
      "metadata": {
        "id": "WrS5f9rtCx4W"
      }
    },
    {
      "cell_type": "code",
      "source": [
        "str_var = \"Python Programming\"\n",
        "print(type(str_var))\n",
        "\n",
        "print(str_var[:3])"
      ],
      "metadata": {
        "id": "TU-v5jtLbUH_",
        "colab": {
          "base_uri": "https://localhost:8080/"
        },
        "outputId": "5667327b-657e-4d58-f958-34f5b8dedd8e"
      },
      "execution_count": 50,
      "outputs": [
        {
          "output_type": "stream",
          "name": "stdout",
          "text": [
            "<class 'str'>\n",
            "Pyt\n"
          ]
        }
      ]
    },
    {
      "cell_type": "markdown",
      "source": [
        "Question 4.  Write a code to convert the string \"hello\" to uppercase."
      ],
      "metadata": {
        "id": "tQXoWCCyC7Fi"
      }
    },
    {
      "cell_type": "code",
      "source": [
        "str_var = \"hello\"\n",
        "print(type(str_var))\n",
        "\n",
        "print(str_var.upper())"
      ],
      "metadata": {
        "id": "NgYKCGy6bUJr",
        "colab": {
          "base_uri": "https://localhost:8080/"
        },
        "outputId": "efabf98b-54ae-4a5b-a081-e92ae914652e"
      },
      "execution_count": 51,
      "outputs": [
        {
          "output_type": "stream",
          "name": "stdout",
          "text": [
            "<class 'str'>\n",
            "HELLO\n"
          ]
        }
      ]
    },
    {
      "cell_type": "markdown",
      "source": [
        "Question 5. Write a code to replace the word \"apple\" with \"orange\" in the string \"I like apple\"."
      ],
      "metadata": {
        "id": "Jx-u3HDNDDT4"
      }
    },
    {
      "cell_type": "code",
      "source": [
        "str_var = \"I like apple\"\n",
        "print(type(str_var))\n",
        "\n",
        "str_var = str_var.replace('apple','orange')\n",
        "\n",
        "print(str_var)"
      ],
      "metadata": {
        "id": "oTfMO0cZbUOS",
        "colab": {
          "base_uri": "https://localhost:8080/"
        },
        "outputId": "ada2927b-4b9d-4425-8de4-e902ae336a73"
      },
      "execution_count": 52,
      "outputs": [
        {
          "output_type": "stream",
          "name": "stdout",
          "text": [
            "<class 'str'>\n",
            "I like orange\n"
          ]
        }
      ]
    },
    {
      "cell_type": "markdown",
      "source": [
        "Question 6. Write a code to create a list with numbers 1 to 5 and print it."
      ],
      "metadata": {
        "id": "xNn7ekRtDZlJ"
      }
    },
    {
      "cell_type": "code",
      "source": [
        "list_var = [1,2,3,4,5]\n",
        "print(type(list_var))\n",
        "\n",
        "for number in list_var:\n",
        "  print(number)"
      ],
      "metadata": {
        "id": "6EUOYe4QbUQJ",
        "colab": {
          "base_uri": "https://localhost:8080/"
        },
        "outputId": "06969689-5ccc-4536-ab21-7e2787dff144"
      },
      "execution_count": 53,
      "outputs": [
        {
          "output_type": "stream",
          "name": "stdout",
          "text": [
            "<class 'list'>\n",
            "1\n",
            "2\n",
            "3\n",
            "4\n",
            "5\n"
          ]
        }
      ]
    },
    {
      "cell_type": "markdown",
      "source": [
        "Question 7.  Write a code to append the number 10 to the list [1, 2, 3, 4]."
      ],
      "metadata": {
        "id": "nBVdTcHlDpau"
      }
    },
    {
      "cell_type": "code",
      "source": [
        "list_var = [1,2,3,4]\n",
        "print(type(list_var))\n",
        "\n",
        "list_var.append(10)  #adds element 10 at the end of the list\n",
        "print(list_var)"
      ],
      "metadata": {
        "id": "XHBR5J8NbUUV",
        "colab": {
          "base_uri": "https://localhost:8080/"
        },
        "outputId": "3c06a0f1-35a7-41c0-b1fe-6289f06805b8"
      },
      "execution_count": 54,
      "outputs": [
        {
          "output_type": "stream",
          "name": "stdout",
          "text": [
            "<class 'list'>\n",
            "[1, 2, 3, 4, 10]\n"
          ]
        }
      ]
    },
    {
      "cell_type": "markdown",
      "source": [
        "question 8. Write a code to remove the number 3 from the list [1, 2, 3, 4, 5]."
      ],
      "metadata": {
        "id": "FiRvevYKD76v"
      }
    },
    {
      "cell_type": "code",
      "source": [
        "list_var = [1,2,3,4,5]\n",
        "print(type(list_var))\n",
        "\n",
        "list_var.remove(3)  #removes the element 3 from the list\n",
        "print(list_var)"
      ],
      "metadata": {
        "id": "O0clnj_1bUWG",
        "colab": {
          "base_uri": "https://localhost:8080/"
        },
        "outputId": "cefb6786-73a6-48e5-950d-3318f020ba01"
      },
      "execution_count": 55,
      "outputs": [
        {
          "output_type": "stream",
          "name": "stdout",
          "text": [
            "<class 'list'>\n",
            "[1, 2, 4, 5]\n"
          ]
        }
      ]
    },
    {
      "cell_type": "markdown",
      "source": [
        "Question 9.  Write a code to access the second element in the list ['a', 'b', 'c', 'd'],"
      ],
      "metadata": {
        "id": "sp04f198EGJA"
      }
    },
    {
      "cell_type": "code",
      "source": [
        "list_var = ['a', 'b', 'c', 'd']\n",
        "print(type(list_var))\n",
        "\n",
        "# the second element in the list is at the 1st index as indexing start at 0th index for objects in python\n",
        "\n",
        "print(list_var[1])"
      ],
      "metadata": {
        "id": "Vhl5K1CebUaS",
        "colab": {
          "base_uri": "https://localhost:8080/"
        },
        "outputId": "c98f8216-f225-48f4-863a-f6734b433270"
      },
      "execution_count": 58,
      "outputs": [
        {
          "output_type": "stream",
          "name": "stdout",
          "text": [
            "<class 'list'>\n",
            "b\n"
          ]
        }
      ]
    },
    {
      "cell_type": "markdown",
      "source": [
        "Question 10. Write a code to reverse the list [10, 20, 30, 40, 50]."
      ],
      "metadata": {
        "id": "UVspRtlSFLCL"
      }
    },
    {
      "cell_type": "code",
      "source": [
        "list_var = [10, 20, 30, 40, 50]\n",
        "print(type(list_var))\n",
        "\n",
        "reversed_list_var = []\n",
        "\n",
        "for i in range(len(list_var)-1,-1,-1):\n",
        "  reversed_list_var.append(list_var[i])\n",
        "\n",
        "print(reversed_list_var)"
      ],
      "metadata": {
        "id": "qaqRbQFhbUc9",
        "colab": {
          "base_uri": "https://localhost:8080/"
        },
        "outputId": "6c397be2-e031-4b53-d0d7-236058e80768"
      },
      "execution_count": 59,
      "outputs": [
        {
          "output_type": "stream",
          "name": "stdout",
          "text": [
            "<class 'list'>\n",
            "[50, 40, 30, 20, 10]\n"
          ]
        }
      ]
    },
    {
      "cell_type": "markdown",
      "source": [
        "Question 11.  Write a code to create a tuple with the elements 100, 200, 300 and print it."
      ],
      "metadata": {
        "id": "xoOMRRqYFsYt"
      }
    },
    {
      "cell_type": "code",
      "source": [
        "tuple_var = (100, 200, 300)\n",
        "print(type(tuple_var))\n",
        "\n",
        "print(tuple_var)"
      ],
      "metadata": {
        "id": "K8vj-zK9bUgd",
        "colab": {
          "base_uri": "https://localhost:8080/"
        },
        "outputId": "e1b4a63f-ae22-4e95-e26a-a2e435297abd"
      },
      "execution_count": 60,
      "outputs": [
        {
          "output_type": "stream",
          "name": "stdout",
          "text": [
            "<class 'tuple'>\n",
            "(100, 200, 300)\n"
          ]
        }
      ]
    },
    {
      "cell_type": "markdown",
      "source": [
        " Question 12. Write a code to access the second-to-last element of the tuple ('red', 'green', 'blue', 'yellow')."
      ],
      "metadata": {
        "id": "ol_qbCUlF62O"
      }
    },
    {
      "cell_type": "code",
      "source": [
        "tuple_var = ('red', 'green', 'blue', 'yellow')\n",
        "print(type(tuple_var))\n",
        "\n",
        "print(tuple_var[-2])  # the second-to-last element in the tuple"
      ],
      "metadata": {
        "colab": {
          "base_uri": "https://localhost:8080/"
        },
        "id": "_6_vuJKeF5c2",
        "outputId": "7023b3d0-e1ec-4bbd-953d-bb85dd444d3c"
      },
      "execution_count": 61,
      "outputs": [
        {
          "output_type": "stream",
          "name": "stdout",
          "text": [
            "<class 'tuple'>\n",
            "blue\n"
          ]
        }
      ]
    },
    {
      "cell_type": "markdown",
      "source": [
        "Question 13. Write a code to find the minimum number in the tuple (10, 20, 5, 15)."
      ],
      "metadata": {
        "id": "osDPXARlGpfk"
      }
    },
    {
      "cell_type": "code",
      "source": [
        "tuple_var = (10, 20, 5, 15)\n",
        "print(type(tuple_var))\n",
        "\n",
        "print(min(tuple_var))   # min() method in tuple takes the mininum number from the all tuple elements"
      ],
      "metadata": {
        "colab": {
          "base_uri": "https://localhost:8080/"
        },
        "id": "IVK75bL9Gn77",
        "outputId": "707d46ec-f4d6-4beb-bebf-48b6a56ac8de"
      },
      "execution_count": 63,
      "outputs": [
        {
          "output_type": "stream",
          "name": "stdout",
          "text": [
            "<class 'tuple'>\n",
            "5\n"
          ]
        }
      ]
    },
    {
      "cell_type": "markdown",
      "source": [
        "Question 14. Write a code to find the index of the element \"cat\" in the tuple ('dog', 'cat', 'rabbit')."
      ],
      "metadata": {
        "id": "4e16FZI0HOsP"
      }
    },
    {
      "cell_type": "code",
      "source": [
        "tuple_var = ('dog', 'cat', 'rabbit')\n",
        "print(type(tuple_var))\n",
        "\n",
        "# index() method in tuple fetches the index or position of the element mentioned in the parenthesis of the method\n",
        "\n",
        "print(tuple_var.index('cat'))"
      ],
      "metadata": {
        "colab": {
          "base_uri": "https://localhost:8080/"
        },
        "id": "oLyZ52gxG2T4",
        "outputId": "6a55287a-55fd-4af5-d6b5-f14facf19b6b"
      },
      "execution_count": 64,
      "outputs": [
        {
          "output_type": "stream",
          "name": "stdout",
          "text": [
            "<class 'tuple'>\n",
            "1\n"
          ]
        }
      ]
    },
    {
      "cell_type": "markdown",
      "source": [
        "Question 15. Write a code to create a tuple containing three different fruits and check if \"kiwi\" is in it."
      ],
      "metadata": {
        "id": "WOkimPgOHpA4"
      }
    },
    {
      "cell_type": "code",
      "source": [
        "tuple_var = ('apple', 'banana', 'kiwi')\n",
        "print(type(tuple_var))\n",
        "\n",
        "if 'kiwi' in tuple_var:\n",
        "  print('kiwi is in the tuple')\n",
        "else:\n",
        "  print('kiwi is not in the tuple')"
      ],
      "metadata": {
        "colab": {
          "base_uri": "https://localhost:8080/"
        },
        "id": "Pr9uJ9PUHdKG",
        "outputId": "f902e821-6c2d-44b5-f64c-2b93321b641a"
      },
      "execution_count": 65,
      "outputs": [
        {
          "output_type": "stream",
          "name": "stdout",
          "text": [
            "<class 'tuple'>\n",
            "kiwi is in the tuple\n"
          ]
        }
      ]
    },
    {
      "cell_type": "markdown",
      "source": [
        "Question 16. Write a code to create a set with the elements 'a', 'b', 'c' and print it."
      ],
      "metadata": {
        "id": "OVCnQZ_zILtI"
      }
    },
    {
      "cell_type": "code",
      "source": [
        "set_var = {'a', 'b', 'c'}\n",
        "print(type(set_var))\n",
        "\n",
        "print(set_var)"
      ],
      "metadata": {
        "colab": {
          "base_uri": "https://localhost:8080/"
        },
        "id": "m-l2R-7qIChY",
        "outputId": "f2ba9486-3324-4703-f442-a25a7372e1e3"
      },
      "execution_count": 67,
      "outputs": [
        {
          "output_type": "stream",
          "name": "stdout",
          "text": [
            "<class 'set'>\n",
            "{'c', 'b', 'a'}\n"
          ]
        }
      ]
    },
    {
      "cell_type": "markdown",
      "source": [
        "Question 17.  Write a code to clear all elements from the set {1, 2, 3, 4, 5}."
      ],
      "metadata": {
        "id": "F72fqPEtMVv7"
      }
    },
    {
      "cell_type": "code",
      "source": [
        "set_var = {1, 2, 3, 4, 5}\n",
        "print(type(set_var))\n",
        "\n",
        "set_var.clear()\n",
        "print(set_var)"
      ],
      "metadata": {
        "colab": {
          "base_uri": "https://localhost:8080/"
        },
        "id": "XofkISlXIYFI",
        "outputId": "b0d749c8-8fcf-49d3-c58d-8a3e3ec426c3"
      },
      "execution_count": 68,
      "outputs": [
        {
          "output_type": "stream",
          "name": "stdout",
          "text": [
            "<class 'set'>\n",
            "set()\n"
          ]
        }
      ]
    },
    {
      "cell_type": "markdown",
      "source": [
        "Question 18. Write a code to remove the element 4 from the set {1, 2, 3, 4}."
      ],
      "metadata": {
        "id": "d4uKuk5LMz-t"
      }
    },
    {
      "cell_type": "code",
      "source": [
        "set_var = {1, 2, 3, 4}\n",
        "print(type(set_var))\n",
        "\n",
        "set_var.remove(4)\n",
        "print(set_var)"
      ],
      "metadata": {
        "colab": {
          "base_uri": "https://localhost:8080/"
        },
        "id": "wooWf3BzMo35",
        "outputId": "59c60355-55c4-4c6d-e0ce-23db0307c399"
      },
      "execution_count": 69,
      "outputs": [
        {
          "output_type": "stream",
          "name": "stdout",
          "text": [
            "<class 'set'>\n",
            "{1, 2, 3}\n"
          ]
        }
      ]
    },
    {
      "cell_type": "markdown",
      "source": [
        "Question 19.  Write a code to find the union of two sets {1, 2, 3} and {3, 4, 5}."
      ],
      "metadata": {
        "id": "ZmkSQm2sM9FL"
      }
    },
    {
      "cell_type": "code",
      "source": [
        "set_var = {1, 2, 3}\n",
        "set_var1 = {3, 4, 5}\n",
        "print(type(set_var))\n",
        "print(type(set_var1))\n",
        "\n",
        "# both below methods takes all the elements from both the sets and removes the duplicate elements\n",
        "\n",
        "print(set_var.union(set_var1))\n",
        "print(set_var | set_var1)"
      ],
      "metadata": {
        "colab": {
          "base_uri": "https://localhost:8080/"
        },
        "id": "i56Dvlc7M7WU",
        "outputId": "7c001a68-361c-4f3e-e156-862396c192ab"
      },
      "execution_count": 71,
      "outputs": [
        {
          "output_type": "stream",
          "name": "stdout",
          "text": [
            "<class 'set'>\n",
            "<class 'set'>\n",
            "{1, 2, 3, 4, 5}\n",
            "{1, 2, 3, 4, 5}\n"
          ]
        }
      ]
    },
    {
      "cell_type": "markdown",
      "source": [
        "Question 20. Write a code to find the intersection of two sets {1, 2, 3} and {2, 3, 4}."
      ],
      "metadata": {
        "id": "2AKbP8mENZKG"
      }
    },
    {
      "cell_type": "code",
      "source": [
        "set_var = {1,2,3}\n",
        "set_var1 = {2,3,4}\n",
        "print(type(set_var))\n",
        "print(type(set_var1))\n",
        "\n",
        "# both below methods takes the common elements from both the sets\n",
        "\n",
        "print(set_var.intersection(set_var1))\n",
        "print(set_var & set_var1)"
      ],
      "metadata": {
        "colab": {
          "base_uri": "https://localhost:8080/"
        },
        "id": "CW1wgp98NJ1y",
        "outputId": "476e8943-19fa-4e8d-84f4-4f9f6056c4db"
      },
      "execution_count": 72,
      "outputs": [
        {
          "output_type": "stream",
          "name": "stdout",
          "text": [
            "<class 'set'>\n",
            "<class 'set'>\n",
            "{2, 3}\n",
            "{2, 3}\n"
          ]
        }
      ]
    },
    {
      "cell_type": "markdown",
      "source": [
        "Question 21.  Write a code to create a dictionary with the keys \"name\", \"age\", and \"city\", and print it."
      ],
      "metadata": {
        "id": "PTxupA21NrVv"
      }
    },
    {
      "cell_type": "code",
      "source": [
        "dict_var = {'name': 'Suraj', 'age': 25, 'city': 'Pune'}\n",
        "print(type(dict_var))\n",
        "\n",
        "print(dict_var)"
      ],
      "metadata": {
        "colab": {
          "base_uri": "https://localhost:8080/"
        },
        "id": "3ql6ih0WNmAK",
        "outputId": "abfea765-6af6-49cc-de2a-08aa7844879f"
      },
      "execution_count": 73,
      "outputs": [
        {
          "output_type": "stream",
          "name": "stdout",
          "text": [
            "<class 'dict'>\n",
            "{'name': 'Suraj', 'age': 25, 'city': 'Pune'}\n"
          ]
        }
      ]
    },
    {
      "cell_type": "markdown",
      "source": [
        "Question 22. Write a code to add a new key-value pair \"country\": \"USA\" to the dictionary {'name': 'John', 'age': 25}."
      ],
      "metadata": {
        "id": "-oq7qtJxOAtx"
      }
    },
    {
      "cell_type": "code",
      "source": [
        "dict_var = {'name': 'John', 'age': 25}\n",
        "print(type(dict_var))\n",
        "\n",
        "dict_var['country'] = 'USA'\n",
        "print(dict_var)"
      ],
      "metadata": {
        "colab": {
          "base_uri": "https://localhost:8080/"
        },
        "id": "Opq-tulQN9gv",
        "outputId": "ea3cf605-c9e4-419b-cba4-54ee5f4f5ca2"
      },
      "execution_count": 74,
      "outputs": [
        {
          "output_type": "stream",
          "name": "stdout",
          "text": [
            "<class 'dict'>\n",
            "{'name': 'John', 'age': 25, 'country': 'USA'}\n"
          ]
        }
      ]
    },
    {
      "cell_type": "markdown",
      "source": [
        "Question 23. Write a code to access the value associated with the key \"name\" in the dictionary {'name': 'Alice', 'age': 30}."
      ],
      "metadata": {
        "id": "-YsvslfAO458"
      }
    },
    {
      "cell_type": "code",
      "source": [
        "dict_var = {'name': 'Alice', 'age': 30}\n",
        "print(type(dict_var))\n",
        "\n",
        "print(dict_var['name'])"
      ],
      "metadata": {
        "colab": {
          "base_uri": "https://localhost:8080/"
        },
        "id": "GUrJAnr-OVc6",
        "outputId": "50aab1cb-8718-4cb8-a105-d3e133983a07"
      },
      "execution_count": 75,
      "outputs": [
        {
          "output_type": "stream",
          "name": "stdout",
          "text": [
            "<class 'dict'>\n",
            "Alice\n"
          ]
        }
      ]
    },
    {
      "cell_type": "markdown",
      "source": [
        "Question 24.  Write a code to remove the key \"age\" from the dictionary {'name': 'Bob', 'age': 22, 'city': 'New York'}."
      ],
      "metadata": {
        "id": "Q66pou9OPMDN"
      }
    },
    {
      "cell_type": "code",
      "source": [
        "dict_var = {'name': 'Bob', 'age': 22, 'city': 'New York'}\n",
        "print(type(dict_var))\n",
        "\n",
        "del dict_var['age']\n",
        "print(dict_var)"
      ],
      "metadata": {
        "colab": {
          "base_uri": "https://localhost:8080/"
        },
        "id": "Hf9yXwNBPKbU",
        "outputId": "46231942-e466-4b1c-f72b-f9392d83ee83"
      },
      "execution_count": 77,
      "outputs": [
        {
          "output_type": "stream",
          "name": "stdout",
          "text": [
            "<class 'dict'>\n",
            "{'name': 'Bob', 'city': 'New York'}\n"
          ]
        }
      ]
    },
    {
      "cell_type": "markdown",
      "source": [
        "Question 25. Write a code to check if the key \"city\" exists in the dictionary {'name': 'Alice', 'city': 'Paris'}."
      ],
      "metadata": {
        "id": "6SxmyVyYPnNZ"
      }
    },
    {
      "cell_type": "code",
      "source": [
        "dict_var =  {'name': 'Alice', 'city': 'Paris'}\n",
        "print(type(dict_var))\n",
        "\n",
        "print('city' in dict_var)\n",
        "\n",
        "# OR\n",
        "\n",
        "if 'city' in dict_var:\n",
        "  print('city is in the dictionary')\n",
        "else:\n",
        "  print('city is not in the dictionary')"
      ],
      "metadata": {
        "colab": {
          "base_uri": "https://localhost:8080/"
        },
        "id": "XjiPnW3yPcwC",
        "outputId": "984e6a72-08db-460b-a175-c6937a7d7587"
      },
      "execution_count": 81,
      "outputs": [
        {
          "output_type": "stream",
          "name": "stdout",
          "text": [
            "<class 'dict'>\n",
            "True\n",
            "city is in the dictionary\n"
          ]
        }
      ]
    },
    {
      "cell_type": "markdown",
      "source": [
        "Question 26.  Write a code to create a list, a tuple, and a dictionary, and print them all."
      ],
      "metadata": {
        "id": "W70kniGdQA58"
      }
    },
    {
      "cell_type": "code",
      "source": [
        "list_var = [1,2,3,4]\n",
        "print(type(list_var))\n",
        "\n",
        "tuple_var = (1,2,3,4)\n",
        "print(type(tuple_var))\n",
        "\n",
        "dict_var = {'name': 'Suraj', 'age': 25, 'city': 'Pune'}\n",
        "print(type(dict_var))\n",
        "\n",
        "print(list_var)\n",
        "print(tuple_var)\n",
        "print(dict_var)"
      ],
      "metadata": {
        "colab": {
          "base_uri": "https://localhost:8080/"
        },
        "id": "qltc7tmeP1wH",
        "outputId": "1fbe9baf-4c05-4a11-f5f1-b805bbfa35dc"
      },
      "execution_count": 82,
      "outputs": [
        {
          "output_type": "stream",
          "name": "stdout",
          "text": [
            "<class 'list'>\n",
            "<class 'tuple'>\n",
            "<class 'dict'>\n",
            "[1, 2, 3, 4]\n",
            "(1, 2, 3, 4)\n",
            "{'name': 'Suraj', 'age': 25, 'city': 'Pune'}\n"
          ]
        }
      ]
    },
    {
      "cell_type": "markdown",
      "source": [
        "Question 27. Write a code to create a list of 5 random numbers between 1 and 100, sort it in ascending order, and print the result.(replaced)"
      ],
      "metadata": {
        "id": "COiTWeeaQdY6"
      }
    },
    {
      "cell_type": "code",
      "source": [
        "import random\n",
        "\n",
        "list_var = [random.randint(1,100) for i in range(5)]\n",
        "\n",
        "list_var.sort()\n",
        "\n",
        "print(list_var)"
      ],
      "metadata": {
        "colab": {
          "base_uri": "https://localhost:8080/"
        },
        "id": "lqClD4huQa4E",
        "outputId": "5fd1aded-484c-4ab6-a8fe-ed7ef0e96b68"
      },
      "execution_count": 88,
      "outputs": [
        {
          "output_type": "stream",
          "name": "stdout",
          "text": [
            "[28, 47, 54, 62, 70]\n"
          ]
        }
      ]
    },
    {
      "cell_type": "markdown",
      "source": [
        "Question 28.  Write a code to create a list with strings and print the element at the third index."
      ],
      "metadata": {
        "id": "GNfuMtTlTTjD"
      }
    },
    {
      "cell_type": "code",
      "source": [
        "list_var = ['apple', 'potato', 'Milk', 'Banana', 'Tomato']\n",
        "print(type(list_var))\n",
        "\n",
        "print(list_var[3])"
      ],
      "metadata": {
        "colab": {
          "base_uri": "https://localhost:8080/"
        },
        "id": "YdCbTnTLS-GC",
        "outputId": "cae0faef-0c96-40cc-8512-bdcafd913491"
      },
      "execution_count": 89,
      "outputs": [
        {
          "output_type": "stream",
          "name": "stdout",
          "text": [
            "<class 'list'>\n",
            "Banana\n"
          ]
        }
      ]
    },
    {
      "cell_type": "markdown",
      "source": [
        "Question 29.  Write a code to combine two dictionaries into one and print the result"
      ],
      "metadata": {
        "id": "InnAxwrCT0WV"
      }
    },
    {
      "cell_type": "code",
      "source": [
        "dict_var1 = {'name': 'Suraj', 'age': 25, 'city': 'Pune'}\n",
        "print(type(dict_var1))\n",
        "dict_var2 = {'address' : 'Wagdarwadi, Purandar', 'Profession': 'Data Scientist'}\n",
        "print(type(dict_var2))\n",
        "\n",
        "dict_var = {**dict_var1, **dict_var2}   # unpacks all key-value pairs from both dictionaries into a new one.\n",
        "print(dict_var)\n",
        "\n",
        "# OR\n",
        "\n",
        "dict_var = dict_var1 | dict_var2\n",
        "print(dict_var)\n",
        "\n",
        "print(type(dict_var))"
      ],
      "metadata": {
        "colab": {
          "base_uri": "https://localhost:8080/"
        },
        "id": "orLG0_VTTtAE",
        "outputId": "32506e73-136c-43e7-f2a5-31db551ee83d"
      },
      "execution_count": 96,
      "outputs": [
        {
          "output_type": "stream",
          "name": "stdout",
          "text": [
            "<class 'dict'>\n",
            "<class 'dict'>\n",
            "{'name': 'Suraj', 'age': 25, 'city': 'Pune', 'address': 'Wagdarwadi, Purandar', 'Profession': 'Data Scientist'}\n",
            "{'name': 'Suraj', 'age': 25, 'city': 'Pune', 'address': 'Wagdarwadi, Purandar', 'Profession': 'Data Scientist'}\n",
            "<class 'dict'>\n"
          ]
        }
      ]
    },
    {
      "cell_type": "markdown",
      "source": [
        "Question 30.  Write a code to convert a list of strings into a set."
      ],
      "metadata": {
        "id": "eN1zeyG3U05P"
      }
    },
    {
      "cell_type": "code",
      "source": [
        "list_var = ['apple', 'potato', 'Milk', 'Banana', 'Tomato']\n",
        "print(list_var)\n",
        "print(type(list_var))\n",
        "\n",
        "list_converted_to_set = set(list_var)\n",
        "print(list_converted_to_set)\n",
        "print(type(list_converted_to_set))"
      ],
      "metadata": {
        "colab": {
          "base_uri": "https://localhost:8080/"
        },
        "id": "VJqp2MhlUMZp",
        "outputId": "43187c1e-6898-4833-f815-883fb0b0a8aa"
      },
      "execution_count": 98,
      "outputs": [
        {
          "output_type": "stream",
          "name": "stdout",
          "text": [
            "['apple', 'potato', 'Milk', 'Banana', 'Tomato']\n",
            "<class 'list'>\n",
            "{'Milk', 'potato', 'Tomato', 'Banana', 'apple'}\n",
            "<class 'set'>\n"
          ]
        }
      ]
    }
  ]
}