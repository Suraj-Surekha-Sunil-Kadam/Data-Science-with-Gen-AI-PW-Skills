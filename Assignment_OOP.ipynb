{
  "nbformat": 4,
  "nbformat_minor": 0,
  "metadata": {
    "colab": {
      "provenance": []
    },
    "kernelspec": {
      "name": "python3",
      "display_name": "Python 3"
    },
    "language_info": {
      "name": "python"
    }
  },
  "cells": [
    {
      "cell_type": "markdown",
      "source": [
        "# Python OOPs Questions"
      ],
      "metadata": {
        "id": "yExdfYlAfVKc"
      }
    },
    {
      "cell_type": "markdown",
      "source": [
        "Question 1.  What is Object-Oriented Programming (OOP)?\n",
        "\n",
        "\n",
        "\n",
        "*   Object - Oriented Programming (OOP) is a way of programming a computer or programming paradigm that organizes code around objects, which are instances of classes that encapsulate data (attributes) and behavior (methods).    \n",
        "*   It emphasizes modularity, reusability, and maintainability through key principles of encapsulation, Inheritance, Polymorphism and Abstraction.\n",
        "*    OOPs is based on the concept of \"objects,\" which are data structures that contain both data (called attributes or properties) and code (called methods or functions) that work with that data.\n",
        "*    The below python code demonstrate OOPs paradigm of programming"
      ],
      "metadata": {
        "id": "W6OTFV_tfXXy"
      }
    },
    {
      "cell_type": "code",
      "source": [
        "class Car:\n",
        "    def __init__(self, model):\n",
        "        self._model = model  # Encapsulation\n",
        "    def drive(self):  # Abstraction\n",
        "        return f\"Driving {self._model}\"\n",
        "my_car = Car(\"Toyota\")\n",
        "print(my_car.drive())  # Output: Driving Toyota"
      ],
      "metadata": {
        "colab": {
          "base_uri": "https://localhost:8080/"
        },
        "id": "GuVBwNptwNSf",
        "outputId": "8d4d3062-edc4-4aff-e6d9-3f707faaa00a"
      },
      "execution_count": null,
      "outputs": [
        {
          "output_type": "stream",
          "name": "stdout",
          "text": [
            "Driving Toyota\n"
          ]
        }
      ]
    },
    {
      "cell_type": "markdown",
      "source": [
        "Question 2.What is a class in OOP?\n",
        "\n",
        "\n",
        "\n",
        "*   In OOP, class is a blueprint for creating objects or instances with the different properties and methods.\n",
        "*   CLass act as a template for creating different objects. It defines properties (attributes) and behaviors (methods) that the objects created from the class will have.\n",
        "*   Class contain two main components:\n",
        "\n",
        "    Attributes (or properties) - These are variables that store data about the object. For example, a Car class might have attributes like color, model, year, and speed.\n",
        "\n",
        "    Methods (or functions) - These define what actions the object can perform or what operations can be done on it. A Car class might have methods like start(), accelerate(), brake(), and turn().\n",
        "\n",
        "*   The below python code demonstrate the use of class in OOP."
      ],
      "metadata": {
        "id": "bXyGyGxOfXtm"
      }
    },
    {
      "cell_type": "code",
      "source": [
        "# class car having attribute model and drive() method, class has defined these for my_car object to utilize them\n",
        "\n",
        "class car:\n",
        "    def __init__(self, model):\n",
        "        self._model = model  # Encapsulation\n",
        "    def drive(self):  # Abstraction\n",
        "        return f\"I am driving {self._model}\"\n",
        "my_car = car(\"Toyota\")\n",
        "print(my_car.drive())"
      ],
      "metadata": {
        "colab": {
          "base_uri": "https://localhost:8080/"
        },
        "id": "XDU_6uoaSG4p",
        "outputId": "03ba9737-b460-4816-cc4a-9141d07273a1"
      },
      "execution_count": null,
      "outputs": [
        {
          "output_type": "stream",
          "name": "stdout",
          "text": [
            "I am driving Toyota\n"
          ]
        }
      ]
    },
    {
      "cell_type": "markdown",
      "source": [
        "Question 3. What is an object in OOP?\n",
        "\n",
        "\n",
        "\n",
        "*   In OOP, object is an instance of a class. And it has the properties(attributes) and exhibits the behaviors(methods) which are defined by the class.\n",
        "*   Creating an object is called instantiation, where the class is used to create a specific instance with its own set of attribute values.\n",
        "\n",
        "*   Attributes: Objects hold specific data as defined by the class's attributes. For example, if a Car class has attributes like color and speed, an object of that class might have color = \"blue\" and speed = 70.\n",
        "\n",
        "*   Methods: Objects can perform actions defined by the class's methods, such as drive() or stop() in a Car class.\n",
        "*   The below python code demonstrate the use of objects in OOP"
      ],
      "metadata": {
        "id": "uYqJtXXnfXvl"
      }
    },
    {
      "cell_type": "code",
      "source": [
        "class car:\n",
        "    def __init__(self, model):\n",
        "        self._model = model\n",
        "    def drive(self):\n",
        "        return f\"I am driving {self._model}\"\n",
        "\n",
        "my_car = car(\"Toyota\")  # my_car is an object\n",
        "your_car = car(\"Honda\") # your_car is another object\n",
        "print(my_car.drive())\n",
        "print(your_car.drive())"
      ],
      "metadata": {
        "colab": {
          "base_uri": "https://localhost:8080/"
        },
        "id": "udZRK0Y9VIHR",
        "outputId": "98fb0c0a-1a3c-4616-9e47-6632ddf452d5"
      },
      "execution_count": null,
      "outputs": [
        {
          "output_type": "stream",
          "name": "stdout",
          "text": [
            "I am driving Toyota\n",
            "I am driving Honda\n"
          ]
        }
      ]
    },
    {
      "cell_type": "markdown",
      "source": [
        "Question 4.  What is the difference between abstraction and encapsulation?\n",
        "\n",
        "\n",
        "\n",
        "*   Abstraction is the process of hiding complex implementation details and exposing only the essential features or functionalities of an object to the user. While Encapsulation is the bundling of data (attributes) and methods that operate on that data into a single unit (class), while restricting direct access to some of the object's components.\n",
        "*   Abstraction focuses on what an object does, not how it does it. Encapsulation focuses on protecting the internal state of an object.\n",
        "*   Abstraction simplifies interaction with objects by providing a high-level interface, reducing complexity for the user. Encapsulation ensures data integrity by controlling access to an object's data, typically through private attributes and public methods (getters/setters).\n",
        "*   The below python code demonstrate the difference between Abstarction and Encapsulation."
      ],
      "metadata": {
        "id": "2u-kkIBTfXyU"
      }
    },
    {
      "cell_type": "code",
      "source": [
        "\n",
        "class car:\n",
        "  def __init__(self, model, __engine_temp, __fuel_level):\n",
        "    self.__engine_temp = __engine_temp          # Encapsulation - private data\n",
        "    self.__fuel_level = __fuel_level          # Encapsulation - private data\n",
        "    self.mode = model\n",
        "\n",
        "  def start(self):                  # Abstraction - simple interface\n",
        "    self.__heat_engine()            # Encapsulation - private method\n",
        "    self.__check_fuel()             # Encapsulation - private method\n",
        "    return \"Car started\"            # # User doesn't see complexity\n",
        "\n",
        "  def __heat_engine(self):\n",
        "    self.__engine_temp = 90        # Encapsulation - private method\n",
        "\n",
        "  def __check_fuel(self):\n",
        "    if self.__fuel_level < 10:          # Encapsulation - private method\n",
        "      raise Exception(\"Low fuel\")\n",
        "    else:\n",
        "      return \"fuel is ok\"\n",
        "\n",
        "my_car = car(\"Toyota\", 80, 20)\n",
        "\n",
        "print(my_car._car__engine_temp)\n",
        "print(my_car._car__check_fuel())\n",
        "my_car.start()"
      ],
      "metadata": {
        "colab": {
          "base_uri": "https://localhost:8080/",
          "height": 72
        },
        "id": "oJD1dw2jWqaZ",
        "outputId": "a86c065b-05ee-4cd1-e0ed-853b4597bd88"
      },
      "execution_count": null,
      "outputs": [
        {
          "output_type": "stream",
          "name": "stdout",
          "text": [
            "80\n",
            "fuel is ok\n"
          ]
        },
        {
          "output_type": "execute_result",
          "data": {
            "text/plain": [
              "'Car started'"
            ],
            "application/vnd.google.colaboratory.intrinsic+json": {
              "type": "string"
            }
          },
          "metadata": {},
          "execution_count": 19
        }
      ]
    },
    {
      "cell_type": "markdown",
      "source": [
        "Question 5.  What are dunder methods in Python?\n",
        "\n",
        "\n",
        "*   In python, dunder method stands for double underscore method which are the special methods with names surrounded by double underscores (e.g., __init__, __str__, __add__).\n",
        "*   Dunder methods are also called magic methods or special methods because they define how objects of a class behave in specific situations, allowing customization of Python's built-in operations and behaviors.\n",
        "*   Dunder methods are not meant to be called directly by the user but are invoked automatically by Python in response to certain operations.\n",
        "*   The below python code demonstrate the common dunder methods"
      ],
      "metadata": {
        "id": "JsYJobF-fX0g"
      }
    },
    {
      "cell_type": "code",
      "source": [
        "class Car:\n",
        "    def __init__(self, model, engine_temp, fuel_level):\n",
        "        self.__engine_temp = engine_temp\n",
        "        self.__fuel_level = fuel_level\n",
        "        self.model = model\n",
        "\n",
        "    def __str__(self):\n",
        "        return f\"{self.model} with {self.__fuel_level}% fuel\"\n",
        "\n",
        "    def __add__(self, other):\n",
        "        # Combine fuel levels for demonstration\n",
        "        return Car(f\"{self.model}+{other.model}\", self.__engine_temp, self.__fuel_level + other.__fuel_level)\n",
        "\n",
        "    def start(self):\n",
        "        self.__heat_engine()\n",
        "        self.__check_fuel()\n",
        "        return \"Car started\"\n",
        "\n",
        "    def __heat_engine(self):\n",
        "        self.__engine_temp = 90\n",
        "\n",
        "    def __check_fuel(self):\n",
        "        if self.__fuel_level < 10:\n",
        "            raise Exception(\"Low fuel\")\n",
        "        return \"Fuel is ok\"\n",
        "\n",
        "car1 = Car(\"Toyota\", 80, 20)\n",
        "car2 = Car(\"Honda\", 85, 30)\n",
        "print(car1)              # Output: Toyota with 20% fuel (calls __str__)\n",
        "car3 = car1 + car2       # Output: Toyota+Honda with 50% fuel (calls __add__)\n",
        "print(car3)\n",
        "print(car1.start())      # Output: Car started"
      ],
      "metadata": {
        "colab": {
          "base_uri": "https://localhost:8080/"
        },
        "id": "EdmK83zIpF5c",
        "outputId": "01c0366a-93c0-4798-83f5-b759e04aecf0"
      },
      "execution_count": null,
      "outputs": [
        {
          "output_type": "stream",
          "name": "stdout",
          "text": [
            "Toyota with 20% fuel\n",
            "Toyota+Honda with 50% fuel\n",
            "Car started\n"
          ]
        }
      ]
    },
    {
      "cell_type": "markdown",
      "source": [
        "Question 6.  Explain the concept of inheritance in OOP.\n",
        "\n",
        "*   Inheritance is a fundamental concept in OOP that allows a class (child/derived class) to inherit properties and methods from another class (parent/base class).\n",
        "*   This promotes code reuse, modularity, and the creation of hierarchical relationships between classes, enabling a subclass to extend or modify the behavior of the parent class.\n",
        "*   Following are the differen forms of inheritance in Python:\n",
        "\n",
        "    Single Inheritance: A subclass inherits from one parent class.\n",
        "\n",
        "    Multiple Inheritance: A subclass inherits from multiple parent classes\n",
        "\n",
        "    Multilevel Inheritance: A class inherits from a parent class, which itself inherits from another class (e.g., A → B → C).\n",
        "\n",
        "    Hierarchical Inheritance: Multiple subclasses inherit from a single parent class.\n",
        "    \n",
        "    Hybrid Inheritance: A combination of multiple and hierarchical inheritance.\n",
        "\n",
        "*  The below python code demonstrate the inheritance in Python"
      ],
      "metadata": {
        "id": "5Em86aO8fX4k"
      }
    },
    {
      "cell_type": "code",
      "source": [
        "class vehicle:\n",
        "  def vehicle_info(self, colour, type):\n",
        "    self.colour = colour\n",
        "    self.type = type\n",
        "    print(f\"This is a {self.type} type of vehicle comes with {self.colour} colour in class vehicle\")\n",
        "\n",
        "class car(vehicle):\n",
        "  def car_info(self):\n",
        "    print(f\"This car is of {self.type} type and colour is {self.colour} in class car\")\n",
        "\n",
        "class sports_car(car):\n",
        "  def sports_car_info(self):\n",
        "    print(f\"This sports car is of {self.type} type and colour is {self.colour} in class sports car\")\n",
        "\n",
        "car_obj = car()\n",
        "car_obj.vehicle_info(\"blue\", \"Big car\")\n",
        "car_obj.car_info()\n",
        "\n",
        "print(\"------------------------------------\")\n",
        "\n",
        "sports_car = sports_car()\n",
        "sports_car.vehicle_info(\"red\", \"Sports car\")\n",
        "sports_car.car_info()\n",
        "sports_car.sports_car_info()"
      ],
      "metadata": {
        "colab": {
          "base_uri": "https://localhost:8080/"
        },
        "id": "63OU1Ir6ufqS",
        "outputId": "2ed574d1-0613-4d53-ab7b-7f51f42bf398"
      },
      "execution_count": null,
      "outputs": [
        {
          "output_type": "stream",
          "name": "stdout",
          "text": [
            "This is a Big car type of vehicle comes with blue colour in class vehicle\n",
            "This car is of Big car type and colour is blue in class car\n",
            "------------------------------------\n",
            "This is a Sports car type of vehicle comes with red colour in class vehicle\n",
            "This car is of Sports car type and colour is red in class car\n",
            "This sports car is of Sports car type and colour is red in class sports car\n"
          ]
        }
      ]
    },
    {
      "cell_type": "markdown",
      "source": [
        "Question 7. What is polymorphism in OOP?\n",
        "\n",
        "\n",
        "\n",
        "*   In Object-Oriented Programming (OOP), polymorphism is the ability of different classes to be treated as instances of a common superclass, allowing objects to respond to the same method call in ways specific to their class.\n",
        "*   The term \"polymorphism\" means \"many forms,\" reflecting how a single interface or method can behave differently depending on the object invoking it.\n",
        "*   The polymorphism promotes flexibility, extensibility, and code reusability in OOP systems.\n",
        "*   The polymorphism can be static which is compile time polymorphism which can be achieved through method overloading or operator overloading but not fully suppored in python. Another type of polymorphism is run-time or dynamic polymorphism which can be achieved through method overriding.\n",
        "*   The below python code demonstrate the use of polymorphism in python."
      ],
      "metadata": {
        "id": "4WQX2Gc6fX6v"
      }
    },
    {
      "cell_type": "code",
      "source": [
        "# Define the parent class Animal\n",
        "class Animal:\n",
        "    # Method to produce a generic animal sound\n",
        "    def sound(self):\n",
        "        # Prints a default sound for the Animal class\n",
        "        print(\"Cow's Sound\")\n",
        "\n",
        "# Define the Cat class, which inherits from Animal (single inheritance)\n",
        "class Cat(Animal):\n",
        "    # Override the sound method to provide Cat-specific behavior\n",
        "    def sound(self):\n",
        "        # Prints a sound specific to the Cat class\n",
        "        print(\"Cat Meows\")\n",
        "\n",
        "# Create an instance of the Animal class\n",
        "animal_obj = Animal()\n",
        "# Call the sound method on the Animal object\n",
        "# This invokes Animal's sound method\n",
        "animal_obj.sound()\n",
        "\n",
        "# Create an instance of the Cat class\n",
        "cat_obj = Cat()\n",
        "# Call the sound method on the Cat object\n",
        "# This invokes Cat's overridden sound method, demonstrating polymorphism\n",
        "cat_obj.sound()"
      ],
      "metadata": {
        "colab": {
          "base_uri": "https://localhost:8080/"
        },
        "id": "Cxa1qmTG12fC",
        "outputId": "a1bfb62e-c499-4dd2-ed42-957bf3053a69"
      },
      "execution_count": null,
      "outputs": [
        {
          "output_type": "stream",
          "name": "stdout",
          "text": [
            "Cow's Sound\n",
            "Cat Meows\n"
          ]
        }
      ]
    },
    {
      "cell_type": "markdown",
      "source": [
        "Question 8.  How is encapsulation achieved in Python?\n",
        "\n",
        "\n",
        "\n",
        "*   Encapsulation in Object-Oriented Programming (OOP) is the concept of bundling data (attributes) and methods that operate on that data within a single unit (class), while restricting direct access to some of the object's components to protect the internal state and ensure data integrity.\n",
        "*   In Python, encapsulation is achieved primarily through naming conventions and access control mechanisms or access modifiers and naming conventions.\n",
        "*   It's achieved using:\n",
        "\n",
        "    Private attributes/methods (__ prefix): Name mangling (e.g., _ClassName__attribute) limits direct access.\n",
        "\n",
        "    Protected attributes (_ prefix): Conventionally for internal/subclass use, but accessible.\n",
        "\n",
        "    Getters/Setters or @property: Control access and modification with validation.\n",
        "*   The below python code demonstrate the Encapsulation in python."
      ],
      "metadata": {
        "id": "uqUUHhQpfX-c"
      }
    },
    {
      "cell_type": "code",
      "source": [
        "class Car:\n",
        "    def __init__(self, model, fuel):\n",
        "        self.__fuel = fuel  # Private attribute\n",
        "        self.model = model  # Public attribute\n",
        "\n",
        "    @property\n",
        "    def fuel(self):  # Getter for private fuel\n",
        "        return self.__fuel\n",
        "\n",
        "    @fuel.setter\n",
        "    def fuel(self, value):  # Setter with validation\n",
        "        if value < 0:\n",
        "            raise ValueError(\"Fuel cannot be negative\")\n",
        "        self.__fuel = value\n",
        "\n",
        "    def _check_engine(self):  # Protected method\n",
        "        return \"Engine OK\"\n",
        "\n",
        "# Usage\n",
        "car = Car(\"Toyota\", 50)\n",
        "print(car.fuel)  # uses getter\n",
        "car.fuel = 60    # Uses setter\n",
        "print(car.fuel)\n",
        "# print(car.__fuel)  # Error: AttributeError\n",
        "print(car._check_engine())  # Output: Engine OK (discouraged access - not recommended as it can break the internal logic of the class)"
      ],
      "metadata": {
        "colab": {
          "base_uri": "https://localhost:8080/"
        },
        "id": "wLBostTJ5-a6",
        "outputId": "8153fbd1-c594-4134-f2c3-211dfa094c0b"
      },
      "execution_count": null,
      "outputs": [
        {
          "output_type": "stream",
          "name": "stdout",
          "text": [
            "50\n",
            "60\n",
            "Engine OK\n"
          ]
        }
      ]
    },
    {
      "cell_type": "markdown",
      "source": [
        "Question 9. What is a constructor in Python?\n",
        "\n",
        "\n",
        "\n",
        "*   A constructor in Python is a special method used to initialize a newly created object. It is defined using the __init__ method within a class and is automatically called when an object of the class is created.\n",
        "*   The constructor sets up the initial state of the object by assigning values to its attributes.\n",
        "*   The below python code demonstarte the use of constructor in python."
      ],
      "metadata": {
        "id": "v-bfLwf2fVNI"
      }
    },
    {
      "cell_type": "code",
      "source": [
        "class Car:\n",
        "    def __init__(self, model, fuel):  # Constructor\n",
        "        self.__model = model  # Private attribute (encapsulation)\n",
        "        self.__fuel = fuel    # Private attribute (encapsulation)\n",
        "\n",
        "    def get_details(self):  # Public method to access attributes\n",
        "        return f\"Model: {self.__model}, Fuel: {self.__fuel}%\"\n",
        "\n",
        "# Create an object, which calls the constructor\n",
        "car = Car(\"Toyota\", 50)\n",
        "print(car.get_details())"
      ],
      "metadata": {
        "colab": {
          "base_uri": "https://localhost:8080/"
        },
        "id": "SXnZfJZ0IVqa",
        "outputId": "d7ae712c-9126-48c0-bbd7-aee582061419"
      },
      "execution_count": null,
      "outputs": [
        {
          "output_type": "stream",
          "name": "stdout",
          "text": [
            "Model: Toyota, Fuel: 50%\n"
          ]
        }
      ]
    },
    {
      "cell_type": "markdown",
      "source": [
        "Question 10.  What are class and static methods in Python?\n",
        "\n",
        "\n",
        "*   In Python, class methods and static methods are special types of methods defined within a class, distinct from regular instance methods.They are used to define behavior that is not tied to a specific instance of the class but rather to the class itself or as utility functions.\n",
        "*   A class method is bound to the class rather than an instance, defined using the @classmethod decorator. It takes cls as its first parameter, representing the class itself. A static method is defined within a class but not bound to the class or instance, using the @staticmethod decorator. It does not take self or cls as a parameter.\n",
        "*   A class method is used for operations that involve the class, such as creating alternative constructors or modifying class-level data (shared across all instances). A static method acts like a regular function but is grouped within a class for organizational purposes, typically for utility functions related to the class's domain.\n",
        "*   The below python code demonstrate the static and class methods in python."
      ],
      "metadata": {
        "id": "aDvSJ4xrfVPi"
      }
    },
    {
      "cell_type": "code",
      "source": [
        "class Car:\n",
        "    # Class attribute (shared across all instances)\n",
        "    _total_cars = 0  # Protected class attribute\n",
        "\n",
        "    def __init__(self, model, fuel):  # Constructor\n",
        "        self.__model = model  # Private attribute (encapsulation)\n",
        "        self.__fuel = fuel    # Private attribute (encapsulation)\n",
        "        Car._total_cars += 1  # Update class-level counter\n",
        "\n",
        "    # Instance method (uses self)\n",
        "    def get_details(self):\n",
        "        return f\"Model: {self.__model}, Fuel: {self.__fuel}%\"\n",
        "\n",
        "    # Class method to access/modify class state\n",
        "    @classmethod\n",
        "    def get_total_cars(cls):\n",
        "        return f\"Total cars created: {cls._total_cars}\"\n",
        "\n",
        "    # Static method for utility function (no cls or self)\n",
        "    @staticmethod\n",
        "    def is_fuel_efficient(fuel_level):\n",
        "        return \"Efficient\" if fuel_level > 30 else \"Not efficient\"\n",
        "\n",
        "\n",
        "# Create instances or objects\n",
        "car1 = Car(\"Toyota\", 50)\n",
        "car2 = Car(\"Honda\", 20)\n",
        "\n",
        "# Calling instance method\n",
        "print(car1.get_details())\n",
        "\n",
        "# Calling class method (via class or instance)\n",
        "print(Car.get_total_cars())\n",
        "print(car1.get_total_cars())\n",
        "\n",
        "# Calling static method (via class or instance)\n",
        "print(Car.is_fuel_efficient(50))\n",
        "print(car2.is_fuel_efficient(20))"
      ],
      "metadata": {
        "colab": {
          "base_uri": "https://localhost:8080/"
        },
        "id": "giSKF2NJJ0oj",
        "outputId": "2512a5ea-db81-4335-d932-d965bfb30cb6"
      },
      "execution_count": null,
      "outputs": [
        {
          "output_type": "stream",
          "name": "stdout",
          "text": [
            "Model: Toyota, Fuel: 50%\n",
            "Total cars created: 2\n",
            "Total cars created: 2\n",
            "Efficient\n",
            "Not efficient\n"
          ]
        }
      ]
    },
    {
      "cell_type": "markdown",
      "source": [
        "Question 11. What is method overloading in Python?\n",
        "\n",
        "\n",
        "\n",
        "*   Method overloading in Python refers to defining multiple methods with the same name but different parameters (signatures) in a class. However, Python does not support true method overloading like Java or C++. Instead, defining multiple methods with the same name overwrites the previous ones, and only the last method is retained.\n",
        "*   To achieve similar functionality like method overloading, Python uses default arguments or variable arguments (*args, **kwargs) in a single method to handle different parameter combinations.\n",
        "*   The below  python code demonstrate how python achieves the method overloading."
      ],
      "metadata": {
        "id": "qVtDaT8OfVRo"
      }
    },
    {
      "cell_type": "code",
      "source": [
        "# method overloading\n",
        "\n",
        "class student:\n",
        "  def student(self):\n",
        "    print(\"Welcome to PWSKills class\")\n",
        "\n",
        "  def student(self, name = \"\"):\n",
        "    print(\"Welcome to PWSKills class \", name)\n",
        "\n",
        "  def student(self, name = \"\", course = \"\"):\n",
        "    print(f\"Welcome to PWSKills class, {name} for {course} course\")\n",
        "\n",
        "obj = student()\n",
        "obj.student()\n",
        "obj.student(\"Suraj\")\n",
        "obj.student(\"Suraj\", \"Data Science\")\n",
        "\n",
        "print(\"But as python doesn't support the multiple method with the same name, thus we can achieve method overloading as\")\n",
        "\n",
        "# Define the Student class (using CamelCase per Python conventions)\n",
        "class Student:\n",
        "    # Constructor to initialize the object\n",
        "    def __init__(self):\n",
        "        self.__name = None  # Private attribute (encapsulation)\n",
        "        self.__course = None  # Private attribute (encapsulation)\n",
        "\n",
        "    # Single method with default arguments to mimic method overloading\n",
        "    def greet(self, name=\"\", course=\"\"):\n",
        "        # If no arguments provided, print generic welcome\n",
        "        if not name and not course:\n",
        "            self.__name = \"Student\"\n",
        "            print(\"Welcome to PWSkills class\")\n",
        "        # If only name provided, include name in welcome\n",
        "        elif name and not course:\n",
        "            self.__name = name\n",
        "            print(f\"Welcome to PWSkills class, {self.__name}\")\n",
        "        # If both name and course provided, include both\n",
        "        else:\n",
        "            self.__name = name\n",
        "            self.__course = course\n",
        "            print(f\"Welcome to PWSkills class, {self.__name} for {self.__course} course\")\n",
        "\n",
        "    # Public method to access private attributes (encapsulation)\n",
        "    def get_details(self):\n",
        "        return f\"Student: {self.__name}, Course: {self.__course or 'None'}\"\n",
        "\n",
        "# Create an instance of the Student class\n",
        "obj = Student()\n",
        "\n",
        "# Call greet with no arguments\n",
        "obj.greet()  # Output: Welcome to PWSkills class\n",
        "\n",
        "# Call greet with one argument\n",
        "obj.greet(\"Suraj\")  # Output: Welcome to PWSkills class, Suraj\n",
        "\n",
        "# Call greet with two arguments\n",
        "obj.greet(\"Suraj\", \"Data Science\")  # Output: Welcome to PWSkills class, Suraj for Data Science course\n",
        "\n",
        "# Access details via public method\n",
        "print(obj.get_details())  # Output: Student: Suraj, Course: Data Science"
      ],
      "metadata": {
        "colab": {
          "base_uri": "https://localhost:8080/"
        },
        "id": "hym_fjqsLVyL",
        "outputId": "4bef2525-0a52-4a20-9c05-b0b410cd4352"
      },
      "execution_count": null,
      "outputs": [
        {
          "output_type": "stream",
          "name": "stdout",
          "text": [
            "Welcome to PWSKills class,  for  course\n",
            "Welcome to PWSKills class, Suraj for  course\n",
            "Welcome to PWSKills class, Suraj for Data Science course\n",
            "But as python doesn't support the multiple method with the same name, thus we can achieve method overloading as\n",
            "Welcome to PWSkills class\n",
            "Welcome to PWSkills class, Suraj\n",
            "Welcome to PWSkills class, Suraj for Data Science course\n",
            "Student: Suraj, Course: Data Science\n"
          ]
        }
      ]
    },
    {
      "cell_type": "markdown",
      "source": [
        "Question 12.  What is method overriding in OOP?\n",
        "\n",
        "\n",
        "\n",
        "*   Method overriding in Object-Oriented Programming (OOP) is a feature where a subclass provides a specific implementation of a method that is already defined in its parent class.\n",
        "*   This allows the subclass to customize or extend the behavior of the inherited method while maintaining the same method name and signature (parameters). It is a key mechanism for achieving polymorphism, enabling different classes to respond to the same method call in unique ways.\n",
        "*   For method overriding it requires an inheritance relationship between the parent and subclass.The subclass can call the parent's method using super() to extend (not replace) its behavior.\n",
        "*   The below python code demonstrate the method overriding"
      ],
      "metadata": {
        "id": "em6cDJ4KTmts"
      }
    },
    {
      "cell_type": "code",
      "source": [
        "# Parent class\n",
        "class Vehicle:\n",
        "    def __init__(self, model):  # Constructor\n",
        "        self.__model = model  # Private attribute (encapsulation)\n",
        "\n",
        "    def start(self):  # Method to be overridden\n",
        "        return f\"{self.__model} vehicle starts.\"\n",
        "\n",
        "# Child class inheriting from Vehicle\n",
        "class Car(Vehicle):\n",
        "    def __init__(self, model):\n",
        "        super().__init__(model)  # Call parent constructor\n",
        "\n",
        "    def start(self):  # Override parent’s start method\n",
        "        return f\"{super().start()} Car roars to life!\"  # Extend parent behavior\n",
        "\n",
        "# Usage\n",
        "vehicle = Vehicle(\"Random\")\n",
        "car = Car(\"Toyota\")\n",
        "print(vehicle.start())\n",
        "print(car.start())"
      ],
      "metadata": {
        "colab": {
          "base_uri": "https://localhost:8080/"
        },
        "id": "KDXan0QIUcoF",
        "outputId": "aa9be3dc-e2f1-4e83-d437-0b5a7e2fb2f1"
      },
      "execution_count": null,
      "outputs": [
        {
          "output_type": "stream",
          "name": "stdout",
          "text": [
            "Random vehicle starts.\n",
            "Toyota vehicle starts. Car roars to life!\n"
          ]
        }
      ]
    },
    {
      "cell_type": "markdown",
      "source": [
        "Question 13. What is a property decorator in Python?\n",
        "\n",
        "\n",
        "\n",
        "*   A property decorator in Python is a built-in mechanism using the @property decorator that allows a method to be accessed like an attribute, providing a clean way to implement getters, setters, and deleters for class attributes.\n",
        "*   It supports encapsulation by controlling access to private attributes while maintaining a simple, attribute-like syntax. Makes methods behave like attributes, enabling controlled access (get, set, delete) to private data with validation or logic.\n",
        "*   The below python code demonstrate the use of property decorator in python"
      ],
      "metadata": {
        "id": "ZXchAny2fVUG"
      }
    },
    {
      "cell_type": "code",
      "source": [
        "class Car:\n",
        "    def __init__(self, model, fuel):  # Constructor\n",
        "        self.__model = model  # Private attribute (encapsulation)\n",
        "        self.__fuel = fuel    # Private attribute (encapsulation)\n",
        "\n",
        "    @property\n",
        "    def fuel(self):  # Getter: Access __fuel like an attribute\n",
        "        return self.__fuel\n",
        "\n",
        "    @fuel.setter\n",
        "    def fuel(self, value):  # Setter: Modify __fuel with validation\n",
        "        if not 0 <= value <= 100:\n",
        "            raise ValueError(\"Fuel must be between 0 and 100\")\n",
        "        self.__fuel = value\n",
        "\n",
        "    @fuel.deleter\n",
        "    def fuel(self):  # Deleter: Reset __fuel\n",
        "        self.__fuel = 0\n",
        "\n",
        "    def get_details(self):  # Public method for abstraction\n",
        "        return f\"Model: {self.__model}, Fuel: {self.__fuel}%\"\n",
        "\n",
        "\n",
        "car = Car(\"Toyota\", 50)\n",
        "print(car.fuel)\n",
        "car.fuel = 75         # Uses setter with validation\n",
        "print(car.get_details())\n",
        "del car.fuel          # Uses deleter\n",
        "print(car.fuel)"
      ],
      "metadata": {
        "colab": {
          "base_uri": "https://localhost:8080/"
        },
        "id": "UlsjCm0KQ60V",
        "outputId": "f6b370a4-e6e9-4c19-cd08-07e1c4dd5922"
      },
      "execution_count": null,
      "outputs": [
        {
          "output_type": "stream",
          "name": "stdout",
          "text": [
            "50\n",
            "Model: Toyota, Fuel: 75%\n",
            "0\n"
          ]
        }
      ]
    },
    {
      "cell_type": "markdown",
      "source": [
        "Question 14.  Why is polymorphism important in OOP?\n",
        "\n",
        "\n",
        "\n",
        "*   Polymorphism in Object-Oriented Programming (OOP) is important because it allows objects of different classes to be treated uniformly through a common interface, enabling flexibility, extensibility, and code reusability.\n",
        "*   Polymorphism lets a single method call behave differently based on the object's type, simplifying code design and maintenance.Common interfaces allow generic code to operate on multiple object types, reducing duplication.\n",
        "*   By using polymorphism, code is easier to update and extend, as changes to a subclass's method don't affect code that uses the superclass interface.\n",
        "*   Polymorphism supports abstraction by focusing on what objects do (via a shared method) rather than how they do it, improving readability and modularity.\n",
        "*   The below python code demonstrate the polymorphism"
      ],
      "metadata": {
        "id": "opiOKi01fVWb"
      }
    },
    {
      "cell_type": "code",
      "source": [
        "from abc import ABC, abstractmethod\n",
        "\n",
        "# Abstract base class for a common interface\n",
        "class Vehicle(ABC):\n",
        "    @abstractmethod\n",
        "    def start(self):  # Define a common method for polymorphism\n",
        "        pass\n",
        "\n",
        "# Car class inherits from Vehicle\n",
        "class Car(Vehicle):\n",
        "    def __init__(self, model):\n",
        "        self.__model = model  # Encapsulation\n",
        "\n",
        "    def start(self):  # Polymorphic implementation\n",
        "        return f\"{self.__model} car starts with a roar.\"\n",
        "\n",
        "# ElectricCar class inherits from Vehicle\n",
        "class ElectricCar(Vehicle):\n",
        "    def __init__(self, model):\n",
        "        self.__model = model  # Encapsulation\n",
        "\n",
        "    def start(self):  # Polymorphic implementation\n",
        "        return f\"{self.__model} electric car starts silently.\"\n",
        "\n",
        "# Function demonstrating polymorphism\n",
        "def start_vehicle(vehicle):\n",
        "    print(vehicle.start())  # Works with any Vehicle subclass\n",
        "\n",
        "\n",
        "car = Car(\"Toyota\")\n",
        "electric_car = ElectricCar(\"Tesla\")\n",
        "start_vehicle(car)\n",
        "start_vehicle(electric_car)"
      ],
      "metadata": {
        "colab": {
          "base_uri": "https://localhost:8080/"
        },
        "id": "G9x-HISqTJ4Q",
        "outputId": "f535db2e-425a-4c1f-cd10-8e4414f23f88"
      },
      "execution_count": null,
      "outputs": [
        {
          "output_type": "stream",
          "name": "stdout",
          "text": [
            "Toyota car starts with a roar.\n",
            "Tesla electric car starts silently.\n"
          ]
        }
      ]
    },
    {
      "cell_type": "markdown",
      "source": [
        "Question 15.  What is an abstract class in Python?\n",
        "\n",
        "\n",
        "*   An abstract class in Python is a class that cannot be instantiated directly and is designed to serve as a blueprint for other classes.It defines methods (often abstract) that must be implemented by its subclasses, enforcing a common interface or structure.\n",
        "*   Abstract classes are used to achieve abstraction and support polymorphism, ensuring that subclasses provide specific implementations for shared methods. In Python, abstract classes are created using the abc module (Abstract Base Class).\n",
        "*   Abstract methods are Defined with the @abstractmethod decorator; subclasses must override them or they cannot be instantiated.\n",
        "*   The below python code demonstrate the use of abstract class in python"
      ],
      "metadata": {
        "id": "Xs9hTf7hfVYt"
      }
    },
    {
      "cell_type": "code",
      "source": [
        "from abc import ABC, abstractmethod  # Import ABC module\n",
        "\n",
        "# Abstract base class\n",
        "class Vehicle(ABC):\n",
        "    def __init__(self, model):  # Constructor\n",
        "        self.__model = model  # Private attribute (encapsulation)\n",
        "\n",
        "    @abstractmethod  # Define abstract method\n",
        "    def start(self):  # Must be overridden by subclasses\n",
        "        pass\n",
        "\n",
        "    def get_model(self):  # Concrete method (shared by subclasses)\n",
        "        return self.__model\n",
        "\n",
        "# Concrete class inheriting from Vehicle\n",
        "class Car(Vehicle):\n",
        "    def start(self):  # Override abstract method\n",
        "        return f\"{self.get_model()} car starts with a roar.\"\n",
        "\n",
        "\n",
        "car = Car(\"Toyota\")\n",
        "print(car.start())\n",
        "# vehicle = Vehicle(\"Generic\")  # Error: Can't instantiate abstract class"
      ],
      "metadata": {
        "colab": {
          "base_uri": "https://localhost:8080/"
        },
        "id": "OdpstkO-jzGY",
        "outputId": "4fcdac8c-6449-424f-8fa0-3c976a48f4fb"
      },
      "execution_count": null,
      "outputs": [
        {
          "output_type": "stream",
          "name": "stdout",
          "text": [
            "Toyota car starts with a roar.\n"
          ]
        }
      ]
    },
    {
      "cell_type": "markdown",
      "source": [
        "Question 16.  What are the advantages of OOP?\n",
        "\n",
        "Advantages of OOP\n",
        "*   OOP organizes code into self-contained classes, making it easier to manage, understand, and maintain.\n",
        "*   Inheritance and polymorphism allow code reuse across classes, reducing redundancy.\n",
        "*   Using encapsulation hides internal data and exposes only necessary interfaces, improving security and data integrity.\n",
        "*   Abstraction simplifies complex systems by exposing only relevant behaviors, enhancing usability and reducing complexity.\n",
        "*   Polymorphism and inheritance make it easy to extend systems with new classes or behaviors without modifying existing code\n",
        "*   Clear structure and separation of concerns make debugging and updates easier.\n",
        "*   OOP supports large-scale projects by organizing code hierarchically and enabling collaborative development.\n",
        "*   The below python code demonstrate the advantages of using OOP."
      ],
      "metadata": {
        "id": "IFMO9edCfVb9"
      }
    },
    {
      "cell_type": "code",
      "source": [
        "from abc import ABC, abstractmethod\n",
        "\n",
        "# Abstract base class for vehicles (abstraction)\n",
        "class Vehicle(ABC):\n",
        "    def __init__(self, model):  # Constructor\n",
        "        self.__model = model  # Encapsulation: private attribute\n",
        "\n",
        "    @abstractmethod\n",
        "    def start(self):  # Abstract method for polymorphism\n",
        "        pass\n",
        "\n",
        "    @property\n",
        "    def model(self):  # Property decorator for controlled access\n",
        "        return self.__model\n",
        "\n",
        "# Concrete class inheriting from Vehicle (inheritance)\n",
        "class Car(Vehicle):\n",
        "    _total_cars = 0  # Protected class attribute for tracking instances\n",
        "\n",
        "    def __init__(self, model, fuel):\n",
        "        super().__init__(model)  # Inherit parent constructor\n",
        "        self.__fuel = fuel  # Encapsulation: private attribute\n",
        "        Car._total_cars += 1\n",
        "\n",
        "    @property\n",
        "    def fuel(self):  # Property getter for fuel\n",
        "        return self.__fuel\n",
        "\n",
        "    @fuel.setter\n",
        "    def fuel(self, value):  # Property setter with validation\n",
        "        if not 0 <= value <= 100:\n",
        "            raise ValueError(\"Fuel must be between 0 and 100\")\n",
        "        self.__fuel = value\n",
        "\n",
        "    def start(self):  # Method overriding for polymorphism\n",
        "        return f\"{self.model} car starts with {self.__fuel}% fuel.\"\n",
        "\n",
        "    @classmethod\n",
        "    def get_total_cars(cls):  # Class method for class-level data\n",
        "        return f\"Total cars: {cls._total_cars}\"\n",
        "\n",
        "    @staticmethod\n",
        "    def is_fuel_efficient(fuel):  # Static method for utility\n",
        "        return fuel > 30  # Expects a numeric fuel value\n",
        "\n",
        "# Usage demonstrating OOP advantages\n",
        "car1 = Car(\"Toyota\", 50)\n",
        "car2 = Car(\"Honda\", 20)\n",
        "print(car1.start())\n",
        "print(car2.start())\n",
        "print(Car.get_total_cars())\n",
        "print(f\"Fuel efficient? {Car.is_fuel_efficient(car1.fuel)}\")"
      ],
      "metadata": {
        "colab": {
          "base_uri": "https://localhost:8080/"
        },
        "id": "f2Wu7wvGppou",
        "outputId": "4574733c-da84-42c4-a4fc-8a75a98591ca"
      },
      "execution_count": null,
      "outputs": [
        {
          "output_type": "stream",
          "name": "stdout",
          "text": [
            "Toyota car starts with 50% fuel.\n",
            "Honda car starts with 20% fuel.\n",
            "Total cars: 2\n",
            "Fuel efficient? True\n"
          ]
        }
      ]
    },
    {
      "cell_type": "markdown",
      "source": [
        "Question 17. What is the difference between a class variable and an instance variable?\n",
        "\n",
        "\n",
        "*   In Python, class variables and instance variables are two types of variables defined within a class, differing in their scope, storage, and usage. The class variables are defined at the class level, shared by all instances. While instance variables are defined within methods (usually __init__), unique to each instance.\n",
        "*   class variables belongs to the class, accessible via class or instances. While instance variables belong to a specific instance of the class.\n",
        "*   class variables are stored once in the class, shared across all objects. While instance variables are stored separately for each object.\n",
        "*   Modification in class variables affect all instances unless overridden in an instance. While modification in instance variables affect only the specific instance.\n",
        "*   class variables represent shared data such as counters, constants, etc while instance variables represent instance-specific data such as object properties.\n",
        "*   The below python code demonstrate the class variables and instance variables."
      ],
      "metadata": {
        "id": "yT-4iPyZrFc0"
      }
    },
    {
      "cell_type": "code",
      "source": [
        "class Car:\n",
        "    # Class variable (shared by all instances)\n",
        "    total_cars = 0  # Tracks number of Car objects created\n",
        "\n",
        "    def __init__(self, model, fuel):  # Constructor\n",
        "        # Instance variables (unique to each object)\n",
        "        self.__model = model  # Private instance variable (encapsulation)\n",
        "        self.__fuel = fuel    # Private instance variable (encapsulation)\n",
        "        Car.total_cars += 1   # Update class variable\n",
        "\n",
        "    def get_details(self):  # Instance method\n",
        "        return f\"Model: {self.__model}, Fuel: {self.__fuel}%\"\n",
        "\n",
        "    @classmethod\n",
        "    def get_total_cars(cls):  # Class method to access class variable\n",
        "        return f\"Total cars created: {cls.total_cars}\"\n",
        "\n",
        "\n",
        "car1 = Car(\"Toyota\", 50)\n",
        "car2 = Car(\"Honda\", 20)\n",
        "print(car1.get_details())\n",
        "print(car2.get_details())\n",
        "print(Car.get_total_cars())\n",
        "print(car1.total_cars)\n",
        "Car.total_cars = 3\n",
        "print(car2.get_total_cars())"
      ],
      "metadata": {
        "id": "CrSgAoANfTXJ",
        "colab": {
          "base_uri": "https://localhost:8080/"
        },
        "outputId": "086426ae-e435-4071-c101-46f63ad46952"
      },
      "execution_count": null,
      "outputs": [
        {
          "output_type": "stream",
          "name": "stdout",
          "text": [
            "Model: Toyota, Fuel: 50%\n",
            "Model: Honda, Fuel: 20%\n",
            "Total cars created: 2\n",
            "2\n",
            "Total cars created: 3\n"
          ]
        }
      ]
    },
    {
      "cell_type": "markdown",
      "source": [
        "Question 18.  What is multiple inheritance in Python?\n",
        "\n",
        "\n",
        "*   Multiple inheritance in Python is an OOP feature where a class can inherit attributes and methods from more than one parent class.\n",
        "*   Multiple inheritance allows a subclass to combine behaviors and properties from multiple superclasses, enhancing code reusability and flexibility.\n",
        "*   The multiple inheritande can introduce complexity, such as the diamond problem, which Python resolves using the Method Resolution Order (MRO).\n",
        "*   The below python code demonstrate the muplitple inheritance in python."
      ],
      "metadata": {
        "id": "zAJJRlIrwuRl"
      }
    },
    {
      "cell_type": "code",
      "source": [
        "# Parent class 1\n",
        "class Car:\n",
        "    def __init__(self, model, fuel):  # Constructor\n",
        "        self.__model = model  # Private instance variable (encapsulation)\n",
        "        self.__fuel = fuel    # Private instance variable\n",
        "\n",
        "    def drive(self):  # Method for Car behavior\n",
        "        return f\"{self.__model} car drives with {self.__fuel}% fuel.\"\n",
        "\n",
        "# Parent class 2\n",
        "class ElectricVehicle:\n",
        "    def __init__(self, battery):  # Constructor\n",
        "        self.__battery = battery  # Private instance variable\n",
        "\n",
        "    def charge(self):  # Method for ElectricVehicle behavior\n",
        "        return f\"Charging battery to {self.__battery}%.\"\n",
        "\n",
        "# Child class with multiple inheritance\n",
        "class HybridCar(Car, ElectricVehicle):\n",
        "    def __init__(self, model, fuel, battery):\n",
        "        Car.__init__(self, model, fuel)  # Initialize Car parent\n",
        "        ElectricVehicle.__init__(self, battery)  # Initialize ElectricVehicle parent\n",
        "\n",
        "    def operate(self):  # Combine behaviors from both parents\n",
        "        return f\"{self.drive()} {self.charge()}\"\n",
        "\n",
        "\n",
        "hybrid = HybridCar(\"Toyota\", 50, 80)\n",
        "print(hybrid.operate())\n",
        "print(HybridCar.__mro__)"
      ],
      "metadata": {
        "colab": {
          "base_uri": "https://localhost:8080/"
        },
        "id": "Dbd7wpnWz0nI",
        "outputId": "4c2017b6-9a7e-4fe3-d39f-e1de8b57b86f"
      },
      "execution_count": null,
      "outputs": [
        {
          "output_type": "stream",
          "name": "stdout",
          "text": [
            "Toyota car drives with 50% fuel. Charging battery to 80%.\n",
            "(<class '__main__.HybridCar'>, <class '__main__.Car'>, <class '__main__.ElectricVehicle'>, <class 'object'>)\n"
          ]
        }
      ]
    },
    {
      "cell_type": "markdown",
      "source": [
        "Question 19.  Explain the purpose of ‘’__str__’ and ‘__repr__’ ‘ methods in Python.\n",
        "\n",
        "\n",
        "\n",
        "*   In Python, the __str__ and __repr__ methods are special or dunder or magic methods used to define how an object is represented as a string.They serve distinct purposes, primarily for displaying objects in a human-readable or developer-oriented format.\n",
        "*   Purpose of __str__ method:\n",
        "\n",
        "    The __str__() method returns a human-readable, informal string representation of an object, typically for end-users. It is called by the str() function or print() function when displaying an object.If __str__() is not defined, falls back to __repr__. If neither is defined, shows a default string like <__main__.ClassName object at 0x...>.  The __str__() method provide a user-friendly description of the object.\n",
        "\n",
        "*   Purpose of __repr__ method:\n",
        "    \n",
        "    The __repr__() returns a detailed, unambiguous string representation of an object, primarily for developers and debugging.\n",
        "    It is called by the repr() function, interactive Python shell, or when an object is inspected such as in a list or debug mode.\n",
        "    If its not defined, shows a default string like <__main__.ClassName object at 0x...>.\n",
        "    It provides a string that could ideally recreate the object or clearly describe its state for debugging.\n",
        "\n",
        "* The below python code demonstrate the __str__ and __repr__ method"
      ],
      "metadata": {
        "id": "FVISaCbxwuW7"
      }
    },
    {
      "cell_type": "code",
      "source": [
        "class Car:\n",
        "    def __init__(self, model, fuel):  # Constructor\n",
        "        self.__model = model  # Private instance variable (encapsulation)\n",
        "        self.__fuel = fuel    # Private instance variable (encapsulation)\n",
        "\n",
        "    def __str__(self):  # Human-readable string for end-users\n",
        "        return f\"{self.__model} car with {self.__fuel}% fuel\"\n",
        "\n",
        "    def __repr__(self):  # Detailed string for developers\n",
        "        return f\"Car(model='{self.__model}', fuel={self.__fuel})\"\n",
        "\n",
        "\n",
        "car = Car(\"Toyota\", 50)\n",
        "print(car)              # Calls __str__\n",
        "print(str(car))         # Calls __str__\n",
        "print(repr(car))        # Calls __repr__\n",
        "print([car])            # Calls __repr__"
      ],
      "metadata": {
        "colab": {
          "base_uri": "https://localhost:8080/"
        },
        "id": "SaDV_5IX3EGy",
        "outputId": "10ab1b8b-9fa5-4478-8bb6-44d4e78b62b4"
      },
      "execution_count": null,
      "outputs": [
        {
          "output_type": "stream",
          "name": "stdout",
          "text": [
            "Toyota car with 50% fuel\n",
            "Toyota car with 50% fuel\n",
            "Car(model='Toyota', fuel=50)\n",
            "[Car(model='Toyota', fuel=50)]\n"
          ]
        }
      ]
    },
    {
      "cell_type": "markdown",
      "source": [
        "Question 20.  What is the significance of the ‘super()’ function in Python?\n",
        "\n",
        "\n",
        "*   The super() function in Python is used in a class to call methods or access attributes from a parent (superclass) in an inheritance hierarchy.\n",
        "*   It is significant because it enables code reuse, method extension, and proper initialization of parent classes, especially in single, multiple, or multilevel inheritance scenarios.\n",
        "*   It ensures that parent class functionality is preserved and extended in subclasses, supporting polymorphism and inheritance. It is commonly used to initialize parent class attributes in a subclass's constructor or extend a parent's method.\n",
        "*   It is significant for Working with Python's Method Resolution Order (MRO) to correctly resolve method calls in complex hierarchies such as multiple inheritance. Promotes modularity, avoids redundant code, and ensures parent class initialization, especially in cooperative multiple inheritance.\n",
        "* The below python code demonstrate the use of super() function in python"
      ],
      "metadata": {
        "id": "sNVbYldvwuZ5"
      }
    },
    {
      "cell_type": "code",
      "source": [
        "# Parent class\n",
        "class Vehicle:\n",
        "    def __init__(self, model):  # Constructor\n",
        "        self.__model = model  # Private instance variable (encapsulation)\n",
        "\n",
        "    def start(self):  # Method to be extended\n",
        "        return f\"{self.__model} vehicle starts.\"\n",
        "\n",
        "# Child class using single inheritance\n",
        "class Car(Vehicle):\n",
        "    def __init__(self, model, fuel):\n",
        "        super().__init__(model)  # Call parent’s constructor to initialize __model attribute\n",
        "        self.__fuel = fuel  # Private instance variable (encapsulation)\n",
        "\n",
        "    def start(self):  # Override and extend parent’s method\n",
        "        parent_start = super().start()  # Call parent’s start method\n",
        "        return f\"{parent_start} Car roars with {self.__fuel}% fuel.\"\n",
        "\n",
        "\n",
        "car = Car(\"Toyota\", 50)\n",
        "print(car.start())"
      ],
      "metadata": {
        "colab": {
          "base_uri": "https://localhost:8080/"
        },
        "id": "8G9mE33C4ZqG",
        "outputId": "628d3fad-c2c0-4156-be57-a2e228dd5214"
      },
      "execution_count": null,
      "outputs": [
        {
          "output_type": "stream",
          "name": "stdout",
          "text": [
            "Toyota vehicle starts. Car roars with 50% fuel.\n"
          ]
        }
      ]
    },
    {
      "cell_type": "markdown",
      "source": [
        "Question 21.  What is the significance of the __del__ method in Python?\n",
        "\n",
        "\n",
        "*   The __del__ method in Python is a special or dunder or magic method, also known as a destructor, that is called when an object is about to be destroyed. For example when its reference count reaches zero and it is garbage-collected.\n",
        "*   Its significance lies in allowing custom cleanup actions, such as releasing resources in cases such as  closing files, network connections, or freeing memory), etc before an object is removed from memory. However, its use is limited due to Python’s automatic garbage collection and the unpredictability of when __del__ is invoked.\n",
        "*   The below python code demonstrate the use of __del__ method in python"
      ],
      "metadata": {
        "id": "XdSpO93iwuc6"
      }
    },
    {
      "cell_type": "code",
      "source": [
        "class Car:\n",
        "    def __init__(self, model):  # Constructor\n",
        "        self.__model = model  # Private instance variable (encapsulation)\n",
        "        print(f\"{self.__model} car created.\")\n",
        "\n",
        "    def __del__(self):  # Destructor\n",
        "        print(f\"{self.__model} car destroyed.\")  # Cleanup action\n",
        "\n",
        "    def drive(self):  # Instance method\n",
        "        return f\"{self.__model} car is driving.\"\n",
        "\n",
        "\n",
        "car1 = Car(\"Toyota\")\n",
        "print(car1.drive())\n",
        "del car1              # Explicitly delete"
      ],
      "metadata": {
        "colab": {
          "base_uri": "https://localhost:8080/"
        },
        "id": "T5aX3BD65aY9",
        "outputId": "86b83c1b-0eb4-43d3-ed2c-dff8be612afe"
      },
      "execution_count": null,
      "outputs": [
        {
          "output_type": "stream",
          "name": "stdout",
          "text": [
            "Toyota car created.\n",
            "Toyota car is driving.\n",
            "Toyota car destroyed.\n"
          ]
        }
      ]
    },
    {
      "cell_type": "markdown",
      "source": [
        "Question 22.  What is the difference between @staticmethod and @classmethod in Python?\n",
        "\n",
        "\n",
        "*   In Python, @staticmethod and @classmethod are decorators used to define methods within a class that are not bound to instance-specific data (unlike regular instance methods). The @ststicmethod behaves like a regular functionn while @classmethod refers to the class itself.\n",
        "*   @staticmethod is not bound to instance or class while @classmethod is bound to the class\n",
        "*   @staticmethod cannot access instance or class state unless explicitly passed while @classmethod can access/modify class state such as class variables.\n",
        "*   The @staticmethod doesn't take cls or self or anything and it works with the parameters passed. While @classmethod is defined by @classmethod decorator and\n",
        "instead of self, it uses \"cls\".\n",
        "*   The below python code demonstrate the both @staticmethod and @classmethod in Python"
      ],
      "metadata": {
        "id": "wgrb2oyXwufy"
      }
    },
    {
      "cell_type": "code",
      "source": [
        "class Car:\n",
        "    _total_cars = 0  # Class variable (shared across instances)\n",
        "\n",
        "    def __init__(self, model, fuel):  # Constructor\n",
        "        self.__model = model  # Private instance variable (encapsulation)\n",
        "        self.__fuel = fuel    # Private instance variable (encapsulation)\n",
        "        Car._total_cars += 1  # Update class variable\n",
        "\n",
        "    @property\n",
        "    def fuel(self):  # Property getter for fuel\n",
        "        return self.__fuel\n",
        "\n",
        "    @classmethod\n",
        "    def get_total_cars(cls):  # Class method: access class state\n",
        "        return f\"Total cars created: {cls._total_cars}\"\n",
        "\n",
        "    @staticmethod\n",
        "    def is_fuel_efficient(fuel):  # Static method: utility function\n",
        "        return fuel > 30  # Expects numeric input\n",
        "\n",
        "    def get_details(self):  # Instance method\n",
        "        return f\"Model: {self.__model}, Fuel: {self.__fuel}%\"\n",
        "\n",
        "# Usage\n",
        "car1 = Car(\"Toyota\", 50)\n",
        "car2 = Car(\"Honda\", 20)\n",
        "print(Car.get_total_cars())\n",
        "print(car1.get_total_cars())\n",
        "print(Car.is_fuel_efficient(50))\n",
        "print(car2.is_fuel_efficient(car2.fuel))"
      ],
      "metadata": {
        "colab": {
          "base_uri": "https://localhost:8080/"
        },
        "id": "ZshEY5Y57dAO",
        "outputId": "26bf84c4-a101-4947-cdb5-4a4f207d8af6"
      },
      "execution_count": null,
      "outputs": [
        {
          "output_type": "stream",
          "name": "stdout",
          "text": [
            "Total cars created: 2\n",
            "Total cars created: 2\n",
            "True\n",
            "False\n"
          ]
        }
      ]
    },
    {
      "cell_type": "markdown",
      "source": [
        "Question 23.  How does polymorphism work in Python with inheritance?\n",
        "\n",
        "\n",
        "*   Polymorphism in Python, when used with inheritance, allows objects of different classes to be treated uniformly through a common interface. For example a method defined in a parent class while executing different behaviors based on the object's actual class.\n",
        "*   This is achieved primarily through method overriding, where a subclass redefines a method inherited from its parent class, enabling run-time polymorphism. The method called is determined by the object's type at runtime, not the type of the reference variable.\n",
        "*   A subclass inherits methods from a parent class. Using the method overriding subclass provides its own implementation of a parent class method with the same name and signature. Thus code can call the method on a parent class reference or a shared interface like an abstract class, and the appropriate subclass method is executed.\n",
        "*   Python dynamically resolves which method to call based on the object’s actual class, using the Method Resolution Order (MRO) in inheritance hierarchies.\n",
        "* The below python code demonstrate the woking of polymorphism with inheritance."
      ],
      "metadata": {
        "id": "PEQlNn64wuia"
      }
    },
    {
      "cell_type": "code",
      "source": [
        "from abc import ABC, abstractmethod\n",
        "\n",
        "# Abstract base class for a common interface\n",
        "class Vehicle(ABC):\n",
        "    def __init__(self, model):  # Constructor\n",
        "        self.__model = model  # Private instance variable (encapsulation)\n",
        "\n",
        "    @abstractmethod\n",
        "    def start(self):  # Abstract method for polymorphism\n",
        "        pass\n",
        "\n",
        "    @property\n",
        "    def model(self):  # Property for controlled access\n",
        "        return self.__model\n",
        "\n",
        "# Subclass 1: Car\n",
        "class Car(Vehicle):\n",
        "    def __init__(self, model, fuel):\n",
        "        super().__init__(model)  # Initialize parent\n",
        "        self.__fuel = fuel  # Private instance variable\n",
        "\n",
        "    def start(self):  # Override for Car-specific behavior\n",
        "        return f\"{self.model} car starts with {self.__fuel}% fuel.\"\n",
        "\n",
        "# Subclass 2: ElectricCar\n",
        "class ElectricCar(Vehicle):\n",
        "    def __init__(self, model, battery):\n",
        "        super().__init__(model)  # Initialize parent\n",
        "        self.__battery = battery  # Private instance variable\n",
        "\n",
        "    def start(self):  # Override for ElectricCar-specific behavior\n",
        "        return f\"{self.model} electric car starts silently with {self.__battery}% battery.\"\n",
        "\n",
        "# Function demonstrating polymorphism\n",
        "def start_vehicle(vehicle):  # Accepts any Vehicle subclass\n",
        "    print(vehicle.start())  # Calls appropriate start method\n",
        "\n",
        "\n",
        "car = Car(\"Toyota\", 50)\n",
        "electric_car = ElectricCar(\"Tesla\", 80)\n",
        "start_vehicle(car)\n",
        "start_vehicle(electric_car)"
      ],
      "metadata": {
        "colab": {
          "base_uri": "https://localhost:8080/"
        },
        "id": "lFzNjlyg-mqg",
        "outputId": "3b389172-f6ca-4e20-921d-8672f8deeb8e"
      },
      "execution_count": null,
      "outputs": [
        {
          "output_type": "stream",
          "name": "stdout",
          "text": [
            "Toyota car starts with 50% fuel.\n",
            "Tesla electric car starts silently with 80% battery.\n"
          ]
        }
      ]
    },
    {
      "cell_type": "markdown",
      "source": [
        "Question 24. What is method chaining in Python OOP?\n",
        "\n",
        "\n",
        "*   Method chaining in Python Object-Oriented Programming (OOP) is a technique where multiple method calls are chained together in a single statement, with each method returning the object itself (self).\n",
        "*   Method chaining allows subsequent methods to be called on the same object in a fluent, concise manner. It enhances code readability and supports a fluid interface for object manipulation. Improves readability and reduces boilerplate, aligning with OOP's emphasis on modularity and abstraction.\n",
        "*   The method chaining is commonly used in builder patterns, configuration APIs, or fluent interfaces for setting attributes or performing actions sequentially.\n",
        "*   The below python code demonstrate the method chaining in python"
      ],
      "metadata": {
        "id": "nZ9w1HAdwulI"
      }
    },
    {
      "cell_type": "code",
      "source": [
        "class Car:\n",
        "    def __init__(self):  # Constructor\n",
        "        self.__model = \"Unknown\"  # Private instance variable (encapsulation)\n",
        "        self.__fuel = 0          # Private instance variable (encapsulation)\n",
        "        self.__speed = 0         # Private instance variable (encapsulation)\n",
        "\n",
        "    def set_model(self, model):  # Method to set model\n",
        "        self.__model = model\n",
        "        return self  # Return self for chaining\n",
        "\n",
        "    def set_fuel(self, fuel):  # Method to set fuel\n",
        "        if 0 <= fuel <= 100:\n",
        "            self.__fuel = fuel\n",
        "        return self  # Return self for chaining\n",
        "\n",
        "    def accelerate(self, speed_increase):  # Method to increase speed\n",
        "        self.__speed += speed_increase\n",
        "        return self  # Return self for chaining\n",
        "\n",
        "    def __str__(self):  # Human-readable string representation\n",
        "        return f\"Model: {self.__model}, Fuel: {self.__fuel}%, Speed: {self.__speed} km/h\"\n",
        "\n",
        "# Use for method chaining\n",
        "car = Car()\n",
        "print(car.set_model(\"Toyota\").set_fuel(50).accelerate(20))"
      ],
      "metadata": {
        "colab": {
          "base_uri": "https://localhost:8080/"
        },
        "id": "jpb9i5MI_6NP",
        "outputId": "e3a225f3-ca7e-496c-86fd-2b2b36d55a0f"
      },
      "execution_count": null,
      "outputs": [
        {
          "output_type": "stream",
          "name": "stdout",
          "text": [
            "Model: Toyota, Fuel: 50%, Speed: 20 km/h\n"
          ]
        }
      ]
    },
    {
      "cell_type": "markdown",
      "source": [
        "Question 25.  What is the purpose of the __call__ method in Python?\n",
        "\n",
        "\n",
        "*   The __call__ method in Python is a special or dunder or magic method that makes an instance of a class callable like a function. When defined in a class, it allows an object to be invoked with parentheses for an example obj(), enabling custom behavior when the object is \"called.\n",
        "*   Its significant to provide a way to treat objects as if they were functions, enhancing flexibility and supporting functional programming patterns in OOP.\n",
        "*   It enhances abstraction and polymorphism by allowing objects to mimic function behavior.\n",
        "*   Its used commonly in frameworks for machine learning models, decorators, where objects need to act like functions while maintaining state.\n",
        "*   The below python code demonstrate the use of __call__() method in python."
      ],
      "metadata": {
        "id": "2qN0K7dxAODr"
      }
    },
    {
      "cell_type": "code",
      "source": [
        "class Car:\n",
        "    def __init__(self, model, fuel):  # Constructor\n",
        "        self.__model = model  # Private instance variable (encapsulation)\n",
        "        self.__fuel = fuel    # Private instance variable (encapsulation)\n",
        "\n",
        "    def __call__(self, speed):  # Make object callable\n",
        "        return f\"{self.__model} car drives at {speed} km/h with {self.__fuel}% fuel.\"\n",
        "\n",
        "    def __str__(self):  # Human-readable string representation\n",
        "        return f\"Model: {self.__model}, Fuel: {self.__fuel}%\"\n",
        "\n",
        "# Usage\n",
        "car = Car(\"Toyota\", 50)\n",
        "print(car)\n",
        "print(car(60))"
      ],
      "metadata": {
        "colab": {
          "base_uri": "https://localhost:8080/"
        },
        "id": "IDonjAOSBPts",
        "outputId": "171dd8a6-cd24-4570-ca95-4ccb40a3d09c"
      },
      "execution_count": null,
      "outputs": [
        {
          "output_type": "stream",
          "name": "stdout",
          "text": [
            "Model: Toyota, Fuel: 50%\n",
            "Toyota car drives at 60 km/h with 50% fuel.\n"
          ]
        }
      ]
    },
    {
      "cell_type": "markdown",
      "source": [
        "# Practical Questions"
      ],
      "metadata": {
        "id": "GlCnC4naBZNv"
      }
    },
    {
      "cell_type": "markdown",
      "source": [
        "Question 1. Create a parent class Animal with a method speak() that prints a generic message. Create a child class Dog that overrides the speak() method to print \"Bark!\"."
      ],
      "metadata": {
        "id": "jKgmcmCbBdxy"
      }
    },
    {
      "cell_type": "code",
      "source": [
        "# Parent class Animal and child class Dog inherits the speak() method from parent class and override it\n",
        "\n",
        "class Animal:\n",
        "  def speak(self):\n",
        "    print(\"Animal is making sound\")\n",
        "\n",
        "class Dog(Animal):\n",
        "  def speak(self):\n",
        "    print(\"Bark!\")\n",
        "\n",
        "dog = Dog()\n",
        "dog.speak()"
      ],
      "metadata": {
        "id": "jPxMgCcqfTZx",
        "colab": {
          "base_uri": "https://localhost:8080/"
        },
        "outputId": "40c49a09-34c7-42d4-9651-47a335625570"
      },
      "execution_count": 1,
      "outputs": [
        {
          "output_type": "stream",
          "name": "stdout",
          "text": [
            "Bark!\n"
          ]
        }
      ]
    },
    {
      "cell_type": "markdown",
      "source": [
        "Question 2.  Write a program to create an abstract class Shape with a method area(). Derive classes Circle and Rectangle\n",
        "from it and implement the area() method in both."
      ],
      "metadata": {
        "id": "dk3ry9MoBeek"
      }
    },
    {
      "cell_type": "code",
      "source": [
        "from abc import ABC, abstractmethod\n",
        "import math\n",
        "\n",
        "\n",
        "class Shape(ABC):\n",
        "  @abstractmethod\n",
        "  def area(self):\n",
        "    pass\n",
        "\n",
        "\n",
        "class Circle(Shape):\n",
        "  def __init__(self, radius):\n",
        "    self.radius = radius\n",
        "\n",
        "  def area(self):\n",
        "    area = math.pi * self.radius * self.radius\n",
        "    return f\"The area of ciecle is {area}\"\n",
        "\n",
        "class Rectangle(Shape):\n",
        "  def __init__(self, length, width):\n",
        "    self.length = length\n",
        "    self.width = width\n",
        "\n",
        "  def area(self):\n",
        "    area = self.length * self.width\n",
        "    return f\"The area of rectangle is {area}\"\n",
        "\n",
        "circle = Circle(5)\n",
        "print(circle.area())\n",
        "\n",
        "rectangle = Rectangle(4, 6)\n",
        "print(rectangle.area())"
      ],
      "metadata": {
        "id": "INlUuXxbfTb3",
        "colab": {
          "base_uri": "https://localhost:8080/"
        },
        "outputId": "ec9c212e-37c4-46f8-8d34-00f003f1f041"
      },
      "execution_count": 5,
      "outputs": [
        {
          "output_type": "stream",
          "name": "stdout",
          "text": [
            "The area of ciecle is 78.53981633974483\n",
            "The area of rectangle is 24\n"
          ]
        }
      ]
    },
    {
      "cell_type": "markdown",
      "source": [
        "Question 3. Implement a multi-level inheritance scenario where a class Vehicle has an attribute type. Derive a class Car\n",
        "and further derive a class ElectricCar that adds a battery attribute."
      ],
      "metadata": {
        "id": "QFoZMz_RBfpl"
      }
    },
    {
      "cell_type": "code",
      "source": [
        "# The bas class Vehicle\n",
        "\n",
        "class Vehicle:\n",
        "  def __init__(self, type):\n",
        "    self.type = type\n",
        "\n",
        "  def display_type(self):\n",
        "    print(f\"Vehicle type: {self.type}\")\n",
        "\n",
        "# Derived class from Vehicle\n",
        "\n",
        "class Car(Vehicle):\n",
        "  def __init__(self, type, model):\n",
        "    super().__init__(type)\n",
        "    self.model = model\n",
        "\n",
        "  def display_model(self):\n",
        "    print(f\"Car model: {self.model}\")\n",
        "\n",
        "# Further derived a class from Car\n",
        "class ElectricCar(Car):\n",
        "  def __init__(self, type, model, battery):\n",
        "    super().__init__(type, model)\n",
        "    self.battery = battery\n",
        "\n",
        "  def display_battery(self):\n",
        "    print(f\"Battery: {self.battery}\")\n",
        "\n",
        "\n",
        "e_car = ElectricCar(\"Electric\", \"Tesla\", 80)\n",
        "e_car.display_type()\n",
        "e_car.display_model()\n",
        "e_car.display_battery()"
      ],
      "metadata": {
        "id": "BR2Zp2DyfTdw",
        "colab": {
          "base_uri": "https://localhost:8080/"
        },
        "outputId": "df2c31e1-2715-4871-f072-ba2a0eca2864"
      },
      "execution_count": 10,
      "outputs": [
        {
          "output_type": "stream",
          "name": "stdout",
          "text": [
            "Vehicle type: Electric\n",
            "Car model: Tesla\n",
            "Battery: 80\n"
          ]
        }
      ]
    },
    {
      "cell_type": "markdown",
      "source": [
        "Question 4. Demonstrate polymorphism by creating a base class Bird with a method fly(). Create two derived classes\n",
        "Sparrow and Penguin that override the fly() method."
      ],
      "metadata": {
        "id": "InMEMJZ5BgbU"
      }
    },
    {
      "cell_type": "code",
      "source": [
        "# Base class Bird\n",
        "\n",
        "class Bird:\n",
        "  def fly(self):\n",
        "    print(\"Bird is flying\")\n",
        "\n",
        "# Derived class Sparrow\n",
        "class Sparrow(Bird):\n",
        "  def fly(self):\n",
        "    print(\"Sparrow is flying\")\n",
        "\n",
        "\n",
        "# Derived class Penguin\n",
        "class Penguin(Bird):\n",
        "  def fly(self):\n",
        "    print(\"Penguin is not flying\")\n",
        "\n",
        "\n",
        "# Demonstration of Polymorphism\n",
        "\n",
        "bird = Bird()\n",
        "bird.fly()\n",
        "\n",
        "sparrow = Sparrow()\n",
        "sparrow.fly()                #overrided the fly() method from base class Bird demonstrating polymorphism\n",
        "\n",
        "penguin = Penguin()\n",
        "penguin.fly()                #overrided the fly() method from base class Bird demonstrating polymorphism"
      ],
      "metadata": {
        "id": "1IzCxci-fTgY",
        "colab": {
          "base_uri": "https://localhost:8080/"
        },
        "outputId": "0136a41b-88b8-4eac-d598-24f3545e6321"
      },
      "execution_count": 13,
      "outputs": [
        {
          "output_type": "stream",
          "name": "stdout",
          "text": [
            "Bird is flying\n",
            "Sparrow is flying\n",
            "Penguin is not flying\n"
          ]
        }
      ]
    },
    {
      "cell_type": "markdown",
      "source": [
        "Question 5.  Write a program to demonstrate encapsulation by creating a class BankAccount with private attributes\n",
        "balance and methods to deposit, withdraw, and check balance."
      ],
      "metadata": {
        "id": "6jfqNGI4BhcD"
      }
    },
    {
      "cell_type": "code",
      "source": [
        "# The class BankAccount uses deposit, withdraw, and check balance to handle the balance amount\n",
        "\n",
        "class BankAccount:\n",
        "  def __init__(self, balance):\n",
        "    self.__balance = balance         #private attribute\n",
        "\n",
        "  def deposit(self, amount):\n",
        "    if amount > 0:\n",
        "      self.__balance += amount\n",
        "      print(f\"Deposited : {amount}. New balance: {self.__balance}\")\n",
        "    else:\n",
        "      print(\"Invalid deposit amount\")\n",
        "\n",
        "  def withdraw(self, amount):\n",
        "    if 0 < amount <= self.__balance:\n",
        "      self.__balance -= amount\n",
        "      print(f\"Withdrew: {amount}. New balance: {self.__balance}\")\n",
        "    else:\n",
        "      print(\"Insufficient balance or Invalid withdrawal amount\")\n",
        "\n",
        "  def check_balance(self):\n",
        "    print(f\"Current balance: {self.__balance}\")\n",
        "\n",
        "\n",
        "account = BankAccount(1000)\n",
        "account.deposit(500)\n",
        "account.withdraw(600)\n",
        "account.check_balance()"
      ],
      "metadata": {
        "id": "FMuIc6A8fTjT",
        "colab": {
          "base_uri": "https://localhost:8080/"
        },
        "outputId": "3ac3272a-dada-4aad-be2c-f24bf4452531"
      },
      "execution_count": 67,
      "outputs": [
        {
          "output_type": "stream",
          "name": "stdout",
          "text": [
            "Deposited : 500. New balance: 1500\n",
            "Withdrew: 600. New balance: 900\n",
            "Current balance: 900\n"
          ]
        }
      ]
    },
    {
      "cell_type": "markdown",
      "source": [
        "Question 6.  Demonstrate runtime polymorphism using a method play() in a base class Instrument. Derive classes Guitar\n",
        "and Piano that implement their own version of play()"
      ],
      "metadata": {
        "id": "fusDYhe3BiEt"
      }
    },
    {
      "cell_type": "code",
      "source": [
        "# Base class Instrument\n",
        "\n",
        "class Instrument:\n",
        "  def play(self):\n",
        "    print(\"Instrument is playing a music\")\n",
        "\n",
        "\n",
        "class Guitar(Instrument):\n",
        "  def play(self):\n",
        "    print(\"Guitar is strumming chords\")\n",
        "\n",
        "\n",
        "class Piano(Instrument):\n",
        "  def play(self):\n",
        "    print(\"Piano is playing melodies\")\n",
        "\n",
        "# Function to demonstrate runtime polymorphism\n",
        "def play_instrument(instrument: Instrument):\n",
        "    instrument.play()\n",
        "\n",
        "\n",
        "guitar = Guitar()\n",
        "piano = Piano()\n",
        "\n",
        "# Even though the function receives a base class reference,\n",
        "# the actual derived class method is called at runtime\n",
        "play_instrument(guitar)\n",
        "play_instrument(piano)"
      ],
      "metadata": {
        "id": "Qe7GkfYufTlK",
        "colab": {
          "base_uri": "https://localhost:8080/"
        },
        "outputId": "56102f9d-b280-471b-e599-9cf2f2e40fe5"
      },
      "execution_count": 19,
      "outputs": [
        {
          "output_type": "stream",
          "name": "stdout",
          "text": [
            "Guitar is strumming chords\n",
            "Piano is playing melodies\n"
          ]
        }
      ]
    },
    {
      "cell_type": "markdown",
      "source": [
        "Question 7. Create a class MathOperations with a class method add_numbers() to add two numbers and a static\n",
        "method subtract_numbers() to subtract two numbers."
      ],
      "metadata": {
        "id": "MjC4z-vwBi6t"
      }
    },
    {
      "cell_type": "code",
      "source": [
        "# Base class MathOperations\n",
        "\n",
        "class MathOperations:\n",
        "  @classmethod\n",
        "  def add_numbers(cls, a, b):\n",
        "    return a + b\n",
        "\n",
        "  @staticmethod\n",
        "  def subtract_numbers(a, b):\n",
        "    return a - b\n",
        "\n",
        "print(f\"The addition of two numbers is {MathOperations.add_numbers(5, 3)}\")\n",
        "print(f\"The subtraction of two numbers is {MathOperations.subtract_numbers(5, 3)}\")"
      ],
      "metadata": {
        "id": "UxpNipn6fTmx",
        "colab": {
          "base_uri": "https://localhost:8080/"
        },
        "outputId": "7b7f76e2-e5b9-4152-a4a3-465cf4b8bec5"
      },
      "execution_count": 63,
      "outputs": [
        {
          "output_type": "stream",
          "name": "stdout",
          "text": [
            "The addition of two numbers is 8\n",
            "The subtraction of two numbers is 2\n"
          ]
        }
      ]
    },
    {
      "cell_type": "markdown",
      "source": [
        "Question 8.  Implement a class Person with a class method to count the total number of persons created."
      ],
      "metadata": {
        "id": "V-bHNzUvBj_H"
      }
    },
    {
      "cell_type": "code",
      "source": [
        "# Base class Person\n",
        "\n",
        "from abc import ABC, abstractmethod\n",
        "class Person:\n",
        "  # Class variable to keep track of the count\n",
        "  total_persons = 0\n",
        "\n",
        "  def __init__(self, name):\n",
        "    self.name = name\n",
        "\n",
        "    Person.total_persons += 1  # Increment the count of persons for each new instance\n",
        "\n",
        "\n",
        "\n",
        "  @classmethod\n",
        "  def get_count(cls):\n",
        "    return cls.total_persons\n",
        "\n",
        "p1 = Person(\"Suraj\")\n",
        "p2 = Person(\"Siddhesh\")\n",
        "p3 = Person(\"Aditya\")\n",
        "\n",
        "print(f\"The total persons created: {Person.get_count()}\")"
      ],
      "metadata": {
        "id": "K-x7_HiLBkVS",
        "colab": {
          "base_uri": "https://localhost:8080/"
        },
        "outputId": "8a00f35d-956b-4586-e03c-9953a03d4aac"
      },
      "execution_count": 68,
      "outputs": [
        {
          "output_type": "stream",
          "name": "stdout",
          "text": [
            "The total persons created: 3\n"
          ]
        }
      ]
    },
    {
      "cell_type": "markdown",
      "source": [
        "Question 9. Write a class Fraction with attributes numerator and denominator. Override the str method to display the\n",
        "fraction as \"numerator/denominator\"."
      ],
      "metadata": {
        "id": "Ix9oziKQwCNB"
      }
    },
    {
      "cell_type": "code",
      "source": [
        "#class Fraction\n",
        "\n",
        "class Fraction:\n",
        "  def __init__(self, numerator, denominator):\n",
        "    self.numerator = numerator\n",
        "    self.denominator = denominator\n",
        "\n",
        "  def __repr__(self):\n",
        "    return f\"{self.numerator}/{self.denominator}\"\n",
        "\n",
        "frac = Fraction(3, 4)\n",
        "print(frac)             # This calls frac.__str__() internally"
      ],
      "metadata": {
        "colab": {
          "base_uri": "https://localhost:8080/"
        },
        "id": "MyqDS6TXv8a4",
        "outputId": "b6910213-fcee-4225-af40-fd2524a0d407"
      },
      "execution_count": 61,
      "outputs": [
        {
          "output_type": "stream",
          "name": "stdout",
          "text": [
            "3/4\n"
          ]
        }
      ]
    },
    {
      "cell_type": "markdown",
      "source": [
        "Question 10.  Demonstrate operator overloading by creating a class Vector and overriding the add method to add two\n",
        "vectors."
      ],
      "metadata": {
        "id": "5qfKf960xBG0"
      }
    },
    {
      "cell_type": "code",
      "source": [
        "# Class Vector\n",
        "\n",
        "class Vector:\n",
        "  def __init__(self, x, y):\n",
        "    self.x = x\n",
        "    self.y = y\n",
        "\n",
        "  def __add__(self, other):\n",
        "    # Overload the + operator to add two Vector objects\n",
        "    return Vector(self.x + other.x, self.y + other.y)\n",
        "\n",
        "  def __repr__(self):\n",
        "    # Return a string representation of the Vector object\n",
        "    return f\"Vector({self.x}, {self.y})\"\n",
        "\n",
        "v1 = Vector(1, 2)\n",
        "v2 = Vector(3, 4)\n",
        "v3 = v1 + v2        # Calls v1.__add__(v2)\n",
        "print(v3)"
      ],
      "metadata": {
        "colab": {
          "base_uri": "https://localhost:8080/"
        },
        "id": "1BOTp8IswwtB",
        "outputId": "c71ed1be-560f-4a93-ce9c-2efe0ceb2455"
      },
      "execution_count": 31,
      "outputs": [
        {
          "output_type": "stream",
          "name": "stdout",
          "text": [
            "Vector(4, 6)\n"
          ]
        }
      ]
    },
    {
      "cell_type": "markdown",
      "source": [
        "Question 11.  Create a class Person with attributes name and age. Add a method greet() that prints \"Hello, my name is\n",
        "{name} and I am {age} years old.\""
      ],
      "metadata": {
        "id": "julKRV4MyBCv"
      }
    },
    {
      "cell_type": "code",
      "source": [
        "# class Person\n",
        "\n",
        "class Person:\n",
        "  def __init__(self, name, age):\n",
        "    self.name = name\n",
        "    self.age = age\n",
        "\n",
        "  def greet(self):\n",
        "    print(f\"Hello, my name is {self.name} and I am {self.age} years old.\")\n",
        "\n",
        "person = Person(\"Suraj\", 25)\n",
        "person.greet()"
      ],
      "metadata": {
        "colab": {
          "base_uri": "https://localhost:8080/"
        },
        "id": "50823_cXx3Xz",
        "outputId": "1de41fde-8284-4f03-8934-12da86921573"
      },
      "execution_count": 32,
      "outputs": [
        {
          "output_type": "stream",
          "name": "stdout",
          "text": [
            "Hello, my name is Suraj and I am 25 years old.\n"
          ]
        }
      ]
    },
    {
      "cell_type": "markdown",
      "source": [
        "Question 12.  Implement a class Student with attributes name and grades. Create a method average_grade() to compute\n",
        "the average of the grades."
      ],
      "metadata": {
        "id": "kYN6IZBUyeKv"
      }
    },
    {
      "cell_type": "code",
      "source": [
        "# class student\n",
        "\n",
        "class Student:\n",
        "  def __init__(self, name, grades):\n",
        "    self.name = name\n",
        "    self.grades = grades    #expecting a list of numbers\n",
        "\n",
        "  def average_grade(self):\n",
        "    if not self.grades:\n",
        "      return 0              # Return 0 if grades list is empty to avoid division by zero\n",
        "    return sum(self.grades) / len(self.grades)\n",
        "\n",
        "stud = Student(\"Suraj\", [90, 85, 92, 88])\n",
        "print(f\"The average of grades for {stud.name} is {stud.average_grade()}\")"
      ],
      "metadata": {
        "colab": {
          "base_uri": "https://localhost:8080/"
        },
        "id": "Wbnu0zFkyYi2",
        "outputId": "30b6368d-2512-4d1a-9b77-63419ef58608"
      },
      "execution_count": 58,
      "outputs": [
        {
          "output_type": "stream",
          "name": "stdout",
          "text": [
            "The average of grades for Suraj is 88.75\n"
          ]
        }
      ]
    },
    {
      "cell_type": "markdown",
      "source": [
        "Question 13. Create a class Rectangle with methods set_dimensions() to set the dimensions and area() to calculate the\n",
        "area."
      ],
      "metadata": {
        "id": "BYGYuJa4zfb3"
      }
    },
    {
      "cell_type": "code",
      "source": [
        "# class rectangle\n",
        "\n",
        "class Rectangle:\n",
        "  def __init__(self):\n",
        "    self.width = 0\n",
        "    self.height = 0\n",
        "\n",
        "  def set_dimensions(self, width, height):\n",
        "    self.width = width\n",
        "    self.height = height\n",
        "\n",
        "  def area(self):\n",
        "    return self.height * self.width\n",
        "\n",
        "rect = Rectangle()\n",
        "rect.set_dimensions(4, 5)\n",
        "print(\"The area of a rectangle is\",rect.area())"
      ],
      "metadata": {
        "colab": {
          "base_uri": "https://localhost:8080/"
        },
        "id": "pMqeVP8CzAfF",
        "outputId": "8079526e-2c70-43fc-dfbe-bfb460f16ec8"
      },
      "execution_count": 55,
      "outputs": [
        {
          "output_type": "stream",
          "name": "stdout",
          "text": [
            "The area of a rectangle is 20\n"
          ]
        }
      ]
    },
    {
      "cell_type": "markdown",
      "source": [
        "Question 14.  Create a class Employee with a method calculate_salary() that computes the salary based on hours worked\n",
        "and hourly rate. Create a derived class Manager that adds a bonus to the salary"
      ],
      "metadata": {
        "id": "f4ECEdma1jxB"
      }
    },
    {
      "cell_type": "code",
      "source": [
        "# class Employee\n",
        "\n",
        "class Employee:\n",
        "  def __init__(self,name, hours_worked, hourly_rate):\n",
        "    self.name = name\n",
        "    self.hours_worked = hours_worked\n",
        "    self.hourly_rate = hourly_rate\n",
        "\n",
        "  def calculate_salary(self):\n",
        "    # Return the numeric salary amount, not a string\n",
        "    return self.hours_worked * self.hourly_rate\n",
        "\n",
        "class Manager(Employee):\n",
        "  def __init__(self, name, hours_worked, hourly_rate, bonus):\n",
        "    super().__init__(name, hours_worked, hourly_rate)\n",
        "    self.bonus = bonus\n",
        "\n",
        "  def calculate_salary(self):\n",
        "    base_salary = super().calculate_salary()\n",
        "    return base_salary + self.bonus\n",
        "\n",
        "\n",
        "emp = Employee(\"Suraj\", 40, 50)\n",
        "mgr = Manager(\"Siddhesh\", 40, 50, 1000)\n",
        "\n",
        "\n",
        "print(\"The salary for an employee is\", emp.calculate_salary())\n",
        "print(\"The salary for manager is\",mgr.calculate_salary())"
      ],
      "metadata": {
        "colab": {
          "base_uri": "https://localhost:8080/"
        },
        "id": "dRE4ccxt0U8v",
        "outputId": "c3831257-ecb6-47a3-c330-c362dcd4039a"
      },
      "execution_count": 54,
      "outputs": [
        {
          "output_type": "stream",
          "name": "stdout",
          "text": [
            "The salary for an employee is 2000\n",
            "The salary for manager is 3000\n"
          ]
        }
      ]
    },
    {
      "cell_type": "markdown",
      "source": [
        "Question 15.  Create a class Product with attributes name, price, and quantity. Implement a method total_price() that\n",
        "calculates the total price of the product"
      ],
      "metadata": {
        "id": "8GgfmMH36WvL"
      }
    },
    {
      "cell_type": "code",
      "source": [
        "# class product\n",
        "\n",
        "class Product:\n",
        "  def __init__(self, name, price, quantity):\n",
        "    self.name = name\n",
        "    self.price = price          #price per unit\n",
        "    self.quantity = quantity    # number of units\n",
        "\n",
        "  def total_price(self):\n",
        "    return self.price * self.quantity\n",
        "\n",
        "product = Product(\"Laptop\", 1500, 2)\n",
        "print(f\"The total price of {product.name} is ${product.total_price()}\")"
      ],
      "metadata": {
        "colab": {
          "base_uri": "https://localhost:8080/"
        },
        "id": "43oPWdOl05Oy",
        "outputId": "313401ff-9ebf-4663-e1c4-238e6eef69a6"
      },
      "execution_count": 66,
      "outputs": [
        {
          "output_type": "stream",
          "name": "stdout",
          "text": [
            "The total price of Laptop is $3000\n"
          ]
        }
      ]
    },
    {
      "cell_type": "markdown",
      "source": [
        "Question 16.  Create a class Animal with an abstract method sound(). Create two derived classes Cow and Sheep that\n",
        "implement the sound() method."
      ],
      "metadata": {
        "id": "tyjXysHZ788Q"
      }
    },
    {
      "cell_type": "code",
      "source": [
        "from abc import ABC, abstractmethod\n",
        "\n",
        "# Abstract Base class\n",
        "class Animal:\n",
        "  @abstractmethod\n",
        "  def sound(self):\n",
        "    pass\n",
        "\n",
        "#Derived class Animal\n",
        "class Cow(Animal):\n",
        "  def sound(self):\n",
        "    return \"Hambaa!\"\n",
        "\n",
        "#Derived class Sheep\n",
        "class Sheep(Animal):\n",
        "  def sound(self):\n",
        "    return \"Baa!\"\n",
        "\n",
        "cow = Cow()\n",
        "sheep = Sheep()\n",
        "\n",
        "\n",
        "print(f\"Cow says: {cow.sound()}\")\n",
        "print(f\"Sheep says: {sheep.sound()}\")"
      ],
      "metadata": {
        "colab": {
          "base_uri": "https://localhost:8080/"
        },
        "id": "-mVqLcnz6zGH",
        "outputId": "eeeb0c5e-a20b-4070-e336-5f66d1f190a4"
      },
      "execution_count": 71,
      "outputs": [
        {
          "output_type": "stream",
          "name": "stdout",
          "text": [
            "Cow says: Hambaa!\n",
            "Sheep says: Baa!\n"
          ]
        }
      ]
    },
    {
      "cell_type": "markdown",
      "source": [
        "Question 17. Create a class Book with attributes title, author, and year_published. Add a method get_book_info() that\n",
        "returns a formatted string with the book's details."
      ],
      "metadata": {
        "id": "nreHX1h_-jC5"
      }
    },
    {
      "cell_type": "code",
      "source": [
        "# class book used get_look_info() method to return a formatted string with the book's details\n",
        "\n",
        "class Book:\n",
        "  def __init__(self, title, author, year_published):\n",
        "    self.title = title\n",
        "    self.author = author\n",
        "    self.year_published = year_published\n",
        "\n",
        "\n",
        "  def get_book_info(self):\n",
        "    return f\"The book {self.title} written by {self.author} was Published in {self.year_published}\"\n",
        "\n",
        "book = Book(\"Data Science: Mastery\", \"Suraj Kadam\", 2025)\n",
        "print(book.get_book_info())"
      ],
      "metadata": {
        "colab": {
          "base_uri": "https://localhost:8080/"
        },
        "id": "C8iOZasJ9_pc",
        "outputId": "7ba9776d-19f8-4a02-9810-f91c38a55313"
      },
      "execution_count": 75,
      "outputs": [
        {
          "output_type": "stream",
          "name": "stdout",
          "text": [
            "The book Data Science: Mastery written by Suraj Kadam was Published in 2025\n"
          ]
        }
      ]
    },
    {
      "cell_type": "markdown",
      "source": [
        "Question 18.  Create a class House with attributes address and price. Create a derived class Mansion that adds an\n",
        "attribute number_of_rooms."
      ],
      "metadata": {
        "id": "l6HqeGCg_ZdD"
      }
    },
    {
      "cell_type": "code",
      "source": [
        "# Base class House\n",
        "\n",
        "class House:\n",
        "  def __init__(self, address, price):\n",
        "    self.address = address\n",
        "    self.price = price\n",
        "\n",
        "# Derived class Mansion\n",
        "class Mansion(House):\n",
        "  def __init__(self, address, price, number_of_rooms):\n",
        "    super().__init__(address, price)\n",
        "    self.number_of_rooms = number_of_rooms\n",
        "\n",
        "house = House(\"Wagdarwadi\", 500000)\n",
        "mansion = Mansion(\"Koregaon Park\", 5000000, 10)\n",
        "\n",
        "print(f\"House address: {house.address}, price: ${house.price}\")\n",
        "print(f\"Mansion address: {mansion.address}, price: ${mansion.price}, rooms: {mansion.number_of_rooms}\")"
      ],
      "metadata": {
        "colab": {
          "base_uri": "https://localhost:8080/"
        },
        "id": "tCg_rAOG-9r3",
        "outputId": "47a99c9a-0a81-48a1-ef11-a1019d908b5c"
      },
      "execution_count": 77,
      "outputs": [
        {
          "output_type": "stream",
          "name": "stdout",
          "text": [
            "House address: Wagdarwadi, price: $500000\n",
            "Mansion address: Koregaon Park, price: $5000000, rooms: 10\n"
          ]
        }
      ]
    }
  ]
}