{
  "nbformat": 4,
  "nbformat_minor": 0,
  "metadata": {
    "colab": {
      "provenance": []
    },
    "kernelspec": {
      "name": "python3",
      "display_name": "Python 3"
    },
    "language_info": {
      "name": "python"
    }
  },
  "cells": [
    {
      "cell_type": "markdown",
      "source": [
        "# Data Toolkit Theory Questions"
      ],
      "metadata": {
        "id": "i5pp8Q63fyO4"
      }
    },
    {
      "cell_type": "markdown",
      "source": [
        "Question 1. What is NumPy, and why is it widely used in Python?\n",
        "\n",
        "\n",
        "*   NumPy is a fundamental library in Python for scientific computing. It offers powerful features for working with multidimensional arrays and performing various mathematical operations efficiently.\n",
        "*   NumPy (Numerical Python) is an open source Python library that has a wide range of inbuilt functions.\n",
        "*   Advantage of Numpy :NumPy is ideal for handling large amounts of homogeneous (same-type) data, offering significant improvements in speed and memory efficiency. It also provides high-level syntax for a wide range of numerical operations, making it a powerful tool for scientific computing and data processing on the CPU.\n",
        "*   Key reasons why NumPy is widely used in Python include:\n",
        "\n",
        "    High performance due to arrays being stored in contiguous memory locations, allowing faster computation than Python lists.\n",
        "\n",
        "    Broadcasting that simplifies element-wise operations on arrays of different shapes.\n",
        "\n",
        "    Vectorization that eliminates the need for explicit loops by applying operations directly to entire arrays.\n",
        "\n",
        "    Its integral role in data science and machine learning, serving as the computational backbone for many other popular libraries like Pandas, Matplotlib, and Scikit-learn.\n",
        "\n",
        "    Being the base for scientific computing in Python, useful for mathematical, logical, and shape manipulation operations in numerous domains."
      ],
      "metadata": {
        "id": "YtaDSXL4fySx"
      }
    },
    {
      "cell_type": "markdown",
      "source": [
        "Question 2. How does broadcasting work in NumPy?\n",
        "\n",
        "*   Broadcasting in NumPy is a powerful mechanism that allows arithmetic operations to be performed on arrays with different shapes by automatically expanding the smaller array's shape to match the larger one.\n",
        "*   Broadcasting enables element-wise operations without needing to explicitly reshape arrays or use loops, making computations more efficient.\n",
        "*   The way broadcasting works follows these key rules:\n",
        "\n",
        "    If arrays have different numbers of dimensions, NumPy pads the shape of the smaller array with ones on the left until both arrays have the same number of dimensions.\n",
        "\n",
        "    For each dimension, the size of the arrays must either be equal or one of them must be 1.\n",
        "\n",
        "    Broadcasting is applied starting from the last dimension and moving backward to the first.\n",
        "\n",
        "    If these conditions are not met, a broadcasting error occurs.\n",
        "*   The below python code demonstrate the broadcasting in numpy"
      ],
      "metadata": {
        "id": "qHxiIYGAfyVz"
      }
    },
    {
      "cell_type": "code",
      "source": [
        "import numpy as np\n",
        "\n",
        "a = np.array([[1, 2, 3], [4, 5, 6]])  # Shape: (2, 3)\n",
        "b = np.array([10, 20, 30])           # Shape: (3,)\n",
        "\n",
        "\"\"\"\n",
        "Shapes: (2, 3) and (3,).\n",
        "(3,) is padded to (1, 3).\n",
        "Dimension of size 1 in b is stretched to 2, making b act like [[10, 20, 30], [10, 20, 30]].\n",
        "Element-wise addition is performed.\n",
        "\n",
        "\"\"\"\n",
        "\n",
        "result = a + b\n",
        "result"
      ],
      "metadata": {
        "colab": {
          "base_uri": "https://localhost:8080/"
        },
        "id": "BdRORKVoYkn4",
        "outputId": "583da8b4-002f-44ee-cda2-579d97fd39e3"
      },
      "execution_count": 2,
      "outputs": [
        {
          "output_type": "execute_result",
          "data": {
            "text/plain": [
              "array([[11, 22, 33],\n",
              "       [14, 25, 36]])"
            ]
          },
          "metadata": {},
          "execution_count": 2
        }
      ]
    },
    {
      "cell_type": "markdown",
      "source": [
        "Question 3. What is a Pandas DataFrame?\n",
        "\n",
        "\n",
        "*   A Pandas DataFrame is a two-dimensional, size-mutable, and potentially heterogeneous tabular data structure in Python that organizes data into rows and columns with labeled axes. It can be thought of as similar to a spreadsheet or SQL table, where each column can contain different types of data (e.g., integers, floats, strings), and each row and column has a unique label (index for rows and column names for columns).\n",
        "*   DataFrames provide an efficient and flexible way to manipulate, analyze, and organize structured data. They support a wide range of operations such as filtering, sorting, merging, grouping, and arithmetic operations on rows and columns. Data can be loaded into a DataFrame from various sources, including lists, dictionaries, NumPy arrays, CSV files, Excel spreadsheets, SQL databases, and more.\n",
        "*   The DataFrame is the core data structure in Pandas, widely used in data science and analysis due to its ability to handle diverse data types, label-based indexing, and ease of use with tabular data.\n",
        "*   The below example demonstrate the use of dataframe in python"
      ],
      "metadata": {
        "id": "k2khxotEfyYb"
      }
    },
    {
      "cell_type": "code",
      "source": [
        "import pandas as pd\n",
        "\n",
        "# Creating a DataFrame from a dictionary\n",
        "data = {'Name': ['Suraj', 'Siddhesh', 'Mrunal'], 'Age': [25, 23, 25], 'City': ['New York', 'London', 'Paris']}\n",
        "df = pd.DataFrame(data)\n",
        "\n",
        "print(df)"
      ],
      "metadata": {
        "colab": {
          "base_uri": "https://localhost:8080/"
        },
        "id": "CeNEJmKDmMia",
        "outputId": "e57e1484-8cb9-4363-8907-fba54ba6fd01"
      },
      "execution_count": 3,
      "outputs": [
        {
          "output_type": "stream",
          "name": "stdout",
          "text": [
            "       Name  Age      City\n",
            "0     Suraj   25  New York\n",
            "1  Siddhesh   23    London\n",
            "2    Mrunal   25     Paris\n"
          ]
        }
      ]
    },
    {
      "cell_type": "markdown",
      "source": [
        "Question 4. Explain the use of the groupby() method in Pandas.\n",
        "\n",
        "\n",
        "*   The groupby() method in Pandas is used to group data in a DataFrame or Series based on one or more columns, allowing you to perform operations like aggregation, transformation, or filtering on the grouped data. It's a powerful tool for data analysis, enabling you to split data into groups, apply functions to each group, and combine the results.\n",
        "*   The groupby() method follows a \"split-apply-combine\" strategy :\n",
        "\n",
        "    Splitting: The data is split into groups based on the unique values in the specified columns.\n",
        "\n",
        "    Applying: A function (such as sum, mean, count, etc.) is applied independently to each group.\n",
        "\n",
        "    Combining: The results are combined into a new DataFrame or Series.\n",
        "*   Key features and usage:\n",
        "\n",
        "    We can group by one or multiple columns.\n",
        "\n",
        "    Various aggregation functions like sum, mean, count, min, max, etc., can be applied to groups.\n",
        "\n",
        "    It supports transformations, filtering groups based on conditions, and more.\n",
        "\n",
        "    The method returns a GroupBy object, which you can use to apply further functions.\n",
        "\n",
        "    We can control parameters like sorting the group keys, whether to use group labels as the index, handling of missing values, and grouping along rows or columns.\n",
        "*   The below python code demonstrate the use of groupby() method in python"
      ],
      "metadata": {
        "id": "wG_jp70rfybr"
      }
    },
    {
      "cell_type": "code",
      "source": [
        "import pandas as pd\n",
        "\n",
        "# Sample DataFrame\n",
        "df = pd.DataFrame({\n",
        "    'Category': ['A', 'B', 'A', 'B', 'A'],\n",
        "    'Value': [10, 20, 15, 25, 30]\n",
        "})\n",
        "\n",
        "print(df)\n",
        "\n",
        "# Group by 'Category' and calculate the mean of 'Value'\n",
        "result = df.groupby('Category')['Value'].mean()\n",
        "print(result)"
      ],
      "metadata": {
        "colab": {
          "base_uri": "https://localhost:8080/"
        },
        "id": "8iCfLCmqpF-K",
        "outputId": "62edf421-1b79-4c52-db70-7c65abb64922"
      },
      "execution_count": 6,
      "outputs": [
        {
          "output_type": "stream",
          "name": "stdout",
          "text": [
            "  Category  Value\n",
            "0        A     10\n",
            "1        B     20\n",
            "2        A     15\n",
            "3        B     25\n",
            "4        A     30\n",
            "Category\n",
            "A    18.333333\n",
            "B    22.500000\n",
            "Name: Value, dtype: float64\n"
          ]
        }
      ]
    },
    {
      "cell_type": "markdown",
      "source": [
        "Question 5. Why is Seaborn preferred for statistical visualizations?\n",
        "\n",
        "\n",
        "*   Seaborn is preferred for statistical visualizations in Python because it is a high-level library built on top of Matplotlib that simplifies the creation of complex statistical plots with less code. It provides several key advantages:\n",
        "\n",
        "    Beautiful, informative default styles and color palettes that improve the aesthetics of plots without requiring much customization.\n",
        "\n",
        "    Specialized statistical plot types like violin plots, box plots, heatmaps, and cluster maps, which are either complex or unavailable in Matplotlib.\n",
        "\n",
        "    Seamless integration with Pandas DataFrames, allowing easy visualization of data directly from tabular datasets.\n",
        "\n",
        "    Simplified syntax and higher-level interface make complex visualizations quicker and easier to create compared to Matplotlib.\n",
        "\n",
        "    Automatic management of plot elements to reduce overlapping and enhance clarity in visualizations.\n",
        "*   While Matplotlib offers more customization and fine-grained control useful for detailed plotting, Seaborn’s ease of use, attractive default themes, and focus on statistical data make it the go-to choice for exploratory data analysis and statistical graphics."
      ],
      "metadata": {
        "id": "dso1x9rhfyf9"
      }
    },
    {
      "cell_type": "markdown",
      "source": [
        "Question 6.  What are the differences between NumPy arrays and Python lists?\n",
        "\n",
        "\n",
        "*   NumPy arrays can store elements of the same data type (e.g., all integers or all floats), which allows for optimized memory usage and faster computations. While python lists can store elements of different data types (e.g., integers, strings, floats) in the same list, offering flexibility but less efficiency.\n",
        "*   NumPy arrays uses contiguous blocks of memory and fixed data types, resulting in lower memory overhead and faster access. While python lists store elements as separate objects with pointers, leading to higher memory usage and slower access.\n",
        "*   NumPy arrays are optimized for numerical operations, leveraging compiled C code for vectorized operations, making them much faster for mathematical computations (e.g., element-wise addition, multiplication). While python lists are Slower for numerical operations due to Python's interpreted nature and lack of vectorization; operations often require explicit loops.\n",
        "*   NumPy arrays support advanced mathematical operations (e.g., matrix multiplication, dot products, broadcasting) and multidimensional arrays (e.g., 2D matrices, 3D tensors). While python lists support to limited basic operations like appending, slicing, and concatenation; no built-in support for multidimensional arrays or advanced math.\n",
        "*   NumPy arrays have fixed size upon creation; resizing requires creating a new array, which can be computationally expensive. While python lists have dynamic size, allowing easy appending, extending, or removing elements.\n",
        "*   NumPy arrays Support advanced indexing (e.g., boolean indexing, fancy indexing) and multidimensional slicing (e.g., array[1:3, 2:4] for 2D arrays). While python lists support basic indexing and slicing, but lack advanced indexing features and multidimensional support.\n",
        "*   NumPy arrays are ideal for scientific computing, data analysis, machine learning, and large-scale numerical tasks (e.g., used in libraries like Pandas, SciPy). While python lists are Better for general-purpose tasks, small datasets, or when flexibility with mixed data types is needed."
      ],
      "metadata": {
        "id": "zvjwlNKwfyjt"
      }
    },
    {
      "cell_type": "markdown",
      "source": [
        "Question 7. What is a heatmap, and when should it be used?\n",
        "\n",
        "\n",
        "*   A heatmap is a two-dimensional data visualization technique in which numerical values are represented by colors in a grid or matrix format. Each cell in the grid corresponds to a data point, and its color intensity or hue reflects the magnitude of that value. Typically, warm colors (like red) represent higher values while cooler colors (like blue) represent lower values.\n",
        "*   Heatmaps provide an intuitive and compact way to identify patterns, trends, correlations, and anomalies across large datasets. They are particularly useful when comparing multiple variables or observing data density and distribution visually.\n",
        "*   When to use heatmaps:\n",
        "\n",
        "    To quickly visualize complex data and reveal underlying patterns.\n",
        "\n",
        "    To compare values across two categorical or continuous variables.\n",
        "\n",
        "    For correlation matrices in statistics to see relationships between variables.\n",
        "\n",
        "    In areas like biology, finance, marketing, and social sciences where large data matrices need summarization.\n",
        "\n",
        "    To identify hotspots or concentrations, for example, website user-click activity or weather data."
      ],
      "metadata": {
        "id": "01WZK65ufypH"
      }
    },
    {
      "cell_type": "markdown",
      "source": [
        "Question 8. What does the term “vectorized operation” mean in NumPy?\n",
        "\n",
        "\n",
        "*   In NumPy, a vectorized operation refers to performing mathematical or logical operations directly on entire arrays without the need for explicit loops. Instead of iterating over elements one by one, vectorized operations apply the computation simultaneously to all elements of the array, leveraging optimized low-level implementations.\n",
        "*   Vectorized operation in NumPy is significantly faster execution compared to Python loops. It is Cleaner, uses more concise code by eliminating explicit iteration. And supports for element-wise arithmetic, comparison, logical operations, and more.\n",
        "*   The concept of vectorization is central to NumPy's efficiency as it enables use of compiled code and hardware optimizations rather than slower interpreted loops.\n",
        "*   The below python code demonstrate the addition of a number to every element in a NumPy array and it happens with vectorization:"
      ],
      "metadata": {
        "id": "gyyYH0lOfysG"
      }
    },
    {
      "cell_type": "code",
      "source": [
        "import numpy as np\n",
        "arr = np.array([1, 2, 3])\n",
        "result = arr + 10  # Adds 10 to each element simultaneously\n",
        "result"
      ],
      "metadata": {
        "colab": {
          "base_uri": "https://localhost:8080/"
        },
        "id": "2njS16L9yOFc",
        "outputId": "74764e6d-22aa-433a-f494-f09331f98f16"
      },
      "execution_count": 8,
      "outputs": [
        {
          "output_type": "execute_result",
          "data": {
            "text/plain": [
              "array([11, 12, 13])"
            ]
          },
          "metadata": {},
          "execution_count": 8
        }
      ]
    },
    {
      "cell_type": "markdown",
      "source": [
        "Question 9. How does Matplotlib differ from Plotly?\n",
        "\n",
        "\n",
        "*   Purpose and Design:\n",
        "    \n",
        "    Matplotlib is a Python library primarily designed for creating static, high-quality, publication-ready visualizations (e.g., plots, charts) with fine-grained control over every aspect of the figure. While plotly is a Python library (and JavaScript-based platform) focused on creating interactive, web-based visualizations that are dynamic and suitable for web applications or dashboards.\n",
        "*   Output Type:\n",
        "\n",
        "    Matplotlib generates static images (e.g., PNG, SVG, PDF) by default, ideal for reports, papers, or offline use, though it supports limited interactivity through widgets. While plotly produces interactive HTML-based visualizations that allow zooming, panning, hovering for data details, and embedding in web pages.\n",
        "*   Ease of Use:\n",
        "\n",
        "    Matplotlib requires more code for customization and complex visualizations, offering a lower-level interface that can be verbose for beginners. While plotly provides a higher-level, more user-friendly API (e.g., Plotly Express) for quick creation of complex, interactive plots with less code.\n",
        "*   Performance:\n",
        "    \n",
        "    Matplotlib is optimized for rendering static plots and handles large datasets well for offline use but can be slower for real-time interactivity. While plotly is optimized for web-based interactivity, but performance may degrade with very large datasets due to browser rendering limitations.\n",
        "*   Customization and Flexibility:\n",
        "\n",
        "    Matplotlib offers extensive customization options for every plot element (e.g., axes, ticks, colors), making it ideal for detailed, tailored visualizations. While plotly provides good customization but is more constrained by its web-based framework and predefined styles.\n",
        "*   Deployment and Integration:\n",
        "\n",
        "    Matplotlib is primarily used in Python environments like Jupyter notebooks or scripts and integrates well with NumPy and Pandas. While plotly supports both Python and web-based deployment, with seamless integration into web applications (e.g., Dash) and online sharing via Plotly’s cloud platform.\n",
        "*   Community and Ecosystem:\n",
        "    \n",
        "    Matplotlib is a mature, widely-used library with a large community, extensive documentation, and integration with many Python scientific libraries. While plotly has a growing community, strong support for web-based tools, and a commercial backing (Plotly Inc.) with features like Dash for building dashboards."
      ],
      "metadata": {
        "id": "nR-xTzx1fywO"
      }
    },
    {
      "cell_type": "markdown",
      "source": [
        "Question 10. What is the significance of hierarchical indexing in Pandas?\n",
        "\n",
        "\n",
        "*   Hierarchical indexing in Pandas, also known as multi-indexing, allows a DataFrame or Series to have multiple index levels on an axis, enabling the representation of higher-dimensional data within a two-dimensional data structure.\n",
        "*   The significance of hierarchical indexing lies in its ability to:\n",
        "\n",
        "    Efficiently organize complex or multi-dimensional datasets by grouping data at multiple levels (e.g., region, then state, then city).\n",
        "\n",
        "    Enable intuitive and flexible data access and slicing using multiple keys, which simplifies querying and filtering.\n",
        "\n",
        "    Facilitate advanced data analysis such as multi-level aggregation, grouping, and reshaping with ease.\n",
        "\n",
        "    Support modeling of hierarchical relationships naturally present in data, like organizational structures, geographical hierarchies, or time-series data with multiple nested categories.\n",
        "\n",
        "    Improve performance in multi-dimensional queries by leveraging sorted multi-level indexes.\n",
        "\n",
        "    Allow combining and merging datasets on multiple index levels effectively.\n",
        "*   Hierarchical indexing in Pandas enhances data organization, accessibility, and analysis, making it a critical tool for working with complex, multidimensional datasets efficiently."
      ],
      "metadata": {
        "id": "Sr5oq3Znfyz0"
      }
    },
    {
      "cell_type": "markdown",
      "source": [
        "Question 11.  What is the role of Seaborn's pairplot() function?\n",
        "\n",
        "\n",
        "*   Seaborn's pairplot() function is a powerful visualization tool used for exploratory data analysis to visualize pairwise relationships between multiple variables in a dataset.\n",
        "\n",
        "*   Its key roles are:\n",
        "\n",
        "    Visualizing Pairwise Relationships:\n",
        "    \n",
        "    pairplot() creates a grid of scatter plots for each pair of numerical variables in a dataset, showing the relationship (e.g., correlation, trends) between them. This helps identify patterns, such as linear or non-linear relationships, clusters, or outliers.\n",
        "\n",
        "    Diagonal Representation:\n",
        "    \n",
        "    The diagonal of the grid typically displays univariate distributions (e.g., histograms or kernel density estimates) for each variable, providing insight into the distribution and spread of individual variables.\n",
        "\n",
        "    Categorical Differentiation:\n",
        "\n",
        "    It supports coloring or styling points based on a categorical variable (via the hue parameter), making it easy to visualize how different groups or categories behave across variable pairs.\n",
        "\n",
        "    Quick Exploratory Analysis:\n",
        "    \n",
        "    pairplot() is a convenient, high-level function to quickly generate a comprehensive overview of a dataset’s structure, especially useful for understanding correlations and distributions before applying machine learning or statistical models.\n",
        "\n",
        "    Customization Options:\n",
        "    \n",
        "    It allows customization of plot types (e.g., scatter, regression, or kernel density plots via the kind parameter), aesthetics, and subsets of variables, enabling tailored visualizations for specific needs."
      ],
      "metadata": {
        "id": "hLevNoXBfzC9"
      }
    },
    {
      "cell_type": "markdown",
      "source": [
        "Question 12.  What is the purpose of the describe() function in Pandas?\n",
        "\n",
        "*   The describe() function in Pandas is used to generate a statistical summary of a DataFrame or Series, providing a quick overview of key descriptive statistics for numerical and, optionally, categorical data.\n",
        "*   Its primary purposes are:\n",
        "\n",
        "    Summarize Numerical Data:\n",
        "    \n",
        "    For numerical columns, describe() computes statistics such as count, mean, standard deviation, minimum, maximum, and quartiles (25th, 50th, and 75th percentiles). This helps understand the central tendency, dispersion, and range of the data.\n",
        "\n",
        "    Quick Data Exploration:\n",
        "    \n",
        "    It offers a concise way to explore the distribution and characteristics of data during exploratory data analysis, identifying potential outliers or unusual patterns without manual calculations.\n",
        "\n",
        "    Categorical Data Summary:\n",
        "    \n",
        "    When applied to categorical or object-type columns (using include='object' or include='all'), it provides statistics like count, unique values, the most frequent value (mode), and its frequency, aiding in understanding categorical distributions.\n",
        "\n",
        "    Handling Missing Values:\n",
        "    \n",
        "    The count statistic reflects non-null values, helping identify missing data in each column.\n",
        "\n",
        "    Customizable Output:\n",
        "    \n",
        "    The function allows customization via parameters like percentiles to include specific quantiles or include/exclude to specify data types, making it flexible for different analysis needs.\n",
        "\n",
        "*   The below python code demonstarte the use of describe() function in pandas."
      ],
      "metadata": {
        "id": "pYeE-Y8BfzF4"
      }
    },
    {
      "cell_type": "code",
      "source": [
        "import pandas as pd\n",
        "\n",
        "# Sample DataFrame\n",
        "data = {\n",
        "    'sales': [100, 200, 150, 300, 250],\n",
        "    'profit': [10, 20, 15, 30, 25],\n",
        "    'region': ['North', 'South', 'East', 'West', 'North']\n",
        "}\n",
        "df = pd.DataFrame(data)\n",
        "\n",
        "# Summary for numerical columns\n",
        "print(\"Numerical Summary:\")\n",
        "print(df.describe())\n",
        "\n",
        "# Summary for categorical columns\n",
        "print(\"\\nCategorical Summary:\")\n",
        "print(df.describe(include='object'))"
      ],
      "metadata": {
        "colab": {
          "base_uri": "https://localhost:8080/"
        },
        "id": "yOhkogkA-9oL",
        "outputId": "d4b846f9-995a-4eea-d54a-d36edb043449"
      },
      "execution_count": 9,
      "outputs": [
        {
          "output_type": "stream",
          "name": "stdout",
          "text": [
            "Numerical Summary:\n",
            "            sales     profit\n",
            "count    5.000000   5.000000\n",
            "mean   200.000000  20.000000\n",
            "std     79.056942   7.905694\n",
            "min    100.000000  10.000000\n",
            "25%    150.000000  15.000000\n",
            "50%    200.000000  20.000000\n",
            "75%    250.000000  25.000000\n",
            "max    300.000000  30.000000\n",
            "\n",
            "Categorical Summary:\n",
            "       region\n",
            "count       5\n",
            "unique      4\n",
            "top     North\n",
            "freq        2\n"
          ]
        }
      ]
    },
    {
      "cell_type": "markdown",
      "source": [
        "Question 13.  Why is handling missing data important in Pandas?\n",
        "\n",
        "*   Handling missing data in Pandas is critical for ensuring accurate and reliable data analysis and modeling. Key reasons that handling missing data is important:\n",
        "\n",
        "    Data Integrity and Accuracy:\n",
        "    \n",
        "    Missing data can skew statistical analyses (e.g., mean, median) or machine learning model predictions, leading to incorrect conclusions or poor performance. Properly handling missing values ensures results reflect the true underlying patterns.\n",
        "\n",
        "    Preventing Errors in Computations:\n",
        "    \n",
        "    Many Pandas operations (e.g., groupby, merge, or numerical computations) may fail or produce unexpected results if missing values (NaN, None) are not addressed, as they can propagate through calculations.\n",
        "\n",
        "    Improved Model Performance:\n",
        "    \n",
        "    Machine learning models often require complete datasets. Missing data can cause models to fail or perform poorly, so handling it (e.g., imputation or removal) ensures models are trained on consistent, meaningful data.\n",
        "\n",
        "    Maintaining Data Consistency:\n",
        "    \n",
        "    Missing values can arise from data collection errors, incomplete records, or merging datasets. Addressing them ensures consistency across datasets, especially when combining multiple sources.\n",
        "\n",
        "    Enhanced Data Exploration:\n",
        "    \n",
        "    Missing data can obscure patterns during exploratory data analysis. Handling it allows for clearer visualizations and summaries (e.g., using describe() or Seaborn’s pairplot()), aiding in better understanding of the data.\n",
        "\n",
        "    Customizable Handling Options:\n",
        "    \n",
        "    Pandas provides flexible tools like isna(), fillna(), dropna(), and interpolation to handle missing data tailored to the dataset’s context (e.g., filling with mean, median, or domain-specific values), preserving data quality.\n",
        "\n",
        "*   For an example, in a sales dataset with missing profit values, ignoring them could distort average profit calculations or bias a predictive model. Filling missing profits with the median or removing incomplete rows can lead to more accurate insights."
      ],
      "metadata": {
        "id": "-4UwI4LzfzNG"
      }
    },
    {
      "cell_type": "markdown",
      "source": [
        "Question 14. What are the benefits of using Plotly for data visualization?\n",
        "\n",
        "\n",
        "Following are the benefits of using plotly for data visualization:\n",
        "\n",
        "*   Interactivity:\n",
        "\n",
        "    Plotly creates highly interactive charts with features like zooming, panning, hovering tooltips, and clickable elements, which enhance data exploration and user engagement.\n",
        "\n",
        "*   Web Integration:\n",
        "\n",
        "    Plotly visualizations can be easily embedded in web applications, dashboards, and reports, making it ideal for sharing insights interactively with a broad audience.\n",
        "\n",
        "*   Wide Range of Chart Types:\n",
        "\n",
        "    It supports over 40 chart types, including 3D plots, contour plots, dendrograms, and specialized statistical charts, covering diverse visualization needs.\n",
        "\n",
        "*   Ease of Use:\n",
        "\n",
        "    Plotly's high-level API, especially Plotly Express, allows creation of complex visualizations with minimal code, making it accessible for beginners and efficient for experts.\n",
        "\n",
        "*   Customization:\n",
        "\n",
        "    Offers extensive customization options for styling, annotations, layouts, and interactive controls to make visualizations tailored to specific requirements.\n",
        "\n",
        "*   Cross-Language Support:\n",
        "\n",
        "    Besides Python, Plotly supports R, JavaScript, and other languages, increasing its versatility across different development environments.\n",
        "\n",
        "*   Open Source:\n",
        "\n",
        "    Plotly's open-source nature enables community contributions and wide adoption, offering a rich ecosystem of tools and extensions."
      ],
      "metadata": {
        "id": "xqQ7968-fzVF"
      }
    },
    {
      "cell_type": "markdown",
      "source": [
        "Question 15. How does NumPy handle multidimensional arrays?\n",
        "\n",
        "\n",
        "*   NumPy is designed to efficiently handle multidimensional arrays (also called ndarrays), which are central to its functionality.\n",
        "\n",
        "*   The following are the ways about how NumPy handle multidimensional arrays:\n",
        "\n",
        "    Efficient Storage:\n",
        "    \n",
        "    NumPy stores multidimensional arrays in contiguous blocks of memory with a fixed data type (e.g., int32, float64), reducing memory overhead and enabling fast access compared to Python lists, which store pointers to objects.\n",
        "\n",
        "    Flexible Array Creation:\n",
        "    \n",
        "    NumPy provides functions to create multidimensional arrays, such as np.array(), np.zeros(), np.ones(), or np.arange().reshape(), allowing easy specification of dimensions (e.g., 2D matrices, 3D tensors).\n",
        "\n",
        "    Shape and Dimension Management:\n",
        "    \n",
        "    Each ndarray has a shape attribute (a tuple indicating the size of each dimension) and ndim (number of dimensions). You can reshape arrays using reshape() or modify dimensions with expand_dims() or squeeze(), maintaining data integrity.\n",
        "\n",
        "    Indexing and Slicing:\n",
        "    \n",
        "    NumPy supports intuitive indexing and slicing for multidimensional arrays (e.g., array[i, j] for 2D arrays or array[i, :, k] for 3D arrays), allowing precise access to elements, rows, columns, or subarrays.\n",
        "\n",
        "    Vectorized Operations:\n",
        "    \n",
        "    NumPy performs element-wise operations (e.g., addition, multiplication) across entire multidimensional arrays without explicit loops, leveraging optimized C code for speed. Broadcasting extends this to arrays of different shapes when compatible.\n",
        "\n",
        "    Advanced Mathematical Operations:\n",
        "    \n",
        "    NumPy supports matrix operations (e.g., np.dot(), np.matmul() for matrix multiplication), linear algebra functions (e.g., np.linalg.inv()), and statistical operations (e.g., np.mean(axis=0)) on multidimensional arrays, simplifying complex computations.\n",
        "\n",
        "    Memory Efficiency and Performance:\n",
        "\n",
        "    By using fixed data types and contiguous memory, NumPy minimizes overhead and maximizes cache efficiency, making operations on large multidimensional arrays significantly faster than Python lists.\n",
        "\n",
        "*   The below python code demonstrate that how NumPy handle multidimensional arrays."
      ],
      "metadata": {
        "id": "ATomeHt2fzbd"
      }
    },
    {
      "cell_type": "code",
      "source": [
        "import numpy as np\n",
        "\n",
        "# Create a 2x3x2 3D array\n",
        "array = np.array([[[1, 2], [3, 4], [5, 6]], [[7, 8], [9, 10], [11, 12]]])\n",
        "\n",
        "print(\"Shape:\", array.shape)  # (2, 3, 2)\n",
        "print(\"Array:\\n\", array)\n",
        "print(\"Slice [0, :, 1]:\\n\", array[0, :, 1])  # [2, 4, 6]\n",
        "print(\"Element-wise multiplication:\\n\", array * 2)"
      ],
      "metadata": {
        "colab": {
          "base_uri": "https://localhost:8080/"
        },
        "id": "f5kN4_31CNZJ",
        "outputId": "a1240844-df5b-4885-c62b-76db0304712a"
      },
      "execution_count": 10,
      "outputs": [
        {
          "output_type": "stream",
          "name": "stdout",
          "text": [
            "Shape: (2, 3, 2)\n",
            "Array:\n",
            " [[[ 1  2]\n",
            "  [ 3  4]\n",
            "  [ 5  6]]\n",
            "\n",
            " [[ 7  8]\n",
            "  [ 9 10]\n",
            "  [11 12]]]\n",
            "Slice [0, :, 1]:\n",
            " [2 4 6]\n",
            "Element-wise multiplication:\n",
            " [[[ 2  4]\n",
            "  [ 6  8]\n",
            "  [10 12]]\n",
            "\n",
            " [[14 16]\n",
            "  [18 20]\n",
            "  [22 24]]]\n"
          ]
        }
      ]
    },
    {
      "cell_type": "markdown",
      "source": [
        "Question 16. What is the role of Bokeh in data visualization?\n",
        "\n",
        "\n",
        "*   Bokeh is a Python library designed for creating interactive, web-based visualizations that are particularly suited for modern web browsers and data-driven applications.\n",
        "\n",
        "Its key roles in data visualization include:\n",
        "\n",
        "*   Interactive Visualizations:\n",
        "\n",
        "    Bokeh enables the creation of dynamic, interactive plots (e.g., scatter, line, bar) that support user interactions like zooming, panning, hovering for tooltips, and selecting data points, enhancing exploratory data analysis.\n",
        "\n",
        "*   Web-Based Output:\n",
        "\n",
        "    It generates HTML and JavaScript-based visualizations, making plots easily embeddable in web applications, dashboards, or Jupyter notebooks, with seamless rendering in browsers.\n",
        "\n",
        "*   High-Level and Low-Level APIs:\n",
        "\n",
        "    Bokeh offers a high-level interface (e.g., bokeh.plotting) for quick plot creation and a low-level interface (e.g., bokeh.models) for fine-grained control, catering to both beginners and advanced users needing custom visualizations.\n",
        "\n",
        "*   Rich Customization:\n",
        "\n",
        "    Bokeh provides extensive options for customizing plot aesthetics (e.g., colors, glyphs, axes, legends), allowing the creation of visually appealing, professional-grade plots tailored to specific needs.\n",
        "\n",
        "*   Support for Large Datasets:\n",
        "\n",
        "    Bokeh efficiently handles large datasets through features like data streaming and downsampling, making it suitable for real-time or big data visualization tasks.\n",
        "\n",
        "\n",
        "*   Integration with Python Ecosystem:\n",
        "    \n",
        "    It integrates seamlessly with Pandas, NumPy, and other Python libraries, enabling smooth workflows for data preprocessing and visualization in data science pipelines.\n",
        "\n",
        "*   Server-Based Applications:\n",
        "\n",
        "    Bokeh supports the creation of interactive data applications via the Bokeh Server, allowing real-time updates and complex interactivity (e.g., dashboards with linked plots or widgets).\n",
        "\n",
        "*   Versatile Plot Types:\n",
        "    \n",
        "    Bokeh supports a wide range of visualizations, including statistical plots, time series, geospatial maps, and network graphs, making it versatile for various domains like finance, science, and business analytics."
      ],
      "metadata": {
        "id": "x2yxlUEyfzhz"
      }
    },
    {
      "cell_type": "markdown",
      "source": [
        "Question 17. Explain the difference between apply() and map() in Pandas\n",
        "\n",
        "\n",
        "*   In Pandas, both apply() and map() are used to transform data, but they differ in their scope, usage, and functionality. apply() works on a Pandas DataFrame (across rows or columns) or Series. When used on a DataFrame, it applies a function along an axis (rows or columns). When used on a Series, it applies a function to each element. While map() exclusively works on a Pandas Series (not DataFrames). It applies a function or mapping (e.g., dictionary) to each element of the Series.\n",
        "*   apply() can apply any Python function (custom or built-in) that operates on a single value, Series, or row/column of a DataFrame. It's flexible for complex operations, including those involving multiple columns or row-wise calculations. While\n",
        "map() applies a function or a mapping (e.g., dictionary or lambda) to each element of a Series. It's primarily used for element-wise transformations or substitutions based on a mapping.\n",
        "*   apply() is ideal for complex transformations, such as applying a custom function to each row/column of a DataFrame or performing element-wise operations on a Series that require more logic. While map() is best for simple element-wise transformations or replacing values in a Series using a mapping (e.g., dictionary for lookups or a function).\n",
        "*   Generally apply() is slower because it's more flexible and not optimized for vectorized operations, especially when used on large DataFrames or Series. While map() is typically faster than apply() for Series operations, as it's optimized for element-wise transformations, but still not as fast as vectorized operations (e.g., using NumPy).\n",
        "*   apply() returns a Series when applied to a Series, or a Series/DataFrame when applied to a DataFrame, depending on the function and axis. While\n",
        "map() Always returns a Series, as it only operates on Series.\n",
        "*   The below python code demonstrate the difference between apply() and map() in pandas"
      ],
      "metadata": {
        "id": "vRVvOzybfzl_"
      }
    },
    {
      "cell_type": "code",
      "source": [
        "import pandas as pd\n",
        "\n",
        "# Sample DataFrame\n",
        "df = pd.DataFrame({'A': [1, 2, 3], 'B': [4, 5, 6]})\n",
        "print(df)\n",
        "\n",
        "\n",
        "# Using apply() on a DataFrame (row-wise)\n",
        "def sum_row(row):\n",
        "    return row['A'] + row['B']\n",
        "df['sum'] = df.apply(sum_row, axis=1)\n",
        "print(\"Using apply on DataFrame:\\n\", df)\n",
        "\n",
        "# Using apply() on a Series\n",
        "series = pd.Series([1, 2, 3])\n",
        "print(\"\\nUsing apply on Series:\\n\", series.apply(lambda x: x * 2))\n",
        "\n",
        "# Using map() on a Series\n",
        "mapping = {1: 'one', 2: 'two', 3: 'three'}\n",
        "print(\"\\nUsing map on Series:\\n\", series.map(mapping))"
      ],
      "metadata": {
        "colab": {
          "base_uri": "https://localhost:8080/"
        },
        "id": "90RFzzbZcRSq",
        "outputId": "b057550f-79b9-494f-8a44-3fe94e7f5b6d"
      },
      "execution_count": 11,
      "outputs": [
        {
          "output_type": "stream",
          "name": "stdout",
          "text": [
            "   A  B\n",
            "0  1  4\n",
            "1  2  5\n",
            "2  3  6\n",
            "Using apply on DataFrame:\n",
            "    A  B  sum\n",
            "0  1  4    5\n",
            "1  2  5    7\n",
            "2  3  6    9\n",
            "\n",
            "Using apply on Series:\n",
            " 0    2\n",
            "1    4\n",
            "2    6\n",
            "dtype: int64\n",
            "\n",
            "Using map on Series:\n",
            " 0      one\n",
            "1      two\n",
            "2    three\n",
            "dtype: object\n"
          ]
        }
      ]
    },
    {
      "cell_type": "markdown",
      "source": [
        "Question 18.  What are some advanced features of NumPy?\n",
        "\n",
        "NumPy is a powerful library for numerical computing in Python, offering advanced features that enhance its utility for scientific computing, data analysis, and machine learning. Below are some key advanced features:\n",
        "\n",
        "*   Broadcasting:\n",
        "\n",
        "    NumPy allows operations on arrays of different shapes and sizes without explicit looping. Broadcasting automatically expands smaller arrays to match the shape of larger ones, enabling efficient element-wise operations.\n",
        "\n",
        "    Example: Adding a scalar to an array (array + 5) or multiplying arrays of shapes (3, 2) and (3, 1) by aligning dimensions.\n",
        "\n",
        "\n",
        "*   Advanced Indexing:\n",
        "\n",
        "    NumPy supports advanced indexing techniques, such as integer array indexing, boolean indexing, and fancy indexing, to access or modify specific elements, rows, or columns of multidimensional arrays efficiently.\n",
        "\n",
        "    Example: array[array > 0] selects all positive elements; array[[0, 2], [1, 3]] picks specific elements.\n",
        "\n",
        "\n",
        "*   Linear Algebra Operations:\n",
        "\n",
        "    NumPy provides a numpy.linalg module for advanced linear algebra, including matrix multiplication (np.dot, np.matmul), matrix inversion (np.linalg.inv), eigenvalues (np.linalg.eig), singular value decomposition (SVD), and solving linear systems.\n",
        "\n",
        "    Example: np.linalg.solve(A, b) solves the system Ax = b.\n",
        "\n",
        "\n",
        "*   Random Number Generation:\n",
        "\n",
        "    The numpy.random module offers sophisticated random number generation, including sampling from various distributions (e.g., normal, uniform, Poisson), permutations, and seed control for reproducibility.\n",
        "\n",
        "    Example: np.random.normal(loc=0, scale=1, size=(2, 3)) generates a 2x3 array of normally distributed values.\n",
        "\n",
        "\n",
        "*   Fourier Transforms:\n",
        "\n",
        "    NumPy's numpy.fft module supports fast Fourier transforms (FFT) for signal processing, enabling frequency-domain analysis of data.\n",
        "\n",
        "    Example: np.fft.fft(signal) computes the discrete Fourier transform of a signal.\n",
        "\n",
        "\n",
        "*   Masked Arrays:\n",
        "\n",
        "    The numpy.ma module allows handling of arrays with missing or invalid data by masking elements, useful for ignoring specific values during computations without modifying the original array.\n",
        "\n",
        "    Example: np.ma.masked_where(array < 0, array) masks negative values.\n",
        "\n",
        "\n",
        "*   Structured Arrays and Record Arrays:\n",
        "    \n",
        "    NumPy supports arrays with custom data types (e.g., mixed types like integers and strings), enabling structured data handling similar to a database or spreadsheet.\n",
        "\n",
        "    Example: np.array([(1, 'Alice'), (2, 'Bob')], dtype=[('id', int), ('name', 'U10')]) creates a structured array.\n",
        "\n",
        "\n",
        "*   Memory-Mapped Arrays:\n",
        "\n",
        "    NumPy allows memory-mapped arrays (np.memmap) for working with large datasets that don't fit in RAM by mapping array data to disk, enabling efficient read/write operations.\n",
        "\n",
        "    Example: np.memmap('large_file.dat', dtype='float32', shape=(10000, 10000)).\n",
        "\n",
        "\n",
        "*   Universal Functions (ufuncs):\n",
        "\n",
        "    NumPy's ufuncs are optimized, vectorized functions that operate element-wise on arrays, supporting custom operations and reducing the need for explicit loops. They also support broadcasting and type casting.\n",
        "\n",
        "    Example: np.add(array1, array2, out=result) performs fast addition with an output array.\n",
        "\n",
        "\n",
        "*   array Manipulation:\n",
        "\n",
        "    Advanced functions like np.concatenate, np.stack, np.split, np.tile, and np.repeat allow complex reshaping, splitting, or combining of arrays for flexible data manipulation.\n",
        "\n",
        "    Example: np.vstack((array1, array2)) stacks arrays vertically.\n",
        "\n",
        "\n",
        "*   Polynomial Operations:\n",
        "    \n",
        "    The numpy.polynomial module provides tools for working with polynomials, including fitting, evaluating, and performing arithmetic on polynomial objects.\n",
        "\n",
        "    Example: np.polynomial.polynomial.polyfit(x, y, deg=2) fits a 2nd-degree polynomial.\n",
        "\n",
        "\n",
        "*   Integration with C/Fortran:\n",
        "\n",
        "    NumPy supports integration with C, C++, and Fortran via tools like Cython or Numba, allowing performance-critical code to be compiled for significant speed-ups.\n",
        "\n",
        "*   The below python code demonstrate the broadcasting and advanced indexing using NumPy"
      ],
      "metadata": {
        "id": "ePd47Xn1fzpG"
      }
    },
    {
      "cell_type": "code",
      "source": [
        "import numpy as np\n",
        "\n",
        "# Broadcasting\n",
        "array = np.array([[1, 2, 3], [4, 5, 6]])\n",
        "scalar = 10\n",
        "result = array + scalar  # Adds 10 to each element\n",
        "print(\"Broadcasting:\\n\", result)\n",
        "\n",
        "# Advanced Indexing\n",
        "mask = array > 3\n",
        "filtered = array[mask]\n",
        "print(\"\\nBoolean Indexing:\\n\", filtered)  # [4, 5, 6]\n",
        "\n",
        "# Linear Algebra\n",
        "A = np.array([[1, 2], [3, 4]])\n",
        "inverse = np.linalg.inv(A)\n",
        "print(\"\\nMatrix Inverse:\\n\", inverse)"
      ],
      "metadata": {
        "colab": {
          "base_uri": "https://localhost:8080/"
        },
        "id": "x-sLeT0ke8L_",
        "outputId": "34cc4cbe-be19-4e34-8b98-4ce224ed835e"
      },
      "execution_count": 12,
      "outputs": [
        {
          "output_type": "stream",
          "name": "stdout",
          "text": [
            "Broadcasting:\n",
            " [[11 12 13]\n",
            " [14 15 16]]\n",
            "\n",
            "Boolean Indexing:\n",
            " [4 5 6]\n",
            "\n",
            "Matrix Inverse:\n",
            " [[-2.   1. ]\n",
            " [ 1.5 -0.5]]\n"
          ]
        }
      ]
    },
    {
      "cell_type": "markdown",
      "source": [
        "Question 19. How does Pandas simplify time series analysis?\n",
        "\n",
        "\n",
        "Pandas is a powerful Python library that simplifies time series analysis by providing specialized tools and data structures tailored for handling temporal data. Here's how it streamlines the process:\n",
        "\n",
        "*   Datetime Indexing:\n",
        "\n",
        "    Pandas uses DatetimeIndex to index data with timestamps, enabling intuitive time-based operations like slicing, filtering, or grouping. It supports parsing various date formats and creating time-based indices with pd.to_datetime() or pd.date_range().\n",
        "\n",
        "    Example: df.index = pd.to_datetime(df['date']) sets a datetime index for easy time-based access.\n",
        "\n",
        "\n",
        "*   Time-Based Slicing and Filtering:\n",
        "\n",
        "    With a DatetimeIndex, you can slice data by date ranges (e.g., df['2023-01':'2023-06']) or filter by specific time components (e.g., df[df.index.month == 1] for January data), simplifying temporal queries.\n",
        "\n",
        "*   Resampling and Aggregation:\n",
        "\n",
        "    Pandas's resample() function aggregates time series data over specified intervals (e.g., daily to monthly) with methods like mean, sum, or count, making it easy to analyze trends at different granularities.\n",
        "\n",
        "    Example: df.resample('M').mean() computes monthly averages.\n",
        "\n",
        "\n",
        "*   Rolling and Moving Window Operations:\n",
        "\n",
        "    The rolling() function enables calculations over a sliding window (e.g., moving averages, standard deviations), which is critical for smoothing or analyzing trends in time series data.\n",
        "\n",
        "    Example: df['value'].rolling(window=7).mean() computes a 7-day moving average.\n",
        "\n",
        "\n",
        "*   Time Zone Handling:\n",
        "\n",
        "    Pandas integrates with pytz for robust time zone support, allowing easy conversion and localization of timestamps with tz_localize() and tz_convert().\n",
        "\n",
        "    Example: df.index.tz_localize('UTC').tz_convert('US/Pacific') adjusts time zones.\n",
        "\n",
        "\n",
        "*   Handling Missing Data:\n",
        "\n",
        "    Pandas provides tools like fillna(), interpolate(), or asfreq() to handle missing time series data, ensuring continuity for analysis, especially in irregular or gapped datasets.\n",
        "\n",
        "    Example: df.asfreq('D').interpolate() fills missing daily data with linear interpolation.\n",
        "\n",
        "\n",
        "*   Date/Time Components Extraction:\n",
        "\n",
        "    Pandas allows easy extraction of time components (e.g., year, month, day, hour) from a DatetimeIndex using attributes like .dt.year or .dt.weekday, facilitating time-based grouping or analysis.\n",
        "\n",
        "    Example: df['month'] = df.index.month extracts the month for each timestamp.\n",
        "\n",
        "\n",
        "*   Frequency Conversion:\n",
        "\n",
        "    The asfreq() function converts time series to a specified frequency (e.g., hourly to daily), with options to fill missing values, simplifying data alignment across different time scales.\n",
        "\n",
        "*   Integration with Visualization:\n",
        "\n",
        "    Pandas integrates seamlessly with visualization libraries like Matplotlib, Seaborn, or Plotly, enabling quick plotting of time series data with df.plot() for trend visualization.\n",
        "\n",
        "*   Efficient Data Alignment:\n",
        "\n",
        "    Pandas automatically aligns time series data during operations (e.g., merging or joining datasets with different timestamps), reducing manual preprocessing efforts.\n",
        "\n",
        "*   The below python code demonstrate that how pandas simplify time series analysis"
      ],
      "metadata": {
        "id": "zwsjLV-_fzsD"
      }
    },
    {
      "cell_type": "code",
      "source": [
        "import pandas as pd\n",
        "import numpy as np\n",
        "\n",
        "# Sample time series data\n",
        "dates = pd.date_range('2023-01-01', '2023-01-10', freq='D')\n",
        "df = pd.DataFrame({'value': np.random.randn(10)}, index=dates)\n",
        "print(df)\n",
        "\n",
        "# Resampling to monthly mean\n",
        "monthly = df.resample('ME').mean()\n",
        "print(\"Monthly Mean:\\n\", monthly)\n",
        "\n",
        "# Rolling mean (3-day window)\n",
        "rolling = df['value'].rolling(window=3).mean()\n",
        "print(\"\\n3-Day Moving Average:\\n\", rolling)\n",
        "\n",
        "# Slice by date range\n",
        "print(\"\\nData for Jan 1-5:\\n\", df['2023-01-01':'2023-01-05'])\n",
        "\n",
        "# Extract month\n",
        "df['month'] = df.index.month\n",
        "print(\"\\nData with Month:\\n\", df)"
      ],
      "metadata": {
        "colab": {
          "base_uri": "https://localhost:8080/"
        },
        "id": "PzBC3jdugc4x",
        "outputId": "1a887fb4-cc4b-45ca-b42c-4db0eeaa6c2a"
      },
      "execution_count": 17,
      "outputs": [
        {
          "output_type": "stream",
          "name": "stdout",
          "text": [
            "               value\n",
            "2023-01-01  0.862189\n",
            "2023-01-02 -0.703646\n",
            "2023-01-03 -0.648789\n",
            "2023-01-04 -0.854542\n",
            "2023-01-05  0.451587\n",
            "2023-01-06  0.302219\n",
            "2023-01-07 -1.877912\n",
            "2023-01-08  0.218034\n",
            "2023-01-09  0.524015\n",
            "2023-01-10 -0.913168\n",
            "Monthly Mean:\n",
            "                value\n",
            "2023-01-31 -0.264001\n",
            "\n",
            "3-Day Moving Average:\n",
            " 2023-01-01         NaN\n",
            "2023-01-02         NaN\n",
            "2023-01-03   -0.163415\n",
            "2023-01-04   -0.735659\n",
            "2023-01-05   -0.350581\n",
            "2023-01-06   -0.033579\n",
            "2023-01-07   -0.374702\n",
            "2023-01-08   -0.452553\n",
            "2023-01-09   -0.378621\n",
            "2023-01-10   -0.057039\n",
            "Freq: D, Name: value, dtype: float64\n",
            "\n",
            "Data for Jan 1-5:\n",
            "                value\n",
            "2023-01-01  0.862189\n",
            "2023-01-02 -0.703646\n",
            "2023-01-03 -0.648789\n",
            "2023-01-04 -0.854542\n",
            "2023-01-05  0.451587\n",
            "\n",
            "Data with Month:\n",
            "                value  month\n",
            "2023-01-01  0.862189      1\n",
            "2023-01-02 -0.703646      1\n",
            "2023-01-03 -0.648789      1\n",
            "2023-01-04 -0.854542      1\n",
            "2023-01-05  0.451587      1\n",
            "2023-01-06  0.302219      1\n",
            "2023-01-07 -1.877912      1\n",
            "2023-01-08  0.218034      1\n",
            "2023-01-09  0.524015      1\n",
            "2023-01-10 -0.913168      1\n"
          ]
        }
      ]
    },
    {
      "cell_type": "markdown",
      "source": [
        "Question 20.  What is the role of a pivot table in Pandas?\n",
        "\n",
        "A pivot table in Pandas is a powerful data manipulation tool used to summarize, aggregate, and reorganize data in a DataFrame, making it easier to analyze and extract insights from complex datasets. Its key roles include:\n",
        "\n",
        "*   Data Summarization:\n",
        "\n",
        "    Pivot tables aggregate data (e.g., sum, mean, count) based on specified columns, providing a concise summary of large datasets. This is useful for identifying trends or patterns.\n",
        "\n",
        "    Example: Summarizing total sales by region and product category.\n",
        "\n",
        "\n",
        "*   Data Reorganization:\n",
        "\n",
        "    The pivot_table() function reshapes data by transforming rows into columns (or vice versa) based on unique values in a column, creating a more structured, tabular format for analysis.\n",
        "\n",
        "    Example: Converting a long-format dataset into a wide format with categories as columns.\n",
        "\n",
        "\n",
        "*   Flexible Aggregation:\n",
        "\n",
        "    It allows customization of aggregation functions (e.g., mean, sum, count, min, max) via the aggfunc parameter, enabling tailored summaries for specific needs.\n",
        "\n",
        "*   Multi-Level Indexing:\n",
        "\n",
        "    Pivot tables support hierarchical indexing (multi-index) for rows and columns, allowing complex groupings, such as sales by region and year, in a single table.\n",
        "\n",
        "\n",
        "*   Handling Categorical Data:\n",
        "\n",
        "    By specifying index and columns parameters, pivot tables organize data by categorical variables, making it easier to compare groups or categories side by side.\n",
        "\n",
        "*   Handling Missing Data:\n",
        "\n",
        "    Pivot tables can handle missing values by filling them with a specified value (via fill_value) or applying aggregation methods that account for gaps, ensuring robust summaries.\n",
        "\n",
        "*   Integration with Analysis:\n",
        "\n",
        "    Pivot tables integrate seamlessly with Pandas’ ecosystem, enabling further analysis (e.g., filtering, sorting) or visualization with libraries like Matplotlib, Seaborn, or Plotly.\n",
        "\n",
        "*   The below python code demonstrate the use of pivot table in pandas"
      ],
      "metadata": {
        "id": "PmmM9yA3fzv9"
      }
    },
    {
      "cell_type": "code",
      "source": [
        "import pandas as pd\n",
        "\n",
        "# Sample DataFrame\n",
        "data = {\n",
        "    'region': ['North', 'North', 'South', 'South', 'East'],\n",
        "    'product': ['A', 'B', 'A', 'B', 'A'],\n",
        "    'sales': [100, 200, 150, 300, 250]\n",
        "}\n",
        "df = pd.DataFrame(data)\n",
        "print(df)\n",
        "\n",
        "# Create a pivot table: sum of sales by region and product\n",
        "pivot = df.pivot_table(values='sales', index='region', columns='product', aggfunc='sum', fill_value=0)\n",
        "print(\"Pivot Table:\\n\", pivot)"
      ],
      "metadata": {
        "colab": {
          "base_uri": "https://localhost:8080/"
        },
        "id": "asX5ShkUh7Pm",
        "outputId": "7a5dc652-4bd2-42ca-fb0c-6f47c86ba17e"
      },
      "execution_count": 19,
      "outputs": [
        {
          "output_type": "stream",
          "name": "stdout",
          "text": [
            "  region product  sales\n",
            "0  North       A    100\n",
            "1  North       B    200\n",
            "2  South       A    150\n",
            "3  South       B    300\n",
            "4   East       A    250\n",
            "Pivot Table:\n",
            " product    A    B\n",
            "region           \n",
            "East     250    0\n",
            "North    100  200\n",
            "South    150  300\n"
          ]
        }
      ]
    },
    {
      "cell_type": "markdown",
      "source": [
        "Question 21. Why is NumPy's array slicing faster than Python's list slicing?\n",
        "\n",
        "NumPy's array slicing is faster than Python's list slicing primarily due to differences in memory layout and implementation:\n",
        "\n",
        "*   Contiguous Memory Storage:\n",
        "\n",
        "    NumPy arrays store elements in a contiguous block of memory, allowing slicing operations to create views (not copies) efficiently by manipulating pointers and metadata. This contiguous, homogeneous storage means fewer memory accesses and better cache performance.\n",
        "\n",
        "*   Fixed Data Types:\n",
        "\n",
        "    NumPy arrays have a fixed data type for all elements, which eliminates the overhead of type-checking or handling multiple types during slicing, unlike Python lists which store references to objects and can hold heterogeneous types.\n",
        "\n",
        "*   View vs Copy Semantics:\n",
        "\n",
        "    When you slice a NumPy array, it returns a view of the original data without copying it, resulting in very low overhead. Python list slicing returns a new list (copy), which requires allocation and copying of elements.\n",
        "\n",
        "*   Optimized Implementation:\n",
        "\n",
        "    NumPy's slicing operations are implemented in optimized C code designed for numerical computations, whereas Python's list slicing is implemented in Python's interpreter with more overhead."
      ],
      "metadata": {
        "id": "KXlw96Jzfz0f"
      }
    },
    {
      "cell_type": "markdown",
      "source": [
        "Question 22. What are some common use cases for Seaborn??\n",
        "\n",
        "Seaborn is a Python visualization library built on top of Matplotlib, designed to create aesthetically pleasing and informative statistical graphics with minimal code. Its high-level interface and integration with Pandas make it ideal for data exploration and analysis. Below are some common use cases for Seaborn:\n",
        "\n",
        "*   Exploratory Data Analysis (EDA):\n",
        "\n",
        "    Seaborn's functions like pairplot(), heatmap(), and jointplot() are widely used to explore relationships, distributions, and correlations in datasets, helping identify patterns, trends, or outliers.\n",
        "\n",
        "    Example: sns.pairplot(df) to visualize pairwise relationships and distributions of numerical variables.\n",
        "\n",
        "\n",
        "*   Visualizing Distributions:\n",
        "\n",
        "    Seaborn excels at visualizing data distributions using plots like histograms (histplot()), kernel density plots (kdeplot()), or box plots (boxplot()), which are useful for understanding data spread and central tendencies.\n",
        "\n",
        "    Example: sns.histplot(df['sales']) to plot the distribution of sales data.\n",
        "\n",
        "\n",
        "*   Categorical Data Visualization:\n",
        "\n",
        "    Seaborn's categorical plots, such as catplot(), boxplot(), violinplot(), and barplot(), are ideal for comparing data across categories or groups, especially when combined with the hue parameter for subgroup analysis.\n",
        "\n",
        "    Example: sns.boxplot(x='region', y='sales', hue='product', data=df) to compare sales by region and product.\n",
        "\n",
        "\n",
        "*   Correlation Analysis:\n",
        "\n",
        "    Seaborn's heatmap() is commonly used to visualize correlation matrices, making it easy to identify relationships between numerical variables in a dataset.\n",
        "\n",
        "    Example: sns.heatmap(df.corr(), annot=True) to display a correlation matrix with values.\n",
        "\n",
        "\n",
        "*   Regression Analysis:\n",
        "\n",
        "    Seaborn's regplot() and lmplot() simplify the visualization of linear or non-linear relationships between variables, including regression lines and confidence intervals.\n",
        "\n",
        "    Example: sns.lmplot(x='age', y='income', data=df) to plot a regression line for age vs. income.\n",
        "\n",
        "\n",
        "*   Time Series Visualization:\n",
        "\n",
        "    Seaborn's line plots (lineplot()) are useful for visualizing trends over time, especially when combined with Pandas’ datetime indexing for time series data.\n",
        "\n",
        "    Example: sns.lineplot(x='date', y='value', data=df) to plot trends in time series data.\n",
        "\n",
        "\n",
        "*   Multi-Faceted Plots:\n",
        "\n",
        "    Seaborn's FacetGrid and catplot() allow creating multi-panel plots (faceted or trellis plots) to visualize relationships across multiple subsets of data, such as by category or time period.\n",
        "\n",
        "    Example: sns.catplot(x='day', y='sales', col='region', kind='bar', data=df) to create bar plots for sales by day, split by region.\n",
        "\n",
        "\n",
        "*   Aesthetic Customization:\n",
        "\n",
        "    Seaborn's built-in themes (e.g., set_style(), set_palette()) and context settings (e.g., set_context()) make it easy to create publication-quality visualizations with minimal effort.\n",
        "\n",
        "    Example: sns.set_style('darkgrid') to apply a professional-looking theme to all plots.\n",
        "\n",
        "\n",
        "*   Handling Large Datasets:\n",
        "\n",
        "    Seaborn's aggregation capabilities in plots like boxplot() or violinplot() make it effective for summarizing large datasets while maintaining clarity in visualizations.\n",
        "\n",
        "*   Integration with Pandas:\n",
        "\n",
        "    Seaborn works seamlessly with Pandas DataFrames, allowing direct use of column names and categorical variables, simplifying workflows in data analysis pipelines."
      ],
      "metadata": {
        "id": "fjCQX3pWfz56"
      }
    },
    {
      "cell_type": "markdown",
      "source": [
        "# Practical Questions"
      ],
      "metadata": {
        "id": "B4JwPHGwf0BJ"
      }
    },
    {
      "cell_type": "markdown",
      "source": [
        "Question 1. How do you create a 2D NumPy array and calculate the sum of each row?"
      ],
      "metadata": {
        "id": "T563ZtCbf0FC"
      }
    },
    {
      "cell_type": "code",
      "source": [
        "import numpy as np\n",
        "\n",
        "# Create a 2D NumPy array\n",
        "# np.array() creates a 2D array by passing a list of lists where each inner list represents a row.\n",
        "\n",
        "arr = np.array([[1, 2, 3, 4],\n",
        "                [5, 6, 7, 8],\n",
        "                [9, 10, 11, 12]])\n",
        "\n",
        "# Calculate the sum of each row\n",
        "# arr.sum(axis=1) calculates the sum along the rows (axis=1 means summing across columns for each row).\n",
        "\n",
        "row_sums = arr.sum(axis=1)\n",
        "\n",
        "print(\"2D Array:\")\n",
        "print(arr)\n",
        "print(\"Sum of each row:\")\n",
        "print(row_sums)\n"
      ],
      "metadata": {
        "colab": {
          "base_uri": "https://localhost:8080/"
        },
        "id": "HqJnWC2KmSor",
        "outputId": "4617e0e2-5e6a-460c-826f-ccc11efaebd3"
      },
      "execution_count": 25,
      "outputs": [
        {
          "output_type": "stream",
          "name": "stdout",
          "text": [
            "2D Array:\n",
            "[[ 1  2  3  4]\n",
            " [ 5  6  7  8]\n",
            " [ 9 10 11 12]]\n",
            "Sum of each row:\n",
            "[10 26 42]\n"
          ]
        }
      ]
    },
    {
      "cell_type": "markdown",
      "source": [
        "Question 2.  Write a Pandas script to find the mean of a specific column in a DataFrame."
      ],
      "metadata": {
        "id": "x4N1ryU6u9W0"
      }
    },
    {
      "cell_type": "code",
      "source": [
        "import pandas as pd\n",
        "\n",
        "# Sample data\n",
        "data = {\n",
        "    'Name': ['Suraj', 'Siddhesh', 'Mrunal', 'Bharati'],\n",
        "    'Age': [25, 30, 35, 40],\n",
        "    'Salary': [50000, 60000, 70000, 80000]\n",
        "}\n",
        "\n",
        "# Create DataFrame\n",
        "df = pd.DataFrame(data)\n",
        "\n",
        "# Calculate mean of the 'Salary' column\n",
        "# df['Salary'] selects the column for which we want the mean and .mean() calculates the average\n",
        "# of the values in that column.\n",
        "\n",
        "mean_salary = df['Salary'].mean()\n",
        "\n",
        "print(\"Mean Salary:\", mean_salary)\n"
      ],
      "metadata": {
        "colab": {
          "base_uri": "https://localhost:8080/"
        },
        "id": "8wugOqI-vKbp",
        "outputId": "9b90e2fa-73c7-4dc6-f86e-3c82a0a4b233"
      },
      "execution_count": 27,
      "outputs": [
        {
          "output_type": "stream",
          "name": "stdout",
          "text": [
            "Mean Salary: 65000.0\n"
          ]
        }
      ]
    },
    {
      "cell_type": "markdown",
      "source": [
        "Question 3. Create a scatter plot using Matplotlib."
      ],
      "metadata": {
        "id": "Y9XpV_tAviwf"
      }
    },
    {
      "cell_type": "code",
      "source": [
        "import matplotlib.pyplot as plt\n",
        "\n",
        "# Sample data\n",
        "x = [5, 7, 8, 7, 2, 17, 2, 9, 4, 11]\n",
        "y = [99, 86, 87, 88, 111, 86, 103, 87, 94, 78]\n",
        "\n",
        "# Create scatter plot\n",
        "# plt.scatter(x, y) plots points with x and y coordinates.\n",
        "plt.scatter(x, y)\n",
        "\n",
        "# Add title and labels\n",
        "plt.title(\"Basic Scatter Plot\")\n",
        "plt.xlabel(\"X Values\")\n",
        "plt.ylabel(\"Y Values\")\n",
        "\n",
        "# Show the plot\n",
        "plt.show()\n"
      ],
      "metadata": {
        "id": "2FbhbemHbdUD",
        "colab": {
          "base_uri": "https://localhost:8080/",
          "height": 472
        },
        "outputId": "5e4d7cd2-7801-4dd2-b0cb-04f18e94b0c0"
      },
      "execution_count": 28,
      "outputs": [
        {
          "output_type": "display_data",
          "data": {
            "text/plain": [
              "<Figure size 640x480 with 1 Axes>"
            ],
            "image/png": "[encoded data removed]"
          },
          "metadata": {}
        }
      ]
    },
    {
      "cell_type": "markdown",
      "source": [
        "Question 4. How do you calculate the correlation matrix using Seaborn and visualize it with a heatmap?"
      ],
      "metadata": {
        "id": "JCipUMujwYrH"
      }
    },
    {
      "cell_type": "code",
      "source": [
        "import pandas as pd\n",
        "import seaborn as sns\n",
        "import matplotlib.pyplot as plt\n",
        "\n",
        "# Sample DataFrame with numerical columns\n",
        "data = {\n",
        "    'sales': [100, 200, 150, 300, 250],\n",
        "    'profit': [10, 20, 15, 30, 25],\n",
        "    'inventory': [50, 60, 55, 70, 65]\n",
        "}\n",
        "df = pd.DataFrame(data)\n",
        "\n",
        "# Calculate the correlation matrix\n",
        "corr_matrix = df.corr()\n",
        "\n",
        "# Create a heatmap\n",
        "sns.heatmap(corr_matrix, annot=True, cmap='coolwarm', vmin=-1, vmax=1)\n",
        "\n",
        "# Add title\n",
        "plt.title('Correlation Matrix Heatmap')\n",
        "\n",
        "# Display the plot\n",
        "plt.show()"
      ],
      "metadata": {
        "colab": {
          "base_uri": "https://localhost:8080/",
          "height": 452
        },
        "id": "mbf13vOrwgie",
        "outputId": "75203ae3-f042-49cb-e3ae-ca7b22363108"
      },
      "execution_count": 31,
      "outputs": [
        {
          "output_type": "display_data",
          "data": {
            "text/plain": [
              "<Figure size 640x480 with 2 Axes>"
            ],
            "image/png": "[encoded data removed]"
          },
          "metadata": {}
        }
      ]
    },
    {
      "cell_type": "markdown",
      "source": [
        "Question 5. Generate a bar plot using Plotly."
      ],
      "metadata": {
        "id": "NeB0fueJw_zk"
      }
    },
    {
      "cell_type": "code",
      "source": [
        "import plotly.express as px\n",
        "import pandas as pd\n",
        "\n",
        "# Sample DataFrame\n",
        "data = {\n",
        "    'category': ['A', 'B', 'C', 'D'],\n",
        "    'values': [10, 20, 15, 25]\n",
        "}\n",
        "df = pd.DataFrame(data)\n",
        "\n",
        "# Create bar plot\n",
        "fig = px.bar(df, x='category', y='values', title='Sample Bar Plot',\n",
        "             labels={'category': 'Category', 'values': 'Values'},\n",
        "             color='category')\n",
        "\n",
        "# Display the plot\n",
        "fig.show()"
      ],
      "metadata": {
        "colab": {
          "base_uri": "https://localhost:8080/",
          "height": 542
        },
        "id": "k30VJvzjxUDl",
        "outputId": "928eb758-73f2-497c-b2b3-3534751bc34c"
      },
      "execution_count": 34,
      "outputs": [
        {
          "output_type": "display_data",
          "data": {
            "text/html": [
              "<html>\n",
              "<head><meta charset=\"utf-8\" /></head>\n",
              "<body>\n",
              "    <div>            <script src=\"https://cdnjs.cloudflare.com/ajax/libs/mathjax/2.7.5/MathJax.js?config=TeX-AMS-MML_SVG\"></script><script type=\"text/javascript\">if (window.MathJax && window.MathJax.Hub && window.MathJax.Hub.Config) {window.MathJax.Hub.Config({SVG: {font: \"STIX-Web\"}});}</script>                <script type=\"text/javascript\">window.PlotlyConfig = {MathJaxConfig: 'local'};</script>\n",
              "        <script charset=\"utf-8\" src=\"https://cdn.plot.ly/plotly-2.35.2.min.js\"></script>                <div id=\"208b4f7b-5ee9-4f2e-8714-80000eca9715\" class=\"plotly-graph-div\" style=\"height:525px; width:100%;\"></div>            <script type=\"text/javascript\">                                    window.PLOTLYENV=window.PLOTLYENV || {};                                    if (document.getElementById(\"208b4f7b-5ee9-4f2e-8714-80000eca9715\")) {                    Plotly.newPlot(                        \"208b4f7b-5ee9-4f2e-8714-80000eca9715\",                        [{\"alignmentgroup\":\"True\",\"hovertemplate\":\"Category=%{x}\\u003cbr\\u003eValues=%{y}\\u003cextra\\u003e\\u003c\\u002fextra\\u003e\",\"legendgroup\":\"A\",\"marker\":{\"color\":\"#636efa\",\"pattern\":{\"shape\":\"\"}},\"name\":\"A\",\"offsetgroup\":\"A\",\"orientation\":\"v\",\"showlegend\":true,\"textposition\":\"auto\",\"x\":[\"A\"],\"xaxis\":\"x\",\"y\":[10],\"yaxis\":\"y\",\"type\":\"bar\"},{\"alignmentgroup\":\"True\",\"hovertemplate\":\"Category=%{x}\\u003cbr\\u003eValues=%{y}\\u003cextra\\u003e\\u003c\\u002fextra\\u003e\",\"legendgroup\":\"B\",\"marker\":{\"color\":\"#EF553B\",\"pattern\":{\"shape\":\"\"}},\"name\":\"B\",\"offsetgroup\":\"B\",\"orientation\":\"v\",\"showlegend\":true,\"textposition\":\"auto\",\"x\":[\"B\"],\"xaxis\":\"x\",\"y\":[20],\"yaxis\":\"y\",\"type\":\"bar\"},{\"alignmentgroup\":\"True\",\"hovertemplate\":\"Category=%{x}\\u003cbr\\u003eValues=%{y}\\u003cextra\\u003e\\u003c\\u002fextra\\u003e\",\"legendgroup\":\"C\",\"marker\":{\"color\":\"#00cc96\",\"pattern\":{\"shape\":\"\"}},\"name\":\"C\",\"offsetgroup\":\"C\",\"orientation\":\"v\",\"showlegend\":true,\"textposition\":\"auto\",\"x\":[\"C\"],\"xaxis\":\"x\",\"y\":[15],\"yaxis\":\"y\",\"type\":\"bar\"},{\"alignmentgroup\":\"True\",\"hovertemplate\":\"Category=%{x}\\u003cbr\\u003eValues=%{y}\\u003cextra\\u003e\\u003c\\u002fextra\\u003e\",\"legendgroup\":\"D\",\"marker\":{\"color\":\"#ab63fa\",\"pattern\":{\"shape\":\"\"}},\"name\":\"D\",\"offsetgroup\":\"D\",\"orientation\":\"v\",\"showlegend\":true,\"textposition\":\"auto\",\"x\":[\"D\"],\"xaxis\":\"x\",\"y\":[25],\"yaxis\":\"y\",\"type\":\"bar\"}],                        {\"template\":{\"data\":{\"histogram2dcontour\":[{\"type\":\"histogram2dcontour\",\"colorbar\":{\"outlinewidth\":0,\"ticks\":\"\"},\"colorscale\":[[0.0,\"#0d0887\"],[0.1111111111111111,\"#46039f\"],[0.2222222222222222,\"#7201a8\"],[0.3333333333333333,\"#9c179e\"],[0.4444444444444444,\"#bd3786\"],[0.5555555555555556,\"#d8576b\"],[0.6666666666666666,\"#ed7953\"],[0.7777777777777778,\"#fb9f3a\"],[0.8888888888888888,\"#fdca26\"],[1.0,\"#f0f921\"]]}],\"choropleth\":[{\"type\":\"choropleth\",\"colorbar\":{\"outlinewidth\":0,\"ticks\":\"\"}}],\"histogram2d\":[{\"type\":\"histogram2d\",\"colorbar\":{\"outlinewidth\":0,\"ticks\":\"\"},\"colorscale\":[[0.0,\"#0d0887\"],[0.1111111111111111,\"#46039f\"],[0.2222222222222222,\"#7201a8\"],[0.3333333333333333,\"#9c179e\"],[0.4444444444444444,\"#bd3786\"],[0.5555555555555556,\"#d8576b\"],[0.6666666666666666,\"#ed7953\"],[0.7777777777777778,\"#fb9f3a\"],[0.8888888888888888,\"#fdca26\"],[1.0,\"#f0f921\"]]}],\"heatmap\":[{\"type\":\"heatmap\",\"colorbar\":{\"outlinewidth\":0,\"ticks\":\"\"},\"colorscale\":[[0.0,\"#0d0887\"],[0.1111111111111111,\"#46039f\"],[0.2222222222222222,\"#7201a8\"],[0.3333333333333333,\"#9c179e\"],[0.4444444444444444,\"#bd3786\"],[0.5555555555555556,\"#d8576b\"],[0.6666666666666666,\"#ed7953\"],[0.7777777777777778,\"#fb9f3a\"],[0.8888888888888888,\"#fdca26\"],[1.0,\"#f0f921\"]]}],\"heatmapgl\":[{\"type\":\"heatmapgl\",\"colorbar\":{\"outlinewidth\":0,\"ticks\":\"\"},\"colorscale\":[[0.0,\"#0d0887\"],[0.1111111111111111,\"#46039f\"],[0.2222222222222222,\"#7201a8\"],[0.3333333333333333,\"#9c179e\"],[0.4444444444444444,\"#bd3786\"],[0.5555555555555556,\"#d8576b\"],[0.6666666666666666,\"#ed7953\"],[0.7777777777777778,\"#fb9f3a\"],[0.8888888888888888,\"#fdca26\"],[1.0,\"#f0f921\"]]}],\"contourcarpet\":[{\"type\":\"contourcarpet\",\"colorbar\":{\"outlinewidth\":0,\"ticks\":\"\"}}],\"contour\":[{\"type\":\"contour\",\"colorbar\":{\"outlinewidth\":0,\"ticks\":\"\"},\"colorscale\":[[0.0,\"#0d0887\"],[0.1111111111111111,\"#46039f\"],[0.2222222222222222,\"#7201a8\"],[0.3333333333333333,\"#9c179e\"],[0.4444444444444444,\"#bd3786\"],[0.5555555555555556,\"#d8576b\"],[0.6666666666666666,\"#ed7953\"],[0.7777777777777778,\"#fb9f3a\"],[0.8888888888888888,\"#fdca26\"],[1.0,\"#f0f921\"]]}],\"surface\":[{\"type\":\"surface\",\"colorbar\":{\"outlinewidth\":0,\"ticks\":\"\"},\"colorscale\":[[0.0,\"#0d0887\"],[0.1111111111111111,\"#46039f\"],[0.2222222222222222,\"#7201a8\"],[0.3333333333333333,\"#9c179e\"],[0.4444444444444444,\"#bd3786\"],[0.5555555555555556,\"#d8576b\"],[0.6666666666666666,\"#ed7953\"],[0.7777777777777778,\"#fb9f3a\"],[0.8888888888888888,\"#fdca26\"],[1.0,\"#f0f921\"]]}],\"mesh3d\":[{\"type\":\"mesh3d\",\"colorbar\":{\"outlinewidth\":0,\"ticks\":\"\"}}],\"scatter\":[{\"fillpattern\":{\"fillmode\":\"overlay\",\"size\":10,\"solidity\":0.2},\"type\":\"scatter\"}],\"parcoords\":[{\"type\":\"parcoords\",\"line\":{\"colorbar\":{\"outlinewidth\":0,\"ticks\":\"\"}}}],\"scatterpolargl\":[{\"type\":\"scatterpolargl\",\"marker\":{\"colorbar\":{\"outlinewidth\":0,\"ticks\":\"\"}}}],\"bar\":[{\"error_x\":{\"color\":\"#2a3f5f\"},\"error_y\":{\"color\":\"#2a3f5f\"},\"marker\":{\"line\":{\"color\":\"#E5ECF6\",\"width\":0.5},\"pattern\":{\"fillmode\":\"overlay\",\"size\":10,\"solidity\":0.2}},\"type\":\"bar\"}],\"scattergeo\":[{\"type\":\"scattergeo\",\"marker\":{\"colorbar\":{\"outlinewidth\":0,\"ticks\":\"\"}}}],\"scatterpolar\":[{\"type\":\"scatterpolar\",\"marker\":{\"colorbar\":{\"outlinewidth\":0,\"ticks\":\"\"}}}],\"histogram\":[{\"marker\":{\"pattern\":{\"fillmode\":\"overlay\",\"size\":10,\"solidity\":0.2}},\"type\":\"histogram\"}],\"scattergl\":[{\"type\":\"scattergl\",\"marker\":{\"colorbar\":{\"outlinewidth\":0,\"ticks\":\"\"}}}],\"scatter3d\":[{\"type\":\"scatter3d\",\"line\":{\"colorbar\":{\"outlinewidth\":0,\"ticks\":\"\"}},\"marker\":{\"colorbar\":{\"outlinewidth\":0,\"ticks\":\"\"}}}],\"scattermapbox\":[{\"type\":\"scattermapbox\",\"marker\":{\"colorbar\":{\"outlinewidth\":0,\"ticks\":\"\"}}}],\"scatterternary\":[{\"type\":\"scatterternary\",\"marker\":{\"colorbar\":{\"outlinewidth\":0,\"ticks\":\"\"}}}],\"scattercarpet\":[{\"type\":\"scattercarpet\",\"marker\":{\"colorbar\":{\"outlinewidth\":0,\"ticks\":\"\"}}}],\"carpet\":[{\"aaxis\":{\"endlinecolor\":\"#2a3f5f\",\"gridcolor\":\"white\",\"linecolor\":\"white\",\"minorgridcolor\":\"white\",\"startlinecolor\":\"#2a3f5f\"},\"baxis\":{\"endlinecolor\":\"#2a3f5f\",\"gridcolor\":\"white\",\"linecolor\":\"white\",\"minorgridcolor\":\"white\",\"startlinecolor\":\"#2a3f5f\"},\"type\":\"carpet\"}],\"table\":[{\"cells\":{\"fill\":{\"color\":\"#EBF0F8\"},\"line\":{\"color\":\"white\"}},\"header\":{\"fill\":{\"color\":\"#C8D4E3\"},\"line\":{\"color\":\"white\"}},\"type\":\"table\"}],\"barpolar\":[{\"marker\":{\"line\":{\"color\":\"#E5ECF6\",\"width\":0.5},\"pattern\":{\"fillmode\":\"overlay\",\"size\":10,\"solidity\":0.2}},\"type\":\"barpolar\"}],\"pie\":[{\"automargin\":true,\"type\":\"pie\"}]},\"layout\":{\"autotypenumbers\":\"strict\",\"colorway\":[\"#636efa\",\"#EF553B\",\"#00cc96\",\"#ab63fa\",\"#FFA15A\",\"#19d3f3\",\"#FF6692\",\"#B6E880\",\"#FF97FF\",\"#FECB52\"],\"font\":{\"color\":\"#2a3f5f\"},\"hovermode\":\"closest\",\"hoverlabel\":{\"align\":\"left\"},\"paper_bgcolor\":\"white\",\"plot_bgcolor\":\"#E5ECF6\",\"polar\":{\"bgcolor\":\"#E5ECF6\",\"angularaxis\":{\"gridcolor\":\"white\",\"linecolor\":\"white\",\"ticks\":\"\"},\"radialaxis\":{\"gridcolor\":\"white\",\"linecolor\":\"white\",\"ticks\":\"\"}},\"ternary\":{\"bgcolor\":\"#E5ECF6\",\"aaxis\":{\"gridcolor\":\"white\",\"linecolor\":\"white\",\"ticks\":\"\"},\"baxis\":{\"gridcolor\":\"white\",\"linecolor\":\"white\",\"ticks\":\"\"},\"caxis\":{\"gridcolor\":\"white\",\"linecolor\":\"white\",\"ticks\":\"\"}},\"coloraxis\":{\"colorbar\":{\"outlinewidth\":0,\"ticks\":\"\"}},\"colorscale\":{\"sequential\":[[0.0,\"#0d0887\"],[0.1111111111111111,\"#46039f\"],[0.2222222222222222,\"#7201a8\"],[0.3333333333333333,\"#9c179e\"],[0.4444444444444444,\"#bd3786\"],[0.5555555555555556,\"#d8576b\"],[0.6666666666666666,\"#ed7953\"],[0.7777777777777778,\"#fb9f3a\"],[0.8888888888888888,\"#fdca26\"],[1.0,\"#f0f921\"]],\"sequentialminus\":[[0.0,\"#0d0887\"],[0.1111111111111111,\"#46039f\"],[0.2222222222222222,\"#7201a8\"],[0.3333333333333333,\"#9c179e\"],[0.4444444444444444,\"#bd3786\"],[0.5555555555555556,\"#d8576b\"],[0.6666666666666666,\"#ed7953\"],[0.7777777777777778,\"#fb9f3a\"],[0.8888888888888888,\"#fdca26\"],[1.0,\"#f0f921\"]],\"diverging\":[[0,\"#8e0152\"],[0.1,\"#c51b7d\"],[0.2,\"#de77ae\"],[0.3,\"#f1b6da\"],[0.4,\"#fde0ef\"],[0.5,\"#f7f7f7\"],[0.6,\"#e6f5d0\"],[0.7,\"#b8e186\"],[0.8,\"#7fbc41\"],[0.9,\"#4d9221\"],[1,\"#276419\"]]},\"xaxis\":{\"gridcolor\":\"white\",\"linecolor\":\"white\",\"ticks\":\"\",\"title\":{\"standoff\":15},\"zerolinecolor\":\"white\",\"automargin\":true,\"zerolinewidth\":2},\"yaxis\":{\"gridcolor\":\"white\",\"linecolor\":\"white\",\"ticks\":\"\",\"title\":{\"standoff\":15},\"zerolinecolor\":\"white\",\"automargin\":true,\"zerolinewidth\":2},\"scene\":{\"xaxis\":{\"backgroundcolor\":\"#E5ECF6\",\"gridcolor\":\"white\",\"linecolor\":\"white\",\"showbackground\":true,\"ticks\":\"\",\"zerolinecolor\":\"white\",\"gridwidth\":2},\"yaxis\":{\"backgroundcolor\":\"#E5ECF6\",\"gridcolor\":\"white\",\"linecolor\":\"white\",\"showbackground\":true,\"ticks\":\"\",\"zerolinecolor\":\"white\",\"gridwidth\":2},\"zaxis\":{\"backgroundcolor\":\"#E5ECF6\",\"gridcolor\":\"white\",\"linecolor\":\"white\",\"showbackground\":true,\"ticks\":\"\",\"zerolinecolor\":\"white\",\"gridwidth\":2}},\"shapedefaults\":{\"line\":{\"color\":\"#2a3f5f\"}},\"annotationdefaults\":{\"arrowcolor\":\"#2a3f5f\",\"arrowhead\":0,\"arrowwidth\":1},\"geo\":{\"bgcolor\":\"white\",\"landcolor\":\"#E5ECF6\",\"subunitcolor\":\"white\",\"showland\":true,\"showlakes\":true,\"lakecolor\":\"white\"},\"title\":{\"x\":0.05},\"mapbox\":{\"style\":\"light\"}}},\"xaxis\":{\"anchor\":\"y\",\"domain\":[0.0,1.0],\"title\":{\"text\":\"Category\"},\"categoryorder\":\"array\",\"categoryarray\":[\"A\",\"B\",\"C\",\"D\"]},\"yaxis\":{\"anchor\":\"x\",\"domain\":[0.0,1.0],\"title\":{\"text\":\"Values\"}},\"legend\":{\"title\":{\"text\":\"Category\"},\"tracegroupgap\":0},\"title\":{\"text\":\"Sample Bar Plot\"},\"barmode\":\"relative\"},                        {\"responsive\": true}                    ).then(function(){\n",
              "                            \n",
              "var gd = document.getElementById('208b4f7b-5ee9-4f2e-8714-80000eca9715');\n",
              "var x = new MutationObserver(function (mutations, observer) {{\n",
              "        var display = window.getComputedStyle(gd).display;\n",
              "        if (!display || display === 'none') {{\n",
              "            console.log([gd, 'removed!']);\n",
              "            Plotly.purge(gd);\n",
              "            observer.disconnect();\n",
              "        }}\n",
              "}});\n",
              "\n",
              "// Listen for the removal of the full notebook cells\n",
              "var notebookContainer = gd.closest('#notebook-container');\n",
              "if (notebookContainer) {{\n",
              "    x.observe(notebookContainer, {childList: true});\n",
              "}}\n",
              "\n",
              "// Listen for the clearing of the current output cell\n",
              "var outputEl = gd.closest('.output');\n",
              "if (outputEl) {{\n",
              "    x.observe(outputEl, {childList: true});\n",
              "}}\n",
              "\n",
              "                        })                };                            </script>        </div>\n",
              "</body>\n",
              "</html>"
            ]
          },
          "metadata": {}
        }
      ]
    },
    {
      "cell_type": "markdown",
      "source": [
        "Question 6. Create a DataFrame and add a new column based on an existing column."
      ],
      "metadata": {
        "id": "1lhiMXS9xfeS"
      }
    },
    {
      "cell_type": "code",
      "source": [
        "import pandas as pd\n",
        "\n",
        "# Create a sample DataFrame\n",
        "data = {\n",
        "    'Name': ['Suraj', 'Siddhesh', 'Mrunal', 'Bharati'],\n",
        "    'Age': [25, 30, 35, 40],\n",
        "    'Salary': [50000, 60000, 70000, 80000]\n",
        "}\n",
        "\n",
        "df = pd.DataFrame(data)\n",
        "\n",
        "# Add a new column 'Salary_after_raise' which is 10% more than 'Salary'\n",
        "df['Salary_after_raise'] = df['Salary'] * 1.10\n",
        "\n",
        "print(df)"
      ],
      "metadata": {
        "colab": {
          "base_uri": "https://localhost:8080/"
        },
        "id": "QDPbJGLfxofi",
        "outputId": "f1fce48e-bc5e-43c2-ba93-1f0a0037a532"
      },
      "execution_count": 35,
      "outputs": [
        {
          "output_type": "stream",
          "name": "stdout",
          "text": [
            "       Name  Age  Salary  Salary_after_raise\n",
            "0     Suraj   25   50000             55000.0\n",
            "1  Siddhesh   30   60000             66000.0\n",
            "2    Mrunal   35   70000             77000.0\n",
            "3   Bharati   40   80000             88000.0\n"
          ]
        }
      ]
    },
    {
      "cell_type": "markdown",
      "source": [
        "Question 7.  Write a program to perform element-wise multiplication of two NumPy arrays."
      ],
      "metadata": {
        "id": "F0iYDqzdx3zB"
      }
    },
    {
      "cell_type": "code",
      "source": [
        "import numpy as np\n",
        "\n",
        "# Define two NumPy arrays\n",
        "arr1 = np.array([1, 2, 3, 4])\n",
        "arr2 = np.array([5, 6, 7, 8])\n",
        "\n",
        "# Element-wise multiplication using * operator\n",
        "result = arr1 * arr2\n",
        "\n",
        "print(\"Array 1:\", arr1)\n",
        "print(\"Array 2:\", arr2)\n",
        "print(\"Element-wise multiplication:\", result)"
      ],
      "metadata": {
        "colab": {
          "base_uri": "https://localhost:8080/"
        },
        "id": "gujVg6Icx9tP",
        "outputId": "a7283510-08c6-41ca-f361-4fe47b3ec7e0"
      },
      "execution_count": 36,
      "outputs": [
        {
          "output_type": "stream",
          "name": "stdout",
          "text": [
            "Array 1: [1 2 3 4]\n",
            "Array 2: [5 6 7 8]\n",
            "Element-wise multiplication: [ 5 12 21 32]\n"
          ]
        }
      ]
    },
    {
      "cell_type": "markdown",
      "source": [
        "Question 8. Create a line plot with multiple lines using Matplotlib."
      ],
      "metadata": {
        "id": "EGepEJUtyR7u"
      }
    },
    {
      "cell_type": "code",
      "source": [
        "import matplotlib.pyplot as plt\n",
        "import numpy as np\n",
        "\n",
        "# Sample data\n",
        "x = np.array([1, 2, 3, 4, 5])\n",
        "\n",
        "y1 = np.array([2, 4, 6, 8, 10])\n",
        "y2 = np.array([1, 3, 5, 7, 9])\n",
        "y3 = np.array([5, 4, 3, 2, 1])\n",
        "\n",
        "# Create line plot with multiple lines\n",
        "plt.plot(x, y1, label='Line 1', color='blue', marker='o')\n",
        "plt.plot(x, y2, label='Line 2', color='green', marker='s')\n",
        "plt.plot(x, y3, label='Line 3', color='red', marker='^')\n",
        "\n",
        "# Add labels and title\n",
        "plt.xlabel('X-axis')\n",
        "plt.ylabel('Y-axis')\n",
        "plt.title('Multiple Line Plot')\n",
        "\n",
        "# Add legend\n",
        "plt.legend()\n",
        "\n",
        "# Show the plot\n",
        "plt.show()\n"
      ],
      "metadata": {
        "id": "RXVtCbtrbdZx",
        "colab": {
          "base_uri": "https://localhost:8080/",
          "height": 472
        },
        "outputId": "60577ced-1614-4799-d05c-0c3b3d3a7ca5"
      },
      "execution_count": 38,
      "outputs": [
        {
          "output_type": "display_data",
          "data": {
            "text/plain": [
              "<Figure size 640x480 with 1 Axes>"
            ],
            "image/png": "[encoded data removed]"
          },
          "metadata": {}
        }
      ]
    },
    {
      "cell_type": "markdown",
      "source": [
        "Question 9. Generate a Pandas DataFrame and filter rows where a column value is greater than a threshold."
      ],
      "metadata": {
        "id": "NuAOaYM2y3-D"
      }
    },
    {
      "cell_type": "code",
      "source": [
        "import pandas as pd\n",
        "\n",
        "# Create a sample DataFrame\n",
        "data = {\n",
        "    'Name': ['Suraj', 'Siddhesh', 'Mrunal', 'Kajal'],\n",
        "    'Age': [27, 30, 36, 40],\n",
        "    'Salary': [50000, 900000, 70000, 80000]\n",
        "}\n",
        "\n",
        "df = pd.DataFrame(data)\n",
        "\n",
        "# Filter rows where 'Age' is greater than 30\n",
        "threshold = 30\n",
        "filtered_df = df[df['Age'] > threshold]\n",
        "\n",
        "print(filtered_df)"
      ],
      "metadata": {
        "id": "SfNoQyT6bdb1",
        "colab": {
          "base_uri": "https://localhost:8080/"
        },
        "outputId": "f87c2455-d589-4551-e2d0-e1617db01d6d"
      },
      "execution_count": 42,
      "outputs": [
        {
          "output_type": "stream",
          "name": "stdout",
          "text": [
            "     Name  Age  Salary\n",
            "2  Mrunal   36   70000\n",
            "3   Kajal   40   80000\n"
          ]
        }
      ]
    },
    {
      "cell_type": "markdown",
      "source": [
        "Question 10. Create a histogram using Seaborn to visualize a distribution."
      ],
      "metadata": {
        "id": "EV4EtD6Nzf5u"
      }
    },
    {
      "cell_type": "code",
      "source": [
        "import seaborn as sns\n",
        "import matplotlib.pyplot as plt\n",
        "\n",
        "# Load a sample dataset\n",
        "df = sns.load_dataset(\"iris\")\n",
        "\n",
        "# Create a histogram for the 'sepal_length' column\n",
        "sns.histplot(data=df, x=\"sepal_length\", bins=20, kde=True)\n",
        "\n",
        "# Show the plot\n",
        "plt.show()\n"
      ],
      "metadata": {
        "id": "CHLMEDFnbdgy",
        "colab": {
          "base_uri": "https://localhost:8080/",
          "height": 450
        },
        "outputId": "379dff07-d940-46c9-d527-9162d945854d"
      },
      "execution_count": 43,
      "outputs": [
        {
          "output_type": "display_data",
          "data": {
            "text/plain": [
              "<Figure size 640x480 with 1 Axes>"
            ],
            "image/png": "[encoded data removed]"
          },
          "metadata": {}
        }
      ]
    },
    {
      "cell_type": "markdown",
      "source": [
        "Question 11.  Perform matrix multiplication using NumPy."
      ],
      "metadata": {
        "id": "i1SOWxkh0GNv"
      }
    },
    {
      "cell_type": "code",
      "source": [
        "import numpy as np\n",
        "\n",
        "# Create two sample matrices\n",
        "matrix1 = np.array([[1, 2, 3],\n",
        "                    [4, 5, 6]])\n",
        "matrix2 = np.array([[7, 8],\n",
        "                    [9, 10],\n",
        "                    [11, 12]])\n",
        "\n",
        "# Perform matrix multiplication using NumPy\n",
        "result = np.matmul(matrix1, matrix2)   # we can even use np.dot() method or even caluclate\n",
        "                                       # as result = matrix1 @ matrix2\n",
        "\n",
        "\n",
        "# Display the matrices and result\n",
        "print(\"Matrix 1:\\n\", matrix1)\n",
        "print(\"\\nMatrix 2:\\n\", matrix2)\n",
        "print(\"\\nMatrix Multiplication Result:\\n\", result)"
      ],
      "metadata": {
        "id": "SLwpdKXfbdmf",
        "colab": {
          "base_uri": "https://localhost:8080/"
        },
        "outputId": "77f5eb65-c79d-43f5-d873-72612b0b737c"
      },
      "execution_count": 48,
      "outputs": [
        {
          "output_type": "stream",
          "name": "stdout",
          "text": [
            "Matrix 1:\n",
            " [[1 2 3]\n",
            " [4 5 6]]\n",
            "\n",
            "Matrix 2:\n",
            " [[ 7  8]\n",
            " [ 9 10]\n",
            " [11 12]]\n",
            "\n",
            "Matrix Multiplication Result:\n",
            " [[ 58  64]\n",
            " [139 154]]\n"
          ]
        }
      ]
    },
    {
      "cell_type": "markdown",
      "source": [
        "Question 12.  Use Pandas to load a CSV file and display its first 5 rows."
      ],
      "metadata": {
        "id": "tb_RXRgG0-iF"
      }
    },
    {
      "cell_type": "code",
      "source": [
        "import pandas as pd\n",
        "\n",
        "# Create a sample CSV file (for demonstration purposes)\n",
        "sample_data = \"\"\"name,age,salary\n",
        "Suraj,25,50000\n",
        "Siddesh,30,60000\n",
        "Mrunal,35,75000\n",
        "Kajal,40,80000\n",
        "Prasanna,28,55000\n",
        "Ajay, 24, 40000\n",
        "Vijay, 29, 50000\"\"\"\n",
        "with open(\"sample_data.csv\", \"w\") as f:\n",
        "    f.write(sample_data)\n",
        "\n",
        "# Load the CSV file\n",
        "df = pd.read_csv(\"sample_data.csv\")\n",
        "\n",
        "# Display the first 5 rows\n",
        "print(\"First 5 rows of the DataFrame:\")\n",
        "print(df.head())"
      ],
      "metadata": {
        "id": "-dGpaREvbdoV",
        "colab": {
          "base_uri": "https://localhost:8080/"
        },
        "outputId": "1588e05f-7b7a-4e4e-b13f-ce532c9e56a9"
      },
      "execution_count": 53,
      "outputs": [
        {
          "output_type": "stream",
          "name": "stdout",
          "text": [
            "First 5 rows of the DataFrame:\n",
            "       name  age  salary\n",
            "0     Suraj   25   50000\n",
            "1   Siddesh   30   60000\n",
            "2    Mrunal   35   75000\n",
            "3     Kajal   40   80000\n",
            "4  Prasanna   28   55000\n"
          ]
        }
      ]
    },
    {
      "cell_type": "markdown",
      "source": [
        "Question 13.  Create a 3D scatter plot using Plotly."
      ],
      "metadata": {
        "id": "NDONfvmH2u-4"
      }
    },
    {
      "cell_type": "code",
      "source": [
        "import plotly.express as px\n",
        "\n",
        "# Load example dataset\n",
        "df = px.data.iris()\n",
        "\n",
        "# Create 3D scatter plot\n",
        "# px.scatter_3d() creates a 3D scatter plot.\n",
        "# x, y, z specify the axes.\n",
        "# color differentiates points by category, species in this case.\n",
        "\n",
        "fig = px.scatter_3d(\n",
        "    df,\n",
        "    x='sepal_width',\n",
        "    y='sepal_length',\n",
        "    z='petal_length',\n",
        "    color='species',\n",
        "    title='3D Scatter Plot of Iris Dataset'\n",
        ")\n",
        "\n",
        "# fig.show() displays an interactive 3D plot.\n",
        "fig.show()"
      ],
      "metadata": {
        "id": "CaBaP-Tobdt5",
        "colab": {
          "base_uri": "https://localhost:8080/",
          "height": 542
        },
        "outputId": "19709e15-0508-4bdd-8860-79d599a64296"
      },
      "execution_count": 55,
      "outputs": [
        {
          "output_type": "display_data",
          "data": {
            "text/html": [
              "<html>\n",
              "<head><meta charset=\"utf-8\" /></head>\n",
              "<body>\n",
              "    <div>            <script src=\"https://cdnjs.cloudflare.com/ajax/libs/mathjax/2.7.5/MathJax.js?config=TeX-AMS-MML_SVG\"></script><script type=\"text/javascript\">if (window.MathJax && window.MathJax.Hub && window.MathJax.Hub.Config) {window.MathJax.Hub.Config({SVG: {font: \"STIX-Web\"}});}</script>                <script type=\"text/javascript\">window.PlotlyConfig = {MathJaxConfig: 'local'};</script>\n",
              "        <script charset=\"utf-8\" src=\"https://cdn.plot.ly/plotly-2.35.2.min.js\"></script>                <div id=\"3e881c62-c4c5-48aa-842e-3ff9f0a084ad\" class=\"plotly-graph-div\" style=\"height:525px; width:100%;\"></div>            <script type=\"text/javascript\">                                    window.PLOTLYENV=window.PLOTLYENV || {};                                    if (document.getElementById(\"3e881c62-c4c5-48aa-842e-3ff9f0a084ad\")) {                    Plotly.newPlot(                        \"3e881c62-c4c5-48aa-842e-3ff9f0a084ad\",                        [{\"hovertemplate\":\"species=setosa\\u003cbr\\u003esepal_width=%{x}\\u003cbr\\u003esepal_length=%{y}\\u003cbr\\u003epetal_length=%{z}\\u003cextra\\u003e\\u003c\\u002fextra\\u003e\",\"legendgroup\":\"setosa\",\"marker\":{\"color\":\"#636efa\",\"symbol\":\"circle\"},\"mode\":\"markers\",\"name\":\"setosa\",\"scene\":\"scene\",\"showlegend\":true,\"x\":[3.5,3.0,3.2,3.1,3.6,3.9,3.4,3.4,2.9,3.1,3.7,3.4,3.0,3.0,4.0,4.4,3.9,3.5,3.8,3.8,3.4,3.7,3.6,3.3,3.4,3.0,3.4,3.5,3.4,3.2,3.1,3.4,4.1,4.2,3.1,3.2,3.5,3.1,3.0,3.4,3.5,2.3,3.2,3.5,3.8,3.0,3.8,3.2,3.7,3.3],\"y\":[5.1,4.9,4.7,4.6,5.0,5.4,4.6,5.0,4.4,4.9,5.4,4.8,4.8,4.3,5.8,5.7,5.4,5.1,5.7,5.1,5.4,5.1,4.6,5.1,4.8,5.0,5.0,5.2,5.2,4.7,4.8,5.4,5.2,5.5,4.9,5.0,5.5,4.9,4.4,5.1,5.0,4.5,4.4,5.0,5.1,4.8,5.1,4.6,5.3,5.0],\"z\":[1.4,1.4,1.3,1.5,1.4,1.7,1.4,1.5,1.4,1.5,1.5,1.6,1.4,1.1,1.2,1.5,1.3,1.4,1.7,1.5,1.7,1.5,1.0,1.7,1.9,1.6,1.6,1.5,1.4,1.6,1.6,1.5,1.5,1.4,1.5,1.2,1.3,1.5,1.3,1.5,1.3,1.3,1.3,1.6,1.9,1.4,1.6,1.4,1.5,1.4],\"type\":\"scatter3d\"},{\"hovertemplate\":\"species=versicolor\\u003cbr\\u003esepal_width=%{x}\\u003cbr\\u003esepal_length=%{y}\\u003cbr\\u003epetal_length=%{z}\\u003cextra\\u003e\\u003c\\u002fextra\\u003e\",\"legendgroup\":\"versicolor\",\"marker\":{\"color\":\"#EF553B\",\"symbol\":\"circle\"},\"mode\":\"markers\",\"name\":\"versicolor\",\"scene\":\"scene\",\"showlegend\":true,\"x\":[3.2,3.2,3.1,2.3,2.8,2.8,3.3,2.4,2.9,2.7,2.0,3.0,2.2,2.9,2.9,3.1,3.0,2.7,2.2,2.5,3.2,2.8,2.5,2.8,2.9,3.0,2.8,3.0,2.9,2.6,2.4,2.4,2.7,2.7,3.0,3.4,3.1,2.3,3.0,2.5,2.6,3.0,2.6,2.3,2.7,3.0,2.9,2.9,2.5,2.8],\"y\":[7.0,6.4,6.9,5.5,6.5,5.7,6.3,4.9,6.6,5.2,5.0,5.9,6.0,6.1,5.6,6.7,5.6,5.8,6.2,5.6,5.9,6.1,6.3,6.1,6.4,6.6,6.8,6.7,6.0,5.7,5.5,5.5,5.8,6.0,5.4,6.0,6.7,6.3,5.6,5.5,5.5,6.1,5.8,5.0,5.6,5.7,5.7,6.2,5.1,5.7],\"z\":[4.7,4.5,4.9,4.0,4.6,4.5,4.7,3.3,4.6,3.9,3.5,4.2,4.0,4.7,3.6,4.4,4.5,4.1,4.5,3.9,4.8,4.0,4.9,4.7,4.3,4.4,4.8,5.0,4.5,3.5,3.8,3.7,3.9,5.1,4.5,4.5,4.7,4.4,4.1,4.0,4.4,4.6,4.0,3.3,4.2,4.2,4.2,4.3,3.0,4.1],\"type\":\"scatter3d\"},{\"hovertemplate\":\"species=virginica\\u003cbr\\u003esepal_width=%{x}\\u003cbr\\u003esepal_length=%{y}\\u003cbr\\u003epetal_length=%{z}\\u003cextra\\u003e\\u003c\\u002fextra\\u003e\",\"legendgroup\":\"virginica\",\"marker\":{\"color\":\"#00cc96\",\"symbol\":\"circle\"},\"mode\":\"markers\",\"name\":\"virginica\",\"scene\":\"scene\",\"showlegend\":true,\"x\":[3.3,2.7,3.0,2.9,3.0,3.0,2.5,2.9,2.5,3.6,3.2,2.7,3.0,2.5,2.8,3.2,3.0,3.8,2.6,2.2,3.2,2.8,2.8,2.7,3.3,3.2,2.8,3.0,2.8,3.0,2.8,3.8,2.8,2.8,2.6,3.0,3.4,3.1,3.0,3.1,3.1,3.1,2.7,3.2,3.3,3.0,2.5,3.0,3.4,3.0],\"y\":[6.3,5.8,7.1,6.3,6.5,7.6,4.9,7.3,6.7,7.2,6.5,6.4,6.8,5.7,5.8,6.4,6.5,7.7,7.7,6.0,6.9,5.6,7.7,6.3,6.7,7.2,6.2,6.1,6.4,7.2,7.4,7.9,6.4,6.3,6.1,7.7,6.3,6.4,6.0,6.9,6.7,6.9,5.8,6.8,6.7,6.7,6.3,6.5,6.2,5.9],\"z\":[6.0,5.1,5.9,5.6,5.8,6.6,4.5,6.3,5.8,6.1,5.1,5.3,5.5,5.0,5.1,5.3,5.5,6.7,6.9,5.0,5.7,4.9,6.7,4.9,5.7,6.0,4.8,4.9,5.6,5.8,6.1,6.4,5.6,5.1,5.6,6.1,5.6,5.5,4.8,5.4,5.6,5.1,5.1,5.9,5.7,5.2,5.0,5.2,5.4,5.1],\"type\":\"scatter3d\"}],                        {\"template\":{\"data\":{\"histogram2dcontour\":[{\"type\":\"histogram2dcontour\",\"colorbar\":{\"outlinewidth\":0,\"ticks\":\"\"},\"colorscale\":[[0.0,\"#0d0887\"],[0.1111111111111111,\"#46039f\"],[0.2222222222222222,\"#7201a8\"],[0.3333333333333333,\"#9c179e\"],[0.4444444444444444,\"#bd3786\"],[0.5555555555555556,\"#d8576b\"],[0.6666666666666666,\"#ed7953\"],[0.7777777777777778,\"#fb9f3a\"],[0.8888888888888888,\"#fdca26\"],[1.0,\"#f0f921\"]]}],\"choropleth\":[{\"type\":\"choropleth\",\"colorbar\":{\"outlinewidth\":0,\"ticks\":\"\"}}],\"histogram2d\":[{\"type\":\"histogram2d\",\"colorbar\":{\"outlinewidth\":0,\"ticks\":\"\"},\"colorscale\":[[0.0,\"#0d0887\"],[0.1111111111111111,\"#46039f\"],[0.2222222222222222,\"#7201a8\"],[0.3333333333333333,\"#9c179e\"],[0.4444444444444444,\"#bd3786\"],[0.5555555555555556,\"#d8576b\"],[0.6666666666666666,\"#ed7953\"],[0.7777777777777778,\"#fb9f3a\"],[0.8888888888888888,\"#fdca26\"],[1.0,\"#f0f921\"]]}],\"heatmap\":[{\"type\":\"heatmap\",\"colorbar\":{\"outlinewidth\":0,\"ticks\":\"\"},\"colorscale\":[[0.0,\"#0d0887\"],[0.1111111111111111,\"#46039f\"],[0.2222222222222222,\"#7201a8\"],[0.3333333333333333,\"#9c179e\"],[0.4444444444444444,\"#bd3786\"],[0.5555555555555556,\"#d8576b\"],[0.6666666666666666,\"#ed7953\"],[0.7777777777777778,\"#fb9f3a\"],[0.8888888888888888,\"#fdca26\"],[1.0,\"#f0f921\"]]}],\"heatmapgl\":[{\"type\":\"heatmapgl\",\"colorbar\":{\"outlinewidth\":0,\"ticks\":\"\"},\"colorscale\":[[0.0,\"#0d0887\"],[0.1111111111111111,\"#46039f\"],[0.2222222222222222,\"#7201a8\"],[0.3333333333333333,\"#9c179e\"],[0.4444444444444444,\"#bd3786\"],[0.5555555555555556,\"#d8576b\"],[0.6666666666666666,\"#ed7953\"],[0.7777777777777778,\"#fb9f3a\"],[0.8888888888888888,\"#fdca26\"],[1.0,\"#f0f921\"]]}],\"contourcarpet\":[{\"type\":\"contourcarpet\",\"colorbar\":{\"outlinewidth\":0,\"ticks\":\"\"}}],\"contour\":[{\"type\":\"contour\",\"colorbar\":{\"outlinewidth\":0,\"ticks\":\"\"},\"colorscale\":[[0.0,\"#0d0887\"],[0.1111111111111111,\"#46039f\"],[0.2222222222222222,\"#7201a8\"],[0.3333333333333333,\"#9c179e\"],[0.4444444444444444,\"#bd3786\"],[0.5555555555555556,\"#d8576b\"],[0.6666666666666666,\"#ed7953\"],[0.7777777777777778,\"#fb9f3a\"],[0.8888888888888888,\"#fdca26\"],[1.0,\"#f0f921\"]]}],\"surface\":[{\"type\":\"surface\",\"colorbar\":{\"outlinewidth\":0,\"ticks\":\"\"},\"colorscale\":[[0.0,\"#0d0887\"],[0.1111111111111111,\"#46039f\"],[0.2222222222222222,\"#7201a8\"],[0.3333333333333333,\"#9c179e\"],[0.4444444444444444,\"#bd3786\"],[0.5555555555555556,\"#d8576b\"],[0.6666666666666666,\"#ed7953\"],[0.7777777777777778,\"#fb9f3a\"],[0.8888888888888888,\"#fdca26\"],[1.0,\"#f0f921\"]]}],\"mesh3d\":[{\"type\":\"mesh3d\",\"colorbar\":{\"outlinewidth\":0,\"ticks\":\"\"}}],\"scatter\":[{\"fillpattern\":{\"fillmode\":\"overlay\",\"size\":10,\"solidity\":0.2},\"type\":\"scatter\"}],\"parcoords\":[{\"type\":\"parcoords\",\"line\":{\"colorbar\":{\"outlinewidth\":0,\"ticks\":\"\"}}}],\"scatterpolargl\":[{\"type\":\"scatterpolargl\",\"marker\":{\"colorbar\":{\"outlinewidth\":0,\"ticks\":\"\"}}}],\"bar\":[{\"error_x\":{\"color\":\"#2a3f5f\"},\"error_y\":{\"color\":\"#2a3f5f\"},\"marker\":{\"line\":{\"color\":\"#E5ECF6\",\"width\":0.5},\"pattern\":{\"fillmode\":\"overlay\",\"size\":10,\"solidity\":0.2}},\"type\":\"bar\"}],\"scattergeo\":[{\"type\":\"scattergeo\",\"marker\":{\"colorbar\":{\"outlinewidth\":0,\"ticks\":\"\"}}}],\"scatterpolar\":[{\"type\":\"scatterpolar\",\"marker\":{\"colorbar\":{\"outlinewidth\":0,\"ticks\":\"\"}}}],\"histogram\":[{\"marker\":{\"pattern\":{\"fillmode\":\"overlay\",\"size\":10,\"solidity\":0.2}},\"type\":\"histogram\"}],\"scattergl\":[{\"type\":\"scattergl\",\"marker\":{\"colorbar\":{\"outlinewidth\":0,\"ticks\":\"\"}}}],\"scatter3d\":[{\"type\":\"scatter3d\",\"line\":{\"colorbar\":{\"outlinewidth\":0,\"ticks\":\"\"}},\"marker\":{\"colorbar\":{\"outlinewidth\":0,\"ticks\":\"\"}}}],\"scattermapbox\":[{\"type\":\"scattermapbox\",\"marker\":{\"colorbar\":{\"outlinewidth\":0,\"ticks\":\"\"}}}],\"scatterternary\":[{\"type\":\"scatterternary\",\"marker\":{\"colorbar\":{\"outlinewidth\":0,\"ticks\":\"\"}}}],\"scattercarpet\":[{\"type\":\"scattercarpet\",\"marker\":{\"colorbar\":{\"outlinewidth\":0,\"ticks\":\"\"}}}],\"carpet\":[{\"aaxis\":{\"endlinecolor\":\"#2a3f5f\",\"gridcolor\":\"white\",\"linecolor\":\"white\",\"minorgridcolor\":\"white\",\"startlinecolor\":\"#2a3f5f\"},\"baxis\":{\"endlinecolor\":\"#2a3f5f\",\"gridcolor\":\"white\",\"linecolor\":\"white\",\"minorgridcolor\":\"white\",\"startlinecolor\":\"#2a3f5f\"},\"type\":\"carpet\"}],\"table\":[{\"cells\":{\"fill\":{\"color\":\"#EBF0F8\"},\"line\":{\"color\":\"white\"}},\"header\":{\"fill\":{\"color\":\"#C8D4E3\"},\"line\":{\"color\":\"white\"}},\"type\":\"table\"}],\"barpolar\":[{\"marker\":{\"line\":{\"color\":\"#E5ECF6\",\"width\":0.5},\"pattern\":{\"fillmode\":\"overlay\",\"size\":10,\"solidity\":0.2}},\"type\":\"barpolar\"}],\"pie\":[{\"automargin\":true,\"type\":\"pie\"}]},\"layout\":{\"autotypenumbers\":\"strict\",\"colorway\":[\"#636efa\",\"#EF553B\",\"#00cc96\",\"#ab63fa\",\"#FFA15A\",\"#19d3f3\",\"#FF6692\",\"#B6E880\",\"#FF97FF\",\"#FECB52\"],\"font\":{\"color\":\"#2a3f5f\"},\"hovermode\":\"closest\",\"hoverlabel\":{\"align\":\"left\"},\"paper_bgcolor\":\"white\",\"plot_bgcolor\":\"#E5ECF6\",\"polar\":{\"bgcolor\":\"#E5ECF6\",\"angularaxis\":{\"gridcolor\":\"white\",\"linecolor\":\"white\",\"ticks\":\"\"},\"radialaxis\":{\"gridcolor\":\"white\",\"linecolor\":\"white\",\"ticks\":\"\"}},\"ternary\":{\"bgcolor\":\"#E5ECF6\",\"aaxis\":{\"gridcolor\":\"white\",\"linecolor\":\"white\",\"ticks\":\"\"},\"baxis\":{\"gridcolor\":\"white\",\"linecolor\":\"white\",\"ticks\":\"\"},\"caxis\":{\"gridcolor\":\"white\",\"linecolor\":\"white\",\"ticks\":\"\"}},\"coloraxis\":{\"colorbar\":{\"outlinewidth\":0,\"ticks\":\"\"}},\"colorscale\":{\"sequential\":[[0.0,\"#0d0887\"],[0.1111111111111111,\"#46039f\"],[0.2222222222222222,\"#7201a8\"],[0.3333333333333333,\"#9c179e\"],[0.4444444444444444,\"#bd3786\"],[0.5555555555555556,\"#d8576b\"],[0.6666666666666666,\"#ed7953\"],[0.7777777777777778,\"#fb9f3a\"],[0.8888888888888888,\"#fdca26\"],[1.0,\"#f0f921\"]],\"sequentialminus\":[[0.0,\"#0d0887\"],[0.1111111111111111,\"#46039f\"],[0.2222222222222222,\"#7201a8\"],[0.3333333333333333,\"#9c179e\"],[0.4444444444444444,\"#bd3786\"],[0.5555555555555556,\"#d8576b\"],[0.6666666666666666,\"#ed7953\"],[0.7777777777777778,\"#fb9f3a\"],[0.8888888888888888,\"#fdca26\"],[1.0,\"#f0f921\"]],\"diverging\":[[0,\"#8e0152\"],[0.1,\"#c51b7d\"],[0.2,\"#de77ae\"],[0.3,\"#f1b6da\"],[0.4,\"#fde0ef\"],[0.5,\"#f7f7f7\"],[0.6,\"#e6f5d0\"],[0.7,\"#b8e186\"],[0.8,\"#7fbc41\"],[0.9,\"#4d9221\"],[1,\"#276419\"]]},\"xaxis\":{\"gridcolor\":\"white\",\"linecolor\":\"white\",\"ticks\":\"\",\"title\":{\"standoff\":15},\"zerolinecolor\":\"white\",\"automargin\":true,\"zerolinewidth\":2},\"yaxis\":{\"gridcolor\":\"white\",\"linecolor\":\"white\",\"ticks\":\"\",\"title\":{\"standoff\":15},\"zerolinecolor\":\"white\",\"automargin\":true,\"zerolinewidth\":2},\"scene\":{\"xaxis\":{\"backgroundcolor\":\"#E5ECF6\",\"gridcolor\":\"white\",\"linecolor\":\"white\",\"showbackground\":true,\"ticks\":\"\",\"zerolinecolor\":\"white\",\"gridwidth\":2},\"yaxis\":{\"backgroundcolor\":\"#E5ECF6\",\"gridcolor\":\"white\",\"linecolor\":\"white\",\"showbackground\":true,\"ticks\":\"\",\"zerolinecolor\":\"white\",\"gridwidth\":2},\"zaxis\":{\"backgroundcolor\":\"#E5ECF6\",\"gridcolor\":\"white\",\"linecolor\":\"white\",\"showbackground\":true,\"ticks\":\"\",\"zerolinecolor\":\"white\",\"gridwidth\":2}},\"shapedefaults\":{\"line\":{\"color\":\"#2a3f5f\"}},\"annotationdefaults\":{\"arrowcolor\":\"#2a3f5f\",\"arrowhead\":0,\"arrowwidth\":1},\"geo\":{\"bgcolor\":\"white\",\"landcolor\":\"#E5ECF6\",\"subunitcolor\":\"white\",\"showland\":true,\"showlakes\":true,\"lakecolor\":\"white\"},\"title\":{\"x\":0.05},\"mapbox\":{\"style\":\"light\"}}},\"scene\":{\"domain\":{\"x\":[0.0,1.0],\"y\":[0.0,1.0]},\"xaxis\":{\"title\":{\"text\":\"sepal_width\"}},\"yaxis\":{\"title\":{\"text\":\"sepal_length\"}},\"zaxis\":{\"title\":{\"text\":\"petal_length\"}}},\"legend\":{\"title\":{\"text\":\"species\"},\"tracegroupgap\":0},\"title\":{\"text\":\"3D Scatter Plot of Iris Dataset\"}},                        {\"responsive\": true}                    ).then(function(){\n",
              "                            \n",
              "var gd = document.getElementById('3e881c62-c4c5-48aa-842e-3ff9f0a084ad');\n",
              "var x = new MutationObserver(function (mutations, observer) {{\n",
              "        var display = window.getComputedStyle(gd).display;\n",
              "        if (!display || display === 'none') {{\n",
              "            console.log([gd, 'removed!']);\n",
              "            Plotly.purge(gd);\n",
              "            observer.disconnect();\n",
              "        }}\n",
              "}});\n",
              "\n",
              "// Listen for the removal of the full notebook cells\n",
              "var notebookContainer = gd.closest('#notebook-container');\n",
              "if (notebookContainer) {{\n",
              "    x.observe(notebookContainer, {childList: true});\n",
              "}}\n",
              "\n",
              "// Listen for the clearing of the current output cell\n",
              "var outputEl = gd.closest('.output');\n",
              "if (outputEl) {{\n",
              "    x.observe(outputEl, {childList: true});\n",
              "}}\n",
              "\n",
              "                        })                };                            </script>        </div>\n",
              "</body>\n",
              "</html>"
            ]
          },
          "metadata": {}
        }
      ]
    },
    {
      "cell_type": "code",
      "source": [],
      "metadata": {
        "id": "9GCEDng83eEH"
      },
      "execution_count": null,
      "outputs": []
    }
  ]
}